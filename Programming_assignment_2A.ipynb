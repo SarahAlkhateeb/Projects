{
 "cells": [
  {
   "cell_type": "markdown",
   "metadata": {},
   "source": [
    "## Programming assignment 2A: Political stance classification"
   ]
  },
  {
   "cell_type": "markdown",
   "metadata": {},
   "source": [
    "### Part 3: Implementing your classifier"
   ]
  },
  {
   "cell_type": "code",
   "execution_count": 157,
   "metadata": {},
   "outputs": [],
   "source": [
    "# load the data\n",
    "import pandas as pd\n",
    "\n",
    "# clean the data\n",
    "import numpy as np\n",
    "from collections import Counter\n",
    "\n",
    "# baseline classifier\n",
    "from sklearn.dummy import DummyClassifier\n",
    "# several classification algorithms\n",
    "from sklearn.svm import LinearSVC\n",
    "from sklearn.svm import SVC\n",
    "from sklearn.ensemble import GradientBoostingClassifier\n",
    "from sklearn.linear_model import SGDClassifier\n",
    "from sklearn.naive_bayes import MultinomialNB\n",
    "\n",
    "from sklearn.tree import DecisionTreeClassifier\n",
    "from sklearn.linear_model import LogisticRegression\n",
    "\n",
    "# for converting training and test datasets into matrices\n",
    "# TfidfVectorizer does this specifically for documents\n",
    "from sklearn.feature_extraction.text import TfidfVectorizer\n",
    "\n",
    "# for splitting the dataset into training and test sets\n",
    "# and for selecting model hyperparameters\n",
    "from sklearn.model_selection import train_test_split\n",
    "from sklearn.model_selection import GridSearchCV\n",
    "\n",
    "# for evaluating the quality of the classifier\n",
    "from sklearn.metrics import accuracy_score\n",
    "from sklearn.metrics import confusion_matrix"
   ]
  },
  {
   "cell_type": "code",
   "execution_count": 4,
   "metadata": {},
   "outputs": [
    {
     "data": {
      "text/html": [
       "<div>\n",
       "<style scoped>\n",
       "    .dataframe tbody tr th:only-of-type {\n",
       "        vertical-align: middle;\n",
       "    }\n",
       "\n",
       "    .dataframe tbody tr th {\n",
       "        vertical-align: top;\n",
       "    }\n",
       "\n",
       "    .dataframe thead th {\n",
       "        text-align: right;\n",
       "    }\n",
       "</style>\n",
       "<table border=\"1\" class=\"dataframe\">\n",
       "  <thead>\n",
       "    <tr style=\"text-align: right;\">\n",
       "      <th></th>\n",
       "      <th>Annotation</th>\n",
       "      <th>Comment</th>\n",
       "    </tr>\n",
       "  </thead>\n",
       "  <tbody>\n",
       "    <tr>\n",
       "      <th>0</th>\n",
       "      <td>1/1</td>\n",
       "      <td>... people who have NEVER voted... sneaky way ...</td>\n",
       "    </tr>\n",
       "    <tr>\n",
       "      <th>1</th>\n",
       "      <td>0/0</td>\n",
       "      <td>Being a member of the European Union is a bit ...</td>\n",
       "    </tr>\n",
       "    <tr>\n",
       "      <th>2</th>\n",
       "      <td>0/0</td>\n",
       "      <td>Brexit is bad. Immigrants make Britain great. ...</td>\n",
       "    </tr>\n",
       "    <tr>\n",
       "      <th>3</th>\n",
       "      <td>0/0</td>\n",
       "      <td>Britain is basically Pompeii if the Pompeii ha...</td>\n",
       "    </tr>\n",
       "    <tr>\n",
       "      <th>4</th>\n",
       "      <td>1/1</td>\n",
       "      <td>Britain's exit is a huge blow to the dream of ...</td>\n",
       "    </tr>\n",
       "  </tbody>\n",
       "</table>\n",
       "</div>"
      ],
      "text/plain": [
       "  Annotation                                            Comment\n",
       "0        1/1  ... people who have NEVER voted... sneaky way ...\n",
       "1        0/0  Being a member of the European Union is a bit ...\n",
       "2        0/0  Brexit is bad. Immigrants make Britain great. ...\n",
       "3        0/0  Britain is basically Pompeii if the Pompeii ha...\n",
       "4        1/1  Britain's exit is a huge blow to the dream of ..."
      ]
     },
     "execution_count": 4,
     "metadata": {},
     "output_type": "execute_result"
    }
   ],
   "source": [
    "# the training data (final set 13,520 instances))\n",
    "df_f = pd.read_csv('a2a_train_final.tsv', sep = '\\t', header=None, names=['Annotation', 'Comment'])\n",
    "df_f.head()"
   ]
  },
  {
   "cell_type": "code",
   "execution_count": 5,
   "metadata": {},
   "outputs": [
    {
     "name": "stdout",
     "output_type": "stream",
     "text": [
      "<class 'pandas.core.frame.DataFrame'>\n",
      "RangeIndex: 13517 entries, 0 to 13516\n",
      "Data columns (total 2 columns):\n",
      "Annotation    13517 non-null object\n",
      "Comment       13517 non-null object\n",
      "dtypes: object(2)\n",
      "memory usage: 211.3+ KB\n"
     ]
    }
   ],
   "source": [
    "df_f.info()"
   ]
  },
  {
   "cell_type": "markdown",
   "metadata": {},
   "source": [
    "We have two solutions for choosing the annotation to use. Both of them choose the annotation if there is only one and both chooses the one that is not -1 in case of tie.\n",
    "\n",
    "The first one is below. If there is disagreement between the annotations, this one picks the first annotation. This is a good solution assuming that there are some characteristics that are hard to recognize for the people but maybe easier for the computer. The first annotator had the context of the text so we can trust his/her choice."
   ]
  },
  {
   "cell_type": "code",
   "execution_count": 136,
   "metadata": {},
   "outputs": [],
   "source": [
    "score = df_f[\"Annotation\"]\n",
    "# more strict version\n",
    "newScore1 = []\n",
    "toRemove1 = []\n",
    "# less strict version\n",
    "newScore2 = []\n",
    "index = 0\n",
    "clearScores = 0\n",
    "for annot in score:\n",
    "    \n",
    "    votes = annot.split(\"/\")\n",
    "    majority = Counter()\n",
    "    \n",
    "    # Counter object to count the occurences of different annotations\n",
    "    for vote in votes:\n",
    "        majority[vote] += 1\n",
    "        \n",
    "    # if there is a clear winner, go with it\n",
    "    if len(majority)==1:\n",
    "        newScore1.append(majority.most_common()[0][0])\n",
    "        newScore2.append(majority.most_common()[0][0])\n",
    "        clearScores += 1\n",
    "    else:\n",
    "        # if there if one score with more counts than any other\n",
    "        if majority.most_common()[0][1] > majority.most_common()[1][1]:\n",
    "            # and that count is not -1 we get it as newScore\n",
    "            if int(majority.most_common()[0][0])!=-1:\n",
    "                newScore1.append(majority.most_common()[0][0])\n",
    "                newScore2.append(majority.most_common()[0][0])\n",
    "            else:\n",
    "                # if it is -1 we either remove the row\n",
    "                toRemove1.append(index)\n",
    "                # or keep the clear score\n",
    "                newScore2.append(majority.most_common()[1][0])\n",
    "        # if there are two scores with same counts and one of them is -1\n",
    "        # we keep the clear call\n",
    "        elif len(majority)==2: \n",
    "            if int(majority.most_common()[1][0])==-1:\n",
    "                newScore1.append(majority.most_common()[0][0])  \n",
    "                newScore2.append(majority.most_common()[0][0])  \n",
    "            elif int(majority.most_common()[0][0])==-1:\n",
    "                newScore1.append(majority.most_common()[1][0])  \n",
    "                newScore2.append(majority.most_common()[1][0])\n",
    "            else:\n",
    "                # if no -1, but disagreement we remove\n",
    "                toRemove1.append(index)\n",
    "                # if there is a tie between 0 and 1 we keep the original\n",
    "                newScore2.append(votes[0])\n",
    "        else:\n",
    "            # in any other case we remove the row from the strict version\n",
    "            toRemove1.append(index)\n",
    "            # but in the less strict version we keep some more:\n",
    "            # if there is a tie between 0 and 1 we keep the original\n",
    "            newScore2.append(votes[0])\n",
    "    \n",
    "    index += 1"
   ]
  },
  {
   "cell_type": "code",
   "execution_count": 137,
   "metadata": {},
   "outputs": [
    {
     "name": "stdout",
     "output_type": "stream",
     "text": [
      "There are 11005 clear scores out of 13517\n",
      "In the more strict case we remove 1107\n",
      "In the less strict case we remove 0\n"
     ]
    }
   ],
   "source": [
    "print(\"There are \" + str(clearScores) + \" clear scores out of \" + str(len(df_f['Annotation']))) \n",
    "print(\"In the more strict case we remove \" + str(len(toRemove1)))\n",
    "print(\"In the less strict case we remove \" + '0')"
   ]
  },
  {
   "cell_type": "code",
   "execution_count": 138,
   "metadata": {},
   "outputs": [],
   "source": [
    "X_strict = df_f[\"Comment\"].drop(toRemove1)\n",
    "\n",
    "Y_strict = newScore1\n",
    "\n",
    "X_train_s, X_eval_s, Y_train_s, Y_eval_s = train_test_split(X_strict, Y_strict,\n",
    "                                                    test_size = 0.2,\n",
    "                                                    random_state=12345)"
   ]
  },
  {
   "cell_type": "code",
   "execution_count": 139,
   "metadata": {},
   "outputs": [
    {
     "data": {
      "text/plain": [
       "array(['0', '1'], dtype='<U1')"
      ]
     },
     "execution_count": 139,
     "metadata": {},
     "output_type": "execute_result"
    }
   ],
   "source": [
    "np.unique(Y_strict)"
   ]
  },
  {
   "cell_type": "code",
   "execution_count": 355,
   "metadata": {
    "scrolled": true
   },
   "outputs": [
    {
     "name": "stdout",
     "output_type": "stream",
     "text": [
      "**Highest scoring words in pro-Brexit: \n",
      "\n",
      "[('the', 9534), ('to', 5316), ('and', 4187), ('of', 3802), ('a', 3581), ('is', 2860), ('in', 2330), ('I', 2019), ('for', 1905), ('EU', 1898), ('that', 1783), ('be', 1556), ('will', 1533), ('we', 1412), ('have', 1307), ('are', 1267), ('it', 1239), ('The', 1211), ('they', 1062), ('with', 1035)]\n",
      "\n",
      "**Highest scoring words in anti-Brexit: \n",
      "\n",
      "[('the', 9235), ('to', 5310), ('and', 4177), ('of', 3641), ('a', 3539), ('is', 2745), ('in', 2387), ('I', 1999), ('EU', 1826), ('for', 1801), ('that', 1734), ('will', 1648), ('be', 1608), ('we', 1395), ('The', 1302), ('have', 1298), ('it', 1278), ('are', 1256), ('Brexit', 1182), ('UK', 1037)]\n"
     ]
    }
   ],
   "source": [
    "# Count all words appear in 'pro-Brexit (1)' and 'anti-Brexit (0)' labels\n",
    "w_count = {}\n",
    "w_pro = []\n",
    "w_anti = []\n",
    "freqs_pro = Counter()\n",
    "freqs_anti = Counter()\n",
    "\n",
    "for i in range(len(Y_strict)):  \n",
    "    if Y_strict[i] == '1':\n",
    "        w_pro.append(words[i])\n",
    "    else:\n",
    "        w_anti.append(words[i])\n",
    "w_count['w_pro'] = sum([len(p) for p in w_pro])\n",
    "w_count['w_anti'] = sum([len(n) for n in w_anti])\n",
    "\n",
    "# Count how many times each word appears in 'pro-Brexit (1)' or 'anti-Brexit (0)' documents\n",
    "\n",
    "for doc in w_pro:\n",
    "    for p in doc:\n",
    "        freqs_pro[p] += 1\n",
    "for doc in w_anti:\n",
    "      for n in doc:\n",
    "            freqs_anti[n] += 1\n",
    "\n",
    "#print(w_count)\n",
    "#print(freqs_pro)\n",
    "#print(freqs_anti)\n",
    "\n",
    "print(\"**Highest scoring words in pro-Brexit: \")\n",
    "print()\n",
    "print(freqs_pro.most_common(20))\n",
    "print()\n",
    "print(\"**Highest scoring words in anti-Brexit: \")\n",
    "print()\n",
    "print(freqs_anti.most_common(20))"
   ]
  },
  {
   "cell_type": "code",
   "execution_count": 140,
   "metadata": {},
   "outputs": [],
   "source": [
    "X_lose = df_f[\"Comment\"]\n",
    "\n",
    "Y_lose = newScore2\n",
    "\n",
    "X_train_l, X_eval_l, Y_train_l, Y_eval_l = train_test_split(X_lose, Y_lose,\n",
    "                                                    test_size = 0.2,\n",
    "                                                    random_state=12345)"
   ]
  },
  {
   "cell_type": "code",
   "execution_count": 141,
   "metadata": {},
   "outputs": [
    {
     "data": {
      "text/plain": [
       "array(['0', '1'], dtype='<U1')"
      ]
     },
     "execution_count": 141,
     "metadata": {},
     "output_type": "execute_result"
    }
   ],
   "source": [
    "np.unique(Y_lose)"
   ]
  },
  {
   "cell_type": "markdown",
   "metadata": {},
   "source": [
    "First, we apply TF-IDF vectorization on training and test comments"
   ]
  },
  {
   "cell_type": "code",
   "execution_count": 148,
   "metadata": {},
   "outputs": [],
   "source": [
    "dv1 = TfidfVectorizer()\n",
    "X_train_trans_s = dv1.fit_transform(X_train_s)\n",
    "X_eval_trans_s = dv1.transform(X_eval_s)\n",
    "dv2 = TfidfVectorizer()\n",
    "X_train_trans_l = dv2.fit_transform(X_train_l)\n",
    "X_eval_trans_l = dv2.transform(X_eval_l)\n",
    "dv3 = TfidfVectorizer()\n",
    "X_s_trans = dv3.fit_transform(X_strict)\n",
    "dv4 = TfidfVectorizer()\n",
    "X_l_trans = dv4.fit_transform(X_lose)"
   ]
  },
  {
   "cell_type": "markdown",
   "metadata": {},
   "source": [
    "We train different classifiers on the more and less strictly pre-processed training set."
   ]
  },
  {
   "cell_type": "code",
   "execution_count": 143,
   "metadata": {},
   "outputs": [],
   "source": [
    "# First, we train the dummy classifier to have a baseline\n",
    "def train_dummy(X, Y, X_eval_trans):\n",
    "    clf = DummyClassifier()\n",
    "    clf.fit(X,Y)\n",
    "    training_score = clf.score(X, Y)\n",
    "    dummy_pred = clf.predict(X_eval_trans)\n",
    "    return training_score, dummy_pred"
   ]
  },
  {
   "cell_type": "markdown",
   "metadata": {},
   "source": [
    "We aim to select the best classifier by calculating training and prediction accuracy as well as using GridSearch cross validation"
   ]
  },
  {
   "cell_type": "code",
   "execution_count": 76,
   "metadata": {},
   "outputs": [],
   "source": [
    "def train_NB(X, Y, X_eval_trans):\n",
    "    clf = MultinomialNB()\n",
    "    clf.fit(X,Y)\n",
    "    training_score = clf.score(X, Y)\n",
    "    nb_pred = clf.predict(X_eval_trans)\n",
    "    return training_score, nb_pred"
   ]
  },
  {
   "cell_type": "code",
   "execution_count": 77,
   "metadata": {},
   "outputs": [],
   "source": [
    "def train_SVC(X, Y, X_eval_trans):\n",
    "    clf = LinearSVC()\n",
    "    clf.fit(X,Y)\n",
    "    training_score = clf.score(X, Y)\n",
    "    svc_pred = clf.predict(X_eval_trans)\n",
    "    return training_score, svc_pred"
   ]
  },
  {
   "cell_type": "code",
   "execution_count": 78,
   "metadata": {},
   "outputs": [],
   "source": [
    "def train_SGD(X, Y, X_eval_trans):\n",
    "    clf = SGDClassifier()\n",
    "    clf.fit(X,Y)\n",
    "    training_score = clf.score(X, Y)\n",
    "    sgd_pred = clf.predict(X_eval_trans)\n",
    "    return training_score, sgd_pred"
   ]
  },
  {
   "cell_type": "code",
   "execution_count": 79,
   "metadata": {},
   "outputs": [],
   "source": [
    "#using Gradient boosting\n",
    "def train_GB(X, Y, X_eval_trans):\n",
    "    clf = GradientBoostingClassifier()\n",
    "    clf.fit(X, Y)\n",
    "    training_score = clf.score(X, Y)\n",
    "    gb_pred = clf.predict(X_eval_trans)\n",
    "    return training_score, gb_pred"
   ]
  },
  {
   "cell_type": "code",
   "execution_count": 85,
   "metadata": {},
   "outputs": [],
   "source": [
    "#using Decision Tree\n",
    "def train_DT(X, Y, X_eval_trans):\n",
    "    clf = DecisionTreeClassifier()\n",
    "    clf.fit(X, Y)\n",
    "    training_score = clf.score(X, Y)\n",
    "    dt_pred = clf.predict(X_eval_trans)\n",
    "    return training_score, dt_pred"
   ]
  },
  {
   "cell_type": "code",
   "execution_count": 94,
   "metadata": {},
   "outputs": [],
   "source": [
    "#using Logistic Regression\n",
    "def train_LR(X, Y, X_eval_trans):\n",
    "    clf = LogisticRegression(solver='lbfgs')\n",
    "    clf.fit(X, Y)\n",
    "    training_score = clf.score(X, Y)\n",
    "    lr_pred = clf.predict(X_eval_trans)\n",
    "    return training_score, lr_pred"
   ]
  },
  {
   "cell_type": "code",
   "execution_count": 160,
   "metadata": {},
   "outputs": [],
   "source": [
    "def GSCV(X, Y, scores, tp_SVC, tp_NB, tp_SGD, tp_GB, tp_DT, tp_LR):    \n",
    "    for score in scores:\n",
    "        print(\"# Tuning hyper-parameters for %s\" % score)\n",
    "        print(\"Support vector classifier: \")\n",
    "        clf_SVC = GridSearchCV(SVC(), tp_SVC, scoring='%s_macro' % score)\n",
    "        param_scores(X, Y, clf_SVC)\n",
    "        print(\"Naive Bayes classifier: \")\n",
    "        clf_NB = GridSearchCV(MultinomialNB(), tp_NB, scoring='%s_macro' % score)\n",
    "        param_scores(X, Y, clf_NB)\n",
    "        print(\"Stochastic Gradient Descent classifier: \")\n",
    "        clf_SGD = GridSearchCV(SGDClassifier(), tp_SGD, scoring='%s_macro' % score)\n",
    "        param_scores(X, Y, clf_SGD)\n",
    "        print(\"Gradient Boosting classifier: \")\n",
    "        clf_GB = GridSearchCV(GradientBoostingClassifier(), tp_GB, scoring='%s_macro' % score)\n",
    "        param_scores(X, Y, clf_GB)\n",
    "        print(\"Decision Tree classifier: \")\n",
    "        clf_DT = GridSearchCV(DecisionTreeClassifier(), tp_DT, scoring='%s_macro' % score)\n",
    "        param_scores(X, Y, clf_DT)\n",
    "        print(\"Logisic Regression classifier: \")\n",
    "        clf_LR = GridSearchCV(LogisticRegression(), tp_LR, scoring='%s_macro' % score)\n",
    "        param_scores(X, Y, clf_LR)"
   ]
  },
  {
   "cell_type": "code",
   "execution_count": 154,
   "metadata": {},
   "outputs": [],
   "source": [
    "def param_scores(X, Y, clf):\n",
    "    clf.fit(X, Y)\n",
    "    print(\"Best parameters set found on development set:\")\n",
    "    print(clf.best_params_)\n",
    "    print(\"Grid scores on development set:\")\n",
    "    means = clf.cv_results_['mean_test_score']\n",
    "    stds = clf.cv_results_['std_test_score']\n",
    "    for mean, std, params in zip(means, stds, clf.cv_results_['params']):\n",
    "        print(\"%0.3f (+/-%0.03f) for %r\" % (mean, std * 2, params))"
   ]
  },
  {
   "cell_type": "code",
   "execution_count": 145,
   "metadata": {},
   "outputs": [],
   "source": [
    "def training_all(X_train_trans, Y_train, X_eval_trans, Y_eval):\n",
    "    print(\"Training scores: \")\n",
    "    \n",
    "    dummy_training_score, dummy_pred = train_dummy(X_train_trans,Y_train, X_eval_trans)\n",
    "    print(\"Dummy training score is \" + str(dummy_training_score))\n",
    "    NB_training_score, NB_pred = train_NB(X_train_trans,Y_train, X_eval_trans)\n",
    "    print(\"Naive Bayes training score is \" + str(NB_training_score))\n",
    "    SVC_training_score, SVC_pred =  train_SVC(X_train_trans,Y_train, X_eval_trans)\n",
    "    print(\"Support Vector Classifier training score is \" + str(SVC_training_score))\n",
    "    SGDC_training_score, SGDC_pred =  train_SGD(X_train_trans,Y_train, X_eval_trans)\n",
    "    print(\"Stochastic Gradient Descent training score is \" + str(SGDC_training_score))\n",
    "    GB_training_score, GB_pred =  train_GB(X_train_trans,Y_train, X_eval_trans)\n",
    "    print(\"Gradient Boosting training score is \" + str(GB_training_score))\n",
    "    DT_training_score, DT_pred =  train_DT(X_train_trans,Y_train, X_eval_trans)\n",
    "    print(\"Decision Tree training score is \" + str(DT_training_score))\n",
    "    LR_training_score, LR_pred =  train_LR(X_train_trans,Y_train, X_eval_trans)\n",
    "    print(\"Logistic Regression training score is \" + str(LR_training_score))\n",
    "    \n",
    "    print()\n",
    "    print(\"The highest training score is \" + \n",
    "          str(max(dummy_training_score, NB_training_score, SVC_training_score, \n",
    "             SGDC_training_score, GB_training_score, DT_training_score, LR_training_score)))\n",
    "    \n",
    "    print()\n",
    "    print(\"Accuracy scores: \")\n",
    "    \n",
    "    dummy_acc = accuracy_score(Y_eval, dummy_pred)\n",
    "    NB_acc = accuracy_score(Y_eval, NB_pred)\n",
    "    SVC_acc = accuracy_score(Y_eval, SVC_pred)\n",
    "    SGDC_acc = accuracy_score(Y_eval, SGDC_pred)\n",
    "    GB_acc = accuracy_score(Y_eval, GB_pred)\n",
    "    DT_acc = accuracy_score(Y_eval, DT_pred)\n",
    "    LR_acc = accuracy_score(Y_eval, LR_pred)\n",
    "\n",
    "\n",
    "    print('     |  true  |  false ')\n",
    "    print('----------------------')\n",
    "    print('dummy| {:.4f} | {:.4f}'.format(dummy_acc, (1-dummy_acc)))\n",
    "    print('  NB | {:.4f} | {:.4f}'.format(NB_acc, (1-NB_acc)))\n",
    "    print(' SVC | {:.4f} | {:.4f}'.format(SVC_acc, (1-SVC_acc)))\n",
    "    print('SGDC | {:.4f} | {:.4f}'.format(SGDC_acc, (1-SGDC_acc)))\n",
    "    print(' GB  | {:.4f} | {:.4f}'.format(GB_acc, (1-GB_acc)))\n",
    "    print(' DT  | {:.4f} | {:.4f}'.format(DT_acc, (1-DT_acc)))\n",
    "    print(' LR  | {:.4f} | {:.4f}'.format(LR_acc, (1-LR_acc)))\n",
    "\n",
    "    print()\n",
    "    print(\"The highest prediction score is \" + \n",
    "          str(max(dummy_acc, NB_acc, SVC_acc, SGDC_acc, GB_acc, DT_acc, LR_acc)))\n",
    "    \n",
    "    print()\n",
    "    print(\"Examples: \")\n",
    "    \n",
    "    #print(X_eval[0:10])\n",
    "    print(\"The truth is: \")\n",
    "    print('Y  : ' + ' '.join(Y_eval[0:10]))\n",
    "    print(\"Predictions are: \")\n",
    "    print('dum: ' + ' '.join(dummy_pred[0:10]))\n",
    "    print('NB : ' + ' '.join(NB_pred[0:10]))\n",
    "    print('SVC: '+ ' '.join(SVC_pred[0:10]))\n",
    "    print('SGD: '+ ' '.join(SGDC_pred[0:10]))\n",
    "    print('GB : '+' '.join(GB_pred[0:10]))\n",
    "    print('DT : '+' '.join(DT_pred[0:10]))\n",
    "    print('LR : '+' '.join(LR_pred[0:10]))\n",
    "    \n",
    "    print()\n",
    "    print(\"Confusion matrices: \")\n",
    "    \n",
    "    print(\"Naive Bayes: \")\n",
    "    print(confusion_matrix(Y_eval, NB_pred))\n",
    "    print(\"Support Vector: \")\n",
    "    print(confusion_matrix(Y_eval, SVC_pred))\n",
    "    print(\"Stochastic Gradient Descent: \")\n",
    "    print(confusion_matrix(Y_eval, SGDC_pred))\n",
    "    print(\"Gradient Boosting: \")\n",
    "    print(confusion_matrix(Y_eval, GB_pred))\n",
    "    print(\"Decision Tree: \")\n",
    "    print(confusion_matrix(Y_eval, DT_pred))\n",
    "    print(\"Logistic Regression: \")\n",
    "    print(confusion_matrix(Y_eval, LR_pred))"
   ]
  },
  {
   "cell_type": "code",
   "execution_count": 146,
   "metadata": {},
   "outputs": [
    {
     "name": "stdout",
     "output_type": "stream",
     "text": [
      "STRICT\n",
      "\n",
      "Training scores: \n",
      "Dummy training score is 0.4992949234488316\n",
      "Naive Bayes training score is 0.8845688960515713\n",
      "Support Vector Classifier training score is 0.9510475423045931\n",
      "Stochastic Gradient Descent training score is 0.8972602739726028\n",
      "Gradient Boosting training score is 0.7601732473811442\n",
      "Decision Tree training score is 0.9998992747784046\n",
      "Logistic Regression training score is 0.8583803384367445\n",
      "\n",
      "The highest training score is 0.9998992747784046\n",
      "\n",
      "Accuracy scores: \n",
      "     |  true  |  false \n",
      "----------------------\n",
      "dummy| 0.5060 | 0.4940\n",
      "  NB | 0.7877 | 0.2123\n",
      " SVC | 0.7764 | 0.2236\n",
      "SGDC | 0.7824 | 0.2176\n",
      " GB  | 0.7139 | 0.2861\n",
      " DT  | 0.6495 | 0.3505\n",
      " LR  | 0.7776 | 0.2224\n",
      "\n",
      "The highest prediction score is 0.7876712328767124\n",
      "\n",
      "Examples: \n",
      "4271     I do not want to be part of federal Europe. We...\n",
      "5775     In our opinion, Britain can find a lot of reso...\n",
      "2654     Dont be fooled by Leavers saying Remain have i...\n",
      "10590    This is the moment for us to change - to fight...\n",
      "7458           Nope, not changed my mind. Brexit please...\n",
      "924      BREXIT is a madness. It was just an empty poli...\n",
      "8868     Thank you Boris Johnson and your government. O...\n",
      "3787     Harder times for the EU having to survive on 8...\n",
      "9578     The UK's going to get raked over the proverbia...\n",
      "1164     Brexit 2016 was a chaotic vote, held at the he...\n",
      "Name: Comment, dtype: object\n",
      "The truth is: \n",
      "Y  : 1 1 0 0 0 1 0 1 1 1\n",
      "Predictions are: \n",
      "dum: 1 0 1 0 0 1 1 1 1 0\n",
      "NB : 1 0 0 0 0 1 0 1 1 1\n",
      "SVC: 1 0 1 0 0 1 0 1 1 1\n",
      "SGD: 1 0 1 0 1 1 0 1 1 1\n",
      "GB : 1 1 1 1 0 0 0 1 0 1\n",
      "DT : 1 0 0 0 0 1 0 1 1 1\n",
      "LR : 1 0 1 0 1 1 0 1 1 1\n",
      "\n",
      "Confusion matrices: \n",
      "Naive Bayes: \n",
      "[[ 875  334]\n",
      " [ 193 1080]]\n",
      "Support Vector: \n",
      "[[ 920  289]\n",
      " [ 266 1007]]\n",
      "Stochastic Gradient Descent: \n",
      "[[ 924  285]\n",
      " [ 255 1018]]\n",
      "Gradient Boosting: \n",
      "[[859 350]\n",
      " [360 913]]\n",
      "Decision Tree: \n",
      "[[758 451]\n",
      " [419 854]]\n",
      "Logistic Regression: \n",
      "[[944 265]\n",
      " [287 986]]\n",
      "\n",
      "-----------------------------------------------\n",
      "\n",
      "lOOSE\n",
      "Training scores: \n",
      "Dummy training score is 0.4985665402755942\n",
      "Naive Bayes training score is 0.8750578007953389\n",
      "Support Vector Classifier training score is 0.938592435031906\n",
      "Stochastic Gradient Descent training score is 0.8815314898733007\n",
      "Gradient Boosting training score is 0.7401276241561084\n",
      "Decision Tree training score is 0.9986127809118653\n",
      "Logistic Regression training score is 0.8469434939424767\n",
      "\n",
      "The highest training score is 0.9986127809118653\n",
      "\n",
      "Accuracy scores: \n",
      "     |  true  |  false \n",
      "----------------------\n",
      "dummy| 0.5078 | 0.4922\n",
      "  NB | 0.7511 | 0.2489\n",
      " SVC | 0.7426 | 0.2574\n",
      "SGDC | 0.7530 | 0.2470\n",
      " GB  | 0.7075 | 0.2925\n",
      " DT  | 0.6394 | 0.3606\n",
      " LR  | 0.7585 | 0.2415\n",
      "\n",
      "The highest prediction score is 0.7585059171597633\n",
      "\n",
      "Examples: \n",
      "4271     I do not want to be part of federal Europe. We...\n",
      "5775     In our opinion, Britain can find a lot of reso...\n",
      "2654     Dont be fooled by Leavers saying Remain have i...\n",
      "10590    This is the moment for us to change - to fight...\n",
      "7458           Nope, not changed my mind. Brexit please...\n",
      "924      BREXIT is a madness. It was just an empty poli...\n",
      "8868     Thank you Boris Johnson and your government. O...\n",
      "3787     Harder times for the EU having to survive on 8...\n",
      "9578     The UK's going to get raked over the proverbia...\n",
      "1164     Brexit 2016 was a chaotic vote, held at the he...\n",
      "Name: Comment, dtype: object\n",
      "The truth is: \n",
      "Y  : 1 1 1 0 0 1 1 0 0 0\n",
      "Predictions are: \n",
      "dum: 1 0 1 0 0 1 1 0 1 0\n",
      "NB : 1 0 1 0 0 1 1 0 0 1\n",
      "SVC: 1 1 1 0 0 1 1 0 0 1\n",
      "SGD: 1 0 1 0 0 1 1 0 0 1\n",
      "GB : 1 0 0 0 0 1 1 0 0 1\n",
      "DT : 1 1 0 0 1 0 1 0 0 1\n",
      "LR : 1 0 1 0 0 1 1 0 0 1\n",
      "\n",
      "Confusion matrices: \n",
      "Naive Bayes: \n",
      "[[ 935  391]\n",
      " [ 282 1096]]\n",
      "Support Vector: \n",
      "[[ 965  361]\n",
      " [ 335 1043]]\n",
      "Stochastic Gradient Descent: \n",
      "[[ 976  350]\n",
      " [ 318 1060]]\n",
      "Gradient Boosting: \n",
      "[[941 385]\n",
      " [406 972]]\n",
      "Decision Tree: \n",
      "[[835 491]\n",
      " [484 894]]\n",
      "Logistic Regression: \n",
      "[[ 993  333]\n",
      " [ 320 1058]]\n"
     ]
    }
   ],
   "source": [
    "print(\"STRICT\")\n",
    "print()\n",
    "training_all(X_train_trans_s, Y_train_s, X_eval_trans_s, Y_eval_s)\n",
    "print()\n",
    "print('-----------------------------------------------')\n",
    "print()\n",
    "print(\"LOOSE\")\n",
    "training_all(X_train_trans_l, Y_train_l, X_eval_trans_l, Y_eval_l)\n"
   ]
  },
  {
   "cell_type": "code",
   "execution_count": 165,
   "metadata": {},
   "outputs": [],
   "source": [
    "tuned_parameters_NB = [{'alpha': [0, 1, 100], 'fit_prior':[True, False]}]\n",
    "tuned_parameters_SVC = [{'kernel': ['rbf'], 'gamma': [0.1, 1, 10],\n",
    "                     'C': [0.5, 1, 5, 10]},\n",
    "                    {'kernel': ['linear'], 'C': [0.5, 1, 5, 10]}]\n",
    "tuned_parameters_SGD = [{'loss':['hinge','perceptron','modified_huber'],\n",
    "                         'penalty':['l2','l1'],'max_iter':[5, 10]}]\n",
    "tuned_parameters_GB = [{'loss':['deviance','exponential'],\n",
    "                        'learning_rate':[0.1, 0.2],\n",
    "                        'max_depth':[3, 5, 10]}]\n",
    "tuned_parameters_DT = [{'criterion':['gini','entropy'],\n",
    "                        'splitter':['best','random'],\n",
    "                        'max_depth':[3, 5, 10]}]\n",
    "tuned_parameters_LR = [{'penalty':['none','l2'], 'C':[0.1, 0.5, 1.0],\n",
    "                        'class_weight':[None, 'balanced'],\n",
    "                        'solver':['lbfgs']}]\n",
    "scores = ['precision', 'recall']"
   ]
  },
  {
   "cell_type": "code",
   "execution_count": 166,
   "metadata": {
    "scrolled": false
   },
   "outputs": [
    {
     "name": "stdout",
     "output_type": "stream",
     "text": [
      "STRICT\n",
      "\n",
      "# Tuning hyper-parameters for precision\n",
      "Support vector classifier: \n"
     ]
    },
    {
     "name": "stderr",
     "output_type": "stream",
     "text": [
      "/home/kata/anaconda3/lib/python3.7/site-packages/sklearn/model_selection/_split.py:1978: FutureWarning: The default value of cv will change from 3 to 5 in version 0.22. Specify it explicitly to silence this warning.\n",
      "  warnings.warn(CV_WARNING, FutureWarning)\n"
     ]
    },
    {
     "name": "stdout",
     "output_type": "stream",
     "text": [
      "Best parameters set found on development set:\n",
      "{'C': 5, 'gamma': 1, 'kernel': 'rbf'}\n",
      "Grid scores on development set:\n",
      "0.738 (+/-0.012) for {'C': 0.5, 'gamma': 0.1, 'kernel': 'rbf'}\n",
      "0.760 (+/-0.008) for {'C': 0.5, 'gamma': 1, 'kernel': 'rbf'}\n",
      "0.757 (+/-0.000) for {'C': 0.5, 'gamma': 10, 'kernel': 'rbf'}\n",
      "0.751 (+/-0.007) for {'C': 1, 'gamma': 0.1, 'kernel': 'rbf'}\n",
      "0.769 (+/-0.013) for {'C': 1, 'gamma': 1, 'kernel': 'rbf'}\n",
      "0.716 (+/-0.059) for {'C': 1, 'gamma': 10, 'kernel': 'rbf'}\n",
      "0.762 (+/-0.017) for {'C': 5, 'gamma': 0.1, 'kernel': 'rbf'}\n",
      "0.777 (+/-0.019) for {'C': 5, 'gamma': 1, 'kernel': 'rbf'}\n",
      "0.719 (+/-0.055) for {'C': 5, 'gamma': 10, 'kernel': 'rbf'}\n",
      "0.765 (+/-0.018) for {'C': 10, 'gamma': 0.1, 'kernel': 'rbf'}\n",
      "0.777 (+/-0.018) for {'C': 10, 'gamma': 1, 'kernel': 'rbf'}\n",
      "0.719 (+/-0.055) for {'C': 10, 'gamma': 10, 'kernel': 'rbf'}\n",
      "0.758 (+/-0.016) for {'C': 0.5, 'kernel': 'linear'}\n",
      "0.761 (+/-0.017) for {'C': 1, 'kernel': 'linear'}\n",
      "0.750 (+/-0.018) for {'C': 5, 'kernel': 'linear'}\n",
      "0.738 (+/-0.016) for {'C': 10, 'kernel': 'linear'}\n",
      "Naive Bayes classifier: \n"
     ]
    },
    {
     "name": "stderr",
     "output_type": "stream",
     "text": [
      "/home/kata/anaconda3/lib/python3.7/site-packages/sklearn/model_selection/_split.py:1978: FutureWarning: The default value of cv will change from 3 to 5 in version 0.22. Specify it explicitly to silence this warning.\n",
      "  warnings.warn(CV_WARNING, FutureWarning)\n",
      "/home/kata/anaconda3/lib/python3.7/site-packages/sklearn/naive_bayes.py:485: UserWarning: alpha too small will result in numeric errors, setting alpha = 1.0e-10\n",
      "  'setting alpha = %.1e' % _ALPHA_MIN)\n",
      "/home/kata/anaconda3/lib/python3.7/site-packages/sklearn/naive_bayes.py:485: UserWarning: alpha too small will result in numeric errors, setting alpha = 1.0e-10\n",
      "  'setting alpha = %.1e' % _ALPHA_MIN)\n",
      "/home/kata/anaconda3/lib/python3.7/site-packages/sklearn/naive_bayes.py:485: UserWarning: alpha too small will result in numeric errors, setting alpha = 1.0e-10\n",
      "  'setting alpha = %.1e' % _ALPHA_MIN)\n",
      "/home/kata/anaconda3/lib/python3.7/site-packages/sklearn/naive_bayes.py:485: UserWarning: alpha too small will result in numeric errors, setting alpha = 1.0e-10\n",
      "  'setting alpha = %.1e' % _ALPHA_MIN)\n",
      "/home/kata/anaconda3/lib/python3.7/site-packages/sklearn/naive_bayes.py:485: UserWarning: alpha too small will result in numeric errors, setting alpha = 1.0e-10\n",
      "  'setting alpha = %.1e' % _ALPHA_MIN)\n",
      "/home/kata/anaconda3/lib/python3.7/site-packages/sklearn/naive_bayes.py:485: UserWarning: alpha too small will result in numeric errors, setting alpha = 1.0e-10\n",
      "  'setting alpha = %.1e' % _ALPHA_MIN)\n"
     ]
    },
    {
     "name": "stdout",
     "output_type": "stream",
     "text": [
      "Best parameters set found on development set:\n",
      "{'alpha': 1, 'fit_prior': False}\n",
      "Grid scores on development set:\n",
      "0.713 (+/-0.014) for {'alpha': 0, 'fit_prior': True}\n",
      "0.714 (+/-0.010) for {'alpha': 0, 'fit_prior': False}\n",
      "0.765 (+/-0.019) for {'alpha': 1, 'fit_prior': True}\n",
      "0.766 (+/-0.016) for {'alpha': 1, 'fit_prior': False}\n",
      "0.718 (+/-0.025) for {'alpha': 100, 'fit_prior': True}\n",
      "0.721 (+/-0.010) for {'alpha': 100, 'fit_prior': False}\n",
      "Stochastic Gradient Descent classifier: \n"
     ]
    },
    {
     "name": "stderr",
     "output_type": "stream",
     "text": [
      "/home/kata/anaconda3/lib/python3.7/site-packages/sklearn/model_selection/_split.py:1978: FutureWarning: The default value of cv will change from 3 to 5 in version 0.22. Specify it explicitly to silence this warning.\n",
      "  warnings.warn(CV_WARNING, FutureWarning)\n",
      "/home/kata/anaconda3/lib/python3.7/site-packages/sklearn/linear_model/stochastic_gradient.py:561: ConvergenceWarning: Maximum number of iteration reached before convergence. Consider increasing max_iter to improve the fit.\n",
      "  ConvergenceWarning)\n"
     ]
    },
    {
     "name": "stdout",
     "output_type": "stream",
     "text": [
      "Best parameters set found on development set:\n",
      "{'loss': 'hinge', 'max_iter': 10, 'penalty': 'l2'}\n",
      "Grid scores on development set:\n",
      "0.761 (+/-0.017) for {'loss': 'hinge', 'max_iter': 5, 'penalty': 'l2'}\n",
      "0.758 (+/-0.012) for {'loss': 'hinge', 'max_iter': 5, 'penalty': 'l1'}\n",
      "0.763 (+/-0.017) for {'loss': 'hinge', 'max_iter': 10, 'penalty': 'l2'}\n",
      "0.759 (+/-0.014) for {'loss': 'hinge', 'max_iter': 10, 'penalty': 'l1'}\n",
      "0.725 (+/-0.017) for {'loss': 'perceptron', 'max_iter': 5, 'penalty': 'l2'}\n",
      "0.677 (+/-0.032) for {'loss': 'perceptron', 'max_iter': 5, 'penalty': 'l1'}\n",
      "0.724 (+/-0.009) for {'loss': 'perceptron', 'max_iter': 10, 'penalty': 'l2'}\n",
      "0.682 (+/-0.008) for {'loss': 'perceptron', 'max_iter': 10, 'penalty': 'l1'}\n",
      "0.751 (+/-0.010) for {'loss': 'modified_huber', 'max_iter': 5, 'penalty': 'l2'}\n",
      "0.741 (+/-0.013) for {'loss': 'modified_huber', 'max_iter': 5, 'penalty': 'l1'}\n",
      "0.758 (+/-0.026) for {'loss': 'modified_huber', 'max_iter': 10, 'penalty': 'l2'}\n",
      "0.730 (+/-0.016) for {'loss': 'modified_huber', 'max_iter': 10, 'penalty': 'l1'}\n",
      "Gradient Boosting classifier: \n"
     ]
    },
    {
     "name": "stderr",
     "output_type": "stream",
     "text": [
      "/home/kata/anaconda3/lib/python3.7/site-packages/sklearn/model_selection/_split.py:1978: FutureWarning: The default value of cv will change from 3 to 5 in version 0.22. Specify it explicitly to silence this warning.\n",
      "  warnings.warn(CV_WARNING, FutureWarning)\n"
     ]
    },
    {
     "name": "stdout",
     "output_type": "stream",
     "text": [
      "Best parameters set found on development set:\n",
      "{'learning_rate': 0.2, 'loss': 'deviance', 'max_depth': 10}\n",
      "Grid scores on development set:\n",
      "0.705 (+/-0.019) for {'learning_rate': 0.1, 'loss': 'deviance', 'max_depth': 3}\n",
      "0.716 (+/-0.015) for {'learning_rate': 0.1, 'loss': 'deviance', 'max_depth': 5}\n",
      "0.730 (+/-0.015) for {'learning_rate': 0.1, 'loss': 'deviance', 'max_depth': 10}\n",
      "0.705 (+/-0.019) for {'learning_rate': 0.1, 'loss': 'exponential', 'max_depth': 3}\n",
      "0.720 (+/-0.021) for {'learning_rate': 0.1, 'loss': 'exponential', 'max_depth': 5}\n",
      "0.730 (+/-0.011) for {'learning_rate': 0.1, 'loss': 'exponential', 'max_depth': 10}\n",
      "0.724 (+/-0.018) for {'learning_rate': 0.2, 'loss': 'deviance', 'max_depth': 3}\n",
      "0.727 (+/-0.025) for {'learning_rate': 0.2, 'loss': 'deviance', 'max_depth': 5}\n",
      "0.733 (+/-0.020) for {'learning_rate': 0.2, 'loss': 'deviance', 'max_depth': 10}\n",
      "0.724 (+/-0.022) for {'learning_rate': 0.2, 'loss': 'exponential', 'max_depth': 3}\n",
      "0.728 (+/-0.023) for {'learning_rate': 0.2, 'loss': 'exponential', 'max_depth': 5}\n",
      "0.729 (+/-0.019) for {'learning_rate': 0.2, 'loss': 'exponential', 'max_depth': 10}\n",
      "Decision Tree classifier: \n"
     ]
    },
    {
     "name": "stderr",
     "output_type": "stream",
     "text": [
      "/home/kata/anaconda3/lib/python3.7/site-packages/sklearn/model_selection/_split.py:1978: FutureWarning: The default value of cv will change from 3 to 5 in version 0.22. Specify it explicitly to silence this warning.\n",
      "  warnings.warn(CV_WARNING, FutureWarning)\n"
     ]
    },
    {
     "name": "stdout",
     "output_type": "stream",
     "text": [
      "Best parameters set found on development set:\n",
      "{'criterion': 'gini', 'max_depth': 10, 'splitter': 'best'}\n",
      "Grid scores on development set:\n",
      "0.613 (+/-0.036) for {'criterion': 'gini', 'max_depth': 3, 'splitter': 'best'}\n",
      "0.591 (+/-0.031) for {'criterion': 'gini', 'max_depth': 3, 'splitter': 'random'}\n",
      "0.615 (+/-0.031) for {'criterion': 'gini', 'max_depth': 5, 'splitter': 'best'}\n",
      "0.622 (+/-0.099) for {'criterion': 'gini', 'max_depth': 5, 'splitter': 'random'}\n",
      "0.643 (+/-0.012) for {'criterion': 'gini', 'max_depth': 10, 'splitter': 'best'}\n",
      "0.624 (+/-0.032) for {'criterion': 'gini', 'max_depth': 10, 'splitter': 'random'}\n",
      "0.614 (+/-0.025) for {'criterion': 'entropy', 'max_depth': 3, 'splitter': 'best'}\n",
      "0.607 (+/-0.015) for {'criterion': 'entropy', 'max_depth': 3, 'splitter': 'random'}\n",
      "0.615 (+/-0.032) for {'criterion': 'entropy', 'max_depth': 5, 'splitter': 'best'}\n",
      "0.614 (+/-0.046) for {'criterion': 'entropy', 'max_depth': 5, 'splitter': 'random'}\n",
      "0.627 (+/-0.029) for {'criterion': 'entropy', 'max_depth': 10, 'splitter': 'best'}\n",
      "0.635 (+/-0.020) for {'criterion': 'entropy', 'max_depth': 10, 'splitter': 'random'}\n",
      "Logisic Regression classifier: \n"
     ]
    },
    {
     "name": "stderr",
     "output_type": "stream",
     "text": [
      "/home/kata/anaconda3/lib/python3.7/site-packages/sklearn/model_selection/_split.py:1978: FutureWarning: The default value of cv will change from 3 to 5 in version 0.22. Specify it explicitly to silence this warning.\n",
      "  warnings.warn(CV_WARNING, FutureWarning)\n",
      "/home/kata/anaconda3/lib/python3.7/site-packages/sklearn/linear_model/logistic.py:1510: UserWarning: Setting penalty='none' will ignore the C and l1_ratio parameters\n",
      "  \"Setting penalty='none' will ignore the C and l1_ratio \"\n",
      "/home/kata/anaconda3/lib/python3.7/site-packages/sklearn/linear_model/logistic.py:947: ConvergenceWarning: lbfgs failed to converge. Increase the number of iterations.\n",
      "  \"of iterations.\", ConvergenceWarning)\n",
      "/home/kata/anaconda3/lib/python3.7/site-packages/sklearn/linear_model/logistic.py:1510: UserWarning: Setting penalty='none' will ignore the C and l1_ratio parameters\n",
      "  \"Setting penalty='none' will ignore the C and l1_ratio \"\n",
      "/home/kata/anaconda3/lib/python3.7/site-packages/sklearn/linear_model/logistic.py:947: ConvergenceWarning: lbfgs failed to converge. Increase the number of iterations.\n",
      "  \"of iterations.\", ConvergenceWarning)\n",
      "/home/kata/anaconda3/lib/python3.7/site-packages/sklearn/linear_model/logistic.py:1510: UserWarning: Setting penalty='none' will ignore the C and l1_ratio parameters\n",
      "  \"Setting penalty='none' will ignore the C and l1_ratio \"\n",
      "/home/kata/anaconda3/lib/python3.7/site-packages/sklearn/linear_model/logistic.py:947: ConvergenceWarning: lbfgs failed to converge. Increase the number of iterations.\n",
      "  \"of iterations.\", ConvergenceWarning)\n",
      "/home/kata/anaconda3/lib/python3.7/site-packages/sklearn/linear_model/logistic.py:1510: UserWarning: Setting penalty='none' will ignore the C and l1_ratio parameters\n",
      "  \"Setting penalty='none' will ignore the C and l1_ratio \"\n",
      "/home/kata/anaconda3/lib/python3.7/site-packages/sklearn/linear_model/logistic.py:947: ConvergenceWarning: lbfgs failed to converge. Increase the number of iterations.\n",
      "  \"of iterations.\", ConvergenceWarning)\n",
      "/home/kata/anaconda3/lib/python3.7/site-packages/sklearn/linear_model/logistic.py:1510: UserWarning: Setting penalty='none' will ignore the C and l1_ratio parameters\n",
      "  \"Setting penalty='none' will ignore the C and l1_ratio \"\n",
      "/home/kata/anaconda3/lib/python3.7/site-packages/sklearn/linear_model/logistic.py:947: ConvergenceWarning: lbfgs failed to converge. Increase the number of iterations.\n",
      "  \"of iterations.\", ConvergenceWarning)\n",
      "/home/kata/anaconda3/lib/python3.7/site-packages/sklearn/linear_model/logistic.py:1510: UserWarning: Setting penalty='none' will ignore the C and l1_ratio parameters\n",
      "  \"Setting penalty='none' will ignore the C and l1_ratio \"\n",
      "/home/kata/anaconda3/lib/python3.7/site-packages/sklearn/linear_model/logistic.py:947: ConvergenceWarning: lbfgs failed to converge. Increase the number of iterations.\n",
      "  \"of iterations.\", ConvergenceWarning)\n",
      "/home/kata/anaconda3/lib/python3.7/site-packages/sklearn/linear_model/logistic.py:1510: UserWarning: Setting penalty='none' will ignore the C and l1_ratio parameters\n",
      "  \"Setting penalty='none' will ignore the C and l1_ratio \"\n",
      "/home/kata/anaconda3/lib/python3.7/site-packages/sklearn/linear_model/logistic.py:947: ConvergenceWarning: lbfgs failed to converge. Increase the number of iterations.\n",
      "  \"of iterations.\", ConvergenceWarning)\n",
      "/home/kata/anaconda3/lib/python3.7/site-packages/sklearn/linear_model/logistic.py:1510: UserWarning: Setting penalty='none' will ignore the C and l1_ratio parameters\n",
      "  \"Setting penalty='none' will ignore the C and l1_ratio \"\n",
      "/home/kata/anaconda3/lib/python3.7/site-packages/sklearn/linear_model/logistic.py:947: ConvergenceWarning: lbfgs failed to converge. Increase the number of iterations.\n",
      "  \"of iterations.\", ConvergenceWarning)\n",
      "/home/kata/anaconda3/lib/python3.7/site-packages/sklearn/linear_model/logistic.py:1510: UserWarning: Setting penalty='none' will ignore the C and l1_ratio parameters\n",
      "  \"Setting penalty='none' will ignore the C and l1_ratio \"\n",
      "/home/kata/anaconda3/lib/python3.7/site-packages/sklearn/linear_model/logistic.py:947: ConvergenceWarning: lbfgs failed to converge. Increase the number of iterations.\n",
      "  \"of iterations.\", ConvergenceWarning)\n",
      "/home/kata/anaconda3/lib/python3.7/site-packages/sklearn/linear_model/logistic.py:1510: UserWarning: Setting penalty='none' will ignore the C and l1_ratio parameters\n",
      "  \"Setting penalty='none' will ignore the C and l1_ratio \"\n",
      "/home/kata/anaconda3/lib/python3.7/site-packages/sklearn/linear_model/logistic.py:947: ConvergenceWarning: lbfgs failed to converge. Increase the number of iterations.\n",
      "  \"of iterations.\", ConvergenceWarning)\n",
      "/home/kata/anaconda3/lib/python3.7/site-packages/sklearn/linear_model/logistic.py:1510: UserWarning: Setting penalty='none' will ignore the C and l1_ratio parameters\n",
      "  \"Setting penalty='none' will ignore the C and l1_ratio \"\n",
      "/home/kata/anaconda3/lib/python3.7/site-packages/sklearn/linear_model/logistic.py:947: ConvergenceWarning: lbfgs failed to converge. Increase the number of iterations.\n",
      "  \"of iterations.\", ConvergenceWarning)\n",
      "/home/kata/anaconda3/lib/python3.7/site-packages/sklearn/linear_model/logistic.py:1510: UserWarning: Setting penalty='none' will ignore the C and l1_ratio parameters\n",
      "  \"Setting penalty='none' will ignore the C and l1_ratio \"\n",
      "/home/kata/anaconda3/lib/python3.7/site-packages/sklearn/linear_model/logistic.py:947: ConvergenceWarning: lbfgs failed to converge. Increase the number of iterations.\n",
      "  \"of iterations.\", ConvergenceWarning)\n",
      "/home/kata/anaconda3/lib/python3.7/site-packages/sklearn/linear_model/logistic.py:947: ConvergenceWarning: lbfgs failed to converge. Increase the number of iterations.\n",
      "  \"of iterations.\", ConvergenceWarning)\n",
      "/home/kata/anaconda3/lib/python3.7/site-packages/sklearn/linear_model/logistic.py:947: ConvergenceWarning: lbfgs failed to converge. Increase the number of iterations.\n",
      "  \"of iterations.\", ConvergenceWarning)\n",
      "/home/kata/anaconda3/lib/python3.7/site-packages/sklearn/linear_model/logistic.py:947: ConvergenceWarning: lbfgs failed to converge. Increase the number of iterations.\n",
      "  \"of iterations.\", ConvergenceWarning)\n",
      "/home/kata/anaconda3/lib/python3.7/site-packages/sklearn/linear_model/logistic.py:947: ConvergenceWarning: lbfgs failed to converge. Increase the number of iterations.\n",
      "  \"of iterations.\", ConvergenceWarning)\n",
      "/home/kata/anaconda3/lib/python3.7/site-packages/sklearn/linear_model/logistic.py:947: ConvergenceWarning: lbfgs failed to converge. Increase the number of iterations.\n",
      "  \"of iterations.\", ConvergenceWarning)\n",
      "/home/kata/anaconda3/lib/python3.7/site-packages/sklearn/linear_model/logistic.py:947: ConvergenceWarning: lbfgs failed to converge. Increase the number of iterations.\n",
      "  \"of iterations.\", ConvergenceWarning)\n"
     ]
    },
    {
     "name": "stdout",
     "output_type": "stream",
     "text": [
      "Best parameters set found on development set:\n",
      "{'C': 1.0, 'class_weight': 'balanced', 'penalty': 'l2', 'solver': 'lbfgs'}\n",
      "Grid scores on development set:\n",
      "0.715 (+/-0.011) for {'C': 0.1, 'class_weight': None, 'penalty': 'none', 'solver': 'lbfgs'}\n",
      "0.732 (+/-0.010) for {'C': 0.1, 'class_weight': None, 'penalty': 'l2', 'solver': 'lbfgs'}\n",
      "0.714 (+/-0.012) for {'C': 0.1, 'class_weight': 'balanced', 'penalty': 'none', 'solver': 'lbfgs'}\n",
      "0.735 (+/-0.013) for {'C': 0.1, 'class_weight': 'balanced', 'penalty': 'l2', 'solver': 'lbfgs'}\n",
      "0.715 (+/-0.011) for {'C': 0.5, 'class_weight': None, 'penalty': 'none', 'solver': 'lbfgs'}\n",
      "0.756 (+/-0.008) for {'C': 0.5, 'class_weight': None, 'penalty': 'l2', 'solver': 'lbfgs'}\n",
      "0.714 (+/-0.012) for {'C': 0.5, 'class_weight': 'balanced', 'penalty': 'none', 'solver': 'lbfgs'}\n",
      "0.756 (+/-0.008) for {'C': 0.5, 'class_weight': 'balanced', 'penalty': 'l2', 'solver': 'lbfgs'}\n",
      "0.715 (+/-0.011) for {'C': 1.0, 'class_weight': None, 'penalty': 'none', 'solver': 'lbfgs'}\n",
      "0.762 (+/-0.012) for {'C': 1.0, 'class_weight': None, 'penalty': 'l2', 'solver': 'lbfgs'}\n",
      "0.714 (+/-0.012) for {'C': 1.0, 'class_weight': 'balanced', 'penalty': 'none', 'solver': 'lbfgs'}\n",
      "0.762 (+/-0.016) for {'C': 1.0, 'class_weight': 'balanced', 'penalty': 'l2', 'solver': 'lbfgs'}\n",
      "# Tuning hyper-parameters for recall\n",
      "Support vector classifier: \n"
     ]
    },
    {
     "name": "stderr",
     "output_type": "stream",
     "text": [
      "/home/kata/anaconda3/lib/python3.7/site-packages/sklearn/model_selection/_split.py:1978: FutureWarning: The default value of cv will change from 3 to 5 in version 0.22. Specify it explicitly to silence this warning.\n",
      "  warnings.warn(CV_WARNING, FutureWarning)\n"
     ]
    },
    {
     "name": "stdout",
     "output_type": "stream",
     "text": [
      "Best parameters set found on development set:\n",
      "{'C': 5, 'gamma': 1, 'kernel': 'rbf'}\n",
      "Grid scores on development set:\n",
      "0.732 (+/-0.008) for {'C': 0.5, 'gamma': 0.1, 'kernel': 'rbf'}\n",
      "0.757 (+/-0.004) for {'C': 0.5, 'gamma': 1, 'kernel': 'rbf'}\n",
      "0.501 (+/-0.001) for {'C': 0.5, 'gamma': 10, 'kernel': 'rbf'}\n",
      "0.748 (+/-0.004) for {'C': 1, 'gamma': 0.1, 'kernel': 'rbf'}\n",
      "0.769 (+/-0.012) for {'C': 1, 'gamma': 1, 'kernel': 'rbf'}\n",
      "0.505 (+/-0.001) for {'C': 1, 'gamma': 10, 'kernel': 'rbf'}\n",
      "0.762 (+/-0.017) for {'C': 5, 'gamma': 0.1, 'kernel': 'rbf'}\n",
      "0.777 (+/-0.019) for {'C': 5, 'gamma': 1, 'kernel': 'rbf'}\n",
      "0.506 (+/-0.000) for {'C': 5, 'gamma': 10, 'kernel': 'rbf'}\n",
      "0.765 (+/-0.019) for {'C': 10, 'gamma': 0.1, 'kernel': 'rbf'}\n",
      "0.777 (+/-0.018) for {'C': 10, 'gamma': 1, 'kernel': 'rbf'}\n",
      "0.506 (+/-0.000) for {'C': 10, 'gamma': 10, 'kernel': 'rbf'}\n",
      "0.758 (+/-0.015) for {'C': 0.5, 'kernel': 'linear'}\n",
      "0.761 (+/-0.018) for {'C': 1, 'kernel': 'linear'}\n",
      "0.750 (+/-0.019) for {'C': 5, 'kernel': 'linear'}\n",
      "0.738 (+/-0.017) for {'C': 10, 'kernel': 'linear'}\n",
      "Naive Bayes classifier: \n"
     ]
    },
    {
     "name": "stderr",
     "output_type": "stream",
     "text": [
      "/home/kata/anaconda3/lib/python3.7/site-packages/sklearn/model_selection/_split.py:1978: FutureWarning: The default value of cv will change from 3 to 5 in version 0.22. Specify it explicitly to silence this warning.\n",
      "  warnings.warn(CV_WARNING, FutureWarning)\n",
      "/home/kata/anaconda3/lib/python3.7/site-packages/sklearn/naive_bayes.py:485: UserWarning: alpha too small will result in numeric errors, setting alpha = 1.0e-10\n",
      "  'setting alpha = %.1e' % _ALPHA_MIN)\n",
      "/home/kata/anaconda3/lib/python3.7/site-packages/sklearn/naive_bayes.py:485: UserWarning: alpha too small will result in numeric errors, setting alpha = 1.0e-10\n",
      "  'setting alpha = %.1e' % _ALPHA_MIN)\n",
      "/home/kata/anaconda3/lib/python3.7/site-packages/sklearn/naive_bayes.py:485: UserWarning: alpha too small will result in numeric errors, setting alpha = 1.0e-10\n",
      "  'setting alpha = %.1e' % _ALPHA_MIN)\n",
      "/home/kata/anaconda3/lib/python3.7/site-packages/sklearn/naive_bayes.py:485: UserWarning: alpha too small will result in numeric errors, setting alpha = 1.0e-10\n",
      "  'setting alpha = %.1e' % _ALPHA_MIN)\n",
      "/home/kata/anaconda3/lib/python3.7/site-packages/sklearn/naive_bayes.py:485: UserWarning: alpha too small will result in numeric errors, setting alpha = 1.0e-10\n",
      "  'setting alpha = %.1e' % _ALPHA_MIN)\n",
      "/home/kata/anaconda3/lib/python3.7/site-packages/sklearn/naive_bayes.py:485: UserWarning: alpha too small will result in numeric errors, setting alpha = 1.0e-10\n",
      "  'setting alpha = %.1e' % _ALPHA_MIN)\n"
     ]
    },
    {
     "name": "stdout",
     "output_type": "stream",
     "text": [
      "Best parameters set found on development set:\n",
      "{'alpha': 1, 'fit_prior': False}\n",
      "Grid scores on development set:\n",
      "0.713 (+/-0.014) for {'alpha': 0, 'fit_prior': True}\n",
      "0.714 (+/-0.010) for {'alpha': 0, 'fit_prior': False}\n",
      "0.761 (+/-0.021) for {'alpha': 1, 'fit_prior': True}\n",
      "0.765 (+/-0.017) for {'alpha': 1, 'fit_prior': False}\n",
      "0.585 (+/-0.011) for {'alpha': 100, 'fit_prior': True}\n",
      "0.686 (+/-0.016) for {'alpha': 100, 'fit_prior': False}\n",
      "Stochastic Gradient Descent classifier: \n"
     ]
    },
    {
     "name": "stderr",
     "output_type": "stream",
     "text": [
      "/home/kata/anaconda3/lib/python3.7/site-packages/sklearn/model_selection/_split.py:1978: FutureWarning: The default value of cv will change from 3 to 5 in version 0.22. Specify it explicitly to silence this warning.\n",
      "  warnings.warn(CV_WARNING, FutureWarning)\n",
      "/home/kata/anaconda3/lib/python3.7/site-packages/sklearn/linear_model/stochastic_gradient.py:561: ConvergenceWarning: Maximum number of iteration reached before convergence. Consider increasing max_iter to improve the fit.\n",
      "  ConvergenceWarning)\n"
     ]
    },
    {
     "name": "stdout",
     "output_type": "stream",
     "text": [
      "Best parameters set found on development set:\n",
      "{'loss': 'hinge', 'max_iter': 5, 'penalty': 'l2'}\n",
      "Grid scores on development set:\n",
      "0.763 (+/-0.018) for {'loss': 'hinge', 'max_iter': 5, 'penalty': 'l2'}\n",
      "0.756 (+/-0.017) for {'loss': 'hinge', 'max_iter': 5, 'penalty': 'l1'}\n",
      "0.763 (+/-0.019) for {'loss': 'hinge', 'max_iter': 10, 'penalty': 'l2'}\n",
      "0.759 (+/-0.016) for {'loss': 'hinge', 'max_iter': 10, 'penalty': 'l1'}\n",
      "0.721 (+/-0.013) for {'loss': 'perceptron', 'max_iter': 5, 'penalty': 'l2'}\n",
      "0.687 (+/-0.035) for {'loss': 'perceptron', 'max_iter': 5, 'penalty': 'l1'}\n",
      "0.722 (+/-0.017) for {'loss': 'perceptron', 'max_iter': 10, 'penalty': 'l2'}\n",
      "0.653 (+/-0.006) for {'loss': 'perceptron', 'max_iter': 10, 'penalty': 'l1'}\n",
      "0.748 (+/-0.020) for {'loss': 'modified_huber', 'max_iter': 5, 'penalty': 'l2'}\n",
      "0.732 (+/-0.005) for {'loss': 'modified_huber', 'max_iter': 5, 'penalty': 'l1'}\n",
      "0.755 (+/-0.016) for {'loss': 'modified_huber', 'max_iter': 10, 'penalty': 'l2'}\n",
      "0.733 (+/-0.015) for {'loss': 'modified_huber', 'max_iter': 10, 'penalty': 'l1'}\n",
      "Gradient Boosting classifier: \n"
     ]
    },
    {
     "name": "stderr",
     "output_type": "stream",
     "text": [
      "/home/kata/anaconda3/lib/python3.7/site-packages/sklearn/model_selection/_split.py:1978: FutureWarning: The default value of cv will change from 3 to 5 in version 0.22. Specify it explicitly to silence this warning.\n",
      "  warnings.warn(CV_WARNING, FutureWarning)\n"
     ]
    },
    {
     "name": "stdout",
     "output_type": "stream",
     "text": [
      "Best parameters set found on development set:\n",
      "{'learning_rate': 0.2, 'loss': 'exponential', 'max_depth': 10}\n",
      "Grid scores on development set:\n",
      "0.702 (+/-0.017) for {'learning_rate': 0.1, 'loss': 'deviance', 'max_depth': 3}\n",
      "0.717 (+/-0.016) for {'learning_rate': 0.1, 'loss': 'deviance', 'max_depth': 5}\n",
      "0.730 (+/-0.011) for {'learning_rate': 0.1, 'loss': 'deviance', 'max_depth': 10}\n",
      "0.702 (+/-0.016) for {'learning_rate': 0.1, 'loss': 'exponential', 'max_depth': 3}\n",
      "0.715 (+/-0.018) for {'learning_rate': 0.1, 'loss': 'exponential', 'max_depth': 5}\n",
      "0.725 (+/-0.016) for {'learning_rate': 0.1, 'loss': 'exponential', 'max_depth': 10}\n",
      "0.722 (+/-0.017) for {'learning_rate': 0.2, 'loss': 'deviance', 'max_depth': 3}\n",
      "0.727 (+/-0.020) for {'learning_rate': 0.2, 'loss': 'deviance', 'max_depth': 5}\n",
      "0.728 (+/-0.023) for {'learning_rate': 0.2, 'loss': 'deviance', 'max_depth': 10}\n",
      "0.721 (+/-0.023) for {'learning_rate': 0.2, 'loss': 'exponential', 'max_depth': 3}\n",
      "0.729 (+/-0.019) for {'learning_rate': 0.2, 'loss': 'exponential', 'max_depth': 5}\n",
      "0.731 (+/-0.017) for {'learning_rate': 0.2, 'loss': 'exponential', 'max_depth': 10}\n",
      "Decision Tree classifier: \n"
     ]
    },
    {
     "name": "stderr",
     "output_type": "stream",
     "text": [
      "/home/kata/anaconda3/lib/python3.7/site-packages/sklearn/model_selection/_split.py:1978: FutureWarning: The default value of cv will change from 3 to 5 in version 0.22. Specify it explicitly to silence this warning.\n",
      "  warnings.warn(CV_WARNING, FutureWarning)\n"
     ]
    },
    {
     "name": "stdout",
     "output_type": "stream",
     "text": [
      "Best parameters set found on development set:\n",
      "{'criterion': 'gini', 'max_depth': 10, 'splitter': 'best'}\n",
      "Grid scores on development set:\n",
      "0.584 (+/-0.014) for {'criterion': 'gini', 'max_depth': 3, 'splitter': 'best'}\n",
      "0.560 (+/-0.064) for {'criterion': 'gini', 'max_depth': 3, 'splitter': 'random'}\n",
      "0.597 (+/-0.021) for {'criterion': 'gini', 'max_depth': 5, 'splitter': 'best'}\n",
      "0.577 (+/-0.015) for {'criterion': 'gini', 'max_depth': 5, 'splitter': 'random'}\n",
      "0.633 (+/-0.005) for {'criterion': 'gini', 'max_depth': 10, 'splitter': 'best'}\n",
      "0.608 (+/-0.024) for {'criterion': 'gini', 'max_depth': 10, 'splitter': 'random'}\n",
      "0.579 (+/-0.024) for {'criterion': 'entropy', 'max_depth': 3, 'splitter': 'best'}\n",
      "0.577 (+/-0.029) for {'criterion': 'entropy', 'max_depth': 3, 'splitter': 'random'}\n",
      "0.598 (+/-0.022) for {'criterion': 'entropy', 'max_depth': 5, 'splitter': 'best'}\n",
      "0.572 (+/-0.043) for {'criterion': 'entropy', 'max_depth': 5, 'splitter': 'random'}\n",
      "0.614 (+/-0.025) for {'criterion': 'entropy', 'max_depth': 10, 'splitter': 'best'}\n",
      "0.607 (+/-0.040) for {'criterion': 'entropy', 'max_depth': 10, 'splitter': 'random'}\n",
      "Logisic Regression classifier: \n"
     ]
    },
    {
     "name": "stderr",
     "output_type": "stream",
     "text": [
      "/home/kata/anaconda3/lib/python3.7/site-packages/sklearn/model_selection/_split.py:1978: FutureWarning: The default value of cv will change from 3 to 5 in version 0.22. Specify it explicitly to silence this warning.\n",
      "  warnings.warn(CV_WARNING, FutureWarning)\n",
      "/home/kata/anaconda3/lib/python3.7/site-packages/sklearn/linear_model/logistic.py:1510: UserWarning: Setting penalty='none' will ignore the C and l1_ratio parameters\n",
      "  \"Setting penalty='none' will ignore the C and l1_ratio \"\n",
      "/home/kata/anaconda3/lib/python3.7/site-packages/sklearn/linear_model/logistic.py:947: ConvergenceWarning: lbfgs failed to converge. Increase the number of iterations.\n",
      "  \"of iterations.\", ConvergenceWarning)\n",
      "/home/kata/anaconda3/lib/python3.7/site-packages/sklearn/linear_model/logistic.py:1510: UserWarning: Setting penalty='none' will ignore the C and l1_ratio parameters\n",
      "  \"Setting penalty='none' will ignore the C and l1_ratio \"\n",
      "/home/kata/anaconda3/lib/python3.7/site-packages/sklearn/linear_model/logistic.py:947: ConvergenceWarning: lbfgs failed to converge. Increase the number of iterations.\n",
      "  \"of iterations.\", ConvergenceWarning)\n",
      "/home/kata/anaconda3/lib/python3.7/site-packages/sklearn/linear_model/logistic.py:1510: UserWarning: Setting penalty='none' will ignore the C and l1_ratio parameters\n",
      "  \"Setting penalty='none' will ignore the C and l1_ratio \"\n",
      "/home/kata/anaconda3/lib/python3.7/site-packages/sklearn/linear_model/logistic.py:947: ConvergenceWarning: lbfgs failed to converge. Increase the number of iterations.\n",
      "  \"of iterations.\", ConvergenceWarning)\n",
      "/home/kata/anaconda3/lib/python3.7/site-packages/sklearn/linear_model/logistic.py:1510: UserWarning: Setting penalty='none' will ignore the C and l1_ratio parameters\n",
      "  \"Setting penalty='none' will ignore the C and l1_ratio \"\n",
      "/home/kata/anaconda3/lib/python3.7/site-packages/sklearn/linear_model/logistic.py:947: ConvergenceWarning: lbfgs failed to converge. Increase the number of iterations.\n",
      "  \"of iterations.\", ConvergenceWarning)\n",
      "/home/kata/anaconda3/lib/python3.7/site-packages/sklearn/linear_model/logistic.py:1510: UserWarning: Setting penalty='none' will ignore the C and l1_ratio parameters\n",
      "  \"Setting penalty='none' will ignore the C and l1_ratio \"\n",
      "/home/kata/anaconda3/lib/python3.7/site-packages/sklearn/linear_model/logistic.py:947: ConvergenceWarning: lbfgs failed to converge. Increase the number of iterations.\n",
      "  \"of iterations.\", ConvergenceWarning)\n",
      "/home/kata/anaconda3/lib/python3.7/site-packages/sklearn/linear_model/logistic.py:1510: UserWarning: Setting penalty='none' will ignore the C and l1_ratio parameters\n",
      "  \"Setting penalty='none' will ignore the C and l1_ratio \"\n",
      "/home/kata/anaconda3/lib/python3.7/site-packages/sklearn/linear_model/logistic.py:947: ConvergenceWarning: lbfgs failed to converge. Increase the number of iterations.\n",
      "  \"of iterations.\", ConvergenceWarning)\n",
      "/home/kata/anaconda3/lib/python3.7/site-packages/sklearn/linear_model/logistic.py:1510: UserWarning: Setting penalty='none' will ignore the C and l1_ratio parameters\n",
      "  \"Setting penalty='none' will ignore the C and l1_ratio \"\n",
      "/home/kata/anaconda3/lib/python3.7/site-packages/sklearn/linear_model/logistic.py:947: ConvergenceWarning: lbfgs failed to converge. Increase the number of iterations.\n",
      "  \"of iterations.\", ConvergenceWarning)\n",
      "/home/kata/anaconda3/lib/python3.7/site-packages/sklearn/linear_model/logistic.py:1510: UserWarning: Setting penalty='none' will ignore the C and l1_ratio parameters\n",
      "  \"Setting penalty='none' will ignore the C and l1_ratio \"\n",
      "/home/kata/anaconda3/lib/python3.7/site-packages/sklearn/linear_model/logistic.py:947: ConvergenceWarning: lbfgs failed to converge. Increase the number of iterations.\n",
      "  \"of iterations.\", ConvergenceWarning)\n",
      "/home/kata/anaconda3/lib/python3.7/site-packages/sklearn/linear_model/logistic.py:1510: UserWarning: Setting penalty='none' will ignore the C and l1_ratio parameters\n",
      "  \"Setting penalty='none' will ignore the C and l1_ratio \"\n",
      "/home/kata/anaconda3/lib/python3.7/site-packages/sklearn/linear_model/logistic.py:947: ConvergenceWarning: lbfgs failed to converge. Increase the number of iterations.\n",
      "  \"of iterations.\", ConvergenceWarning)\n",
      "/home/kata/anaconda3/lib/python3.7/site-packages/sklearn/linear_model/logistic.py:1510: UserWarning: Setting penalty='none' will ignore the C and l1_ratio parameters\n",
      "  \"Setting penalty='none' will ignore the C and l1_ratio \"\n",
      "/home/kata/anaconda3/lib/python3.7/site-packages/sklearn/linear_model/logistic.py:947: ConvergenceWarning: lbfgs failed to converge. Increase the number of iterations.\n",
      "  \"of iterations.\", ConvergenceWarning)\n",
      "/home/kata/anaconda3/lib/python3.7/site-packages/sklearn/linear_model/logistic.py:1510: UserWarning: Setting penalty='none' will ignore the C and l1_ratio parameters\n",
      "  \"Setting penalty='none' will ignore the C and l1_ratio \"\n",
      "/home/kata/anaconda3/lib/python3.7/site-packages/sklearn/linear_model/logistic.py:947: ConvergenceWarning: lbfgs failed to converge. Increase the number of iterations.\n",
      "  \"of iterations.\", ConvergenceWarning)\n",
      "/home/kata/anaconda3/lib/python3.7/site-packages/sklearn/linear_model/logistic.py:1510: UserWarning: Setting penalty='none' will ignore the C and l1_ratio parameters\n",
      "  \"Setting penalty='none' will ignore the C and l1_ratio \"\n",
      "/home/kata/anaconda3/lib/python3.7/site-packages/sklearn/linear_model/logistic.py:947: ConvergenceWarning: lbfgs failed to converge. Increase the number of iterations.\n",
      "  \"of iterations.\", ConvergenceWarning)\n",
      "/home/kata/anaconda3/lib/python3.7/site-packages/sklearn/linear_model/logistic.py:947: ConvergenceWarning: lbfgs failed to converge. Increase the number of iterations.\n",
      "  \"of iterations.\", ConvergenceWarning)\n",
      "/home/kata/anaconda3/lib/python3.7/site-packages/sklearn/linear_model/logistic.py:947: ConvergenceWarning: lbfgs failed to converge. Increase the number of iterations.\n",
      "  \"of iterations.\", ConvergenceWarning)\n",
      "/home/kata/anaconda3/lib/python3.7/site-packages/sklearn/linear_model/logistic.py:947: ConvergenceWarning: lbfgs failed to converge. Increase the number of iterations.\n",
      "  \"of iterations.\", ConvergenceWarning)\n",
      "/home/kata/anaconda3/lib/python3.7/site-packages/sklearn/linear_model/logistic.py:947: ConvergenceWarning: lbfgs failed to converge. Increase the number of iterations.\n",
      "  \"of iterations.\", ConvergenceWarning)\n",
      "/home/kata/anaconda3/lib/python3.7/site-packages/sklearn/linear_model/logistic.py:947: ConvergenceWarning: lbfgs failed to converge. Increase the number of iterations.\n",
      "  \"of iterations.\", ConvergenceWarning)\n",
      "/home/kata/anaconda3/lib/python3.7/site-packages/sklearn/linear_model/logistic.py:947: ConvergenceWarning: lbfgs failed to converge. Increase the number of iterations.\n",
      "  \"of iterations.\", ConvergenceWarning)\n"
     ]
    },
    {
     "name": "stdout",
     "output_type": "stream",
     "text": [
      "Best parameters set found on development set:\n",
      "{'C': 1.0, 'class_weight': 'balanced', 'penalty': 'l2', 'solver': 'lbfgs'}\n",
      "Grid scores on development set:\n",
      "0.714 (+/-0.011) for {'C': 0.1, 'class_weight': None, 'penalty': 'none', 'solver': 'lbfgs'}\n",
      "0.730 (+/-0.007) for {'C': 0.1, 'class_weight': None, 'penalty': 'l2', 'solver': 'lbfgs'}\n",
      "0.714 (+/-0.012) for {'C': 0.1, 'class_weight': 'balanced', 'penalty': 'none', 'solver': 'lbfgs'}\n",
      "0.730 (+/-0.008) for {'C': 0.1, 'class_weight': 'balanced', 'penalty': 'l2', 'solver': 'lbfgs'}\n",
      "0.714 (+/-0.011) for {'C': 0.5, 'class_weight': None, 'penalty': 'none', 'solver': 'lbfgs'}\n",
      "0.754 (+/-0.009) for {'C': 0.5, 'class_weight': None, 'penalty': 'l2', 'solver': 'lbfgs'}\n",
      "0.714 (+/-0.012) for {'C': 0.5, 'class_weight': 'balanced', 'penalty': 'none', 'solver': 'lbfgs'}\n",
      "0.754 (+/-0.006) for {'C': 0.5, 'class_weight': 'balanced', 'penalty': 'l2', 'solver': 'lbfgs'}\n",
      "0.714 (+/-0.011) for {'C': 1.0, 'class_weight': None, 'penalty': 'none', 'solver': 'lbfgs'}\n",
      "0.761 (+/-0.013) for {'C': 1.0, 'class_weight': None, 'penalty': 'l2', 'solver': 'lbfgs'}\n",
      "0.714 (+/-0.012) for {'C': 1.0, 'class_weight': 'balanced', 'penalty': 'none', 'solver': 'lbfgs'}\n",
      "0.761 (+/-0.015) for {'C': 1.0, 'class_weight': 'balanced', 'penalty': 'l2', 'solver': 'lbfgs'}\n",
      "\n",
      "-----------------------------------------------\n",
      "\n",
      "LOOSE\n",
      "# Tuning hyper-parameters for precision\n",
      "Support vector classifier: \n"
     ]
    },
    {
     "name": "stderr",
     "output_type": "stream",
     "text": [
      "/home/kata/anaconda3/lib/python3.7/site-packages/sklearn/model_selection/_split.py:1978: FutureWarning: The default value of cv will change from 3 to 5 in version 0.22. Specify it explicitly to silence this warning.\n",
      "  warnings.warn(CV_WARNING, FutureWarning)\n"
     ]
    },
    {
     "name": "stdout",
     "output_type": "stream",
     "text": [
      "Best parameters set found on development set:\n",
      "{'C': 10, 'gamma': 1, 'kernel': 'rbf'}\n",
      "Grid scores on development set:\n",
      "0.724 (+/-0.010) for {'C': 0.5, 'gamma': 0.1, 'kernel': 'rbf'}\n",
      "0.742 (+/-0.006) for {'C': 0.5, 'gamma': 1, 'kernel': 'rbf'}\n",
      "0.755 (+/-0.000) for {'C': 0.5, 'gamma': 10, 'kernel': 'rbf'}\n",
      "0.735 (+/-0.006) for {'C': 1, 'gamma': 0.1, 'kernel': 'rbf'}\n",
      "0.751 (+/-0.009) for {'C': 1, 'gamma': 1, 'kernel': 'rbf'}\n",
      "0.666 (+/-0.052) for {'C': 1, 'gamma': 10, 'kernel': 'rbf'}\n",
      "0.742 (+/-0.006) for {'C': 5, 'gamma': 0.1, 'kernel': 'rbf'}\n",
      "0.754 (+/-0.010) for {'C': 5, 'gamma': 1, 'kernel': 'rbf'}\n",
      "0.665 (+/-0.061) for {'C': 5, 'gamma': 10, 'kernel': 'rbf'}\n",
      "0.738 (+/-0.011) for {'C': 10, 'gamma': 0.1, 'kernel': 'rbf'}\n",
      "0.755 (+/-0.009) for {'C': 10, 'gamma': 1, 'kernel': 'rbf'}\n",
      "0.665 (+/-0.061) for {'C': 10, 'gamma': 10, 'kernel': 'rbf'}\n",
      "0.741 (+/-0.010) for {'C': 0.5, 'kernel': 'linear'}\n",
      "0.740 (+/-0.008) for {'C': 1, 'kernel': 'linear'}\n",
      "0.723 (+/-0.003) for {'C': 5, 'kernel': 'linear'}\n",
      "0.714 (+/-0.008) for {'C': 10, 'kernel': 'linear'}\n",
      "Naive Bayes classifier: \n"
     ]
    },
    {
     "name": "stderr",
     "output_type": "stream",
     "text": [
      "/home/kata/anaconda3/lib/python3.7/site-packages/sklearn/model_selection/_split.py:1978: FutureWarning: The default value of cv will change from 3 to 5 in version 0.22. Specify it explicitly to silence this warning.\n",
      "  warnings.warn(CV_WARNING, FutureWarning)\n",
      "/home/kata/anaconda3/lib/python3.7/site-packages/sklearn/naive_bayes.py:485: UserWarning: alpha too small will result in numeric errors, setting alpha = 1.0e-10\n",
      "  'setting alpha = %.1e' % _ALPHA_MIN)\n",
      "/home/kata/anaconda3/lib/python3.7/site-packages/sklearn/naive_bayes.py:485: UserWarning: alpha too small will result in numeric errors, setting alpha = 1.0e-10\n",
      "  'setting alpha = %.1e' % _ALPHA_MIN)\n",
      "/home/kata/anaconda3/lib/python3.7/site-packages/sklearn/naive_bayes.py:485: UserWarning: alpha too small will result in numeric errors, setting alpha = 1.0e-10\n",
      "  'setting alpha = %.1e' % _ALPHA_MIN)\n",
      "/home/kata/anaconda3/lib/python3.7/site-packages/sklearn/naive_bayes.py:485: UserWarning: alpha too small will result in numeric errors, setting alpha = 1.0e-10\n",
      "  'setting alpha = %.1e' % _ALPHA_MIN)\n",
      "/home/kata/anaconda3/lib/python3.7/site-packages/sklearn/naive_bayes.py:485: UserWarning: alpha too small will result in numeric errors, setting alpha = 1.0e-10\n",
      "  'setting alpha = %.1e' % _ALPHA_MIN)\n",
      "/home/kata/anaconda3/lib/python3.7/site-packages/sklearn/naive_bayes.py:485: UserWarning: alpha too small will result in numeric errors, setting alpha = 1.0e-10\n",
      "  'setting alpha = %.1e' % _ALPHA_MIN)\n"
     ]
    },
    {
     "name": "stdout",
     "output_type": "stream",
     "text": [
      "Best parameters set found on development set:\n",
      "{'alpha': 1, 'fit_prior': False}\n",
      "Grid scores on development set:\n",
      "0.698 (+/-0.008) for {'alpha': 0, 'fit_prior': True}\n",
      "0.698 (+/-0.006) for {'alpha': 0, 'fit_prior': False}\n",
      "0.746 (+/-0.015) for {'alpha': 1, 'fit_prior': True}\n",
      "0.748 (+/-0.015) for {'alpha': 1, 'fit_prior': False}\n",
      "0.709 (+/-0.013) for {'alpha': 100, 'fit_prior': True}\n",
      "0.710 (+/-0.013) for {'alpha': 100, 'fit_prior': False}\n",
      "Stochastic Gradient Descent classifier: \n"
     ]
    },
    {
     "name": "stderr",
     "output_type": "stream",
     "text": [
      "/home/kata/anaconda3/lib/python3.7/site-packages/sklearn/model_selection/_split.py:1978: FutureWarning: The default value of cv will change from 3 to 5 in version 0.22. Specify it explicitly to silence this warning.\n",
      "  warnings.warn(CV_WARNING, FutureWarning)\n",
      "/home/kata/anaconda3/lib/python3.7/site-packages/sklearn/linear_model/stochastic_gradient.py:561: ConvergenceWarning: Maximum number of iteration reached before convergence. Consider increasing max_iter to improve the fit.\n",
      "  ConvergenceWarning)\n"
     ]
    },
    {
     "name": "stdout",
     "output_type": "stream",
     "text": [
      "Best parameters set found on development set:\n",
      "{'loss': 'hinge', 'max_iter': 10, 'penalty': 'l2'}\n",
      "Grid scores on development set:\n",
      "0.740 (+/-0.017) for {'loss': 'hinge', 'max_iter': 5, 'penalty': 'l2'}\n",
      "0.738 (+/-0.005) for {'loss': 'hinge', 'max_iter': 5, 'penalty': 'l1'}\n",
      "0.740 (+/-0.007) for {'loss': 'hinge', 'max_iter': 10, 'penalty': 'l2'}\n",
      "0.740 (+/-0.008) for {'loss': 'hinge', 'max_iter': 10, 'penalty': 'l1'}\n",
      "0.696 (+/-0.011) for {'loss': 'perceptron', 'max_iter': 5, 'penalty': 'l2'}\n",
      "0.652 (+/-0.027) for {'loss': 'perceptron', 'max_iter': 5, 'penalty': 'l1'}\n",
      "0.698 (+/-0.014) for {'loss': 'perceptron', 'max_iter': 10, 'penalty': 'l2'}\n",
      "0.666 (+/-0.015) for {'loss': 'perceptron', 'max_iter': 10, 'penalty': 'l1'}\n",
      "0.732 (+/-0.008) for {'loss': 'modified_huber', 'max_iter': 5, 'penalty': 'l2'}\n",
      "0.712 (+/-0.022) for {'loss': 'modified_huber', 'max_iter': 5, 'penalty': 'l1'}\n",
      "0.732 (+/-0.009) for {'loss': 'modified_huber', 'max_iter': 10, 'penalty': 'l2'}\n",
      "0.715 (+/-0.011) for {'loss': 'modified_huber', 'max_iter': 10, 'penalty': 'l1'}\n",
      "Gradient Boosting classifier: \n"
     ]
    },
    {
     "name": "stderr",
     "output_type": "stream",
     "text": [
      "/home/kata/anaconda3/lib/python3.7/site-packages/sklearn/model_selection/_split.py:1978: FutureWarning: The default value of cv will change from 3 to 5 in version 0.22. Specify it explicitly to silence this warning.\n",
      "  warnings.warn(CV_WARNING, FutureWarning)\n"
     ]
    },
    {
     "name": "stdout",
     "output_type": "stream",
     "text": [
      "Best parameters set found on development set:\n",
      "{'learning_rate': 0.2, 'loss': 'exponential', 'max_depth': 10}\n",
      "Grid scores on development set:\n",
      "0.695 (+/-0.018) for {'learning_rate': 0.1, 'loss': 'deviance', 'max_depth': 3}\n",
      "0.706 (+/-0.017) for {'learning_rate': 0.1, 'loss': 'deviance', 'max_depth': 5}\n",
      "0.713 (+/-0.014) for {'learning_rate': 0.1, 'loss': 'deviance', 'max_depth': 10}\n",
      "0.693 (+/-0.014) for {'learning_rate': 0.1, 'loss': 'exponential', 'max_depth': 3}\n",
      "0.708 (+/-0.016) for {'learning_rate': 0.1, 'loss': 'exponential', 'max_depth': 5}\n",
      "0.716 (+/-0.018) for {'learning_rate': 0.1, 'loss': 'exponential', 'max_depth': 10}\n",
      "0.708 (+/-0.018) for {'learning_rate': 0.2, 'loss': 'deviance', 'max_depth': 3}\n",
      "0.716 (+/-0.008) for {'learning_rate': 0.2, 'loss': 'deviance', 'max_depth': 5}\n",
      "0.714 (+/-0.014) for {'learning_rate': 0.2, 'loss': 'deviance', 'max_depth': 10}\n",
      "0.710 (+/-0.018) for {'learning_rate': 0.2, 'loss': 'exponential', 'max_depth': 3}\n",
      "0.717 (+/-0.012) for {'learning_rate': 0.2, 'loss': 'exponential', 'max_depth': 5}\n",
      "0.717 (+/-0.011) for {'learning_rate': 0.2, 'loss': 'exponential', 'max_depth': 10}\n",
      "Decision Tree classifier: \n"
     ]
    },
    {
     "name": "stderr",
     "output_type": "stream",
     "text": [
      "/home/kata/anaconda3/lib/python3.7/site-packages/sklearn/model_selection/_split.py:1978: FutureWarning: The default value of cv will change from 3 to 5 in version 0.22. Specify it explicitly to silence this warning.\n",
      "  warnings.warn(CV_WARNING, FutureWarning)\n"
     ]
    },
    {
     "name": "stdout",
     "output_type": "stream",
     "text": [
      "Best parameters set found on development set:\n",
      "{'criterion': 'entropy', 'max_depth': 10, 'splitter': 'random'}\n",
      "Grid scores on development set:\n",
      "0.601 (+/-0.030) for {'criterion': 'gini', 'max_depth': 3, 'splitter': 'best'}\n",
      "0.589 (+/-0.017) for {'criterion': 'gini', 'max_depth': 3, 'splitter': 'random'}\n",
      "0.611 (+/-0.027) for {'criterion': 'gini', 'max_depth': 5, 'splitter': 'best'}\n",
      "0.614 (+/-0.029) for {'criterion': 'gini', 'max_depth': 5, 'splitter': 'random'}\n",
      "0.626 (+/-0.012) for {'criterion': 'gini', 'max_depth': 10, 'splitter': 'best'}\n",
      "0.614 (+/-0.021) for {'criterion': 'gini', 'max_depth': 10, 'splitter': 'random'}\n",
      "0.600 (+/-0.030) for {'criterion': 'entropy', 'max_depth': 3, 'splitter': 'best'}\n",
      "0.590 (+/-0.037) for {'criterion': 'entropy', 'max_depth': 3, 'splitter': 'random'}\n",
      "0.608 (+/-0.033) for {'criterion': 'entropy', 'max_depth': 5, 'splitter': 'best'}\n",
      "0.597 (+/-0.048) for {'criterion': 'entropy', 'max_depth': 5, 'splitter': 'random'}\n",
      "0.620 (+/-0.025) for {'criterion': 'entropy', 'max_depth': 10, 'splitter': 'best'}\n",
      "0.629 (+/-0.020) for {'criterion': 'entropy', 'max_depth': 10, 'splitter': 'random'}\n",
      "Logisic Regression classifier: \n"
     ]
    },
    {
     "name": "stderr",
     "output_type": "stream",
     "text": [
      "/home/kata/anaconda3/lib/python3.7/site-packages/sklearn/model_selection/_split.py:1978: FutureWarning: The default value of cv will change from 3 to 5 in version 0.22. Specify it explicitly to silence this warning.\n",
      "  warnings.warn(CV_WARNING, FutureWarning)\n",
      "/home/kata/anaconda3/lib/python3.7/site-packages/sklearn/linear_model/logistic.py:1510: UserWarning: Setting penalty='none' will ignore the C and l1_ratio parameters\n",
      "  \"Setting penalty='none' will ignore the C and l1_ratio \"\n",
      "/home/kata/anaconda3/lib/python3.7/site-packages/sklearn/linear_model/logistic.py:947: ConvergenceWarning: lbfgs failed to converge. Increase the number of iterations.\n",
      "  \"of iterations.\", ConvergenceWarning)\n",
      "/home/kata/anaconda3/lib/python3.7/site-packages/sklearn/linear_model/logistic.py:1510: UserWarning: Setting penalty='none' will ignore the C and l1_ratio parameters\n",
      "  \"Setting penalty='none' will ignore the C and l1_ratio \"\n",
      "/home/kata/anaconda3/lib/python3.7/site-packages/sklearn/linear_model/logistic.py:947: ConvergenceWarning: lbfgs failed to converge. Increase the number of iterations.\n",
      "  \"of iterations.\", ConvergenceWarning)\n",
      "/home/kata/anaconda3/lib/python3.7/site-packages/sklearn/linear_model/logistic.py:1510: UserWarning: Setting penalty='none' will ignore the C and l1_ratio parameters\n",
      "  \"Setting penalty='none' will ignore the C and l1_ratio \"\n",
      "/home/kata/anaconda3/lib/python3.7/site-packages/sklearn/linear_model/logistic.py:947: ConvergenceWarning: lbfgs failed to converge. Increase the number of iterations.\n",
      "  \"of iterations.\", ConvergenceWarning)\n",
      "/home/kata/anaconda3/lib/python3.7/site-packages/sklearn/linear_model/logistic.py:1510: UserWarning: Setting penalty='none' will ignore the C and l1_ratio parameters\n",
      "  \"Setting penalty='none' will ignore the C and l1_ratio \"\n",
      "/home/kata/anaconda3/lib/python3.7/site-packages/sklearn/linear_model/logistic.py:947: ConvergenceWarning: lbfgs failed to converge. Increase the number of iterations.\n",
      "  \"of iterations.\", ConvergenceWarning)\n",
      "/home/kata/anaconda3/lib/python3.7/site-packages/sklearn/linear_model/logistic.py:1510: UserWarning: Setting penalty='none' will ignore the C and l1_ratio parameters\n",
      "  \"Setting penalty='none' will ignore the C and l1_ratio \"\n",
      "/home/kata/anaconda3/lib/python3.7/site-packages/sklearn/linear_model/logistic.py:947: ConvergenceWarning: lbfgs failed to converge. Increase the number of iterations.\n",
      "  \"of iterations.\", ConvergenceWarning)\n",
      "/home/kata/anaconda3/lib/python3.7/site-packages/sklearn/linear_model/logistic.py:1510: UserWarning: Setting penalty='none' will ignore the C and l1_ratio parameters\n",
      "  \"Setting penalty='none' will ignore the C and l1_ratio \"\n",
      "/home/kata/anaconda3/lib/python3.7/site-packages/sklearn/linear_model/logistic.py:947: ConvergenceWarning: lbfgs failed to converge. Increase the number of iterations.\n",
      "  \"of iterations.\", ConvergenceWarning)\n",
      "/home/kata/anaconda3/lib/python3.7/site-packages/sklearn/linear_model/logistic.py:1510: UserWarning: Setting penalty='none' will ignore the C and l1_ratio parameters\n",
      "  \"Setting penalty='none' will ignore the C and l1_ratio \"\n",
      "/home/kata/anaconda3/lib/python3.7/site-packages/sklearn/linear_model/logistic.py:947: ConvergenceWarning: lbfgs failed to converge. Increase the number of iterations.\n",
      "  \"of iterations.\", ConvergenceWarning)\n",
      "/home/kata/anaconda3/lib/python3.7/site-packages/sklearn/linear_model/logistic.py:1510: UserWarning: Setting penalty='none' will ignore the C and l1_ratio parameters\n",
      "  \"Setting penalty='none' will ignore the C and l1_ratio \"\n",
      "/home/kata/anaconda3/lib/python3.7/site-packages/sklearn/linear_model/logistic.py:947: ConvergenceWarning: lbfgs failed to converge. Increase the number of iterations.\n",
      "  \"of iterations.\", ConvergenceWarning)\n",
      "/home/kata/anaconda3/lib/python3.7/site-packages/sklearn/linear_model/logistic.py:1510: UserWarning: Setting penalty='none' will ignore the C and l1_ratio parameters\n",
      "  \"Setting penalty='none' will ignore the C and l1_ratio \"\n",
      "/home/kata/anaconda3/lib/python3.7/site-packages/sklearn/linear_model/logistic.py:947: ConvergenceWarning: lbfgs failed to converge. Increase the number of iterations.\n",
      "  \"of iterations.\", ConvergenceWarning)\n",
      "/home/kata/anaconda3/lib/python3.7/site-packages/sklearn/linear_model/logistic.py:1510: UserWarning: Setting penalty='none' will ignore the C and l1_ratio parameters\n",
      "  \"Setting penalty='none' will ignore the C and l1_ratio \"\n",
      "/home/kata/anaconda3/lib/python3.7/site-packages/sklearn/linear_model/logistic.py:947: ConvergenceWarning: lbfgs failed to converge. Increase the number of iterations.\n",
      "  \"of iterations.\", ConvergenceWarning)\n",
      "/home/kata/anaconda3/lib/python3.7/site-packages/sklearn/linear_model/logistic.py:1510: UserWarning: Setting penalty='none' will ignore the C and l1_ratio parameters\n",
      "  \"Setting penalty='none' will ignore the C and l1_ratio \"\n",
      "/home/kata/anaconda3/lib/python3.7/site-packages/sklearn/linear_model/logistic.py:947: ConvergenceWarning: lbfgs failed to converge. Increase the number of iterations.\n",
      "  \"of iterations.\", ConvergenceWarning)\n",
      "/home/kata/anaconda3/lib/python3.7/site-packages/sklearn/linear_model/logistic.py:1510: UserWarning: Setting penalty='none' will ignore the C and l1_ratio parameters\n",
      "  \"Setting penalty='none' will ignore the C and l1_ratio \"\n",
      "/home/kata/anaconda3/lib/python3.7/site-packages/sklearn/linear_model/logistic.py:947: ConvergenceWarning: lbfgs failed to converge. Increase the number of iterations.\n",
      "  \"of iterations.\", ConvergenceWarning)\n",
      "/home/kata/anaconda3/lib/python3.7/site-packages/sklearn/linear_model/logistic.py:947: ConvergenceWarning: lbfgs failed to converge. Increase the number of iterations.\n",
      "  \"of iterations.\", ConvergenceWarning)\n",
      "/home/kata/anaconda3/lib/python3.7/site-packages/sklearn/linear_model/logistic.py:947: ConvergenceWarning: lbfgs failed to converge. Increase the number of iterations.\n",
      "  \"of iterations.\", ConvergenceWarning)\n",
      "/home/kata/anaconda3/lib/python3.7/site-packages/sklearn/linear_model/logistic.py:947: ConvergenceWarning: lbfgs failed to converge. Increase the number of iterations.\n",
      "  \"of iterations.\", ConvergenceWarning)\n",
      "/home/kata/anaconda3/lib/python3.7/site-packages/sklearn/linear_model/logistic.py:947: ConvergenceWarning: lbfgs failed to converge. Increase the number of iterations.\n",
      "  \"of iterations.\", ConvergenceWarning)\n",
      "/home/kata/anaconda3/lib/python3.7/site-packages/sklearn/linear_model/logistic.py:947: ConvergenceWarning: lbfgs failed to converge. Increase the number of iterations.\n",
      "  \"of iterations.\", ConvergenceWarning)\n",
      "/home/kata/anaconda3/lib/python3.7/site-packages/sklearn/linear_model/logistic.py:947: ConvergenceWarning: lbfgs failed to converge. Increase the number of iterations.\n",
      "  \"of iterations.\", ConvergenceWarning)\n"
     ]
    },
    {
     "name": "stdout",
     "output_type": "stream",
     "text": [
      "Best parameters set found on development set:\n",
      "{'C': 1.0, 'class_weight': None, 'penalty': 'l2', 'solver': 'lbfgs'}\n",
      "Grid scores on development set:\n",
      "0.681 (+/-0.011) for {'C': 0.1, 'class_weight': None, 'penalty': 'none', 'solver': 'lbfgs'}\n",
      "0.717 (+/-0.005) for {'C': 0.1, 'class_weight': None, 'penalty': 'l2', 'solver': 'lbfgs'}\n",
      "0.684 (+/-0.013) for {'C': 0.1, 'class_weight': 'balanced', 'penalty': 'none', 'solver': 'lbfgs'}\n",
      "0.721 (+/-0.008) for {'C': 0.1, 'class_weight': 'balanced', 'penalty': 'l2', 'solver': 'lbfgs'}\n",
      "0.681 (+/-0.011) for {'C': 0.5, 'class_weight': None, 'penalty': 'none', 'solver': 'lbfgs'}\n",
      "0.739 (+/-0.006) for {'C': 0.5, 'class_weight': None, 'penalty': 'l2', 'solver': 'lbfgs'}\n",
      "0.684 (+/-0.013) for {'C': 0.5, 'class_weight': 'balanced', 'penalty': 'none', 'solver': 'lbfgs'}\n",
      "0.739 (+/-0.009) for {'C': 0.5, 'class_weight': 'balanced', 'penalty': 'l2', 'solver': 'lbfgs'}\n",
      "0.681 (+/-0.011) for {'C': 1.0, 'class_weight': None, 'penalty': 'none', 'solver': 'lbfgs'}\n",
      "0.746 (+/-0.009) for {'C': 1.0, 'class_weight': None, 'penalty': 'l2', 'solver': 'lbfgs'}\n",
      "0.684 (+/-0.013) for {'C': 1.0, 'class_weight': 'balanced', 'penalty': 'none', 'solver': 'lbfgs'}\n",
      "0.745 (+/-0.009) for {'C': 1.0, 'class_weight': 'balanced', 'penalty': 'l2', 'solver': 'lbfgs'}\n",
      "# Tuning hyper-parameters for recall\n",
      "Support vector classifier: \n"
     ]
    },
    {
     "name": "stderr",
     "output_type": "stream",
     "text": [
      "/home/kata/anaconda3/lib/python3.7/site-packages/sklearn/model_selection/_split.py:1978: FutureWarning: The default value of cv will change from 3 to 5 in version 0.22. Specify it explicitly to silence this warning.\n",
      "  warnings.warn(CV_WARNING, FutureWarning)\n"
     ]
    },
    {
     "name": "stdout",
     "output_type": "stream",
     "text": [
      "Best parameters set found on development set:\n",
      "{'C': 10, 'gamma': 1, 'kernel': 'rbf'}\n",
      "Grid scores on development set:\n",
      "0.717 (+/-0.011) for {'C': 0.5, 'gamma': 0.1, 'kernel': 'rbf'}\n",
      "0.740 (+/-0.003) for {'C': 0.5, 'gamma': 1, 'kernel': 'rbf'}\n",
      "0.501 (+/-0.001) for {'C': 0.5, 'gamma': 10, 'kernel': 'rbf'}\n",
      "0.732 (+/-0.002) for {'C': 1, 'gamma': 0.1, 'kernel': 'rbf'}\n",
      "0.750 (+/-0.008) for {'C': 1, 'gamma': 1, 'kernel': 'rbf'}\n",
      "0.505 (+/-0.001) for {'C': 1, 'gamma': 10, 'kernel': 'rbf'}\n",
      "0.742 (+/-0.006) for {'C': 5, 'gamma': 0.1, 'kernel': 'rbf'}\n",
      "0.754 (+/-0.010) for {'C': 5, 'gamma': 1, 'kernel': 'rbf'}\n",
      "0.505 (+/-0.001) for {'C': 5, 'gamma': 10, 'kernel': 'rbf'}\n",
      "0.738 (+/-0.012) for {'C': 10, 'gamma': 0.1, 'kernel': 'rbf'}\n",
      "0.755 (+/-0.009) for {'C': 10, 'gamma': 1, 'kernel': 'rbf'}\n",
      "0.505 (+/-0.001) for {'C': 10, 'gamma': 10, 'kernel': 'rbf'}\n",
      "0.740 (+/-0.009) for {'C': 0.5, 'kernel': 'linear'}\n",
      "0.740 (+/-0.008) for {'C': 1, 'kernel': 'linear'}\n",
      "0.722 (+/-0.003) for {'C': 5, 'kernel': 'linear'}\n",
      "0.713 (+/-0.009) for {'C': 10, 'kernel': 'linear'}\n",
      "Naive Bayes classifier: \n"
     ]
    },
    {
     "name": "stderr",
     "output_type": "stream",
     "text": [
      "/home/kata/anaconda3/lib/python3.7/site-packages/sklearn/model_selection/_split.py:1978: FutureWarning: The default value of cv will change from 3 to 5 in version 0.22. Specify it explicitly to silence this warning.\n",
      "  warnings.warn(CV_WARNING, FutureWarning)\n",
      "/home/kata/anaconda3/lib/python3.7/site-packages/sklearn/naive_bayes.py:485: UserWarning: alpha too small will result in numeric errors, setting alpha = 1.0e-10\n",
      "  'setting alpha = %.1e' % _ALPHA_MIN)\n",
      "/home/kata/anaconda3/lib/python3.7/site-packages/sklearn/naive_bayes.py:485: UserWarning: alpha too small will result in numeric errors, setting alpha = 1.0e-10\n",
      "  'setting alpha = %.1e' % _ALPHA_MIN)\n",
      "/home/kata/anaconda3/lib/python3.7/site-packages/sklearn/naive_bayes.py:485: UserWarning: alpha too small will result in numeric errors, setting alpha = 1.0e-10\n",
      "  'setting alpha = %.1e' % _ALPHA_MIN)\n",
      "/home/kata/anaconda3/lib/python3.7/site-packages/sklearn/naive_bayes.py:485: UserWarning: alpha too small will result in numeric errors, setting alpha = 1.0e-10\n",
      "  'setting alpha = %.1e' % _ALPHA_MIN)\n",
      "/home/kata/anaconda3/lib/python3.7/site-packages/sklearn/naive_bayes.py:485: UserWarning: alpha too small will result in numeric errors, setting alpha = 1.0e-10\n",
      "  'setting alpha = %.1e' % _ALPHA_MIN)\n",
      "/home/kata/anaconda3/lib/python3.7/site-packages/sklearn/naive_bayes.py:485: UserWarning: alpha too small will result in numeric errors, setting alpha = 1.0e-10\n",
      "  'setting alpha = %.1e' % _ALPHA_MIN)\n"
     ]
    },
    {
     "name": "stdout",
     "output_type": "stream",
     "text": [
      "Best parameters set found on development set:\n",
      "{'alpha': 1, 'fit_prior': False}\n",
      "Grid scores on development set:\n",
      "0.698 (+/-0.008) for {'alpha': 0, 'fit_prior': True}\n",
      "0.698 (+/-0.006) for {'alpha': 0, 'fit_prior': False}\n",
      "0.744 (+/-0.016) for {'alpha': 1, 'fit_prior': True}\n",
      "0.747 (+/-0.015) for {'alpha': 1, 'fit_prior': False}\n",
      "0.620 (+/-0.019) for {'alpha': 100, 'fit_prior': True}\n",
      "0.687 (+/-0.018) for {'alpha': 100, 'fit_prior': False}\n",
      "Stochastic Gradient Descent classifier: \n"
     ]
    },
    {
     "name": "stderr",
     "output_type": "stream",
     "text": [
      "/home/kata/anaconda3/lib/python3.7/site-packages/sklearn/model_selection/_split.py:1978: FutureWarning: The default value of cv will change from 3 to 5 in version 0.22. Specify it explicitly to silence this warning.\n",
      "  warnings.warn(CV_WARNING, FutureWarning)\n",
      "/home/kata/anaconda3/lib/python3.7/site-packages/sklearn/linear_model/stochastic_gradient.py:561: ConvergenceWarning: Maximum number of iteration reached before convergence. Consider increasing max_iter to improve the fit.\n",
      "  ConvergenceWarning)\n"
     ]
    },
    {
     "name": "stdout",
     "output_type": "stream",
     "text": [
      "Best parameters set found on development set:\n",
      "{'loss': 'hinge', 'max_iter': 10, 'penalty': 'l1'}\n",
      "Grid scores on development set:\n",
      "0.738 (+/-0.008) for {'loss': 'hinge', 'max_iter': 5, 'penalty': 'l2'}\n",
      "0.735 (+/-0.003) for {'loss': 'hinge', 'max_iter': 5, 'penalty': 'l1'}\n",
      "0.739 (+/-0.009) for {'loss': 'hinge', 'max_iter': 10, 'penalty': 'l2'}\n",
      "0.739 (+/-0.009) for {'loss': 'hinge', 'max_iter': 10, 'penalty': 'l1'}\n",
      "0.693 (+/-0.020) for {'loss': 'perceptron', 'max_iter': 5, 'penalty': 'l2'}\n",
      "0.648 (+/-0.017) for {'loss': 'perceptron', 'max_iter': 5, 'penalty': 'l1'}\n",
      "0.694 (+/-0.025) for {'loss': 'perceptron', 'max_iter': 10, 'penalty': 'l2'}\n",
      "0.646 (+/-0.056) for {'loss': 'perceptron', 'max_iter': 10, 'penalty': 'l1'}\n",
      "0.728 (+/-0.005) for {'loss': 'modified_huber', 'max_iter': 5, 'penalty': 'l2'}\n",
      "0.706 (+/-0.011) for {'loss': 'modified_huber', 'max_iter': 5, 'penalty': 'l1'}\n",
      "0.732 (+/-0.005) for {'loss': 'modified_huber', 'max_iter': 10, 'penalty': 'l2'}\n",
      "0.712 (+/-0.000) for {'loss': 'modified_huber', 'max_iter': 10, 'penalty': 'l1'}\n",
      "Gradient Boosting classifier: \n"
     ]
    },
    {
     "name": "stderr",
     "output_type": "stream",
     "text": [
      "/home/kata/anaconda3/lib/python3.7/site-packages/sklearn/model_selection/_split.py:1978: FutureWarning: The default value of cv will change from 3 to 5 in version 0.22. Specify it explicitly to silence this warning.\n",
      "  warnings.warn(CV_WARNING, FutureWarning)\n"
     ]
    },
    {
     "name": "stdout",
     "output_type": "stream",
     "text": [
      "Best parameters set found on development set:\n",
      "{'learning_rate': 0.2, 'loss': 'exponential', 'max_depth': 5}\n",
      "Grid scores on development set:\n",
      "0.693 (+/-0.009) for {'learning_rate': 0.1, 'loss': 'deviance', 'max_depth': 3}\n",
      "0.704 (+/-0.010) for {'learning_rate': 0.1, 'loss': 'deviance', 'max_depth': 5}\n",
      "0.711 (+/-0.010) for {'learning_rate': 0.1, 'loss': 'deviance', 'max_depth': 10}\n",
      "0.691 (+/-0.007) for {'learning_rate': 0.1, 'loss': 'exponential', 'max_depth': 3}\n",
      "0.704 (+/-0.009) for {'learning_rate': 0.1, 'loss': 'exponential', 'max_depth': 5}\n",
      "0.714 (+/-0.013) for {'learning_rate': 0.1, 'loss': 'exponential', 'max_depth': 10}\n",
      "0.708 (+/-0.015) for {'learning_rate': 0.2, 'loss': 'deviance', 'max_depth': 3}\n",
      "0.717 (+/-0.016) for {'learning_rate': 0.2, 'loss': 'deviance', 'max_depth': 5}\n",
      "0.713 (+/-0.010) for {'learning_rate': 0.2, 'loss': 'deviance', 'max_depth': 10}\n",
      "0.709 (+/-0.013) for {'learning_rate': 0.2, 'loss': 'exponential', 'max_depth': 3}\n",
      "0.718 (+/-0.013) for {'learning_rate': 0.2, 'loss': 'exponential', 'max_depth': 5}\n",
      "0.715 (+/-0.019) for {'learning_rate': 0.2, 'loss': 'exponential', 'max_depth': 10}\n",
      "Decision Tree classifier: \n"
     ]
    },
    {
     "name": "stderr",
     "output_type": "stream",
     "text": [
      "/home/kata/anaconda3/lib/python3.7/site-packages/sklearn/model_selection/_split.py:1978: FutureWarning: The default value of cv will change from 3 to 5 in version 0.22. Specify it explicitly to silence this warning.\n",
      "  warnings.warn(CV_WARNING, FutureWarning)\n"
     ]
    },
    {
     "name": "stdout",
     "output_type": "stream",
     "text": [
      "Best parameters set found on development set:\n",
      "{'criterion': 'gini', 'max_depth': 10, 'splitter': 'best'}\n",
      "Grid scores on development set:\n",
      "0.578 (+/-0.010) for {'criterion': 'gini', 'max_depth': 3, 'splitter': 'best'}\n",
      "0.584 (+/-0.056) for {'criterion': 'gini', 'max_depth': 3, 'splitter': 'random'}\n",
      "0.598 (+/-0.018) for {'criterion': 'gini', 'max_depth': 5, 'splitter': 'best'}\n",
      "0.573 (+/-0.054) for {'criterion': 'gini', 'max_depth': 5, 'splitter': 'random'}\n",
      "0.614 (+/-0.004) for {'criterion': 'gini', 'max_depth': 10, 'splitter': 'best'}\n",
      "0.600 (+/-0.024) for {'criterion': 'gini', 'max_depth': 10, 'splitter': 'random'}\n",
      "0.577 (+/-0.010) for {'criterion': 'entropy', 'max_depth': 3, 'splitter': 'best'}\n",
      "0.568 (+/-0.016) for {'criterion': 'entropy', 'max_depth': 3, 'splitter': 'random'}\n",
      "0.590 (+/-0.021) for {'criterion': 'entropy', 'max_depth': 5, 'splitter': 'best'}\n",
      "0.584 (+/-0.011) for {'criterion': 'entropy', 'max_depth': 5, 'splitter': 'random'}\n",
      "0.604 (+/-0.015) for {'criterion': 'entropy', 'max_depth': 10, 'splitter': 'best'}\n",
      "0.610 (+/-0.032) for {'criterion': 'entropy', 'max_depth': 10, 'splitter': 'random'}\n",
      "Logisic Regression classifier: \n"
     ]
    },
    {
     "name": "stderr",
     "output_type": "stream",
     "text": [
      "/home/kata/anaconda3/lib/python3.7/site-packages/sklearn/model_selection/_split.py:1978: FutureWarning: The default value of cv will change from 3 to 5 in version 0.22. Specify it explicitly to silence this warning.\n",
      "  warnings.warn(CV_WARNING, FutureWarning)\n",
      "/home/kata/anaconda3/lib/python3.7/site-packages/sklearn/linear_model/logistic.py:1510: UserWarning: Setting penalty='none' will ignore the C and l1_ratio parameters\n",
      "  \"Setting penalty='none' will ignore the C and l1_ratio \"\n",
      "/home/kata/anaconda3/lib/python3.7/site-packages/sklearn/linear_model/logistic.py:947: ConvergenceWarning: lbfgs failed to converge. Increase the number of iterations.\n",
      "  \"of iterations.\", ConvergenceWarning)\n",
      "/home/kata/anaconda3/lib/python3.7/site-packages/sklearn/linear_model/logistic.py:1510: UserWarning: Setting penalty='none' will ignore the C and l1_ratio parameters\n",
      "  \"Setting penalty='none' will ignore the C and l1_ratio \"\n",
      "/home/kata/anaconda3/lib/python3.7/site-packages/sklearn/linear_model/logistic.py:947: ConvergenceWarning: lbfgs failed to converge. Increase the number of iterations.\n",
      "  \"of iterations.\", ConvergenceWarning)\n",
      "/home/kata/anaconda3/lib/python3.7/site-packages/sklearn/linear_model/logistic.py:1510: UserWarning: Setting penalty='none' will ignore the C and l1_ratio parameters\n",
      "  \"Setting penalty='none' will ignore the C and l1_ratio \"\n",
      "/home/kata/anaconda3/lib/python3.7/site-packages/sklearn/linear_model/logistic.py:947: ConvergenceWarning: lbfgs failed to converge. Increase the number of iterations.\n",
      "  \"of iterations.\", ConvergenceWarning)\n",
      "/home/kata/anaconda3/lib/python3.7/site-packages/sklearn/linear_model/logistic.py:1510: UserWarning: Setting penalty='none' will ignore the C and l1_ratio parameters\n",
      "  \"Setting penalty='none' will ignore the C and l1_ratio \"\n",
      "/home/kata/anaconda3/lib/python3.7/site-packages/sklearn/linear_model/logistic.py:947: ConvergenceWarning: lbfgs failed to converge. Increase the number of iterations.\n",
      "  \"of iterations.\", ConvergenceWarning)\n",
      "/home/kata/anaconda3/lib/python3.7/site-packages/sklearn/linear_model/logistic.py:1510: UserWarning: Setting penalty='none' will ignore the C and l1_ratio parameters\n",
      "  \"Setting penalty='none' will ignore the C and l1_ratio \"\n",
      "/home/kata/anaconda3/lib/python3.7/site-packages/sklearn/linear_model/logistic.py:947: ConvergenceWarning: lbfgs failed to converge. Increase the number of iterations.\n",
      "  \"of iterations.\", ConvergenceWarning)\n",
      "/home/kata/anaconda3/lib/python3.7/site-packages/sklearn/linear_model/logistic.py:1510: UserWarning: Setting penalty='none' will ignore the C and l1_ratio parameters\n",
      "  \"Setting penalty='none' will ignore the C and l1_ratio \"\n",
      "/home/kata/anaconda3/lib/python3.7/site-packages/sklearn/linear_model/logistic.py:947: ConvergenceWarning: lbfgs failed to converge. Increase the number of iterations.\n",
      "  \"of iterations.\", ConvergenceWarning)\n",
      "/home/kata/anaconda3/lib/python3.7/site-packages/sklearn/linear_model/logistic.py:1510: UserWarning: Setting penalty='none' will ignore the C and l1_ratio parameters\n",
      "  \"Setting penalty='none' will ignore the C and l1_ratio \"\n",
      "/home/kata/anaconda3/lib/python3.7/site-packages/sklearn/linear_model/logistic.py:947: ConvergenceWarning: lbfgs failed to converge. Increase the number of iterations.\n",
      "  \"of iterations.\", ConvergenceWarning)\n",
      "/home/kata/anaconda3/lib/python3.7/site-packages/sklearn/linear_model/logistic.py:1510: UserWarning: Setting penalty='none' will ignore the C and l1_ratio parameters\n",
      "  \"Setting penalty='none' will ignore the C and l1_ratio \"\n",
      "/home/kata/anaconda3/lib/python3.7/site-packages/sklearn/linear_model/logistic.py:947: ConvergenceWarning: lbfgs failed to converge. Increase the number of iterations.\n",
      "  \"of iterations.\", ConvergenceWarning)\n",
      "/home/kata/anaconda3/lib/python3.7/site-packages/sklearn/linear_model/logistic.py:1510: UserWarning: Setting penalty='none' will ignore the C and l1_ratio parameters\n",
      "  \"Setting penalty='none' will ignore the C and l1_ratio \"\n",
      "/home/kata/anaconda3/lib/python3.7/site-packages/sklearn/linear_model/logistic.py:947: ConvergenceWarning: lbfgs failed to converge. Increase the number of iterations.\n",
      "  \"of iterations.\", ConvergenceWarning)\n",
      "/home/kata/anaconda3/lib/python3.7/site-packages/sklearn/linear_model/logistic.py:1510: UserWarning: Setting penalty='none' will ignore the C and l1_ratio parameters\n",
      "  \"Setting penalty='none' will ignore the C and l1_ratio \"\n",
      "/home/kata/anaconda3/lib/python3.7/site-packages/sklearn/linear_model/logistic.py:947: ConvergenceWarning: lbfgs failed to converge. Increase the number of iterations.\n",
      "  \"of iterations.\", ConvergenceWarning)\n",
      "/home/kata/anaconda3/lib/python3.7/site-packages/sklearn/linear_model/logistic.py:1510: UserWarning: Setting penalty='none' will ignore the C and l1_ratio parameters\n",
      "  \"Setting penalty='none' will ignore the C and l1_ratio \"\n",
      "/home/kata/anaconda3/lib/python3.7/site-packages/sklearn/linear_model/logistic.py:947: ConvergenceWarning: lbfgs failed to converge. Increase the number of iterations.\n",
      "  \"of iterations.\", ConvergenceWarning)\n",
      "/home/kata/anaconda3/lib/python3.7/site-packages/sklearn/linear_model/logistic.py:1510: UserWarning: Setting penalty='none' will ignore the C and l1_ratio parameters\n",
      "  \"Setting penalty='none' will ignore the C and l1_ratio \"\n",
      "/home/kata/anaconda3/lib/python3.7/site-packages/sklearn/linear_model/logistic.py:947: ConvergenceWarning: lbfgs failed to converge. Increase the number of iterations.\n",
      "  \"of iterations.\", ConvergenceWarning)\n",
      "/home/kata/anaconda3/lib/python3.7/site-packages/sklearn/linear_model/logistic.py:947: ConvergenceWarning: lbfgs failed to converge. Increase the number of iterations.\n",
      "  \"of iterations.\", ConvergenceWarning)\n",
      "/home/kata/anaconda3/lib/python3.7/site-packages/sklearn/linear_model/logistic.py:947: ConvergenceWarning: lbfgs failed to converge. Increase the number of iterations.\n",
      "  \"of iterations.\", ConvergenceWarning)\n",
      "/home/kata/anaconda3/lib/python3.7/site-packages/sklearn/linear_model/logistic.py:947: ConvergenceWarning: lbfgs failed to converge. Increase the number of iterations.\n",
      "  \"of iterations.\", ConvergenceWarning)\n",
      "/home/kata/anaconda3/lib/python3.7/site-packages/sklearn/linear_model/logistic.py:947: ConvergenceWarning: lbfgs failed to converge. Increase the number of iterations.\n",
      "  \"of iterations.\", ConvergenceWarning)\n",
      "/home/kata/anaconda3/lib/python3.7/site-packages/sklearn/linear_model/logistic.py:947: ConvergenceWarning: lbfgs failed to converge. Increase the number of iterations.\n",
      "  \"of iterations.\", ConvergenceWarning)\n",
      "/home/kata/anaconda3/lib/python3.7/site-packages/sklearn/linear_model/logistic.py:947: ConvergenceWarning: lbfgs failed to converge. Increase the number of iterations.\n",
      "  \"of iterations.\", ConvergenceWarning)\n"
     ]
    },
    {
     "name": "stdout",
     "output_type": "stream",
     "text": [
      "Best parameters set found on development set:\n",
      "{'C': 1.0, 'class_weight': None, 'penalty': 'l2', 'solver': 'lbfgs'}\n",
      "Grid scores on development set:\n",
      "0.681 (+/-0.011) for {'C': 0.1, 'class_weight': None, 'penalty': 'none', 'solver': 'lbfgs'}\n",
      "0.715 (+/-0.003) for {'C': 0.1, 'class_weight': None, 'penalty': 'l2', 'solver': 'lbfgs'}\n",
      "0.683 (+/-0.013) for {'C': 0.1, 'class_weight': 'balanced', 'penalty': 'none', 'solver': 'lbfgs'}\n",
      "0.716 (+/-0.007) for {'C': 0.1, 'class_weight': 'balanced', 'penalty': 'l2', 'solver': 'lbfgs'}\n",
      "0.681 (+/-0.011) for {'C': 0.5, 'class_weight': None, 'penalty': 'none', 'solver': 'lbfgs'}\n",
      "0.738 (+/-0.005) for {'C': 0.5, 'class_weight': None, 'penalty': 'l2', 'solver': 'lbfgs'}\n",
      "0.683 (+/-0.013) for {'C': 0.5, 'class_weight': 'balanced', 'penalty': 'none', 'solver': 'lbfgs'}\n",
      "0.737 (+/-0.006) for {'C': 0.5, 'class_weight': 'balanced', 'penalty': 'l2', 'solver': 'lbfgs'}\n",
      "0.681 (+/-0.011) for {'C': 1.0, 'class_weight': None, 'penalty': 'none', 'solver': 'lbfgs'}\n",
      "0.745 (+/-0.009) for {'C': 1.0, 'class_weight': None, 'penalty': 'l2', 'solver': 'lbfgs'}\n",
      "0.683 (+/-0.013) for {'C': 1.0, 'class_weight': 'balanced', 'penalty': 'none', 'solver': 'lbfgs'}\n",
      "0.744 (+/-0.007) for {'C': 1.0, 'class_weight': 'balanced', 'penalty': 'l2', 'solver': 'lbfgs'}\n"
     ]
    }
   ],
   "source": [
    "print(\"STRICT\")\n",
    "print()\n",
    "GSCV(X_s_trans, Y_strict, scores, tuned_parameters_SVC, tuned_parameters_NB, \n",
    "     tuned_parameters_SGD, tuned_parameters_GB, tuned_parameters_DT,\n",
    "     tuned_parameters_LR)\n",
    "print()\n",
    "print('-----------------------------------------------')\n",
    "print()\n",
    "print(\"LOOSE\")\n",
    "GSCV(X_l_trans, Y_lose, scores, tuned_parameters_SVC, tuned_parameters_NB, \n",
    "     tuned_parameters_SGD, tuned_parameters_GB, tuned_parameters_DT,\n",
    "     tuned_parameters_LR)"
   ]
  },
  {
   "cell_type": "code",
   "execution_count": 168,
   "metadata": {},
   "outputs": [
    {
     "name": "stdout",
     "output_type": "stream",
     "text": [
      "Dont be fooled by Leavers saying Remain have it in the bag! Please make sure you vote! Vote Remain #VoteRemain Its common sense #StrongerIn\n",
      "Nope, not changed my mind. Brexit please...\n"
     ]
    }
   ],
   "source": [
    "print(X_strict[2654])\n",
    "print(X_strict[7458])"
   ]
  },
  {
   "cell_type": "code",
   "execution_count": 343,
   "metadata": {},
   "outputs": [],
   "source": [
    "# build a pipeline using the final classifer SVC\n",
    "pipeline = make_pipeline(\n",
    "    TfidfVectorizer(),\n",
    "    SVC(C=5,gamma=1,kernel='rbf'))\n",
    "\n",
    "#training using the final classifer (strict data)\n",
    "strict = pipeline.fit(X_strict, Y_strict);"
   ]
  },
  {
   "cell_type": "code",
   "execution_count": 344,
   "metadata": {},
   "outputs": [
    {
     "data": {
      "text/html": [
       "<div>\n",
       "<style scoped>\n",
       "    .dataframe tbody tr th:only-of-type {\n",
       "        vertical-align: middle;\n",
       "    }\n",
       "\n",
       "    .dataframe tbody tr th {\n",
       "        vertical-align: top;\n",
       "    }\n",
       "\n",
       "    .dataframe thead th {\n",
       "        text-align: right;\n",
       "    }\n",
       "</style>\n",
       "<table border=\"1\" class=\"dataframe\">\n",
       "  <thead>\n",
       "    <tr style=\"text-align: right;\">\n",
       "      <th></th>\n",
       "      <th>Annotation</th>\n",
       "      <th>Comment</th>\n",
       "    </tr>\n",
       "  </thead>\n",
       "  <tbody>\n",
       "    <tr>\n",
       "      <td>0</td>\n",
       "      <td>0</td>\n",
       "      <td>I didn't think about the business side - Every...</td>\n",
       "    </tr>\n",
       "    <tr>\n",
       "      <td>1</td>\n",
       "      <td>0</td>\n",
       "      <td>I had to trigger Article 50. It would have bee...</td>\n",
       "    </tr>\n",
       "    <tr>\n",
       "      <td>2</td>\n",
       "      <td>0</td>\n",
       "      <td>Uh we want to leave the EU but we want to keep...</td>\n",
       "    </tr>\n",
       "    <tr>\n",
       "      <td>3</td>\n",
       "      <td>1</td>\n",
       "      <td>#DeathtotheEU oh wow I really hate the #EU Wha...</td>\n",
       "    </tr>\n",
       "    <tr>\n",
       "      <td>4</td>\n",
       "      <td>1</td>\n",
       "      <td>#IVotedLeave and I hope you did too! #EUref le...</td>\n",
       "    </tr>\n",
       "  </tbody>\n",
       "</table>\n",
       "</div>"
      ],
      "text/plain": [
       "   Annotation                                            Comment\n",
       "0           0  I didn't think about the business side - Every...\n",
       "1           0  I had to trigger Article 50. It would have bee...\n",
       "2           0  Uh we want to leave the EU but we want to keep...\n",
       "3           1  #DeathtotheEU oh wow I really hate the #EU Wha...\n",
       "4           1  #IVotedLeave and I hope you did too! #EUref le..."
      ]
     },
     "execution_count": 344,
     "metadata": {},
     "output_type": "execute_result"
    }
   ],
   "source": [
    "#loading the test set\n",
    "df_ts = pd.read_csv('a2a_test_final.tsv', sep = '\\t', header=None, names=['Annotation', 'Comment'])\n",
    "df_ts.head()"
   ]
  },
  {
   "cell_type": "code",
   "execution_count": 346,
   "metadata": {},
   "outputs": [],
   "source": [
    "#convert test data to other forms for later using\n",
    "Xt_f = df_ts['Comment'].astype(str).values.tolist()\n",
    "Yt_f = np.array(df_ts['Annotation'].astype(str).values.tolist())"
   ]
  },
  {
   "cell_type": "code",
   "execution_count": 347,
   "metadata": {},
   "outputs": [
    {
     "name": "stdout",
     "output_type": "stream",
     "text": [
      "strict_accuracy: 0.8275862068965517\n"
     ]
    }
   ],
   "source": [
    "#prediction using the test set\n",
    "pred_strict = strict.predict(Xt_f)\n",
    "strict_accuracy = accuracy_score(Yt_f, pred_strict)\n",
    "print('strict_accuracy: ' + str(strict_accuracy))"
   ]
  },
  {
   "cell_type": "code",
   "execution_count": 348,
   "metadata": {},
   "outputs": [
    {
     "data": {
      "text/plain": [
       "array([[450, 106],\n",
       "       [ 94, 510]])"
      ]
     },
     "execution_count": 348,
     "metadata": {},
     "output_type": "execute_result"
    }
   ],
   "source": [
    "#confusion matrix for prediction\n",
    "\n",
    "confusion_matrix(pred_strict, Yt_f)"
   ]
  },
  {
   "cell_type": "code",
   "execution_count": 349,
   "metadata": {},
   "outputs": [
    {
     "name": "stdout",
     "output_type": "stream",
     "text": [
      "SVC precision: 0.8275639801375095\n",
      "SVC recall: 0.8268616894563818\n",
      "SVC fscore: 0.827123695976155\n"
     ]
    }
   ],
   "source": [
    "# calculate precision_recall_fscore\n",
    "print('SVC precision: ' + str(precision_recall_fscore_support(pred_strict, Yt_f, average='macro')[0]))\n",
    "print('SVC recall: ' + str(precision_recall_fscore_support(pred_strict, Yt_f, average='macro')[1]))\n",
    "print('SVC fscore: ' + str(precision_recall_fscore_support(pred_strict, Yt_f, average='macro')[2]))"
   ]
  },
  {
   "cell_type": "code",
   "execution_count": 350,
   "metadata": {},
   "outputs": [
    {
     "name": "stdout",
     "output_type": "stream",
     "text": [
      "[['Being', 'a', 'member', 'of', 'the', 'European', 'Union', 'is', 'a', 'bit', 'like', 'going', 'to', 'a', 'sandwich', 'shop', 'and', 'buying', 'a', '£3', 'sandwich', 'with', 'a', '£5', 'note', 'and', 'getting', 'back', 'over', '£1,000', 'in', 'change'], ['Brexit', 'is', 'bad.', 'Immigrants', 'make', 'Britain', 'great.', 'They', 'also', 'cooked', 'your', 'food', 'The', 'London', 'restaurant', 'causing', 'a', 'stir', 'with', 'anti-#Brexit', 'messages', 'on', 'your', 'bill'], ['Britain', 'is', 'basically', 'Pompeii', 'if', 'the', 'Pompeii', 'had', 'voted', 'for', 'the', 'volcano', '...', \"I'm\", 'DEAD!', ':p'], [\"Britain's\", 'exit', 'is', 'a', 'huge', 'blow', 'to', 'the', 'dream', 'of', 'a', 'united', 'Europe', 'No.', 'It', 'is', 'the', 'end', 'of', 'an', 'anti-national,', 'centralized,', 'globalist,', 'neoliberal', 'and', 'authoritarian', 'system', 'and', 'organism', 'like', 'the', 'EU', 'and', 'its', 'hegemonic', 'power', 'over', 'Europe.']]\n"
     ]
    }
   ],
   "source": [
    "#splitting words in comments using (X_lose)\n",
    "words = []\n",
    "for line in X_lose:\n",
    "    word = line.strip().split()\n",
    "    words.append(word)\n",
    "print(words[1:5])"
   ]
  },
  {
   "cell_type": "code",
   "execution_count": 359,
   "metadata": {},
   "outputs": [
    {
     "data": {
      "text/plain": [
       "Text(0.5, 0, 'Figure 1: ROC curve for SVC classifier')"
      ]
     },
     "execution_count": 359,
     "metadata": {},
     "output_type": "execute_result"
    },
    {
     "data": {
      "image/png": "[encoded data removed]",
      "text/plain": [
       "<Figure size 504x504 with 1 Axes>"
      ]
     },
     "metadata": {
      "needs_background": "light"
     },
     "output_type": "display_data"
    }
   ],
   "source": [
    "# ROC curve\n",
    "plt.style.use('bmh')\n",
    "\n",
    "scores = loose.decision_function(Xt_f)\n",
    "fprs, tprs, _ = roc_curve(Yt_f, scores, pos_label='1')\n",
    "\n",
    "plt.figure(figsize=(7,7))\n",
    "plt.plot(fprs, tprs)\n",
    "\n",
    "plt.plot([0, 1], 'k:')\n",
    "plt.xlabel('false positive rate')\n",
    "plt.ylabel('true positive rate')\n",
    "\n",
    "roc_auc_score(Yt_f =='1', scores)\n",
    "plt.title('ROC curve')\n",
    "plt.xlabel('Figure 1: ROC curve for SVC classifier', fontsize=20)"
   ]
  },
  {
   "cell_type": "code",
   "execution_count": 354,
   "metadata": {},
   "outputs": [
    {
     "data": {
      "text/plain": [
       "0.0940126050420168"
      ]
     },
     "execution_count": 354,
     "metadata": {},
     "output_type": "execute_result"
    },
    {
     "data": {
      "image/png": "[encoded data removed]",
      "text/plain": [
       "<Figure size 504x504 with 1 Axes>"
      ]
     },
     "metadata": {
      "needs_background": "light"
     },
     "output_type": "display_data"
    }
   ],
   "source": [
    "fprs, tprs, _ = roc_curve(Yt_f, scores, pos_label='0')\n",
    "\n",
    "plt.figure(figsize=(7,7))\n",
    "plt.plot(fprs, tprs)\n",
    "\n",
    "plt.plot([0, 1], 'k:')\n",
    "plt.xlabel('false positive rate')\n",
    "plt.ylabel('true positive rate')\n",
    "\n",
    "roc_auc_score(Yt_f=='0', scores)"
   ]
  }
 ],
 "metadata": {
  "kernelspec": {
   "display_name": "Python 3",
   "language": "python",
   "name": "python3"
  },
  "language_info": {
   "codemirror_mode": {
    "name": "ipython",
    "version": 3
   },
   "file_extension": ".py",
   "mimetype": "text/x-python",
   "name": "python",
   "nbconvert_exporter": "python",
   "pygments_lexer": "ipython3",
   "version": "3.7.4"
  }
 },
 "nbformat": 4,
 "nbformat_minor": 2
}
