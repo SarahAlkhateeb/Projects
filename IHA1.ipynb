{
 "cells": [
  {
   "cell_type": "markdown",
   "metadata": {
    "deletable": false,
    "editable": false,
    "nbgrader": {
     "cell_type": "markdown",
     "checksum": "5fa9f96d4ca0144b2db877078cf7b2f8",
     "grade": false,
     "grade_id": "cell-5690119ead85e67e",
     "locked": true,
     "schema_version": 3,
     "solution": false,
     "task": false
    }
   },
   "source": [
    "### Checklist for submission\n",
    "\n",
    "It is extremely important to make sure that:\n",
    "\n",
    "1. Everything runs as expected (no bugs when running cells);\n",
    "2. The output from each cell corresponds to its code (don't change any cell's contents without rerunning it afterwards);\n",
    "3. All outputs are present (don't delete any of the outputs);\n",
    "4. Fill in all the places that say `# YOUR CODE HERE`, or \"**Your answer:** (fill in here)\".\n",
    "5. Never copy/paste any notebook cells. Inserting new cells is allowed, but it should not be necessary.\n",
    "6. The notebook contains some hidden metadata which is important during our grading process. **Make sure not to corrupt any of this metadata!** The metadata may for example be corrupted if you copy/paste any notebook cells, or if you perform an unsuccessful git merge / git pull. It may also be pruned completely if using Google Colab, so watch out for this. Searching for \"nbgrader\" when opening the notebook in a text editor should take you to the important metadata entries.\n",
    "7. Although we will try our very best to avoid this, it may happen that bugs are found after an assignment is released, and that we will push an updated version of the assignment to GitHub. If this happens, it is important that you update to the new version, while making sure the notebook metadata is properly updated as well. The safest way to make sure nothing gets messed up is to start from scratch on a clean updated version of the notebook, copy/pasting your code from the cells of the previous version into the cells of the new version.\n",
    "8. If you need to have multiple parallel versions of this notebook, make sure not to move them to another directory.\n",
    "9. Although not forced to work exclusively in the course `conda` environment, you need to make sure that the notebook will run in that environment, i.e. that you have not added any additional dependencies.\n",
    "\n",
    "**FOR HA1, HA2, HA3 ONLY:** Failing to meet any of these requirements might lead to either a subtraction of POEs (at best) or a request for resubmission (at worst).\n",
    "\n",
    "We advise you to perform the following steps before submission to ensure that requirements 1, 2, and 3 are always met: **Restart the kernel** (in the menubar, select Kernel$\\rightarrow$Restart) and then **run all cells** (in the menubar, select Cell$\\rightarrow$Run All). This might require a bit of time, so plan ahead for this (and possibly use Google Cloud's GPU in HA1 and HA2 for this step). Finally press the \"Save and Checkout\" button before handing in, to make sure that all your changes are saved to this .ipynb file."
   ]
  },
  {
   "cell_type": "markdown",
   "metadata": {
    "deletable": false,
    "editable": false,
    "nbgrader": {
     "cell_type": "markdown",
     "checksum": "a6bb874a16c1ff767ac0f37ce0491265",
     "grade": false,
     "grade_id": "cell-774c93bf6433de68",
     "locked": true,
     "schema_version": 3,
     "solution": false,
     "task": false
    }
   },
   "source": [
    "### Fill in name of notebook file\n",
    "This might seem silly, but the version check below needs to know the filename of the current notebook, which is not trivial to find out programmatically.\n",
    "\n",
    "You might want to have several parallel versions of the notebook, and it is fine to rename the notebook as long as it stays in the same directory. **However**, if you do rename it, you also need to update its own filename below:"
   ]
  },
  {
   "cell_type": "code",
   "execution_count": 205,
   "metadata": {},
   "outputs": [],
   "source": [
    "nb_fname = \"IHA1.ipynb\""
   ]
  },
  {
   "cell_type": "markdown",
   "metadata": {
    "deletable": false,
    "editable": false,
    "nbgrader": {
     "cell_type": "markdown",
     "checksum": "879883c2ea755808ffd00aeee5c77a00",
     "grade": false,
     "grade_id": "cell-5676bcf768a7f9be",
     "locked": true,
     "schema_version": 3,
     "solution": false,
     "task": false
    }
   },
   "source": [
    "### Fill in group number and member names (use NAME2 and GROUP only for HA1, HA2 and HA3):"
   ]
  },
  {
   "cell_type": "code",
   "execution_count": 206,
   "metadata": {},
   "outputs": [],
   "source": [
    "NAME1 = \"Sarah Al-Khateeb\" \n",
    "NAME2 = \"\"\n",
    "GROUP = \"\""
   ]
  },
  {
   "cell_type": "markdown",
   "metadata": {
    "deletable": false,
    "editable": false,
    "nbgrader": {
     "cell_type": "markdown",
     "checksum": "42f960a95815e1aa3ce8132fcec59cd9",
     "grade": false,
     "grade_id": "cell-a15fe781533d9590",
     "locked": true,
     "schema_version": 3,
     "solution": false,
     "task": false
    }
   },
   "source": [
    "### Check Python version"
   ]
  },
  {
   "cell_type": "code",
   "execution_count": 207,
   "metadata": {
    "deletable": false,
    "editable": false,
    "nbgrader": {
     "cell_type": "code",
     "checksum": "3fef548ba4fe8319321134f43c6c479f",
     "grade": false,
     "grade_id": "cell-2b9c2390ee464c39",
     "locked": true,
     "schema_version": 3,
     "solution": false,
     "task": false
    }
   },
   "outputs": [],
   "source": [
    "from platform import python_version_tuple\n",
    "assert python_version_tuple()[:2] == ('3','7'), \"You are not running Python 3.7. Make sure to run Python through the course Docker environment, or alternatively in the provided Conda environment.\""
   ]
  },
  {
   "cell_type": "markdown",
   "metadata": {
    "deletable": false,
    "editable": false,
    "nbgrader": {
     "cell_type": "markdown",
     "checksum": "15ec4309f1e85f6e17bda73b9b6f48a2",
     "grade": false,
     "grade_id": "cell-4869b45600ce82f8",
     "locked": true,
     "schema_version": 3,
     "solution": false,
     "task": false
    }
   },
   "source": [
    "### Check that notebook server has access to all required resources, and that notebook has not moved"
   ]
  },
  {
   "cell_type": "code",
   "execution_count": 208,
   "metadata": {
    "deletable": false,
    "editable": false,
    "nbgrader": {
     "cell_type": "code",
     "checksum": "a2d199303c73ec86d25177caf39e385f",
     "grade": false,
     "grade_id": "cell-122ac3d9100b8afb",
     "locked": true,
     "schema_version": 3,
     "solution": false,
     "task": false
    }
   },
   "outputs": [],
   "source": [
    "import os\n",
    "nb_dirname = os.path.abspath('')\n",
    "assignment_name = os.path.basename(nb_dirname)\n",
    "assert assignment_name in ['IHA1', 'IHA2', 'HA1', 'HA2', 'HA3'], \\\n",
    "    '[ERROR] The notebook appears to have been moved from its original directory'"
   ]
  },
  {
   "cell_type": "markdown",
   "metadata": {
    "deletable": false,
    "editable": false,
    "nbgrader": {
     "cell_type": "markdown",
     "checksum": "f09f40b5350db83232189137c550f0a1",
     "grade": false,
     "grade_id": "cell-2455deee513cd39c",
     "locked": true,
     "schema_version": 3,
     "solution": false,
     "task": false
    }
   },
   "source": [
    "### Verify correct nb_fname"
   ]
  },
  {
   "cell_type": "code",
   "execution_count": 209,
   "metadata": {
    "deletable": false,
    "editable": false,
    "nbgrader": {
     "cell_type": "code",
     "checksum": "a78c7227b049bb147e6c363affb6dae8",
     "grade": false,
     "grade_id": "cell-0472e2fd710f1d72",
     "locked": true,
     "schema_version": 3,
     "solution": false,
     "task": false
    }
   },
   "outputs": [
    {
     "data": {
      "text/html": [
       "<script>if(\"IHA1.ipynb\" != IPython.notebook.notebook_name) { alert(\"You have filled in nb_fname = \\\"IHA1.ipynb\\\", but this does not seem to match the notebook filename \\\"\" + IPython.notebook.notebook_name + \"\\\".\"); }</script>"
      ],
      "text/plain": [
       "<IPython.core.display.HTML object>"
      ]
     },
     "metadata": {},
     "output_type": "display_data"
    }
   ],
   "source": [
    "from IPython.display import display, HTML\n",
    "try:\n",
    "    display(HTML(r'<script>if(\"{nb_fname}\" != IPython.notebook.notebook_name) {{ alert(\"You have filled in nb_fname = \\\"{nb_fname}\\\", but this does not seem to match the notebook filename \\\"\" + IPython.notebook.notebook_name + \"\\\".\"); }}</script>'.format(nb_fname=nb_fname)))\n",
    "except NameError:\n",
    "    assert False, 'Make sure to fill in the nb_fname variable above!'"
   ]
  },
  {
   "cell_type": "markdown",
   "metadata": {
    "deletable": false,
    "editable": false,
    "nbgrader": {
     "cell_type": "markdown",
     "checksum": "98d88d8e8da19693053764f29dcc591d",
     "grade": false,
     "grade_id": "cell-ceacb1adcae4783d",
     "locked": true,
     "schema_version": 3,
     "solution": false,
     "task": false
    }
   },
   "source": [
    "### Verify that your notebook is up-to-date and not corrupted in any way"
   ]
  },
  {
   "cell_type": "code",
   "execution_count": 210,
   "metadata": {
    "deletable": false,
    "editable": false,
    "nbgrader": {
     "cell_type": "code",
     "checksum": "bb700528d4644601c1a8c91ef1d84635",
     "grade": false,
     "grade_id": "cell-f5a59288e11b4aec",
     "locked": true,
     "schema_version": 3,
     "solution": false,
     "task": false
    }
   },
   "outputs": [
    {
     "name": "stdout",
     "output_type": "stream",
     "text": [
      "Matching current notebook against the following URL:\n",
      "http://raw.githubusercontent.com/JulianoLagana/deep-machine-learning/master/home-assignments/IHA1/IHA1.ipynb\n",
      "[SUCCESS] No major notebook mismatch found when comparing to latest GitHub version. (There might be minor updates, but even that is the case, submitting your work based on this notebook version would be acceptable.)\n"
     ]
    }
   ],
   "source": [
    "import sys\n",
    "sys.path.append('..')\n",
    "from ha_utils import check_notebook_uptodate_and_not_corrupted\n",
    "check_notebook_uptodate_and_not_corrupted(nb_dirname, nb_fname)"
   ]
  },
  {
   "cell_type": "markdown",
   "metadata": {
    "deletable": false,
    "editable": false,
    "nbgrader": {
     "cell_type": "markdown",
     "checksum": "201f5ef89e0a5f1d489ddda4e6746469",
     "grade": false,
     "grade_id": "cell-ce4f9ca6e88f7e01",
     "locked": true,
     "schema_version": 3,
     "solution": false,
     "task": false
    }
   },
   "source": [
    "# IHA1 - Assignment"
   ]
  },
  {
   "cell_type": "markdown",
   "metadata": {
    "deletable": false,
    "editable": false,
    "nbgrader": {
     "cell_type": "markdown",
     "checksum": "267182b820a17ca48c431f92b1f2361e",
     "grade": false,
     "grade_id": "cell-d1040a6bdfed8ae8",
     "locked": true,
     "schema_version": 3,
     "solution": false,
     "task": false
    }
   },
   "source": [
    "Welcome to the first individual home assignment!  \n",
    "\n",
    "This assignment consists of two parts:\n",
    " * Python and NumPy exercises;\n",
    " * Build a deep neural network for forward propagation.\n",
    "  \n",
    "The focus of this assignment is for you to gain practical knowledge with implementing forward propagation of deep neural networks without using any deep learning framework. You will also gain practical knowledge in two of Python's scientific libraries [NumPy](https://docs.scipy.org/doc/numpy-1.13.0/index.html) and [Matplotlib](https://matplotlib.org/devdocs/index.html).  \n",
    "\n",
    "Skeleton code is provided for most tasks and every part you are expected to implement is marked with **TODO**. Throughout the assignment you will also need to submit written answers to some questions. These questions are mainly to make you reflect on some particular topics and your answers will not be graded in detail. \n",
    "\n",
    "We expect you to search and learn by yourself any commands you think are useful for these tasks. Don't limit yourself to what was taught in CL1. Use the help function, [stackoverflow](https://stackoverflow.com/), google, the [python documentation](https://docs.python.org/3.5/library/index.html) and the [NumPy](https://docs.scipy.org/doc/numpy-1.13.0/index.html) documentation to your advantage.  \n",
    "\n",
    "**IMPORTANT NOTE**: The tests available are not exhaustive, meaning that if you pass a test you have avoided the most common mistakes, but it is still not guaranteed that your solution is 100% correct.  \n",
    "\n",
    "Lets start by importing the necessary libraries below."
   ]
  },
  {
   "cell_type": "code",
   "execution_count": 211,
   "metadata": {
    "deletable": false,
    "editable": false,
    "nbgrader": {
     "cell_type": "code",
     "checksum": "2e7ac2535fe942aa22cb074b96196da2",
     "grade": false,
     "grade_id": "cell-d2142353d71db431",
     "locked": true,
     "schema_version": 3,
     "solution": false,
     "task": false
    }
   },
   "outputs": [],
   "source": [
    "import numpy as np\n",
    "import matplotlib.pyplot as plt\n",
    "from utils.tests.iha1Tests import *"
   ]
  },
  {
   "cell_type": "markdown",
   "metadata": {
    "deletable": false,
    "editable": false,
    "nbgrader": {
     "cell_type": "markdown",
     "checksum": "d5a06a16327ea7c4a6cb5e9c32019609",
     "grade": false,
     "grade_id": "cell-03788efc69dbb922",
     "locked": true,
     "schema_version": 3,
     "solution": false,
     "task": false
    }
   },
   "source": [
    "## 1. Lists and arrays introduction\n",
    "First, we will warm up with a Python exercise and few NumPy exercises."
   ]
  },
  {
   "cell_type": "markdown",
   "metadata": {
    "deletable": false,
    "editable": false,
    "nbgrader": {
     "cell_type": "markdown",
     "checksum": "67d455883b08b0909e1f21c44bd09e9b",
     "grade": false,
     "grade_id": "cell-1eac31835165945d",
     "locked": true,
     "schema_version": 3,
     "solution": false,
     "task": false
    }
   },
   "source": [
    "### 1.1 List comprehensions\n",
    "Examine the code snippet provided below."
   ]
  },
  {
   "cell_type": "code",
   "execution_count": 212,
   "metadata": {
    "deletable": false,
    "editable": false,
    "nbgrader": {
     "cell_type": "code",
     "checksum": "55edad564377f181a1e463011fccc857",
     "grade": false,
     "grade_id": "cell-ee10027e05eff006",
     "locked": true,
     "schema_version": 3,
     "solution": false,
     "task": false
    }
   },
   "outputs": [
    {
     "name": "stdout",
     "output_type": "stream",
     "text": [
      "[0, 4, 16, 36, 64, 100, 144, 196, 256, 324, 400, 484, 576]\n"
     ]
    }
   ],
   "source": [
    "myList = []\n",
    "for i in range(25):\n",
    "    if i % 2 == 0:\n",
    "        myList.append(i**2)\n",
    "        \n",
    "print(myList)"
   ]
  },
  {
   "cell_type": "markdown",
   "metadata": {
    "deletable": false,
    "editable": false,
    "nbgrader": {
     "cell_type": "markdown",
     "checksum": "708ffda8b152deae5f5315135a5a1d49",
     "grade": false,
     "grade_id": "cell-04b896a3a8d65d13",
     "locked": true,
     "schema_version": 3,
     "solution": false,
     "task": false
    }
   },
   "source": [
    "This is not a very \"[pythonic](http://docs.python-guide.org/en/latest/writing/style/)\" way of writing. Lets re-write the code above using a [list comprehension](https://docs.python.org/2/tutorial/datastructures.html#list-comprehensions). The result will be less code, more readable and elegant. Your solution should be able to fit into one line of code."
   ]
  },
  {
   "cell_type": "code",
   "execution_count": 213,
   "metadata": {
    "deletable": false,
    "nbgrader": {
     "cell_type": "code",
     "checksum": "673d26ff6cb01fe911b4622108157529",
     "grade": true,
     "grade_id": "cell-0fbb6ce83e4dcc85",
     "locked": false,
     "points": 0,
     "schema_version": 3,
     "solution": true,
     "task": false
    }
   },
   "outputs": [
    {
     "name": "stdout",
     "output_type": "stream",
     "text": [
      "[0, 4, 16, 36, 64, 100, 144, 196, 256, 324, 400, 484, 576]\n"
     ]
    }
   ],
   "source": [
    "myList = None # TODO\n",
    "myList = [i**2 for i in range(25) if i % 2 ==0]\n",
    "print(myList)"
   ]
  },
  {
   "cell_type": "code",
   "execution_count": 214,
   "metadata": {
    "deletable": false,
    "editable": false,
    "nbgrader": {
     "cell_type": "code",
     "checksum": "0cc837d6d6f7da2fbec06fde6d8010c3",
     "grade": false,
     "grade_id": "cell-4de706ba0e5b4060",
     "locked": true,
     "schema_version": 3,
     "solution": false,
     "task": false
    }
   },
   "outputs": [],
   "source": [
    "# sample output from cell above for reference\n",
    "# [0, 4, 16, 36, 64, 100, 144, 196, 256, 324, 400, 484, 576]"
   ]
  },
  {
   "cell_type": "markdown",
   "metadata": {
    "deletable": false,
    "editable": false,
    "nbgrader": {
     "cell_type": "markdown",
     "checksum": "1efe10702aac297783471227331f4fb0",
     "grade": false,
     "grade_id": "cell-b835734f0fb8c19c",
     "locked": true,
     "schema_version": 3,
     "solution": false,
     "task": false
    }
   },
   "source": [
    "### 1.2 Numpy array vs numpy vectors\n",
    "Run the cell below to create a numpy array.   "
   ]
  },
  {
   "cell_type": "code",
   "execution_count": 215,
   "metadata": {
    "deletable": false,
    "editable": false,
    "nbgrader": {
     "cell_type": "code",
     "checksum": "23087ad49b6fc8ec3953f819600c59db",
     "grade": false,
     "grade_id": "cell-c391074193d1e66a",
     "locked": true,
     "schema_version": 3,
     "solution": false,
     "task": false
    }
   },
   "outputs": [
    {
     "name": "stdout",
     "output_type": "stream",
     "text": [
      "[  1   9  25  49  81 121 169 225 289 361 441 529]\n",
      "(12,)\n"
     ]
    }
   ],
   "source": [
    "myArr = np.array([1, 9, 25, 49, 81, 121, 169, 225, 289, 361, 441, 529])\n",
    "print(myArr)\n",
    "print(myArr.shape)"
   ]
  },
  {
   "cell_type": "markdown",
   "metadata": {
    "deletable": false,
    "editable": false,
    "nbgrader": {
     "cell_type": "markdown",
     "checksum": "ee5ab0b8264c728ec118fee2dbfe3370",
     "grade": false,
     "grade_id": "cell-f62ee4516453d169",
     "locked": true,
     "schema_version": 3,
     "solution": false,
     "task": false
    }
   },
   "source": [
    "One of the core features of numpy is to efficiently perform linear algebra operations.\n",
    "There are two types of one-dimensional representations in numpy: arrays of shape (x,) and vectors of shape (x,1).\n",
    "\n",
    "The above result indicates that **myArr** is an array of 12 elements with shape (12,).  \n",
    "\n",
    "Numpy's arrays and vectors both have the type of `numpy.ndarray` but have in some cases different characteristics and it is important to separate the two types because it will save a lot of debugging time later on. Read more about numpy shapes [here](https://stackoverflow.com/a/22074424).\n",
    "\n",
    "Run the code below to see how the transpose operation behaves differently between an array and vector."
   ]
  },
  {
   "cell_type": "code",
   "execution_count": 216,
   "metadata": {
    "deletable": false,
    "editable": false,
    "nbgrader": {
     "cell_type": "code",
     "checksum": "d29507a6e3afed7cba54b18975dc8c63",
     "grade": false,
     "grade_id": "cell-9ac01dc98f2aad70",
     "locked": true,
     "schema_version": 3,
     "solution": false,
     "task": false
    }
   },
   "outputs": [
    {
     "name": "stdout",
     "output_type": "stream",
     "text": [
      "myArr is an array of shape:\n",
      "(12,)\n",
      "The transpose of myArr has the shape:\n",
      "(12,)\n",
      "myVec is a vector of shape:\n",
      "(12, 1)\n",
      "The transpose of myVec has the shape:\n",
      "(1, 12)\n"
     ]
    }
   ],
   "source": [
    "# print the shape of an array and the shape of a transposed array\n",
    "print('myArr is an array of shape:')\n",
    "print(myArr.shape)\n",
    "print('The transpose of myArr has the shape:')\n",
    "print(myArr.T.shape)\n",
    "\n",
    "# print the shape of a vector and the transpose of a vector\n",
    "myVec = myArr.reshape(12,1)\n",
    "print('myVec is a vector of shape:')\n",
    "print(myVec.shape)\n",
    "print('The transpose of myVec has the shape:')\n",
    "print(myVec.T.shape)"
   ]
  },
  {
   "cell_type": "markdown",
   "metadata": {
    "deletable": false,
    "editable": false,
    "nbgrader": {
     "cell_type": "markdown",
     "checksum": "fae6a10540571dbd3df91c9eec8d540d",
     "grade": false,
     "grade_id": "cell-954329c6d8a76b67",
     "locked": true,
     "schema_version": 3,
     "solution": false,
     "task": false
    }
   },
   "source": [
    "### 1.3 Numpy exercises\n",
    "Now run the cell below to create the numpy array `numbers` and then complete the exercises sequentially."
   ]
  },
  {
   "cell_type": "code",
   "execution_count": 217,
   "metadata": {
    "deletable": false,
    "editable": false,
    "nbgrader": {
     "cell_type": "code",
     "checksum": "a974d6601c83b8d357b9d7f734512773",
     "grade": false,
     "grade_id": "cell-b38cd50257c86b2a",
     "locked": true,
     "schema_version": 3,
     "solution": false,
     "task": false
    }
   },
   "outputs": [
    {
     "name": "stdout",
     "output_type": "stream",
     "text": [
      "[ 0  1  2  3  4  5  6  7  8  9 10 11 12 13 14 15 16 17 18 19 20 21 22 23]\n"
     ]
    }
   ],
   "source": [
    "numbers = np.arange(24)\n",
    "print(numbers)"
   ]
  },
  {
   "cell_type": "code",
   "execution_count": 218,
   "metadata": {
    "deletable": false,
    "nbgrader": {
     "cell_type": "code",
     "checksum": "1982a50a5e13cd7bfc31b87b3a03b633",
     "grade": true,
     "grade_id": "cell-6a9944613f288397",
     "locked": false,
     "points": 0,
     "schema_version": 3,
     "solution": true,
     "task": false
    }
   },
   "outputs": [
    {
     "name": "stdout",
     "output_type": "stream",
     "text": [
      "[[ 0  1  2  3]\n",
      " [ 4  5  6  7]\n",
      " [ 8  9 10 11]\n",
      " [12 13 14 15]\n",
      " [16 17 18 19]\n",
      " [20 21 22 23]]\n"
     ]
    }
   ],
   "source": [
    "# TODO: reshape numbers into a 6x4 matrix\n",
    "\n",
    "numbers = numbers.reshape(6,4)\n",
    "print(numbers)"
   ]
  },
  {
   "cell_type": "code",
   "execution_count": 219,
   "metadata": {
    "deletable": false,
    "editable": false,
    "nbgrader": {
     "cell_type": "code",
     "checksum": "95c02d5ddcc34dcbc33ae60c84f48411",
     "grade": false,
     "grade_id": "cell-2881aa11ff8233be",
     "locked": true,
     "schema_version": 3,
     "solution": false,
     "task": false
    }
   },
   "outputs": [],
   "source": [
    "# sample output from cell above for reference\n",
    "#  [[ 0  1  2  3]\n",
    "#   [ 4  5  6  7]\n",
    "#   [ 8  9 10 11]\n",
    "#   [12 13 14 15]\n",
    "#   [16 17 18 19]\n",
    "#   [20 21 22 23]]"
   ]
  },
  {
   "cell_type": "code",
   "execution_count": 220,
   "metadata": {
    "deletable": false,
    "editable": false,
    "nbgrader": {
     "cell_type": "code",
     "checksum": "468446fff0845eca34c8359c8bf2394a",
     "grade": false,
     "grade_id": "cell-0a93610d4c83f310",
     "locked": true,
     "schema_version": 3,
     "solution": false,
     "task": false
    }
   },
   "outputs": [
    {
     "name": "stdout",
     "output_type": "stream",
     "text": [
      "Test passed\n"
     ]
    }
   ],
   "source": [
    "# test case\n",
    "test_numpy_reshape(numbers)"
   ]
  },
  {
   "cell_type": "code",
   "execution_count": 221,
   "metadata": {
    "deletable": false,
    "nbgrader": {
     "cell_type": "code",
     "checksum": "53d2335931d7f444df85d01b368639ae",
     "grade": true,
     "grade_id": "cell-eff4d59094285e57",
     "locked": false,
     "points": 0,
     "schema_version": 3,
     "solution": true,
     "task": false
    }
   },
   "outputs": [
    {
     "name": "stdout",
     "output_type": "stream",
     "text": [
      "[[ 0  1  2  3]\n",
      " [ 4  5  6  7]\n",
      " [ 8  9 10 11]\n",
      " [12 13 14 15]\n",
      " [16 17 18 19]\n",
      " [20 21 22  0]]\n"
     ]
    }
   ],
   "source": [
    "# TODO: set the element of the last row of the last column to zero\n",
    "# Hint: Try what happends when indices are negative\n",
    "\n",
    "numbers[-1, -1] = 0\n",
    "print(numbers)"
   ]
  },
  {
   "cell_type": "code",
   "execution_count": 222,
   "metadata": {
    "deletable": false,
    "editable": false,
    "nbgrader": {
     "cell_type": "code",
     "checksum": "1fc8f624ad62bdbd3230bcc36e95f200",
     "grade": false,
     "grade_id": "cell-5bd373983cf1ff38",
     "locked": true,
     "schema_version": 3,
     "solution": false,
     "task": false
    }
   },
   "outputs": [],
   "source": [
    "# sample output from cell above for reference\n",
    "#  [[ 0  1  2  3]\n",
    "#   [ 4  5  6  7]\n",
    "#   [ 8  9 10 11]\n",
    "#   [12 13 14 15]\n",
    "#   [16 17 18 19]\n",
    "#   [20 21 22  0]]"
   ]
  },
  {
   "cell_type": "code",
   "execution_count": 223,
   "metadata": {
    "deletable": false,
    "editable": false,
    "nbgrader": {
     "cell_type": "code",
     "checksum": "4720728a492f976e378f355290f011d1",
     "grade": false,
     "grade_id": "cell-79d591ee24172650",
     "locked": true,
     "schema_version": 3,
     "solution": false,
     "task": false
    }
   },
   "outputs": [
    {
     "name": "stdout",
     "output_type": "stream",
     "text": [
      "Test passed\n"
     ]
    }
   ],
   "source": [
    "# test case\n",
    "test_numpy_neg_ix(numbers)"
   ]
  },
  {
   "cell_type": "code",
   "execution_count": 224,
   "metadata": {
    "deletable": false,
    "nbgrader": {
     "cell_type": "code",
     "checksum": "fbe498b64dc80061d3a30fa816439742",
     "grade": true,
     "grade_id": "cell-3fa4e8328ca5052c",
     "locked": false,
     "points": 0,
     "schema_version": 3,
     "solution": true,
     "task": false
    }
   },
   "outputs": [
    {
     "name": "stdout",
     "output_type": "stream",
     "text": [
      "[[ 0  0  0  0]\n",
      " [ 4  5  6  7]\n",
      " [ 8  9 10 11]\n",
      " [12 13 14 15]\n",
      " [16 17 18 19]\n",
      " [20 21 22  0]]\n"
     ]
    }
   ],
   "source": [
    "# TODO: set every element of the 0th row to 0\n",
    "\n",
    "numbers[0,:] = 0\n",
    "print(numbers)"
   ]
  },
  {
   "cell_type": "code",
   "execution_count": 225,
   "metadata": {
    "deletable": false,
    "editable": false,
    "nbgrader": {
     "cell_type": "code",
     "checksum": "7aa19948d0e0db946d0004da9fa78925",
     "grade": false,
     "grade_id": "cell-9bfa316982252d14",
     "locked": true,
     "schema_version": 3,
     "solution": false,
     "task": false
    }
   },
   "outputs": [],
   "source": [
    "# sample output from cell above for reference\n",
    "#  [[ 0  0  0  0]\n",
    "#   [ 4  5  6  7]\n",
    "#   [ 8  9 10 11]\n",
    "#   [12 13 14 15]\n",
    "#   [16 17 18 19]\n",
    "#   [20 21 22  0]]"
   ]
  },
  {
   "cell_type": "code",
   "execution_count": 226,
   "metadata": {
    "deletable": false,
    "editable": false,
    "nbgrader": {
     "cell_type": "code",
     "checksum": "23028e59b0e1ec213b16ac5482afbbad",
     "grade": false,
     "grade_id": "cell-1cd7674f74a06f63",
     "locked": true,
     "schema_version": 3,
     "solution": false,
     "task": false
    }
   },
   "outputs": [
    {
     "name": "stdout",
     "output_type": "stream",
     "text": [
      "Test passed\n"
     ]
    }
   ],
   "source": [
    "# test case\n",
    "test_numpy_row_ix(numbers)"
   ]
  },
  {
   "cell_type": "code",
   "execution_count": 227,
   "metadata": {
    "deletable": false,
    "nbgrader": {
     "cell_type": "code",
     "checksum": "824ddc90f427a9949c72c849d5cc408e",
     "grade": true,
     "grade_id": "cell-b033e238bf56428b",
     "locked": false,
     "points": 0,
     "schema_version": 3,
     "solution": true,
     "task": false
    }
   },
   "outputs": [
    {
     "name": "stdout",
     "output_type": "stream",
     "text": [
      "[[ 0  0  0  0]\n",
      " [ 4  5  6  7]\n",
      " [ 8  9 10 11]\n",
      " [12 13 14 15]\n",
      " [16 17 18 19]\n",
      " [20 21 22  0]\n",
      " [ 0  0  0  0]]\n",
      "(7, 4)\n"
     ]
    }
   ],
   "source": [
    "# TODO: append a 1x4 row vector of zeros to `numbers`, \n",
    "# resulting in a 7x4 matrix where the new row of zeros is the last row\n",
    "# Hint: A new matrix must be created in the procedure. Numpy arrays are not dynamic.\n",
    "\n",
    "zeros_row = np.zeros(numbers.shape[1], dtype=np.int64)\n",
    "numbers = np.vstack((numbers, zeros_row))\n",
    "print(numbers)\n",
    "print(numbers.shape)"
   ]
  },
  {
   "cell_type": "code",
   "execution_count": 228,
   "metadata": {
    "deletable": false,
    "editable": false,
    "nbgrader": {
     "cell_type": "code",
     "checksum": "fce01cb07b9397eeab5e24e6357f4607",
     "grade": false,
     "grade_id": "cell-e7983d6d89cc8816",
     "locked": true,
     "schema_version": 3,
     "solution": false,
     "task": false
    }
   },
   "outputs": [],
   "source": [
    "# sample output from cell above for reference\n",
    "#   [[ 0  0  0  0]\n",
    "#    [ 4  5  6  7]\n",
    "#    [ 8  9 10 11]\n",
    "#    [12 13 14 15]\n",
    "#    [16 17 18 19]\n",
    "#    [20 21 22  0]\n",
    "#    [ 0  0  0  0]]\n",
    "#  (7, 4)"
   ]
  },
  {
   "cell_type": "code",
   "execution_count": 229,
   "metadata": {
    "deletable": false,
    "editable": false,
    "nbgrader": {
     "cell_type": "code",
     "checksum": "4c6a4da55dfb09b392063b1e2e0693fe",
     "grade": false,
     "grade_id": "cell-4ce148f238ae1450",
     "locked": true,
     "schema_version": 3,
     "solution": false,
     "task": false
    }
   },
   "outputs": [
    {
     "name": "stdout",
     "output_type": "stream",
     "text": [
      "Test passed\n"
     ]
    }
   ],
   "source": [
    "# test case\n",
    "test_numpy_append_row(numbers)"
   ]
  },
  {
   "cell_type": "code",
   "execution_count": 230,
   "metadata": {
    "deletable": false,
    "nbgrader": {
     "cell_type": "code",
     "checksum": "10ba504de75508432079caec8de423ca",
     "grade": true,
     "grade_id": "cell-e89d22af1e3a0609",
     "locked": false,
     "points": 0,
     "schema_version": 3,
     "solution": true,
     "task": false
    }
   },
   "outputs": [
    {
     "name": "stdout",
     "output_type": "stream",
     "text": [
      "[[ 0  0  0  0]\n",
      " [ 4  5  6  7]\n",
      " [ 8  9 10  1]\n",
      " [ 1  1  1  1]\n",
      " [ 1  1  1  1]\n",
      " [ 1  1  1  0]\n",
      " [ 0  0  0  0]]\n"
     ]
    }
   ],
   "source": [
    "# TODO: set all elements above 10 to the value 1\n",
    "\n",
    "numbers[numbers > 10] = 1\n",
    "print(numbers)"
   ]
  },
  {
   "cell_type": "code",
   "execution_count": 231,
   "metadata": {
    "deletable": false,
    "editable": false,
    "nbgrader": {
     "cell_type": "code",
     "checksum": "91d65cc5fafc129412efcf2c383f107c",
     "grade": false,
     "grade_id": "cell-f20e202dade5178c",
     "locked": true,
     "schema_version": 3,
     "solution": false,
     "task": false
    }
   },
   "outputs": [],
   "source": [
    "# sample output from cell above for reference\n",
    "#  [[ 0  0  0  0]\n",
    "#   [ 4  5  6  7]\n",
    "#   [ 8  9 10  1]\n",
    "#   [ 1  1  1  1]\n",
    "#   [ 1  1  1  1]\n",
    "#   [ 1  1  1  0]\n",
    "#   [ 0  0  0  0]]"
   ]
  },
  {
   "cell_type": "code",
   "execution_count": 232,
   "metadata": {
    "deletable": false,
    "editable": false,
    "nbgrader": {
     "cell_type": "code",
     "checksum": "070fbac37184cb5fa7543e04d72cdc8c",
     "grade": false,
     "grade_id": "cell-bd6f406141034baa",
     "locked": true,
     "schema_version": 3,
     "solution": false,
     "task": false
    }
   },
   "outputs": [
    {
     "name": "stdout",
     "output_type": "stream",
     "text": [
      "Test passed\n"
     ]
    }
   ],
   "source": [
    "# test case\n",
    "test_numpy_bool_matrix(numbers)"
   ]
  },
  {
   "cell_type": "code",
   "execution_count": 233,
   "metadata": {
    "deletable": false,
    "nbgrader": {
     "cell_type": "code",
     "checksum": "ec23089bd1ed1325c3d44d0ca87aab0f",
     "grade": true,
     "grade_id": "cell-4d0375ccc2a7ba35",
     "locked": false,
     "points": 0,
     "schema_version": 3,
     "solution": true,
     "task": false
    }
   },
   "outputs": [
    {
     "name": "stdout",
     "output_type": "stream",
     "text": [
      "(7,)\n",
      "[ 0 22 28  4  4  3  0]\n"
     ]
    }
   ],
   "source": [
    "# TODO: compute the sum of every row and replace `numbers` with the answer\n",
    "# `numbers` will be a (7,) array as a result\n",
    "\n",
    "numbers = np.sum(numbers, axis=1)\n",
    "print(numbers.shape)\n",
    "print(numbers)"
   ]
  },
  {
   "cell_type": "code",
   "execution_count": 234,
   "metadata": {
    "deletable": false,
    "editable": false,
    "nbgrader": {
     "cell_type": "code",
     "checksum": "33edf7635477a2af2044f2a6d902fc96",
     "grade": false,
     "grade_id": "cell-87e014a2329b54bc",
     "locked": true,
     "schema_version": 3,
     "solution": false,
     "task": false
    }
   },
   "outputs": [],
   "source": [
    "# sample output from cell above for reference\n",
    "#   (7,)\n",
    "#   [ 0 22 28  4  4  3  0]"
   ]
  },
  {
   "cell_type": "code",
   "execution_count": 235,
   "metadata": {
    "deletable": false,
    "editable": false,
    "nbgrader": {
     "cell_type": "code",
     "checksum": "4784511c0c7cf061c5081f7474697855",
     "grade": false,
     "grade_id": "cell-81c52091be0324bf",
     "locked": true,
     "schema_version": 3,
     "solution": false,
     "task": false
    }
   },
   "outputs": [
    {
     "name": "stdout",
     "output_type": "stream",
     "text": [
      "Test passed\n"
     ]
    }
   ],
   "source": [
    "# test case\n",
    "test_numpy_sum(numbers)"
   ]
  },
  {
   "cell_type": "markdown",
   "metadata": {
    "deletable": false,
    "editable": false,
    "nbgrader": {
     "cell_type": "markdown",
     "checksum": "7d488fba1e55d6f36dba614be68f8908",
     "grade": false,
     "grade_id": "cell-4889b44b41ac2f64",
     "locked": true,
     "schema_version": 3,
     "solution": false,
     "task": false
    }
   },
   "source": [
    "## 2 Building your deep neural network\n",
    "It is time to start implementing your first feed-forward neural network. In this lab you will only focus on implementing the forward propagation procedure. \n",
    "\n",
    "As you know, a feed-forward neural network consists of a sequence of layers, where the output from one layer is the input to the following layer. Below you can find an example of a feed-forward neural network with 2 hidden layers (blue) and 1 output layer (red). \n",
    "\n",
    "![title](utils/FFNN.png)\n",
    "\n",
    "**What would be your approach to implement a feed-forward neural network? Please provide a brief and high level explanation on how would you implement the several components of network; for instance, would you use any `python` class or only functions?** We will not grade this answer in detail. The objective with this question is to help you reflect upon how to structure the code. This will hopefully enable you to understand the code below more easily. As long as it is clear from your answer that you have tried to briefly describe the overall structure of the code, we will accept your answer."
   ]
  },
  {
   "cell_type": "markdown",
   "metadata": {
    "deletable": false,
    "nbgrader": {
     "cell_type": "markdown",
     "checksum": "535c016ec7e910abb8a28932159e8634",
     "grade": true,
     "grade_id": "cell-de5b4b9eee08a36d",
     "locked": false,
     "points": 0,
     "schema_version": 3,
     "solution": true,
     "task": false
    }
   },
   "source": [
    "**Your answer:** \n",
    "\n",
    "- The approach would be first defining different activation functions for the hidden layer, choosing an activation function may depend on the problem we are solving or we may try different functions and compare the outputs, we will define a function for each activation function *e.g. ReLU, Sigmoid... Each function has a formula that takes input and processes it through a formula and produces an output.\n",
    "\n",
    "- Then we need to define the initial weights to start the process and we can do that by writing a function to produce random weights. Then we need to start building the layers and one approach could be by defining a layer as a class that includes what happens inside a single neuron i.e. the formula to calculate the output from a neuron and how each neuron take the output from a previous layer, and we can specify the length of a specific layer in this class (shape).\n",
    "\n",
    "- Lastly, we need to put all pieces together by writhing another class for the NN. Here we attach all layers using the layer class previously defined and add the hidden layers and the output layer with a different activation function depending on the problem.\n",
    "\n",
    "**General Architecture**\n",
    "- Activation Function: Function that defines the output for a specific input (in each node), define a function\n",
    "- Layer: Collection of nodes of the same type and index, a class in python\n",
    "- Neural Network: an input layer, hidden layers, an output layer, a class in python\n",
    "- Weights: Initial weights usually initialized randomly or using weights from a pre-trained NN, define a function\n",
    "- Input node: the neural network input, x\n",
    "- Hidden node: Weighted sum of input layers or previously hidden layers, (the value of the hidden node passed to a predefined activation function)\n",
    "- Output node: Weighted sum of the last hidden layer, the value of an output node passed to a predefined activation function depending on what output we are looking for."
   ]
  },
  {
   "cell_type": "markdown",
   "metadata": {
    "deletable": false,
    "editable": false,
    "nbgrader": {
     "cell_type": "markdown",
     "checksum": "71dbdc7f4f14117e65d21e447fdcf68c",
     "grade": false,
     "grade_id": "cell-d25c24207223b552",
     "locked": true,
     "schema_version": 3,
     "solution": false,
     "task": false
    }
   },
   "source": [
    "In this exercise, you will implement several components of a feed-forward network, such as a layers, activation functions and weight initialization functions, and from those create your own feed-forward neural network implementation. \n",
    "\n",
    "NOTE: When using a neural network, due to memory and computational constraints, you can not forward propagate the entire dataset at once. Therefore, you divide the dataset into a number of sets/parts called batches. A batch will make up for the first dimension of every input to a layer and the notation `(BATCH_SIZE, NUM_FEATURES)` simply means the dimension of a batch of samples where every sample has `NUM_FEATURES` features."
   ]
  },
  {
   "cell_type": "markdown",
   "metadata": {
    "deletable": false,
    "editable": false,
    "nbgrader": {
     "cell_type": "markdown",
     "checksum": "b8159ec0a6d6b0cb2fab4381ab12c971",
     "grade": false,
     "grade_id": "cell-d158ea9913a8f3ca",
     "locked": true,
     "schema_version": 3,
     "solution": false,
     "task": false
    }
   },
   "source": [
    "### 2.1 Activation functions\n",
    "You will start by defining a few activation functions that are later needed by the neural network."
   ]
  },
  {
   "cell_type": "markdown",
   "metadata": {
    "deletable": false,
    "editable": false,
    "nbgrader": {
     "cell_type": "markdown",
     "checksum": "70adcd9c1dce54471fa517620a567977",
     "grade": false,
     "grade_id": "cell-6db63ca75af8bb1b",
     "locked": true,
     "schema_version": 3,
     "solution": false,
     "task": false
    }
   },
   "source": [
    "#### 2.1.1 ReLU\n",
    "The neural network will use the ReLU activation function in every layer except for the last. ReLU does element-wise comparison of the input matrix. For example, if the input is `X`, and `X[i,j] == 2` and `X[k,l] == -1`, then after applying ReLU, `X[i,j] == 2` and `X[k,l] == 0` should be true.  \n",
    "\n",
    "The formula for implementing ReLU for a single neuron $i$ is:\n",
    "\\begin{equation}\n",
    "relu(z_i) = \n",
    "    \\begin{cases}\n",
    "      0, & \\text{if}\\ z_i \\leq 0 \\\\\n",
    "      z_i, & \\text{otherwise}\n",
    "    \\end{cases}\n",
    "\\end{equation}\n",
    "\n",
    "Now implement `relu` in vectorized form"
   ]
  },
  {
   "cell_type": "code",
   "execution_count": 236,
   "metadata": {
    "deletable": false,
    "nbgrader": {
     "cell_type": "code",
     "checksum": "d62edae50010cfb0dce9b9bfcb112574",
     "grade": true,
     "grade_id": "cell-b79ea59bf8e21ff8",
     "locked": false,
     "points": 0,
     "schema_version": 3,
     "solution": true,
     "task": false
    }
   },
   "outputs": [],
   "source": [
    "def relu(z):\n",
    "    \"\"\" Implement the ReLU activation function\n",
    "    \n",
    "    Arguments:\n",
    "    z - the input of the activation function. Has a type of 'numpy.ndarray'\n",
    "    \n",
    "    Returns:\n",
    "    a - the output of the activation function. Has a type of numpy.ndarray and the same shape as 'z'\n",
    "    \"\"\"\n",
    "    a = None # TODO\n",
    "    a = np.copy(z) # TODO\n",
    "    a[a < 0] = 0\n",
    "    \n",
    "    return a"
   ]
  },
  {
   "cell_type": "code",
   "execution_count": 237,
   "metadata": {
    "deletable": false,
    "editable": false,
    "nbgrader": {
     "cell_type": "code",
     "checksum": "2a8fbc551f079005eb9dc4589e56c0d8",
     "grade": false,
     "grade_id": "cell-d730211cfe40ec7c",
     "locked": true,
     "schema_version": 3,
     "solution": false,
     "task": false
    }
   },
   "outputs": [
    {
     "name": "stdout",
     "output_type": "stream",
     "text": [
      "Test passed\n"
     ]
    }
   ],
   "source": [
    "# test case\n",
    "test_relu(relu)"
   ]
  },
  {
   "cell_type": "markdown",
   "metadata": {
    "deletable": false,
    "editable": false,
    "nbgrader": {
     "cell_type": "markdown",
     "checksum": "80f1293cf163822a1f28ef3890d3876f",
     "grade": false,
     "grade_id": "cell-c174ef6f7a338c73",
     "locked": true,
     "schema_version": 3,
     "solution": false,
     "task": false
    }
   },
   "source": [
    "Can you name some of the advantages of the ReLU activation function? (We will not grade this answer in detail.)"
   ]
  },
  {
   "cell_type": "markdown",
   "metadata": {
    "deletable": false,
    "nbgrader": {
     "cell_type": "markdown",
     "checksum": "22808884ed300cbd44845ac0a8893451",
     "grade": true,
     "grade_id": "cell-7a3f9caf74b6ad16",
     "locked": false,
     "points": 0,
     "schema_version": 3,
     "solution": true,
     "task": false
    }
   },
   "source": [
    "**Your answer:** \n",
    "\n",
    "- The ReLU function is a non-linear activation function. Some of the advantages of ReLU is that it doesn't activate all the neurons at the same time (max(0, z) where z = Wx+b), so when values are less than 0 the neuron will not be activated (or set to zero) and this is called sparsity. Moreover, ReLU reduces the gradient vanishing likelihood, when z > 0 the gradient will have a constant value, and the learning will be faster. Also, ReLU has simpler mathematical operations that make it less computationally expensive."
   ]
  },
  {
   "cell_type": "markdown",
   "metadata": {
    "deletable": false,
    "editable": false,
    "nbgrader": {
     "cell_type": "markdown",
     "checksum": "20e47ede2cf75fa9940594bbd718f5c3",
     "grade": false,
     "grade_id": "cell-27c5b9a455464663",
     "locked": true,
     "schema_version": 3,
     "solution": false,
     "task": false
    }
   },
   "source": [
    "#### 2.1.2 Sigmoid\n",
    "The sigmoid activation function is common for binary classification. This is because it squashes its input to the range [0,1].  \n",
    "Implement the activation function `sigmoid` using the formula:  \n",
    "\\begin{equation}\n",
    "    \\sigma(z) = \\frac{1}{1 + e^{-z}}\n",
    "\\end{equation}"
   ]
  },
  {
   "cell_type": "code",
   "execution_count": 238,
   "metadata": {
    "deletable": false,
    "nbgrader": {
     "cell_type": "code",
     "checksum": "479c4f650f7f49660912bd5fe416af63",
     "grade": true,
     "grade_id": "cell-9e9398378bf16401",
     "locked": false,
     "points": 0,
     "schema_version": 3,
     "solution": true,
     "task": false
    }
   },
   "outputs": [],
   "source": [
    "def sigmoid(z):\n",
    "    \"\"\" Implement the sigmoid activation function\n",
    "    \n",
    "    Arguments:\n",
    "    z - the input of the activation function. Has a type of 'numpy.ndarray'\n",
    "    \n",
    "    Returns:\n",
    "    a - the output of the activation function. Has a type of 'numpy.ndarray' and the same shape as 'z'\n",
    "    \"\"\"\n",
    "    a = None # TODO\n",
    "    a = 1 / (1 + np.exp(-z)) # TODO\n",
    "    \n",
    "    return a"
   ]
  },
  {
   "cell_type": "code",
   "execution_count": 239,
   "metadata": {
    "deletable": false,
    "editable": false,
    "nbgrader": {
     "cell_type": "code",
     "checksum": "7f805fd0ccd490b8ddc7735c6caca832",
     "grade": false,
     "grade_id": "cell-80e4f0859983717b",
     "locked": true,
     "schema_version": 3,
     "solution": false,
     "task": false
    }
   },
   "outputs": [
    {
     "name": "stdout",
     "output_type": "stream",
     "text": [
      "Test passed\n"
     ]
    }
   ],
   "source": [
    "# test case\n",
    "test_sigmoid(sigmoid)"
   ]
  },
  {
   "cell_type": "markdown",
   "metadata": {
    "deletable": false,
    "editable": false,
    "nbgrader": {
     "cell_type": "markdown",
     "checksum": "bbdc563b6814aff604c77d5260276180",
     "grade": false,
     "grade_id": "cell-596617a0e1234690",
     "locked": true,
     "schema_version": 3,
     "solution": false,
     "task": false
    }
   },
   "source": [
    "Why is the sigmoid activation function useful for binary classification? Feel free to use some numerical examples to show how the magnitudes of the variable $z$ affect the output of the sigmoid layer. (We will not grade this answer in detail.)"
   ]
  },
  {
   "cell_type": "markdown",
   "metadata": {
    "deletable": false,
    "nbgrader": {
     "cell_type": "markdown",
     "checksum": "76a698198e101272f2fec9b93d6d091a",
     "grade": true,
     "grade_id": "cell-118c7c24f48006f8",
     "locked": false,
     "points": 0,
     "schema_version": 3,
     "solution": true,
     "task": false
    }
   },
   "source": [
    "**Your answer:** \n",
    "\n",
    "- The sigmoid function is used because it lies between 0 and 1 (0,1), it is used where we have to predict the probability as an output. The probability of anything is between the range of 0 and 1 and so we can map a real-valued input to a probability (0,1) which is a suitable case for a binary classification where the output needs to be a specific class (for a specific input). Moreover, Sigmoid is differentiable and so we can find the slope of the curve at any two points.\n",
    "\n",
    "- In the case of the sigmoid function, large values of z will produce a prediction that the input belongs to class 1, while small or negative values of z will produce a prediction that the input belongs to class 0.\n",
    "\n",
    "- Since the sigmoid function produces values between (0, 1), these values can be seen as uncertainties of the outputs. e.g. if the function value = 0.25, we can assign the uncertainty to the output of 0 (25% uncertainty that is 0 and 75% uncertainty is 1). So the network would choose the output 0. Also, if the function = 0.001, then its output is 0, or if value = 0.999, then its output is 1."
   ]
  },
  {
   "cell_type": "markdown",
   "metadata": {
    "deletable": false,
    "editable": false,
    "nbgrader": {
     "cell_type": "markdown",
     "checksum": "da97470785c24482ac300a17c35f497c",
     "grade": false,
     "grade_id": "cell-bb5a658d5e1e8084",
     "locked": true,
     "schema_version": 3,
     "solution": false,
     "task": false
    }
   },
   "source": [
    "#### 2.1.3 Visualization\n",
    "Make a plot using matplotlib to visualize the activation functions between the input interval [-3,3]. The plot should have the following properties\n",
    " * one plot should contain a visualization of both `ReLU` and `sigmoid`;\n",
    " * x-axis: range of values between [-3,3], **hint**: np.linspace;\n",
    " * y-axis: the value of the activation functions at a given input `x`;\n",
    " * a legend explaining which line represents which activation function."
   ]
  },
  {
   "cell_type": "code",
   "execution_count": 240,
   "metadata": {
    "deletable": false,
    "nbgrader": {
     "cell_type": "code",
     "checksum": "585627420ebd3cf90bd69fc292728a9a",
     "grade": true,
     "grade_id": "cell-da02de0b7adca375",
     "locked": false,
     "points": 0,
     "schema_version": 3,
     "solution": true,
     "task": false
    }
   },
   "outputs": [
    {
     "data": {
      "image/png": "[encoded data removed]",
      "text/plain": [
       "<Figure size 432x288 with 1 Axes>"
      ]
     },
     "metadata": {
      "needs_background": "light"
     },
     "output_type": "display_data"
    }
   ],
   "source": [
    "# TODO: make a plot of ReLU and sigmoid values in the interval [-3,3]\n",
    "fig, ax = plt.subplots()\n",
    "\n",
    "x_range = np.linspace(-3, 3, 200)\n",
    "ax.plot(x_range, sigmoid(x_range))\n",
    "ax.plot(x_range, relu(x_range))\n",
    "\n",
    "ax.legend([\"Sigmoid\", \"ReLU\"]);\n",
    "#plt.show();"
   ]
  },
  {
   "cell_type": "markdown",
   "metadata": {
    "deletable": false,
    "editable": false,
    "nbgrader": {
     "cell_type": "markdown",
     "checksum": "4f642fa3cf506ff9e84b8f85752a00aa",
     "grade": false,
     "grade_id": "cell-43aeba42e164e39d",
     "locked": true,
     "schema_version": 3,
     "solution": false,
     "task": false
    }
   },
   "source": [
    "#### 2.1.4 Softmax\n",
    "You will use the softmax activation function / classifier as the final layer of your neural network later in the assignment. Implement `softmax` according to the formula below. The subtraction of the maximum value is there solely to avoid overflows in a practical implementation.\n",
    "\\begin{equation}\n",
    "softmax(z_i) = \\frac{e^{z_i - max(\\mathbf{z})}}{ \\sum^j e^{z_j - max(\\mathbf{z})}}\n",
    "\\end{equation}\n"
   ]
  },
  {
   "cell_type": "code",
   "execution_count": 241,
   "metadata": {
    "deletable": false,
    "nbgrader": {
     "cell_type": "code",
     "checksum": "71bf57cce44bb3c085fc27ce864eb81c",
     "grade": true,
     "grade_id": "cell-5394f9e490e15516",
     "locked": false,
     "points": 0,
     "schema_version": 3,
     "solution": true,
     "task": false
    }
   },
   "outputs": [],
   "source": [
    "def softmax(z):\n",
    "    \"\"\" Implement the softmax activation function\n",
    "    \n",
    "    Arguments:\n",
    "    z - the input of the activation function, shape (BATCH_SIZE, FEATURES) and type 'numpy.ndarray'\n",
    "    \n",
    "    Returns:\n",
    "    a - the output of the activation function, shape (BATCH_SIZE, FEATURES) and type 'numpy.ndarray'\n",
    "    \"\"\"\n",
    "    a = None # TODO\n",
    "    a = np.array([np.max(z, axis=1)]).T     # max finds the value of maximum element in an array , T is for transpose\n",
    "    a = np.subtract(z, a)                    # z - max(z)\n",
    "    a = np.exp(a)                            # exp(z - max(z))\n",
    "    a = a / np.array([np.sum(a, axis=1)]).T  # softmax(z)\n",
    "    return a"
   ]
  },
  {
   "cell_type": "code",
   "execution_count": 242,
   "metadata": {
    "deletable": false,
    "editable": false,
    "nbgrader": {
     "cell_type": "code",
     "checksum": "cabfbb3d29ece42e18832eea66be6e01",
     "grade": false,
     "grade_id": "cell-b2d6814311545a3e",
     "locked": true,
     "schema_version": 3,
     "solution": false,
     "task": false
    }
   },
   "outputs": [
    {
     "name": "stdout",
     "output_type": "stream",
     "text": [
      "Test passed\n"
     ]
    }
   ],
   "source": [
    "# test case\n",
    "test_softmax(softmax)"
   ]
  },
  {
   "cell_type": "markdown",
   "metadata": {
    "deletable": false,
    "editable": false,
    "nbgrader": {
     "cell_type": "markdown",
     "checksum": "0fd9d9221a179230297ac85f36b9686f",
     "grade": false,
     "grade_id": "cell-c674a3596595bc0c",
     "locked": true,
     "schema_version": 3,
     "solution": false,
     "task": false
    }
   },
   "source": [
    "What are the main differences between using `sigmoid` and `softmax` for multi-class classification problems? And when the number of classes is 2? (We will not grade this answer in detail.)"
   ]
  },
  {
   "cell_type": "markdown",
   "metadata": {
    "deletable": false,
    "nbgrader": {
     "cell_type": "markdown",
     "checksum": "302ae14a8dae6a3323a9003e1cc28015",
     "grade": true,
     "grade_id": "cell-935e9bef9d68670b",
     "locked": false,
     "points": 0,
     "schema_version": 3,
     "solution": true,
     "task": false
    }
   },
   "source": [
    "**Your answer:** \n",
    "\n",
    "- The Sigmoid function is mainly used in the final layer when we have a binary classification problem (two classes either 0 or 1) while the softmax is mainly used in the final layer when we have a multi-class classification problem.\n",
    "\n",
    "- When we have a vector of raw outputs at the end of a neural network a sigmoid or softmax functions turn these values into probabilities that make more sense. \n",
    "\n",
    "- A key point in the case of multi-class is that the sigmoid produces probabilities that are independent (not constrained to sum to 1) because it looks at each value separately, and so in case, we want more than one right answer sigmoid is the function. On the other hand, in the case of softmax function, the outputs are related and the probabilities are sum to 1 (when we are looking at only one right answer), and so in order to increase the probability of one class, at least one probability of the other classes should decrease.\n",
    "\n",
    "- The softmax function is a generalization of a sigmoid function, so in binary classification, softmax is the same as sigmoid."
   ]
  },
  {
   "cell_type": "markdown",
   "metadata": {
    "deletable": false,
    "editable": false,
    "nbgrader": {
     "cell_type": "markdown",
     "checksum": "4d3a68bcc2b3a15741e24ddd79bc4210",
     "grade": false,
     "grade_id": "cell-c6a18169c3533571",
     "locked": true,
     "schema_version": 3,
     "solution": false,
     "task": false
    }
   },
   "source": [
    "### 2.2 Initialize weights\n",
    "You will implement a helper function that takes the shape of a layer as input, and returns an initialized weight matrix $\\mathbf{W}$ and bias vector $\\mathbf{b}$ as output. The matrix $\\mathbf{W}$ should be sampled from a normal distribution with mean 0 and standard deviation 2, and $\\mathbf{b}$ should be initialized to all zeros."
   ]
  },
  {
   "cell_type": "code",
   "execution_count": 243,
   "metadata": {
    "deletable": false,
    "nbgrader": {
     "cell_type": "code",
     "checksum": "1e4fa2553b8eded0dbcf26a3f2042ebd",
     "grade": true,
     "grade_id": "cell-b1470eabcc0f1037",
     "locked": false,
     "points": 0,
     "schema_version": 3,
     "solution": true,
     "task": false
    }
   },
   "outputs": [],
   "source": [
    "def initialize_weights(layer_shape):\n",
    "    \"\"\" Implement initialization of the weight matrix and biases\n",
    "    \n",
    "    Arguments:\n",
    "    layer_shape - a tuple of length 2, type (int, int), that determines the dimensions of the weight matrix: (input_dim, output_dim)\n",
    "    \n",
    "    Returns:\n",
    "    w - a weight matrix with dimensions of 'layer_shape', (input_dim, output_dim), that is normally distributed with\n",
    "        properties mu = 0, stddev = 2. Has a type of 'numpy.ndarray'\n",
    "    b - a vector of initialized biases with shape (1,output_dim), all of value zero. Has a type of 'numpy.ndarray'\n",
    "    \"\"\"\n",
    "    w = None # TODO\n",
    "    b = None # TODO\n",
    "    w = np.random.normal(0, 2, layer_shape)\n",
    "    b = np.zeros((1, layer_shape[1]), dtype=np.int64)\n",
    "    \n",
    "    return w, b"
   ]
  },
  {
   "cell_type": "code",
   "execution_count": 244,
   "metadata": {
    "deletable": false,
    "editable": false,
    "nbgrader": {
     "cell_type": "code",
     "checksum": "928d61e1f4c176c13156294032dafd08",
     "grade": false,
     "grade_id": "cell-1bb5b6ba5c301bbb",
     "locked": true,
     "schema_version": 3,
     "solution": false,
     "task": false
    }
   },
   "outputs": [
    {
     "name": "stdout",
     "output_type": "stream",
     "text": [
      "Test passed\n"
     ]
    }
   ],
   "source": [
    "# test case\n",
    "test_initialize_weights(initialize_weights)"
   ]
  },
  {
   "cell_type": "markdown",
   "metadata": {
    "deletable": false,
    "editable": false,
    "nbgrader": {
     "cell_type": "markdown",
     "checksum": "72cb82f5de22d3e7ff450fe4b6da45e2",
     "grade": false,
     "grade_id": "cell-e81b2c242af5b016",
     "locked": true,
     "schema_version": 3,
     "solution": false,
     "task": false
    }
   },
   "source": [
    "### 2.3 Feed-forward neural network layer module\n",
    "To build a feed-forward neural network of arbitrary depth you are going to define a neural network layer as a module that can be used to stack layers upon each other. Your task is to complete the `Layer` class by following the descriptions in the comments. Recall the formula for forward propagation of an arbitrary layer $l$:\n",
    "\n",
    "\\begin{equation}\n",
    "\\mathbf{a}^{[l]} = g(\\mathbf{z}^{[l]}) = g(\\mathbf{a}^{[l-1]}\\mathbf{w}^{[l]} +\\mathbf{b}^{[l]})\n",
    "\\end{equation}\n",
    "\n",
    "where $g$ is the activation function given by `activation_fn`, which can be relu, sigmoid or softmax. "
   ]
  },
  {
   "cell_type": "code",
   "execution_count": 245,
   "metadata": {
    "deletable": false,
    "nbgrader": {
     "cell_type": "code",
     "checksum": "b0ae5067c50da7a48e6eeb4161331d51",
     "grade": true,
     "grade_id": "cell-6516b39eaca717d3",
     "locked": false,
     "points": 0,
     "schema_version": 3,
     "solution": true,
     "task": false
    }
   },
   "outputs": [],
   "source": [
    "class Layer:\n",
    "    \"\"\" \n",
    "    TODO: Build a class called Layer that satisfies the descriptions of the methods\n",
    "    Make sure to utilize the helper functions you implemented before\n",
    "    \"\"\"\n",
    "    \n",
    "    def __init__(self, input_dim, output_dim, activation_fn=relu):\n",
    "        \"\"\"\n",
    "        Arguments:\n",
    "        input_dim - the number of inputs of the layer. type int\n",
    "        output_dim - the number of outputs of the layer. type int\n",
    "        activation_fn - a reference to the activation function to use. Should be 'relu' as a default\n",
    "                        possible values are the 'relu', 'sigmoid' and 'softmax' functions you implemented earlier.\n",
    "                        Has the type 'function'\n",
    "        \n",
    "        Attributes:\n",
    "        w - the weight matrix of the layer, should be initialized with 'initialize_weights'\n",
    "            and has the shape (INPUT_FEATURES, OUTPUT_FEATURES) and type 'numpy.ndarray'\n",
    "        b - the bias vector of the layer, should be initialized with 'initialize_weights'\n",
    "            and has the shape (1, OUTPUT_FEATURES) and type 'numpy.ndarray'\n",
    "        activation_fn - a reference to the activation function to use.\n",
    "                        Has the type 'function'\n",
    "        \"\"\"\n",
    "        self.w, self.b = None, None # TODO\n",
    "        self.activation_fn = None # TODO\n",
    "        self.w, self.b = initialize_weights((input_dim, output_dim))\n",
    "        self.activation_fn = activation_fn\n",
    "        \n",
    "    def forward_prop(self, a_prev):\n",
    "        \"\"\" Implement the forward propagation module of the neural network layer\n",
    "        Should use whatever activation function that 'activation_fn' references to\n",
    "        \n",
    "        Arguments:\n",
    "        a_prev - the input to the layer, which may be the data 'X', or the output from the previous layer.\n",
    "            a_prev has the shape of (BATCH_SIZE, INPUT_FEATURES) and the type 'numpy.ndarray'\n",
    "        \n",
    "        Returns:\n",
    "        a - the output of the layer when performing forward propagation. Has the type 'numpy.ndarray'\n",
    "        \"\"\"\n",
    "        \n",
    "        a = None # TODO\n",
    "        a = self.activation_fn(np.dot(a_prev,self.w) + self.b) \n",
    "        #a = self.activation_fn(a_prev @ self.w + self.b) # @ will return matrix product of two arrays same as np.dot\n",
    "        \n",
    "        return a"
   ]
  },
  {
   "cell_type": "code",
   "execution_count": 246,
   "metadata": {
    "deletable": false,
    "editable": false,
    "nbgrader": {
     "cell_type": "code",
     "checksum": "207694d29fc3af1e7f3e41be42d20e90",
     "grade": false,
     "grade_id": "cell-28015fd0a0e48d4f",
     "locked": true,
     "schema_version": 3,
     "solution": false,
     "task": false
    }
   },
   "outputs": [
    {
     "name": "stdout",
     "output_type": "stream",
     "text": [
      "Test passed\n"
     ]
    }
   ],
   "source": [
    "# test case, be sure that you pass the previous activation function tests before running this test\n",
    "test_layer(Layer, relu, sigmoid, softmax)"
   ]
  },
  {
   "cell_type": "markdown",
   "metadata": {
    "deletable": false,
    "editable": false,
    "nbgrader": {
     "cell_type": "markdown",
     "checksum": "22ca449c6c1e82dd4527d45417726471",
     "grade": false,
     "grade_id": "cell-fd6d28ee4ddb8d3f",
     "locked": true,
     "schema_version": 3,
     "solution": false,
     "task": false
    }
   },
   "source": [
    "### 2.4 Backward propagation\n",
    "\n",
    "In the previous exercise you only implemented the forward propagation of the layer. However, when training a network, you would also need to implement the backward propagation of the layer in order to be able to update its weights. (You won't need to do this in this assignment since you will not train the network. Instead you will load the network weights, which are obtained from a previously trained network.)\n",
    "\n",
    "Provide a high-level explanation of how you would modify your current implementation of the `Layer` class in order to add the backward propagation. (We will not grade this in detail. It is enough that your answer demonstrates that you have thought about how to perform backprop using these classes.)"
   ]
  },
  {
   "attachments": {},
   "cell_type": "markdown",
   "metadata": {
    "deletable": false,
    "nbgrader": {
     "cell_type": "markdown",
     "checksum": "937026cd066c23f505b3e2b134e1552f",
     "grade": true,
     "grade_id": "cell-b9b9a482dad01259",
     "locked": false,
     "points": 0,
     "schema_version": 3,
     "solution": true,
     "task": false
    }
   },
   "source": [
    "**Your answer:** \n",
    "\n",
    "- In backward propagation, we need to repeatedly adjust the weights to minimize the difference between the true output and the predicted output (cost function).\n",
    "\n",
    "- First, we choose what algorithm to use for updating the weights and one option could be Stochastic Gradient Descent. After initializing the weights, we define a learning rate and then calculate the score from the function in this case (w*x + b), and depending on the loss function we choose we compute the gradient of the objective function and update the weight vector. We repeat the process for each pair of inputs (x, y).\n",
    "\n",
    "\n",
    "**The architecture will be something like this:**\n",
    "- Inputs: feature vector x, a list of outputs y\n",
    "\n",
    "Initialize the weight vector\n",
    "\n",
    "**repeat:**\n",
    "- select training pair (x,y)\n",
    "- specify the learning rate (λ)\n",
    "- Compute the gradient ∇ f of the objective fynction f(w,x,y)\n",
    "- Update the weight vector w = w - λ*∇ f\n",
    "\n",
    "*We compute the gradient of the loss with respect to all variables in the function.*\n",
    "\n",
    "**The steps:**\n",
    "\n",
    "- Considering a function f(x) = A(B(C(X))), where A,B and C are activation functions of different layers. Using chain rule we get: f'(x) = f'(A).A'(B).B'(C).C'(x). Using this method we can find the derivative of Cost with respect to weight W by C'(W) = C'(R).R'(Z).Z'(W) = (yhat - y).R'(Z).X  where X is the cost function, R activation function and Z is the weighted input. Using this equation we can calculate the derivative of cost with respect to any weight. \n",
    "\n",
    "We define a back_prop function:\n",
    "1. We find the error of the output layer (predicted output - actual output)\n",
    "2. Calculate the derivative of the activation function and apply it to the output layer error.\n",
    "3. We use the result from the previous step to check out how much the hidden layer contributes to the output error by computing a dot product with the layer's weight matrix, and we have new errors.\n",
    "4. We repeat what we did in step 2.\n",
    "5. We compute the cost derivative for weights by computing the dot product of the input layer with the hidden layer's error (input --> hidden). Then, we perform a dot product of the hidden layer input and the output error (hidden --> output).\n",
    "6. We update the weight vector w = w - λ*∇ f\n",
    "\n",
    "*We can adjust that according to how many layers we have*"
   ]
  },
  {
   "cell_type": "markdown",
   "metadata": {
    "deletable": false,
    "editable": false,
    "nbgrader": {
     "cell_type": "markdown",
     "checksum": "c7941611993fc969d3f2c2597d1d913e",
     "grade": false,
     "grade_id": "cell-85f0a612171d7ec1",
     "locked": true,
     "schema_version": 3,
     "solution": false,
     "task": false
    }
   },
   "source": [
    "### 2.5 Example - Logistic regression \n",
    "Binary logistic regression is a classifier where classification is performed by applying the sigmoid activation function to a linear combination of input values. You will now try out your neural network layer by utilizing it as a linear combination of input values and apply the sigmoid activation function to classify a simple problem. \n",
    "\n",
    "The cell below defines a dataset of 5 points of either class `0` or class `1`. Your assignment is to:  \n",
    "1. Create an instance of a `Layer` with the sigmoid activation function;\n",
    "2. Manually tune the weights `w` and bias `b` of your layer.\n",
    "\n",
    "You can use `test_logistic` to visually inspect how your classifier is performing. In order to  be successful in this exercise you need select values for the weights `w` and bias `b` such that all points are classified correctly. "
   ]
  },
  {
   "cell_type": "code",
   "execution_count": 247,
   "metadata": {
    "deletable": false,
    "editable": false,
    "nbgrader": {
     "cell_type": "code",
     "checksum": "2593f77cacac9650ae6036099a137ee7",
     "grade": false,
     "grade_id": "cell-706a31fbfd00b00a",
     "locked": true,
     "schema_version": 3,
     "solution": false,
     "task": false
    }
   },
   "outputs": [
    {
     "data": {
      "image/png": "[encoded data removed]",
      "text/plain": [
       "<Figure size 864x360 with 2 Axes>"
      ]
     },
     "metadata": {
      "needs_background": "light"
     },
     "output_type": "display_data"
    }
   ],
   "source": [
    "# Run this cell to create the dataset\n",
    "X_s = np.array([[1, 2],\n",
    "               [5, 3],\n",
    "               [8, 8],\n",
    "               [7, 5],\n",
    "               [3, 6]])\n",
    "Y_s = np.array([0,0,1,0,1])\n",
    "\n",
    "test_logistic(X_s, Y_s)"
   ]
  },
  {
   "cell_type": "code",
   "execution_count": 248,
   "metadata": {
    "deletable": false,
    "nbgrader": {
     "cell_type": "code",
     "checksum": "2a0da16975c4f8827fa3a5e3894645ee",
     "grade": true,
     "grade_id": "cell-5cbf8c79f9cf3a33",
     "locked": false,
     "points": 0,
     "schema_version": 3,
     "solution": true,
     "task": false
    }
   },
   "outputs": [
    {
     "data": {
      "image/png": "[encoded data removed]",
      "text/plain": [
       "<Figure size 864x360 with 2 Axes>"
      ]
     },
     "metadata": {
      "needs_background": "light"
     },
     "output_type": "display_data"
    },
    {
     "name": "stdout",
     "output_type": "stream",
     "text": [
      "test passed!\n"
     ]
    }
   ],
   "source": [
    "# create an instance of layer\n",
    "l = Layer(2,1,sigmoid)\n",
    "\n",
    "# TODO: manually tune weights\n",
    "l.w = None\n",
    "l.b = None\n",
    "l.w = np.array([[-1], [2]])\n",
    "l.b = -5\n",
    "\n",
    "# testing your choice of weights with this function\n",
    "test_logistic(X_s,Y_s,l,sigmoid)"
   ]
  },
  {
   "cell_type": "markdown",
   "metadata": {
    "deletable": false,
    "editable": false,
    "nbgrader": {
     "cell_type": "markdown",
     "checksum": "2c641933625de2019252db03f677b0bc",
     "grade": false,
     "grade_id": "cell-293888363cb5ee8a",
     "locked": true,
     "schema_version": 3,
     "solution": false,
     "task": false
    }
   },
   "source": [
    "### 2.6 Feed-forward neural network\n",
    "You will now define the actual neural network class. It is an L-layer neural network, meaning that the number of layers and neurons in each layer is specified as input by the user. Once again, you will only focus on implementing the forward propagation part.\n",
    "\n",
    "Read the descriptions in the comments and complete the **TODO**s."
   ]
  },
  {
   "cell_type": "code",
   "execution_count": 249,
   "metadata": {
    "deletable": false,
    "nbgrader": {
     "cell_type": "code",
     "checksum": "1ff0fc666682fe6cca0518a7eadd459d",
     "grade": true,
     "grade_id": "cell-fa7d9fb8891b586e",
     "locked": false,
     "points": 0,
     "schema_version": 3,
     "solution": true,
     "task": false
    }
   },
   "outputs": [],
   "source": [
    "class NeuralNetwork:\n",
    "    \"\"\" \n",
    "    TODO: Implement an L-layer neural network class by utilizing the Layer module defined above \n",
    "    Each layer should use 'relu' activation function, except for the output layer, which should use 'softmax'\n",
    "    \"\"\"\n",
    "    \n",
    "    def __init__(self, input_n, layer_dims):\n",
    "        \"\"\"\n",
    "        Arguments:\n",
    "        input_n    - the number of inputs to the network. Should be the same as the length of a data sample\n",
    "                     Has type int\n",
    "        layer_dims - a python list or tuple of the number of neurons in each layer. Layer 'l' should have a weight matrix  \n",
    "                     with the shape ('layer_dims[l-1]', 'layer_dims[l]'). \n",
    "                     'layer_dims[-1]' is the dimension of the output layer.\n",
    "                     Layer 1 should have the dimensions ('input_n', 'layer_dims[0]').\n",
    "                     len(layer_dims) is the depth of the neural network\n",
    "        Attributes:\n",
    "        input_n - the number of inputs to the network. Has type int\n",
    "        layers  - a python list of each layer in the network. Each layer should use the 'relu' activation function,\n",
    "                  except for the last layer, which should use 'softmax'. \n",
    "                  Has type 'list' containing layers of type 'Layer'\n",
    "        \"\"\"\n",
    "        \n",
    "        self.input_n = None # TODO\n",
    "        self.layers = None # TODO\n",
    "        self.input_n = input_n\n",
    "        # include layer 0 which is number of inputs (Layer 1 should have the dimensions ('input_n', 'layer_dims[0]'))\n",
    "        dimentions = [input_n] + layer_dims[:] \n",
    "        self.layers = [Layer(dimentions[i-1], dimentions[i]) for i in range(1, len(layer_dims))]\n",
    "        self.layers.append(Layer(dimentions[-2], dimentions[-1], softmax)) # append a final layer with softmax\n",
    "        \n",
    "    def forward_prop(self, x):\n",
    "        \"\"\" \n",
    "        Implement the forward propagation procedure through the entire network, from input to output.\n",
    "        You will now connect each layer's forward propagation function into a chain of layer-wise forward propagations.\n",
    "        \n",
    "        Arguments:\n",
    "        x - the input data, which has the shape (BATCH_SIZE, NUM_FEATURES) and type 'numpy.ndarray'\n",
    "        \n",
    "        Returns:\n",
    "        a - the output of the last layer after forward propagating through the every layer in 'layers'.\n",
    "            Should have the dimension (BATCH_SIZE, layers[-1].w.shape[1]) and type 'numpy.ndarray'\n",
    "        \"\"\"\n",
    "        a = None # TODO\n",
    "        a = x\n",
    "        for l in self.layers:\n",
    "            a = l.forward_prop(a)\n",
    "            \n",
    "        return a"
   ]
  },
  {
   "cell_type": "code",
   "execution_count": 250,
   "metadata": {
    "deletable": false,
    "editable": false,
    "nbgrader": {
     "cell_type": "code",
     "checksum": "8e62fb6da9b6207a4e580fe40c66612d",
     "grade": false,
     "grade_id": "cell-cff2a46b776b1af0",
     "locked": true,
     "schema_version": 3,
     "solution": false,
     "task": false
    }
   },
   "outputs": [
    {
     "name": "stdout",
     "output_type": "stream",
     "text": [
      "Test passed\n"
     ]
    }
   ],
   "source": [
    "# test case\n",
    "test_neuralnetwork(NeuralNetwork)"
   ]
  },
  {
   "cell_type": "markdown",
   "metadata": {
    "deletable": false,
    "editable": false,
    "nbgrader": {
     "cell_type": "markdown",
     "checksum": "52d572ec3968ef4ad48b62d4d1c2dec3",
     "grade": false,
     "grade_id": "cell-64d6b43dc22f747c",
     "locked": true,
     "schema_version": 3,
     "solution": false,
     "task": false
    }
   },
   "source": [
    "## 3 Making predictions with a neural network\n",
    "In practice, its common to load weights to your neural network that has already been trained.  \n",
    "In this section, you will create an instance of your neural network, load trained weights from disk, and perform predictions.\n",
    "\n",
    "### 3.1 Load weights from disk\n",
    "Create an instance of `NeuralNetwork` with input size $28 \\times 28 = 784$, two hidden layers of size 100 and an output layer of size 10. Thereafter, load the weights contained in `./utils/ann_weights.npz` to your network."
   ]
  },
  {
   "cell_type": "code",
   "execution_count": 251,
   "metadata": {
    "deletable": false,
    "nbgrader": {
     "cell_type": "code",
     "checksum": "2ae486965b482eed07c98459c56d8d4e",
     "grade": true,
     "grade_id": "cell-c856ed9bd5743c0e",
     "locked": false,
     "points": 0,
     "schema_version": 3,
     "solution": true,
     "task": false
    }
   },
   "outputs": [],
   "source": [
    "ann = None # TODO: create instance of ann\n",
    "ann = NeuralNetwork(784, [100, 100, 10])\n",
    "\n",
    "# load weights\n",
    "weights = np.load('./utils/ann_weights.npz')\n",
    "for l in range(len(ann.layers)):\n",
    "    ann.layers[l].w = weights['w' + str(l)]\n",
    "    ann.layers[l].b = weights['b' + str(l)]"
   ]
  },
  {
   "cell_type": "markdown",
   "metadata": {
    "deletable": false,
    "editable": false,
    "nbgrader": {
     "cell_type": "markdown",
     "checksum": "8472c019a2b21e82bcb5b62149c27520",
     "grade": false,
     "grade_id": "cell-b6ec82c191559e0b",
     "locked": true,
     "schema_version": 3,
     "solution": false,
     "task": false
    }
   },
   "source": [
    "### 3.2 Prediction\n",
    "Now, implement the function `predict_and_correct` which does the following:\n",
    "1. Load `./utils/test_data.npz` from disk;\n",
    "2. Extract test data `X` and `Y` from file;\n",
    "3. Perform for every pair of data:  \n",
    "    a. plot the image `x`; <br> \n",
    "    b. make a prediction using your neural network by forward propagating and picking the most probable class;     \n",
    "    c. check whether the prediction is correct (compare with the ground truth number `y`);    \n",
    "    d. print the predicted label and wether it was correct or not. "
   ]
  },
  {
   "cell_type": "code",
   "execution_count": 252,
   "metadata": {
    "deletable": false,
    "nbgrader": {
     "cell_type": "code",
     "checksum": "621dea2f1e259287143c65e0632af3f6",
     "grade": true,
     "grade_id": "cell-3c4a57005fa3ae06",
     "locked": false,
     "points": 0,
     "schema_version": 3,
     "solution": true,
     "task": false
    }
   },
   "outputs": [
    {
     "data": {
      "image/png": "[encoded data removed]",
      "text/plain": [
       "<Figure size 432x288 with 1 Axes>"
      ]
     },
     "metadata": {
      "needs_background": "light"
     },
     "output_type": "display_data"
    },
    {
     "name": "stdout",
     "output_type": "stream",
     "text": [
      "The prediction was 7, it was correct!\n"
     ]
    },
    {
     "data": {
      "image/png": "[encoded data removed]",
      "text/plain": [
       "<Figure size 432x288 with 1 Axes>"
      ]
     },
     "metadata": {
      "needs_background": "light"
     },
     "output_type": "display_data"
    },
    {
     "name": "stdout",
     "output_type": "stream",
     "text": [
      "The prediction was 3, it was correct!\n"
     ]
    },
    {
     "data": {
      "image/png": "[encoded data removed]",
      "text/plain": [
       "<Figure size 432x288 with 1 Axes>"
      ]
     },
     "metadata": {
      "needs_background": "light"
     },
     "output_type": "display_data"
    },
    {
     "name": "stdout",
     "output_type": "stream",
     "text": [
      "The prediction was 9, it was correct!\n"
     ]
    },
    {
     "data": {
      "image/png": "[encoded data removed]",
      "text/plain": [
       "<Figure size 432x288 with 1 Axes>"
      ]
     },
     "metadata": {
      "needs_background": "light"
     },
     "output_type": "display_data"
    },
    {
     "name": "stdout",
     "output_type": "stream",
     "text": [
      "The prediction was 5, it was correct!\n"
     ]
    },
    {
     "data": {
      "image/png": "[encoded data removed]",
      "text/plain": [
       "<Figure size 432x288 with 1 Axes>"
      ]
     },
     "metadata": {
      "needs_background": "light"
     },
     "output_type": "display_data"
    },
    {
     "name": "stdout",
     "output_type": "stream",
     "text": [
      "The prediction was 7, it was correct!\n"
     ]
    },
    {
     "data": {
      "image/png": "[encoded data removed]",
      "text/plain": [
       "<Figure size 432x288 with 1 Axes>"
      ]
     },
     "metadata": {
      "needs_background": "light"
     },
     "output_type": "display_data"
    },
    {
     "name": "stdout",
     "output_type": "stream",
     "text": [
      "The prediction was 6, it was correct!\n"
     ]
    },
    {
     "data": {
      "image/png": "[encoded data removed]",
      "text/plain": [
       "<Figure size 432x288 with 1 Axes>"
      ]
     },
     "metadata": {
      "needs_background": "light"
     },
     "output_type": "display_data"
    },
    {
     "name": "stdout",
     "output_type": "stream",
     "text": [
      "The prediction was 6, it was correct!\n"
     ]
    },
    {
     "data": {
      "image/png": "[encoded data removed]",
      "text/plain": [
       "<Figure size 432x288 with 1 Axes>"
      ]
     },
     "metadata": {
      "needs_background": "light"
     },
     "output_type": "display_data"
    },
    {
     "name": "stdout",
     "output_type": "stream",
     "text": [
      "The prediction was 3, it was correct!\n"
     ]
    },
    {
     "data": {
      "image/png": "[encoded data removed]",
      "text/plain": [
       "<Figure size 432x288 with 1 Axes>"
      ]
     },
     "metadata": {
      "needs_background": "light"
     },
     "output_type": "display_data"
    },
    {
     "name": "stdout",
     "output_type": "stream",
     "text": [
      "The prediction was 2, it was correct!\n"
     ]
    },
    {
     "data": {
      "image/png": "[encoded data removed]",
      "text/plain": [
       "<Figure size 432x288 with 1 Axes>"
      ]
     },
     "metadata": {
      "needs_background": "light"
     },
     "output_type": "display_data"
    },
    {
     "name": "stdout",
     "output_type": "stream",
     "text": [
      "The prediction was 1, it was incorrect!\n"
     ]
    },
    {
     "data": {
      "image/png": "[encoded data removed]",
      "text/plain": [
       "<Figure size 432x288 with 1 Axes>"
      ]
     },
     "metadata": {
      "needs_background": "light"
     },
     "output_type": "display_data"
    },
    {
     "name": "stdout",
     "output_type": "stream",
     "text": [
      "The prediction was 3, it was correct!\n"
     ]
    }
   ],
   "source": [
    "def predict_and_correct(ann):\n",
    "    \"\"\" Load test data from file and predict using your neural network. \n",
    "    Make a prediction for ever data sample and print it along with wether it was a correct prediction or not\n",
    "    \n",
    "    Arguments:\n",
    "    ann - the neural network to use for prediction. Has type `NeuralNetwork`\n",
    "    \n",
    "    Returns: # for test case purposes\n",
    "    A `numpy.ndarray` of predicted classes (integers [0-9]) with shape (11,)\n",
    "    \"\"\"\n",
    "    data = np.load('./utils/test_data.npz')\n",
    "    X, cls = data['X'], data['Y']\n",
    "    \n",
    "    cls_preds = None # TODO: make a predicted number for every image in X\n",
    "    ann_probs = ann.forward_prop(X)\n",
    "    cls_preds = np.argmax(ann_probs, axis = 1) # argmax return indices of the max element in each row.\n",
    "    \n",
    "    for i in range(len(X)):\n",
    "        plt.imshow(X[i].reshape(28,28), cmap='gray')\n",
    "        plt.show()\n",
    "        correct = cls_preds[i] == cls[i]\n",
    "        print('The prediction was {0}, it was {1}!'.format(cls_preds[i], 'correct' if correct else 'incorrect'))\n",
    "        \n",
    "    return cls_preds\n",
    "        \n",
    "cls_pred = predict_and_correct(ann)"
   ]
  },
  {
   "cell_type": "code",
   "execution_count": 253,
   "metadata": {
    "deletable": false,
    "editable": false,
    "nbgrader": {
     "cell_type": "code",
     "checksum": "2997b0ab12a40067133c5c8635f0cd27",
     "grade": false,
     "grade_id": "cell-367000fc5ac1c33f",
     "locked": true,
     "schema_version": 3,
     "solution": false,
     "task": false
    }
   },
   "outputs": [
    {
     "name": "stdout",
     "output_type": "stream",
     "text": [
      "Test passed, you have implemented your neural network correctly!\n"
     ]
    }
   ],
   "source": [
    "# final test case\n",
    "test_predict_and_correct_answer(cls_pred)"
   ]
  },
  {
   "cell_type": "markdown",
   "metadata": {
    "deletable": false,
    "editable": false,
    "nbgrader": {
     "cell_type": "markdown",
     "checksum": "a49e915629a462648817d0ea9d68cb01",
     "grade": false,
     "grade_id": "cell-0de0870e27634efa",
     "locked": true,
     "schema_version": 3,
     "solution": false,
     "task": false
    }
   },
   "source": [
    "## Congratulations!\n",
    "You have successfully implemented a neural network from scratch using only NumPy!  "
   ]
  }
 ],
 "metadata": {
  "kernelspec": {
   "display_name": "Python 3",
   "language": "python",
   "name": "python3"
  },
  "language_info": {
   "codemirror_mode": {
    "name": "ipython",
    "version": 3
   },
   "file_extension": ".py",
   "mimetype": "text/x-python",
   "name": "python",
   "nbconvert_exporter": "python",
   "pygments_lexer": "ipython3",
   "version": "3.7.7"
  }
 },
 "nbformat": 4,
 "nbformat_minor": 2
}
