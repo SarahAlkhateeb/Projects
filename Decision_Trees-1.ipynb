{
  "nbformat": 4,
  "nbformat_minor": 0,
  "metadata": {
    "colab": {
      "name": "Decision Trees.ipynb",
      "provenance": [],
      "collapsed_sections": []
    },
    "kernelspec": {
      "name": "python3",
      "display_name": "Python 3"
    }
  },
  "cells": [
    {
      "cell_type": "markdown",
      "metadata": {
        "id": "yPVg7KFMimSx",
        "colab_type": "text"
      },
      "source": [
        "Assignment 1A  \n",
        "Camille Porter, Katalin Ferenc, Sarah Alkhateeb"
      ]
    },
    {
      "cell_type": "code",
      "metadata": {
        "id": "uwQASaO_iqg_",
        "colab_type": "code",
        "colab": {}
      },
      "source": [
        "import pandas as pd\n",
        "from sklearn.model_selection import train_test_split\n",
        "import numpy as np\n",
        "\n",
        "import io\n",
        "from google.colab import files"
      ],
      "execution_count": 0,
      "outputs": []
    },
    {
      "cell_type": "markdown",
      "metadata": {
        "id": "bOCaP3ZR9ykk",
        "colab_type": "text"
      },
      "source": [
        "## Task 1: A classification example: fetal heart condition diagnosis\n",
        "\n",
        "### Step 1. Reading the data"
      ]
    },
    {
      "cell_type": "code",
      "metadata": {
        "id": "q70c8oIMi97H",
        "colab_type": "code",
        "outputId": "ff6d5b68-f501-413b-8814-ea1ac69395d3",
        "colab": {
          "resources": {
            "http://localhost:8080/nbextensions/google.colab/files.js": {
              "data": "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",
              "ok": true,
              "headers": [
                [
                  "content-type",
                  "application/javascript"
                ]
              ],
              "status": 200,
              "status_text": "OK"
            }
          },
          "base_uri": "https://localhost:8080/",
          "height": 74
        }
      },
      "source": [
        "# Upload and read the CSV file.\n",
        "uploaded = files.upload()\n",
        "data = pd.read_csv(io.BytesIO(uploaded['CTG.csv']), header = 1)"
      ],
      "execution_count": 0,
      "outputs": [
        {
          "output_type": "display_data",
          "data": {
            "text/html": [
              "\n",
              "     <input type=\"file\" id=\"files-342f77fa-2b21-445a-8af5-b2386cf50ab3\" name=\"files[]\" multiple disabled />\n",
              "     <output id=\"result-342f77fa-2b21-445a-8af5-b2386cf50ab3\">\n",
              "      Upload widget is only available when the cell has been executed in the\n",
              "      current browser session. Please rerun this cell to enable.\n",
              "      </output>\n",
              "      <script src=\"/nbextensions/google.colab/files.js\"></script> "
            ],
            "text/plain": [
              "<IPython.core.display.HTML object>"
            ]
          },
          "metadata": {
            "tags": []
          }
        },
        {
          "output_type": "stream",
          "text": [
            "Saving CTG.csv to CTG.csv\n"
          ],
          "name": "stdout"
        }
      ]
    },
    {
      "cell_type": "code",
      "metadata": {
        "id": "vPrNwlrSo2Tn",
        "colab_type": "code",
        "outputId": "14721f70-26cb-4bd9-fac4-473b444b9788",
        "colab": {
          "base_uri": "https://localhost:8080/",
          "height": 243
        }
      },
      "source": [
        "data.head()"
      ],
      "execution_count": 0,
      "outputs": [
        {
          "output_type": "execute_result",
          "data": {
            "text/html": [
              "<div>\n",
              "<style scoped>\n",
              "    .dataframe tbody tr th:only-of-type {\n",
              "        vertical-align: middle;\n",
              "    }\n",
              "\n",
              "    .dataframe tbody tr th {\n",
              "        vertical-align: top;\n",
              "    }\n",
              "\n",
              "    .dataframe thead th {\n",
              "        text-align: right;\n",
              "    }\n",
              "</style>\n",
              "<table border=\"1\" class=\"dataframe\">\n",
              "  <thead>\n",
              "    <tr style=\"text-align: right;\">\n",
              "      <th></th>\n",
              "      <th>b</th>\n",
              "      <th>e</th>\n",
              "      <th>AC</th>\n",
              "      <th>FM</th>\n",
              "      <th>UC</th>\n",
              "      <th>DL</th>\n",
              "      <th>DS</th>\n",
              "      <th>DP</th>\n",
              "      <th>DR</th>\n",
              "      <th>Unnamed: 9</th>\n",
              "      <th>LB</th>\n",
              "      <th>AC.1</th>\n",
              "      <th>FM.1</th>\n",
              "      <th>UC.1</th>\n",
              "      <th>DL.1</th>\n",
              "      <th>DS.1</th>\n",
              "      <th>DP.1</th>\n",
              "      <th>ASTV</th>\n",
              "      <th>MSTV</th>\n",
              "      <th>ALTV</th>\n",
              "      <th>MLTV</th>\n",
              "      <th>Width</th>\n",
              "      <th>Min</th>\n",
              "      <th>Max</th>\n",
              "      <th>Nmax</th>\n",
              "      <th>Nzeros</th>\n",
              "      <th>Mode</th>\n",
              "      <th>Mean</th>\n",
              "      <th>Median</th>\n",
              "      <th>Variance</th>\n",
              "      <th>Tendency</th>\n",
              "      <th>Unnamed: 31</th>\n",
              "      <th>A</th>\n",
              "      <th>B</th>\n",
              "      <th>C</th>\n",
              "      <th>D</th>\n",
              "      <th>E</th>\n",
              "      <th>AD</th>\n",
              "      <th>DE</th>\n",
              "      <th>LD</th>\n",
              "      <th>FS</th>\n",
              "      <th>SUSP</th>\n",
              "      <th>Unnamed: 42</th>\n",
              "      <th>CLASS</th>\n",
              "      <th>Unnamed: 44</th>\n",
              "      <th>NSP</th>\n",
              "    </tr>\n",
              "  </thead>\n",
              "  <tbody>\n",
              "    <tr>\n",
              "      <th>0</th>\n",
              "      <td>240.0</td>\n",
              "      <td>357.0</td>\n",
              "      <td>0.0</td>\n",
              "      <td>0.0</td>\n",
              "      <td>0.0</td>\n",
              "      <td>0.0</td>\n",
              "      <td>0.0</td>\n",
              "      <td>0.0</td>\n",
              "      <td>0.0</td>\n",
              "      <td>NaN</td>\n",
              "      <td>120.0</td>\n",
              "      <td>0.000</td>\n",
              "      <td>0.0</td>\n",
              "      <td>0.000</td>\n",
              "      <td>0.000</td>\n",
              "      <td>0.0</td>\n",
              "      <td>0.0</td>\n",
              "      <td>73.0</td>\n",
              "      <td>0.5</td>\n",
              "      <td>43.0</td>\n",
              "      <td>2.4</td>\n",
              "      <td>64.0</td>\n",
              "      <td>62.0</td>\n",
              "      <td>126.0</td>\n",
              "      <td>2.0</td>\n",
              "      <td>0.0</td>\n",
              "      <td>120.0</td>\n",
              "      <td>137.0</td>\n",
              "      <td>121.0</td>\n",
              "      <td>73.0</td>\n",
              "      <td>1.0</td>\n",
              "      <td>NaN</td>\n",
              "      <td>-1.0</td>\n",
              "      <td>-1.0</td>\n",
              "      <td>-1.0</td>\n",
              "      <td>-1.0</td>\n",
              "      <td>-1.0</td>\n",
              "      <td>-1.0</td>\n",
              "      <td>-1.0</td>\n",
              "      <td>-1.0</td>\n",
              "      <td>1.0</td>\n",
              "      <td>-1.0</td>\n",
              "      <td>NaN</td>\n",
              "      <td>9.0</td>\n",
              "      <td>NaN</td>\n",
              "      <td>2.0</td>\n",
              "    </tr>\n",
              "    <tr>\n",
              "      <th>1</th>\n",
              "      <td>5.0</td>\n",
              "      <td>632.0</td>\n",
              "      <td>4.0</td>\n",
              "      <td>0.0</td>\n",
              "      <td>4.0</td>\n",
              "      <td>2.0</td>\n",
              "      <td>0.0</td>\n",
              "      <td>0.0</td>\n",
              "      <td>0.0</td>\n",
              "      <td>NaN</td>\n",
              "      <td>132.0</td>\n",
              "      <td>0.006</td>\n",
              "      <td>0.0</td>\n",
              "      <td>0.006</td>\n",
              "      <td>0.003</td>\n",
              "      <td>0.0</td>\n",
              "      <td>0.0</td>\n",
              "      <td>17.0</td>\n",
              "      <td>2.1</td>\n",
              "      <td>0.0</td>\n",
              "      <td>10.4</td>\n",
              "      <td>130.0</td>\n",
              "      <td>68.0</td>\n",
              "      <td>198.0</td>\n",
              "      <td>6.0</td>\n",
              "      <td>1.0</td>\n",
              "      <td>141.0</td>\n",
              "      <td>136.0</td>\n",
              "      <td>140.0</td>\n",
              "      <td>12.0</td>\n",
              "      <td>0.0</td>\n",
              "      <td>NaN</td>\n",
              "      <td>-1.0</td>\n",
              "      <td>-1.0</td>\n",
              "      <td>-1.0</td>\n",
              "      <td>-1.0</td>\n",
              "      <td>-1.0</td>\n",
              "      <td>1.0</td>\n",
              "      <td>-1.0</td>\n",
              "      <td>-1.0</td>\n",
              "      <td>-1.0</td>\n",
              "      <td>-1.0</td>\n",
              "      <td>NaN</td>\n",
              "      <td>6.0</td>\n",
              "      <td>NaN</td>\n",
              "      <td>1.0</td>\n",
              "    </tr>\n",
              "    <tr>\n",
              "      <th>2</th>\n",
              "      <td>177.0</td>\n",
              "      <td>779.0</td>\n",
              "      <td>2.0</td>\n",
              "      <td>0.0</td>\n",
              "      <td>5.0</td>\n",
              "      <td>2.0</td>\n",
              "      <td>0.0</td>\n",
              "      <td>0.0</td>\n",
              "      <td>0.0</td>\n",
              "      <td>NaN</td>\n",
              "      <td>133.0</td>\n",
              "      <td>0.003</td>\n",
              "      <td>0.0</td>\n",
              "      <td>0.008</td>\n",
              "      <td>0.003</td>\n",
              "      <td>0.0</td>\n",
              "      <td>0.0</td>\n",
              "      <td>16.0</td>\n",
              "      <td>2.1</td>\n",
              "      <td>0.0</td>\n",
              "      <td>13.4</td>\n",
              "      <td>130.0</td>\n",
              "      <td>68.0</td>\n",
              "      <td>198.0</td>\n",
              "      <td>5.0</td>\n",
              "      <td>1.0</td>\n",
              "      <td>141.0</td>\n",
              "      <td>135.0</td>\n",
              "      <td>138.0</td>\n",
              "      <td>13.0</td>\n",
              "      <td>0.0</td>\n",
              "      <td>NaN</td>\n",
              "      <td>-1.0</td>\n",
              "      <td>-1.0</td>\n",
              "      <td>-1.0</td>\n",
              "      <td>-1.0</td>\n",
              "      <td>-1.0</td>\n",
              "      <td>1.0</td>\n",
              "      <td>-1.0</td>\n",
              "      <td>-1.0</td>\n",
              "      <td>-1.0</td>\n",
              "      <td>-1.0</td>\n",
              "      <td>NaN</td>\n",
              "      <td>6.0</td>\n",
              "      <td>NaN</td>\n",
              "      <td>1.0</td>\n",
              "    </tr>\n",
              "    <tr>\n",
              "      <th>3</th>\n",
              "      <td>411.0</td>\n",
              "      <td>1192.0</td>\n",
              "      <td>2.0</td>\n",
              "      <td>0.0</td>\n",
              "      <td>6.0</td>\n",
              "      <td>2.0</td>\n",
              "      <td>0.0</td>\n",
              "      <td>0.0</td>\n",
              "      <td>0.0</td>\n",
              "      <td>NaN</td>\n",
              "      <td>134.0</td>\n",
              "      <td>0.003</td>\n",
              "      <td>0.0</td>\n",
              "      <td>0.008</td>\n",
              "      <td>0.003</td>\n",
              "      <td>0.0</td>\n",
              "      <td>0.0</td>\n",
              "      <td>16.0</td>\n",
              "      <td>2.4</td>\n",
              "      <td>0.0</td>\n",
              "      <td>23.0</td>\n",
              "      <td>117.0</td>\n",
              "      <td>53.0</td>\n",
              "      <td>170.0</td>\n",
              "      <td>11.0</td>\n",
              "      <td>0.0</td>\n",
              "      <td>137.0</td>\n",
              "      <td>134.0</td>\n",
              "      <td>137.0</td>\n",
              "      <td>13.0</td>\n",
              "      <td>1.0</td>\n",
              "      <td>NaN</td>\n",
              "      <td>-1.0</td>\n",
              "      <td>-1.0</td>\n",
              "      <td>-1.0</td>\n",
              "      <td>-1.0</td>\n",
              "      <td>-1.0</td>\n",
              "      <td>1.0</td>\n",
              "      <td>-1.0</td>\n",
              "      <td>-1.0</td>\n",
              "      <td>-1.0</td>\n",
              "      <td>-1.0</td>\n",
              "      <td>NaN</td>\n",
              "      <td>6.0</td>\n",
              "      <td>NaN</td>\n",
              "      <td>1.0</td>\n",
              "    </tr>\n",
              "    <tr>\n",
              "      <th>4</th>\n",
              "      <td>533.0</td>\n",
              "      <td>1147.0</td>\n",
              "      <td>4.0</td>\n",
              "      <td>0.0</td>\n",
              "      <td>5.0</td>\n",
              "      <td>0.0</td>\n",
              "      <td>0.0</td>\n",
              "      <td>0.0</td>\n",
              "      <td>0.0</td>\n",
              "      <td>NaN</td>\n",
              "      <td>132.0</td>\n",
              "      <td>0.007</td>\n",
              "      <td>0.0</td>\n",
              "      <td>0.008</td>\n",
              "      <td>0.000</td>\n",
              "      <td>0.0</td>\n",
              "      <td>0.0</td>\n",
              "      <td>16.0</td>\n",
              "      <td>2.4</td>\n",
              "      <td>0.0</td>\n",
              "      <td>19.9</td>\n",
              "      <td>117.0</td>\n",
              "      <td>53.0</td>\n",
              "      <td>170.0</td>\n",
              "      <td>9.0</td>\n",
              "      <td>0.0</td>\n",
              "      <td>137.0</td>\n",
              "      <td>136.0</td>\n",
              "      <td>138.0</td>\n",
              "      <td>11.0</td>\n",
              "      <td>1.0</td>\n",
              "      <td>NaN</td>\n",
              "      <td>-1.0</td>\n",
              "      <td>1.0</td>\n",
              "      <td>-1.0</td>\n",
              "      <td>-1.0</td>\n",
              "      <td>-1.0</td>\n",
              "      <td>-1.0</td>\n",
              "      <td>-1.0</td>\n",
              "      <td>-1.0</td>\n",
              "      <td>-1.0</td>\n",
              "      <td>-1.0</td>\n",
              "      <td>NaN</td>\n",
              "      <td>2.0</td>\n",
              "      <td>NaN</td>\n",
              "      <td>1.0</td>\n",
              "    </tr>\n",
              "  </tbody>\n",
              "</table>\n",
              "</div>"
            ],
            "text/plain": [
              "       b       e   AC   FM   UC  ...  SUSP  Unnamed: 42  CLASS  Unnamed: 44  NSP\n",
              "0  240.0   357.0  0.0  0.0  0.0  ...  -1.0          NaN    9.0          NaN  2.0\n",
              "1    5.0   632.0  4.0  0.0  4.0  ...  -1.0          NaN    6.0          NaN  1.0\n",
              "2  177.0   779.0  2.0  0.0  5.0  ...  -1.0          NaN    6.0          NaN  1.0\n",
              "3  411.0  1192.0  2.0  0.0  6.0  ...  -1.0          NaN    6.0          NaN  1.0\n",
              "4  533.0  1147.0  4.0  0.0  5.0  ...  -1.0          NaN    2.0          NaN  1.0\n",
              "\n",
              "[5 rows x 46 columns]"
            ]
          },
          "metadata": {
            "tags": []
          },
          "execution_count": 3
        }
      ]
    },
    {
      "cell_type": "code",
      "metadata": {
        "id": "lyju7SDHl5kP",
        "colab_type": "code",
        "outputId": "d7fb8e29-94a6-4d4f-a501-d40f8daf284d",
        "colab": {
          "base_uri": "https://localhost:8080/",
          "height": 279
        }
      },
      "source": [
        "# Select the relevant numerical columns.\n",
        "selected_cols = ['LB', 'AC', 'FM', 'UC', 'DL', 'DS', 'DP', 'ASTV', 'MSTV', 'ALTV',\n",
        "                 'MLTV', 'Width', 'Min', 'Max', 'Nmax', 'Nzeros', 'Mode', 'Mean',\n",
        "                 'Median', 'Variance', 'Tendency', 'NSP']\n",
        "data = data[selected_cols].dropna()\n",
        "\n",
        "# Shuffle the dataset.\n",
        "data_shuffled = data.sample(frac=1.0, random_state=0)\n",
        "\n",
        "# Split into input part X and output part Y.\n",
        "X = data_shuffled.drop('NSP', axis=1)\n",
        "print(X.head())\n",
        "\n",
        "# Map the diagnosis code to a human-readable label.\n",
        "def to_label(y):\n",
        "    return [None, 'normal', 'suspect', 'pathologic'][(int(y))]\n",
        "\n",
        "Y = data_shuffled['NSP'].apply(to_label)\n",
        "print(Y.head())\n",
        "\n",
        "# Partition the data into training and test sets.\n",
        "Xtrain, Xtest, Ytrain, Ytest = train_test_split(X, Y, test_size=0.2, random_state=0)"
      ],
      "execution_count": 0,
      "outputs": [
        {
          "output_type": "stream",
          "text": [
            "         LB   AC   FM   UC   DL  ...   Mode   Mean  Median  Variance  Tendency\n",
            "658   130.0  1.0  0.0  3.0  0.0  ...  134.0  133.0   135.0       1.0       0.0\n",
            "1734  134.0  9.0  1.0  8.0  5.0  ...  150.0  146.0   150.0      33.0       0.0\n",
            "1226  125.0  1.0  0.0  4.0  0.0  ...  131.0  130.0   132.0       1.0       0.0\n",
            "1808  143.0  0.0  0.0  1.0  0.0  ...  145.0  144.0   146.0       1.0       0.0\n",
            "825   152.0  0.0  0.0  4.0  0.0  ...  159.0  156.0   158.0       1.0       1.0\n",
            "\n",
            "[5 rows x 21 columns]\n",
            "658      normal\n",
            "1734     normal\n",
            "1226     normal\n",
            "1808     normal\n",
            "825     suspect\n",
            "Name: NSP, dtype: object\n"
          ],
          "name": "stdout"
        }
      ]
    },
    {
      "cell_type": "markdown",
      "metadata": {
        "id": "Z3SlJ3zY96Q9",
        "colab_type": "text"
      },
      "source": [
        "### Step 2. Training the baseline classifier"
      ]
    },
    {
      "cell_type": "code",
      "metadata": {
        "id": "HucM61uFrrSF",
        "colab_type": "code",
        "outputId": "534602a3-6905-4513-a4d7-0ea5b45fe9a9",
        "colab": {
          "base_uri": "https://localhost:8080/",
          "height": 36
        }
      },
      "source": [
        "# Creating a baseline using the most common result\n",
        "from sklearn.dummy import DummyClassifier\n",
        "\n",
        "clf = DummyClassifier(strategy='most_frequent')\n",
        "\n",
        "# and see how it performs over the dataset using cross validation\n",
        "\n",
        "from sklearn.model_selection import cross_val_score\n",
        "\n",
        "cross_val_score(clf, Xtrain, Ytrain).mean()"
      ],
      "execution_count": 0,
      "outputs": [
        {
          "output_type": "execute_result",
          "data": {
            "text/plain": [
              "0.7805882352941176"
            ]
          },
          "metadata": {
            "tags": []
          },
          "execution_count": 5
        }
      ]
    },
    {
      "cell_type": "markdown",
      "metadata": {
        "id": "X2ykbqWesc5N",
        "colab_type": "text"
      },
      "source": [
        "Using a cross-validation over the training set and calculating the classification accuracy on each fold, we carried out 5 separate learning experiments (5 folds) where we pick one test set and train on the rest (4 sets in this case). After averaging test results from those 5 experiments we got 0.78. \n",
        "\n",
        "If we predict normal (the most common type) for every case, we are right about 78% of the time. The dummy performs pretty well, probably the majority of the data is the most common type.\n"
      ]
    },
    {
      "cell_type": "markdown",
      "metadata": {
        "id": "3GgQCPDQ-ALM",
        "colab_type": "text"
      },
      "source": [
        "### Step 3. Trying out some different classifiers"
      ]
    },
    {
      "cell_type": "markdown",
      "metadata": {
        "id": "dSRfnazzZyfv",
        "colab_type": "text"
      },
      "source": [
        "First, we ran DecisionTreeClassifier with defaut settings on our training data and we saw that we got higher scores on cross-validation than we got by picking the most common value (DummyClassifier). So this classifier is able to learn from our training data and predict unseen observations."
      ]
    },
    {
      "cell_type": "code",
      "metadata": {
        "id": "JO_xc3SVsB6q",
        "colab_type": "code",
        "outputId": "81a5f2c7-fd4d-47e2-e396-af11159d06cc",
        "colab": {
          "base_uri": "https://localhost:8080/",
          "height": 54
        }
      },
      "source": [
        "#Decision Tree classifier\n",
        "from sklearn.tree import DecisionTreeClassifier\n",
        "\n",
        "decision_tree_clf_gini = DecisionTreeClassifier()\n",
        "\n",
        "CV_result_gini = cross_val_score(decision_tree_clf_gini, Xtrain, Ytrain)\n",
        "print(CV_result_gini)\n",
        "print(CV_result_gini.mean())"
      ],
      "execution_count": 0,
      "outputs": [
        {
          "output_type": "stream",
          "text": [
            "[0.90882353 0.93529412 0.92352941 0.90588235 0.93823529]\n",
            "0.9223529411764705\n"
          ],
          "name": "stdout"
        }
      ]
    },
    {
      "cell_type": "markdown",
      "metadata": {
        "id": "KlaPf96YaNL_",
        "colab_type": "text"
      },
      "source": [
        "Next, we ran the same classifier, but with the setting of entropy (information gain) as the feature criterion instead of Gini (impurity) that was the default. We saw slightly higher CV scores in some parts and lower scores in other parts of our data. Overall it increased the prediction efficiency."
      ]
    },
    {
      "cell_type": "code",
      "metadata": {
        "id": "bh9L-QJSY0Ul",
        "colab_type": "code",
        "outputId": "015d6a35-83e9-4c2c-8f78-fc8c24d28d8d",
        "colab": {
          "base_uri": "https://localhost:8080/",
          "height": 54
        }
      },
      "source": [
        "decision_tree_clf_entr = DecisionTreeClassifier(criterion=\"entropy\")\n",
        "\n",
        "CV_result_entr = cross_val_score(decision_tree_clf_entr, Xtrain, Ytrain)\n",
        "print(CV_result_entr)\n",
        "print(CV_result_entr.mean())"
      ],
      "execution_count": 0,
      "outputs": [
        {
          "output_type": "stream",
          "text": [
            "[0.93235294 0.94411765 0.93529412 0.92058824 0.92941176]\n",
            "0.9323529411764705\n"
          ],
          "name": "stdout"
        }
      ]
    },
    {
      "cell_type": "markdown",
      "metadata": {
        "id": "PPzH5WCbSW2z",
        "colab_type": "text"
      },
      "source": [
        "We then continue with other type of classifiers, such as RandomForest, GradientBoosting or Perceptron. We do not set parameters of these classifiers, but compare them using their default settings."
      ]
    },
    {
      "cell_type": "code",
      "metadata": {
        "id": "1BY5-4kgeyqv",
        "colab_type": "code",
        "outputId": "6b91f0f1-793b-4e0f-fd43-3d6da53cf684",
        "colab": {
          "base_uri": "https://localhost:8080/",
          "height": 54
        }
      },
      "source": [
        "from sklearn.ensemble import RandomForestClassifier\n",
        "\n",
        "Random_Forest_clf = RandomForestClassifier()\n",
        "RF_result = cross_val_score(Random_Forest_clf, Xtrain, Ytrain)\n",
        "print(RF_result)\n",
        "print(RF_result.mean())"
      ],
      "execution_count": 0,
      "outputs": [
        {
          "output_type": "stream",
          "text": [
            "[0.93235294 0.95588235 0.93529412 0.93529412 0.94411765]\n",
            "0.9405882352941177\n"
          ],
          "name": "stdout"
        }
      ]
    },
    {
      "cell_type": "code",
      "metadata": {
        "id": "r2qNIZJ8gAop",
        "colab_type": "code",
        "outputId": "aedcb5a4-cd8a-45c1-9596-8630e654cfe3",
        "colab": {
          "base_uri": "https://localhost:8080/",
          "height": 54
        }
      },
      "source": [
        "from sklearn.ensemble import GradientBoostingClassifier\n",
        "\n",
        "GB_result = cross_val_score(GradientBoostingClassifier(), Xtrain, Ytrain)\n",
        "print(GB_result)\n",
        "print(GB_result.mean())"
      ],
      "execution_count": 0,
      "outputs": [
        {
          "output_type": "stream",
          "text": [
            "[0.94117647 0.96176471 0.94411765 0.94411765 0.95294118]\n",
            "0.9488235294117647\n"
          ],
          "name": "stdout"
        }
      ]
    },
    {
      "cell_type": "code",
      "metadata": {
        "id": "PS95iq1tgytZ",
        "colab_type": "code",
        "outputId": "bcf88558-5395-4495-90ec-695aab0977a8",
        "colab": {
          "base_uri": "https://localhost:8080/",
          "height": 54
        }
      },
      "source": [
        "from sklearn.linear_model import Perceptron\n",
        "\n",
        "perceptron_result = cross_val_score(Perceptron(), Xtrain, Ytrain)\n",
        "print(perceptron_result)\n",
        "print(perceptron_result.mean())"
      ],
      "execution_count": 0,
      "outputs": [
        {
          "output_type": "stream",
          "text": [
            "[0.84705882 0.88529412 0.82941176 0.85294118 0.71176471]\n",
            "0.825294117647059\n"
          ],
          "name": "stdout"
        }
      ]
    },
    {
      "cell_type": "code",
      "metadata": {
        "id": "vF4W25F4jAjK",
        "colab_type": "code",
        "outputId": "82633718-20a7-4f36-9a64-7ff416a5e269",
        "colab": {
          "base_uri": "https://localhost:8080/",
          "height": 54
        }
      },
      "source": [
        "from sklearn.linear_model import LogisticRegression\n",
        "from sklearn import preprocessing\n",
        "\n",
        "Xscaled = preprocessing.scale(Xtrain)\n",
        "lr_result = cross_val_score(LogisticRegression(max_iter=100000), Xscaled, Ytrain)\n",
        "print(lr_result)\n",
        "print(lr_result.mean())"
      ],
      "execution_count": 0,
      "outputs": [
        {
          "output_type": "stream",
          "text": [
            "[0.89117647 0.9        0.86764706 0.89411765 0.90588235]\n",
            "0.891764705882353\n"
          ],
          "name": "stdout"
        }
      ]
    },
    {
      "cell_type": "code",
      "metadata": {
        "id": "5qu4n07_nN9b",
        "colab_type": "code",
        "outputId": "73d3d838-d101-4db7-8191-980ead75b233",
        "colab": {
          "base_uri": "https://localhost:8080/",
          "height": 54
        }
      },
      "source": [
        "from sklearn.svm import LinearSVC\n",
        "\n",
        "linear_svc_result = cross_val_score(LinearSVC(max_iter = 10000), Xscaled, Ytrain)\n",
        "print(linear_svc_result)\n",
        "print(linear_svc_result.mean())"
      ],
      "execution_count": 0,
      "outputs": [
        {
          "output_type": "stream",
          "text": [
            "[0.88529412 0.90882353 0.86176471 0.89705882 0.9       ]\n",
            "0.8905882352941177\n"
          ],
          "name": "stdout"
        }
      ]
    },
    {
      "cell_type": "code",
      "metadata": {
        "id": "n8rhVMMcrSKu",
        "colab_type": "code",
        "outputId": "7221eebb-10c3-401d-c524-9a8dc234c67f",
        "colab": {
          "base_uri": "https://localhost:8080/",
          "height": 54
        }
      },
      "source": [
        "from sklearn.neural_network import MLPClassifier\n",
        "\n",
        "MLP_result = cross_val_score(MLPClassifier(), Xtrain, Ytrain)\n",
        "print(MLP_result)\n",
        "print(MLP_result.mean())"
      ],
      "execution_count": 0,
      "outputs": [
        {
          "output_type": "stream",
          "text": [
            "[0.88235294 0.91176471 0.89117647 0.87352941 0.89705882]\n",
            "0.8911764705882353\n"
          ],
          "name": "stdout"
        }
      ]
    },
    {
      "cell_type": "markdown",
      "metadata": {
        "id": "qZsDkNsfBpZk",
        "colab_type": "text"
      },
      "source": [
        "### Step 4. Final evaluation"
      ]
    },
    {
      "cell_type": "markdown",
      "metadata": {
        "id": "rhQRUqDQtcV4",
        "colab_type": "text"
      },
      "source": [
        "In the previous task we found that Gradient Boosting Classifier scores the highest. Its cross validation score on the training set is about 0.95. Therefore, we think it is a good method to predict the outcome based on this type of data. When we use the test data for evaluation and we got the accuracy 93% which is pretty high. So we conclude that this classifier performs well on new data.\n"
      ]
    },
    {
      "cell_type": "code",
      "metadata": {
        "id": "rs4rrt6ItdJV",
        "colab_type": "code",
        "outputId": "1b87c04e-90b3-4858-92e5-9323497e573c",
        "colab": {
          "base_uri": "https://localhost:8080/",
          "height": 36
        }
      },
      "source": [
        "from sklearn.metrics import accuracy_score\n",
        "\n",
        "GB_final = GradientBoostingClassifier().fit(Xtrain, Ytrain)\n",
        "Yguess = GB_final.predict(Xtest)\n",
        "print(accuracy_score(Ytest, Yguess))"
      ],
      "execution_count": 0,
      "outputs": [
        {
          "output_type": "stream",
          "text": [
            "0.9295774647887324\n"
          ],
          "name": "stdout"
        }
      ]
    },
    {
      "cell_type": "markdown",
      "metadata": {
        "id": "OxQ83_1NBwod",
        "colab_type": "text"
      },
      "source": [
        "## Task 2: Decision trees for classification"
      ]
    },
    {
      "cell_type": "markdown",
      "metadata": {
        "id": "ghvkjUrgFAvW",
        "colab_type": "text"
      },
      "source": [
        "*Download the code that was shown during the lecture and use the defined class TreeClassifier as your classifier in an experiment similar to those in Task 1. Tune the hyperparameter max_depth to get the best cross-validation performance, and then evaluate the classifier on the test set.*\n"
      ]
    },
    {
      "cell_type": "code",
      "metadata": {
        "id": "JoqeLer47kFW",
        "colab_type": "code",
        "colab": {}
      },
      "source": [
        "class DecisionTreeLeaf:\n",
        "\n",
        "    def __init__(self, value):\n",
        "        self.value = value\n",
        "\n",
        "    # This method computes the prediction for this leaf node. This will just return a constant value.\n",
        "    def predict(self, x):\n",
        "        return self.value\n",
        "\n",
        "    # Utility function to draw a tree visually using graphviz.\n",
        "    def draw_tree(self, graph, node_counter, names):\n",
        "        node_id = str(node_counter)\n",
        "        graph.node(node_id, str(self.value), style='filled')\n",
        "        return node_counter+1, node_id\n",
        "        \n",
        "    def __eq__(self, other):\n",
        "        if isinstance(other, DecisionTreeLeaf):\n",
        "            return self.value == other.value\n",
        "        else:\n",
        "            return False"
      ],
      "execution_count": 0,
      "outputs": []
    },
    {
      "cell_type": "code",
      "metadata": {
        "id": "sJRaFFBgDNfX",
        "colab_type": "code",
        "colab": {}
      },
      "source": [
        "class DecisionTreeBranch:\n",
        "\n",
        "    def __init__(self, feature, threshold, low_subtree, high_subtree):\n",
        "        self.feature = feature\n",
        "        self.threshold = threshold\n",
        "        self.low_subtree = low_subtree\n",
        "        self.high_subtree = high_subtree\n",
        "\n",
        "    # For a branch node, we compute the prediction by first considering the feature, and then \n",
        "    # calling the upper or lower subtree, depending on whether the feature is or isn't greater\n",
        "    # than the threshold.\n",
        "    def predict(self, x):\n",
        "        if x[self.feature] <= self.threshold:\n",
        "            return self.low_subtree.predict(x)\n",
        "        else:\n",
        "            return self.high_subtree.predict(x)\n",
        "\n",
        "    # Utility function to draw a tree visually using graphviz.\n",
        "    def draw_tree(self, graph, node_counter, names):\n",
        "        node_counter, low_id = self.low_subtree.draw_tree(graph, node_counter, names)\n",
        "        node_counter, high_id = self.high_subtree.draw_tree(graph, node_counter, names)\n",
        "        node_id = str(node_counter)\n",
        "        fname = f'F{self.feature}' if names is None else names[self.feature]\n",
        "        lbl = f'{fname} > {self.threshold:.4g}?'\n",
        "        graph.node(node_id, lbl, shape='box', fillcolor='yellow', style='filled, rounded')\n",
        "        graph.edge(node_id, low_id, 'False')\n",
        "        graph.edge(node_id, high_id, 'True')\n",
        "        return node_counter+1, node_id"
      ],
      "execution_count": 0,
      "outputs": []
    },
    {
      "cell_type": "code",
      "metadata": {
        "id": "UzEYdTOLDY1C",
        "colab_type": "code",
        "colab": {}
      },
      "source": [
        "from graphviz import Digraph\n",
        "from sklearn.base import BaseEstimator, ClassifierMixin\n",
        "from abc import ABC, abstractmethod\n",
        "\n",
        "class DecisionTree(ABC, BaseEstimator):\n",
        "\n",
        "    def __init__(self, max_depth):\n",
        "        super().__init__()\n",
        "        self.max_depth = max_depth\n",
        "\n",
        "    # As usual in scikit-learn, the training method is called *fit*. We first process the dataset so that\n",
        "    # we're sure that it's represented as a NumPy matrix. Then we call the recursive tree-building method\n",
        "    # called make_tree (see below).\n",
        "    def fit(self, X, Y):\n",
        "        if isinstance(X, pd.DataFrame):\n",
        "            self.names = X.columns\n",
        "            X = X.to_numpy()\n",
        "        elif isinstance(X, list):\n",
        "            self.names = None\n",
        "            X = np.array(X)\n",
        "        else:\n",
        "            self.names = None\n",
        "        \n",
        "        self.root = self.make_tree(X, Y, self.max_depth)\n",
        "        \n",
        "    def draw_tree(self):\n",
        "        graph = Digraph()\n",
        "        self.root.draw_tree(graph, 0, self.names)\n",
        "        return graph\n",
        "    \n",
        "    # By scikit-learn convention, the method *predict* computes the classification or regression output\n",
        "    # for a set of instances.\n",
        "    # To implement it, we call a separate method that carries out the prediction for one instance.\n",
        "    def predict(self, X):\n",
        "        if isinstance(X, pd.DataFrame):\n",
        "            X = X.to_numpy()\n",
        "        return [self.predict_one(x) for x in X]\n",
        "\n",
        "    # Predicting the output for one instance.\n",
        "    def predict_one(self, x):\n",
        "        return self.root.predict(x)        \n",
        "\n",
        "    # This is the recursive training \n",
        "    def make_tree(self, X, Y, max_depth):\n",
        "\n",
        "        # We start by computing the default value that will be used if we'll return a leaf node.\n",
        "        # For classifiers, this will be \n",
        "        default_value = self.get_default_value(Y)\n",
        "\n",
        "        # First the two base cases in the recursion: is the training set completely\n",
        "        # homogeneous, or have we reached the maximum depth? Then we need to return a leaf.\n",
        "\n",
        "        # If we have reached the maximum depth, return a leaf with the majority value.\n",
        "        if max_depth == 0:\n",
        "            return DecisionTreeLeaf(default_value)\n",
        "\n",
        "        # If all the instances in the remaining training set have the same output value,\n",
        "        # return a leaf with this value.\n",
        "        if self.is_homogeneous(Y):\n",
        "            return DecisionTreeLeaf(default_value)\n",
        "\n",
        "        # Select the \"most useful\" feature and split threshold. To rank the \"usefulness\" of features,\n",
        "        # we use one of the classification or regression criteria.\n",
        "        # For each feature, we call best_split (defined in a subclass). We then maximize over the features.\n",
        "        n_features = X.shape[1]\n",
        "        _, best_feature, best_threshold = max(self.best_split(X, Y, feature) for feature in range(n_features))\n",
        "        \n",
        "        if best_feature is None:\n",
        "            return DecisionTreeLeaf(default_value)\n",
        "\n",
        "        # Split the training set into subgroups, based on whether the selected feature is greater than\n",
        "        # the threshold or not\n",
        "        X_low, X_high, Y_low, Y_high = self.split_by_feature(X, Y, best_feature, best_threshold)\n",
        "\n",
        "        # Build the subtrees using a recursive call. Each subtree is associated\n",
        "        # with a value of the feature.\n",
        "        low_subtree = self.make_tree(X_low, Y_low, max_depth-1)\n",
        "        high_subtree = self.make_tree(X_high, Y_high, max_depth-1)\n",
        "\n",
        "        if low_subtree == high_subtree:\n",
        "            return low_subtree\n",
        "\n",
        "        # Return a decision tree branch containing the result.\n",
        "        return DecisionTreeBranch(best_feature, best_threshold, low_subtree, high_subtree)\n",
        "    \n",
        "    # Utility method that splits the data into the \"upper\" and \"lower\" part, based on a feature\n",
        "    # and a threshold.\n",
        "    def split_by_feature(self, X, Y, feature, threshold):\n",
        "        low = X[:,feature] <= threshold\n",
        "        high = ~low\n",
        "        return X[low], X[high], Y[low], Y[high]\n",
        "    \n",
        "    # The following three methods need to be implemented by the classification and regression subclasses.\n",
        "    \n",
        "    @abstractmethod\n",
        "    def get_default_value(self, Y):\n",
        "        pass\n",
        "\n",
        "    @abstractmethod\n",
        "    def is_homogeneous(self, Y):\n",
        "        pass\n",
        "\n",
        "    @abstractmethod\n",
        "    def best_split(self, X, Y, feature):\n",
        "        pass"
      ],
      "execution_count": 0,
      "outputs": []
    },
    {
      "cell_type": "code",
      "metadata": {
        "id": "06Zg5MwdDeBx",
        "colab_type": "code",
        "colab": {}
      },
      "source": [
        "from collections import Counter\n",
        "\n",
        "\n",
        "class TreeClassifier(DecisionTree, ClassifierMixin):\n",
        "\n",
        "    def __init__(self, max_depth=5, criterion='maj_sum'):\n",
        "        super().__init__(max_depth)\n",
        "        self.criterion = criterion\n",
        "        \n",
        "    def fit(self, X, Y):\n",
        "        # For decision tree classifiers, there are some different ways to measure\n",
        "        # the homogeneity of subsets.\n",
        "        if self.criterion == 'maj_sum':\n",
        "            self.criterion_function = majority_sum_scorer\n",
        "        elif self.criterion == 'info_gain':\n",
        "            self.criterion_function = info_gain_scorer\n",
        "        elif self.criterion == 'gini':\n",
        "            self.criterion_function = gini_scorer\n",
        "        else:\n",
        "            raise Exception(f'Unknown criterion: {self.criterion}')\n",
        "        super().fit(X, Y)\n",
        "        self.classes_ = sorted(set(Y))\n",
        "\n",
        "    # Select a default value that is going to be used if we decide to make a leaf.\n",
        "    # We will select the most common value.\n",
        "    def get_default_value(self, Y):\n",
        "        self.class_distribution = Counter(Y)\n",
        "        return self.class_distribution.most_common(1)[0][0]\n",
        "    \n",
        "    # Checks whether a set of output values is homogeneous. In the classification case, \n",
        "    # this means that all output values are identical.\n",
        "    # We assume that we called get_default_value just before, so that we can access\n",
        "    # the class_distribution attribute. If the class distribution contains just one item,\n",
        "    # this means that the set is homogeneous.\n",
        "    def is_homogeneous(self, Y):\n",
        "        return len(self.class_distribution) == 1\n",
        "        \n",
        "    # Finds the best splitting point for a given feature. We'll keep frequency tables (Counters)\n",
        "    # for the upper and lower parts, and then compute the impurity criterion using these tables.\n",
        "    # In the end, we return a triple consisting of\n",
        "    # - the best score we found, according to the criterion we're using\n",
        "    # - the id of the feature\n",
        "    # - the threshold for the best split\n",
        "    def best_split(self, X, Y, feature):\n",
        "\n",
        "        # Create a list of input-output pairs, where we have sorted\n",
        "        # in ascending order by the input feature we're considering.\n",
        "        XY = sorted(zip(X[:, feature], Y))\n",
        "\n",
        "        n = len(XY)\n",
        "\n",
        "        # The frequency tables corresponding to the parts *before and including*\n",
        "        # and *after* the current element.\n",
        "        low_distr = Counter()\n",
        "        high_distr = Counter(Y)\n",
        "\n",
        "        # Keep track of the best result we've seen so far.\n",
        "        max_score = -np.inf\n",
        "        max_i = None\n",
        "\n",
        "        # Go through all the positions (excluding the last position).\n",
        "        for i in range(0, n-1):\n",
        "\n",
        "            # Input and output at the current position.\n",
        "            x_i = XY[i][0]\n",
        "            y_i = XY[i][1]\n",
        "\n",
        "            # Update the frequency tables.\n",
        "            low_distr[y_i] += 1\n",
        "            high_distr[y_i] -= 1\n",
        "\n",
        "            # If the input is equal to the input at the next position, we will\n",
        "            # not consider a split here.\n",
        "            x_next = XY[i+1][0]\n",
        "            if x_i == x_next:\n",
        "                continue\n",
        "\n",
        "            # Compute the homogeneity criterion for a split at this position.\n",
        "            score = self.criterion_function(i+1, low_distr, n-i-1, high_distr)\n",
        "\n",
        "            # If this is the best split, remember it.\n",
        "            if score > max_score:\n",
        "                max_score = score\n",
        "                max_i = i\n",
        "\n",
        "        # If we didn't find any split (meaning that all inputs are identical), return\n",
        "        # a dummy value.\n",
        "        if max_i is None:\n",
        "            return -np.inf, None, None\n",
        "\n",
        "        # Otherwise, return the best split we found and its score.\n",
        "        split_point = 0.5*(XY[max_i][0] + XY[max_i+1][0])\n",
        "        return max_score, feature, split_point"
      ],
      "execution_count": 0,
      "outputs": []
    },
    {
      "cell_type": "code",
      "metadata": {
        "id": "0b-N7xsdDh0E",
        "colab_type": "code",
        "colab": {}
      },
      "source": [
        "def majority_sum_scorer(n_low, low_distr, n_high, high_distr):\n",
        "    maj_sum_low = low_distr.most_common(1)[0][1]\n",
        "    maj_sum_high = high_distr.most_common(1)[0][1]\n",
        "    return maj_sum_low + maj_sum_high\n",
        "    \n",
        "def entropy(distr):\n",
        "    n = sum(distr.values())\n",
        "    ps = [n_i/n for n_i in distr.values()]\n",
        "    return -sum(p*np.log2(p) if p > 0 else 0 for p in ps)\n",
        "\n",
        "def info_gain_scorer(n_low, low_distr, n_high, high_distr):\n",
        "    return -(n_low*entropy(low_distr)+n_high*entropy(high_distr))/(n_low+n_high)\n",
        "\n",
        "def gini_impurity(distr):\n",
        "    n = sum(distr.values())\n",
        "    ps = [n_i/n for n_i in distr.values()]\n",
        "    return 1-sum(p**2 for p in ps)\n",
        "    \n",
        "def gini_scorer(n_low, low_distr, n_high, high_distr):\n",
        "    return -(n_low*gini_impurity(low_distr)+n_high*gini_impurity(high_distr))/(n_low+n_high)"
      ],
      "execution_count": 0,
      "outputs": []
    },
    {
      "cell_type": "markdown",
      "metadata": {
        "id": "u3xuHtIKTvmb",
        "colab_type": "text"
      },
      "source": [
        "We run the TreeClassifier on the same data as we used in Task1. We plot the accuracy of the training data when increasing the max tree depth."
      ]
    },
    {
      "cell_type": "code",
      "metadata": {
        "id": "sumsIrW-Ev_5",
        "colab_type": "code",
        "outputId": "b3a926d6-70e3-419b-928d-c6122836af79",
        "colab": {
          "base_uri": "https://localhost:8080/",
          "height": 279
        }
      },
      "source": [
        "#sets the maximum depth for tree classifier\n",
        "import matplotlib.pyplot as plt\n",
        "import numpy as np\n",
        "# List of values to try for max_depth:\n",
        "max_depth_range = list(range(1, 10))\n",
        "# \n",
        "accuracy = []\n",
        "for d in max_depth_range:\n",
        "    clf = TreeClassifier(max_depth = d)\n",
        "    clf.fit(Xtrain, Ytrain)\n",
        "    score = clf.score(Xtrain, Ytrain)\n",
        "    accuracy.append(score)\n",
        "    \n",
        "plt.plot(max_depth_range, accuracy, marker='o')\n",
        "plt.xlabel('Depth of tree')\n",
        "plt.ylabel('Accuracy')\n",
        "plt.show();"
      ],
      "execution_count": 0,
      "outputs": [
        {
          "output_type": "display_data",
          "data": {
            "image/png": "[encoded data removed]",
            "text/plain": [
              "<Figure size 432x288 with 1 Axes>"
            ]
          },
          "metadata": {
            "tags": []
          }
        }
      ]
    },
    {
      "cell_type": "markdown",
      "metadata": {
        "id": "kdMhwDZ9L56M",
        "colab_type": "text"
      },
      "source": [
        "As we expected, the training accuracy increases with the max tree depth as the classifier learns the data. However, we do not want it to learn the noise of the data too. Therefore we will choose a tree depth of 5, which has an accuracy of about 0.925. After 5, the accuracy goes up only a little, and we do not want to risk overfitting the data. \n"
      ]
    },
    {
      "cell_type": "code",
      "metadata": {
        "id": "J2TcHcOxFOYq",
        "colab_type": "code",
        "outputId": "65763953-8b20-4909-c013-859560bd01ae",
        "colab": {
          "base_uri": "https://localhost:8080/",
          "height": 36
        }
      },
      "source": [
        "cls = TreeClassifier(max_depth=5)\n",
        "cross_val_score(cls, Xtrain , Ytrain, cv=5).mean()"
      ],
      "execution_count": 0,
      "outputs": [
        {
          "output_type": "execute_result",
          "data": {
            "text/plain": [
              "0.9123529411764706"
            ]
          },
          "metadata": {
            "tags": []
          },
          "execution_count": 21
        }
      ]
    },
    {
      "cell_type": "markdown",
      "metadata": {
        "id": "0s0PVUVrUvad",
        "colab_type": "text"
      },
      "source": [
        "We see that the tree depth of 5 performs almost as well with prediction as it did with fitting. The cross validation score was 0.91 that is still pretty high. So depth of 5 seems to be a good choice. We fit the chosen classifier to the whole training data and plot the tree."
      ]
    },
    {
      "cell_type": "code",
      "metadata": {
        "id": "K9lZYAPgF7-g",
        "colab_type": "code",
        "outputId": "a1bf39dd-b6dd-4982-9de1-c52b45926575",
        "colab": {
          "base_uri": "https://localhost:8080/",
          "height": 679
        }
      },
      "source": [
        "from sklearn import metrics #Import scikit-learn metrics module for accuracy calculation\n",
        "\n",
        "cls.fit(Xtrain, Ytrain)\n",
        "cls.draw_tree()"
      ],
      "execution_count": 0,
      "outputs": [
        {
          "output_type": "execute_result",
          "data": {
            "text/plain": [
              "<graphviz.dot.Digraph at 0x7f89117df358>"
            ],
            "image/svg+xml": "<?xml version=\"1.0\" encoding=\"UTF-8\" standalone=\"no\"?>\n<!DOCTYPE svg PUBLIC \"-//W3C//DTD SVG 1.1//EN\"\n \"http://www.w3.org/Graphics/SVG/1.1/DTD/svg11.dtd\">\n<!-- Generated by graphviz version 2.40.1 (20161225.0304)\n -->\n<!-- Title: %3 Pages: 1 -->\n<svg width=\"1481pt\" height=\"479pt\"\n viewBox=\"0.00 0.00 1481.39 479.00\" xmlns=\"http://www.w3.org/2000/svg\" xmlns:xlink=\"http://www.w3.org/1999/xlink\">\n<g id=\"graph0\" class=\"graph\" transform=\"scale(1 1) rotate(0) translate(4 475)\">\n<title>%3</title>\n<polygon fill=\"#ffffff\" stroke=\"transparent\" points=\"-4,4 -4,-475 1477.3933,-475 1477.3933,4 -4,4\"/>\n<!-- 0 -->\n<g id=\"node1\" class=\"node\">\n<title>0</title>\n<ellipse fill=\"#d3d3d3\" stroke=\"#000000\" cx=\"37.6967\" cy=\"-18\" rx=\"37.8943\" ry=\"18\"/>\n<text text-anchor=\"middle\" x=\"37.6967\" y=\"-14.3\" font-family=\"Times,serif\" font-size=\"14.00\" fill=\"#000000\">suspect</text>\n</g>\n<!-- 1 -->\n<g id=\"node2\" class=\"node\">\n<title>1</title>\n<ellipse fill=\"#d3d3d3\" stroke=\"#000000\" cx=\"130.6967\" cy=\"-18\" rx=\"37.0935\" ry=\"18\"/>\n<text text-anchor=\"middle\" x=\"130.6967\" y=\"-14.3\" font-family=\"Times,serif\" font-size=\"14.00\" fill=\"#000000\">normal</text>\n</g>\n<!-- 2 -->\n<g id=\"node3\" class=\"node\">\n<title>2</title>\n<path fill=\"#ffff00\" stroke=\"#000000\" d=\"M157.1967,-123C157.1967,-123 92.1967,-123 92.1967,-123 86.1967,-123 80.1967,-117 80.1967,-111 80.1967,-111 80.1967,-99 80.1967,-99 80.1967,-93 86.1967,-87 92.1967,-87 92.1967,-87 157.1967,-87 157.1967,-87 163.1967,-87 169.1967,-93 169.1967,-99 169.1967,-99 169.1967,-111 169.1967,-111 169.1967,-117 163.1967,-123 157.1967,-123\"/>\n<text text-anchor=\"middle\" x=\"124.6967\" y=\"-101.3\" font-family=\"Times,serif\" font-size=\"14.00\" fill=\"#000000\">Width &gt; 21?</text>\n</g>\n<!-- 2&#45;&gt;0 -->\n<g id=\"edge1\" class=\"edge\">\n<title>2&#45;&gt;0</title>\n<path fill=\"none\" stroke=\"#000000\" d=\"M106.6702,-86.9735C93.5314,-73.8347 75.6054,-55.9088 61.3215,-41.6249\"/>\n<polygon fill=\"#000000\" stroke=\"#000000\" points=\"63.7746,-39.1282 54.2286,-34.532 58.8248,-44.0779 63.7746,-39.1282\"/>\n<text text-anchor=\"middle\" x=\"101.6967\" y=\"-57.8\" font-family=\"Times,serif\" font-size=\"14.00\" fill=\"#000000\">False</text>\n</g>\n<!-- 2&#45;&gt;1 -->\n<g id=\"edge2\" class=\"edge\">\n<title>2&#45;&gt;1</title>\n<path fill=\"none\" stroke=\"#000000\" d=\"M125.9399,-86.9735C126.7524,-75.1918 127.8304,-59.5607 128.7547,-46.1581\"/>\n<polygon fill=\"#000000\" stroke=\"#000000\" points=\"132.2586,-46.2205 129.455,-36.0034 125.2752,-45.7388 132.2586,-46.2205\"/>\n<text text-anchor=\"middle\" x=\"142.1967\" y=\"-57.8\" font-family=\"Times,serif\" font-size=\"14.00\" fill=\"#000000\">True</text>\n</g>\n<!-- 3 -->\n<g id=\"node4\" class=\"node\">\n<title>3</title>\n<ellipse fill=\"#d3d3d3\" stroke=\"#000000\" cx=\"233.6967\" cy=\"-18\" rx=\"37.0935\" ry=\"18\"/>\n<text text-anchor=\"middle\" x=\"233.6967\" y=\"-14.3\" font-family=\"Times,serif\" font-size=\"14.00\" fill=\"#000000\">normal</text>\n</g>\n<!-- 4 -->\n<g id=\"node5\" class=\"node\">\n<title>4</title>\n<ellipse fill=\"#d3d3d3\" stroke=\"#000000\" cx=\"326.6967\" cy=\"-18\" rx=\"37.8943\" ry=\"18\"/>\n<text text-anchor=\"middle\" x=\"326.6967\" y=\"-14.3\" font-family=\"Times,serif\" font-size=\"14.00\" fill=\"#000000\">suspect</text>\n</g>\n<!-- 5 -->\n<g id=\"node6\" class=\"node\">\n<title>5</title>\n<path fill=\"#ffff00\" stroke=\"#000000\" d=\"M278.1967,-123C278.1967,-123 199.1967,-123 199.1967,-123 193.1967,-123 187.1967,-117 187.1967,-111 187.1967,-111 187.1967,-99 187.1967,-99 187.1967,-93 193.1967,-87 199.1967,-87 199.1967,-87 278.1967,-87 278.1967,-87 284.1967,-87 290.1967,-93 290.1967,-99 290.1967,-99 290.1967,-111 290.1967,-111 290.1967,-117 284.1967,-123 278.1967,-123\"/>\n<text text-anchor=\"middle\" x=\"238.6967\" y=\"-101.3\" font-family=\"Times,serif\" font-size=\"14.00\" fill=\"#000000\">ASTV &gt; 59.5?</text>\n</g>\n<!-- 5&#45;&gt;3 -->\n<g id=\"edge3\" class=\"edge\">\n<title>5&#45;&gt;3</title>\n<path fill=\"none\" stroke=\"#000000\" d=\"M237.6607,-86.9735C236.9835,-75.1918 236.0852,-59.5607 235.3149,-46.1581\"/>\n<polygon fill=\"#000000\" stroke=\"#000000\" points=\"238.7994,-45.786 234.7313,-36.0034 231.811,-46.1877 238.7994,-45.786\"/>\n<text text-anchor=\"middle\" x=\"251.6967\" y=\"-57.8\" font-family=\"Times,serif\" font-size=\"14.00\" fill=\"#000000\">False</text>\n</g>\n<!-- 5&#45;&gt;4 -->\n<g id=\"edge4\" class=\"edge\">\n<title>5&#45;&gt;4</title>\n<path fill=\"none\" stroke=\"#000000\" d=\"M256.9303,-86.9735C270.3059,-73.75 288.5863,-55.6773 303.0794,-41.3489\"/>\n<polygon fill=\"#000000\" stroke=\"#000000\" points=\"305.6164,-43.7624 310.2671,-34.2429 300.695,-38.7845 305.6164,-43.7624\"/>\n<text text-anchor=\"middle\" x=\"302.1967\" y=\"-57.8\" font-family=\"Times,serif\" font-size=\"14.00\" fill=\"#000000\">True</text>\n</g>\n<!-- 6 -->\n<g id=\"node7\" class=\"node\">\n<title>6</title>\n<path fill=\"#ffff00\" stroke=\"#000000\" d=\"M239.1967,-210C239.1967,-210 180.1967,-210 180.1967,-210 174.1967,-210 168.1967,-204 168.1967,-198 168.1967,-198 168.1967,-186 168.1967,-186 168.1967,-180 174.1967,-174 180.1967,-174 180.1967,-174 239.1967,-174 239.1967,-174 245.1967,-174 251.1967,-180 251.1967,-186 251.1967,-186 251.1967,-198 251.1967,-198 251.1967,-204 245.1967,-210 239.1967,-210\"/>\n<text text-anchor=\"middle\" x=\"209.6967\" y=\"-188.3\" font-family=\"Times,serif\" font-size=\"14.00\" fill=\"#000000\">ALTV &gt; 7?</text>\n</g>\n<!-- 6&#45;&gt;2 -->\n<g id=\"edge5\" class=\"edge\">\n<title>6&#45;&gt;2</title>\n<path fill=\"none\" stroke=\"#000000\" d=\"M192.0846,-173.9735C179.7759,-161.3752 163.1669,-144.3755 149.5182,-130.4055\"/>\n<polygon fill=\"#000000\" stroke=\"#000000\" points=\"151.778,-127.7103 142.2861,-123.0034 146.7711,-132.6021 151.778,-127.7103\"/>\n<text text-anchor=\"middle\" x=\"187.6967\" y=\"-144.8\" font-family=\"Times,serif\" font-size=\"14.00\" fill=\"#000000\">False</text>\n</g>\n<!-- 6&#45;&gt;5 -->\n<g id=\"edge6\" class=\"edge\">\n<title>6&#45;&gt;5</title>\n<path fill=\"none\" stroke=\"#000000\" d=\"M215.7055,-173.9735C219.6716,-162.0751 224.9464,-146.2508 229.4431,-132.7606\"/>\n<polygon fill=\"#000000\" stroke=\"#000000\" points=\"232.8536,-133.597 232.6955,-123.0034 226.2128,-131.3834 232.8536,-133.597\"/>\n<text text-anchor=\"middle\" x=\"240.1967\" y=\"-144.8\" font-family=\"Times,serif\" font-size=\"14.00\" fill=\"#000000\">True</text>\n</g>\n<!-- 7 -->\n<g id=\"node8\" class=\"node\">\n<title>7</title>\n<ellipse fill=\"#d3d3d3\" stroke=\"#000000\" cx=\"319.6967\" cy=\"-192\" rx=\"50.0912\" ry=\"18\"/>\n<text text-anchor=\"middle\" x=\"319.6967\" y=\"-188.3\" font-family=\"Times,serif\" font-size=\"14.00\" fill=\"#000000\">pathologic</text>\n</g>\n<!-- 8 -->\n<g id=\"node9\" class=\"node\">\n<title>8</title>\n<path fill=\"#ffff00\" stroke=\"#000000\" d=\"M359.1967,-297C359.1967,-297 280.1967,-297 280.1967,-297 274.1967,-297 268.1967,-291 268.1967,-285 268.1967,-285 268.1967,-273 268.1967,-273 268.1967,-267 274.1967,-261 280.1967,-261 280.1967,-261 359.1967,-261 359.1967,-261 365.1967,-261 371.1967,-267 371.1967,-273 371.1967,-273 371.1967,-285 371.1967,-285 371.1967,-291 365.1967,-297 359.1967,-297\"/>\n<text text-anchor=\"middle\" x=\"319.6967\" y=\"-275.3\" font-family=\"Times,serif\" font-size=\"14.00\" fill=\"#000000\">ASTV &gt; 79.5?</text>\n</g>\n<!-- 8&#45;&gt;6 -->\n<g id=\"edge7\" class=\"edge\">\n<title>8&#45;&gt;6</title>\n<path fill=\"none\" stroke=\"#000000\" d=\"M296.9046,-260.9735C280.5332,-248.0253 258.2833,-230.4276 240.3557,-216.2485\"/>\n<polygon fill=\"#000000\" stroke=\"#000000\" points=\"242.4741,-213.4616 232.4595,-210.0034 238.1317,-218.952 242.4741,-213.4616\"/>\n<text text-anchor=\"middle\" x=\"286.6967\" y=\"-231.8\" font-family=\"Times,serif\" font-size=\"14.00\" fill=\"#000000\">False</text>\n</g>\n<!-- 8&#45;&gt;7 -->\n<g id=\"edge8\" class=\"edge\">\n<title>8&#45;&gt;7</title>\n<path fill=\"none\" stroke=\"#000000\" d=\"M319.6967,-260.9735C319.6967,-249.1918 319.6967,-233.5607 319.6967,-220.1581\"/>\n<polygon fill=\"#000000\" stroke=\"#000000\" points=\"323.1968,-220.0033 319.6967,-210.0034 316.1968,-220.0034 323.1968,-220.0033\"/>\n<text text-anchor=\"middle\" x=\"333.1967\" y=\"-231.8\" font-family=\"Times,serif\" font-size=\"14.00\" fill=\"#000000\">True</text>\n</g>\n<!-- 9 -->\n<g id=\"node10\" class=\"node\">\n<title>9</title>\n<ellipse fill=\"#d3d3d3\" stroke=\"#000000\" cx=\"424.6967\" cy=\"-192\" rx=\"37.0935\" ry=\"18\"/>\n<text text-anchor=\"middle\" x=\"424.6967\" y=\"-188.3\" font-family=\"Times,serif\" font-size=\"14.00\" fill=\"#000000\">normal</text>\n</g>\n<!-- 10 -->\n<g id=\"node11\" class=\"node\">\n<title>10</title>\n<ellipse fill=\"#d3d3d3\" stroke=\"#000000\" cx=\"529.6967\" cy=\"-192\" rx=\"50.0912\" ry=\"18\"/>\n<text text-anchor=\"middle\" x=\"529.6967\" y=\"-188.3\" font-family=\"Times,serif\" font-size=\"14.00\" fill=\"#000000\">pathologic</text>\n</g>\n<!-- 11 -->\n<g id=\"node12\" class=\"node\">\n<title>11</title>\n<path fill=\"#ffff00\" stroke=\"#000000\" d=\"M572.6967,-297C572.6967,-297 478.6967,-297 478.6967,-297 472.6967,-297 466.6967,-291 466.6967,-285 466.6967,-285 466.6967,-273 466.6967,-273 466.6967,-267 472.6967,-261 478.6967,-261 478.6967,-261 572.6967,-261 572.6967,-261 578.6967,-261 584.6967,-267 584.6967,-273 584.6967,-273 584.6967,-285 584.6967,-285 584.6967,-291 578.6967,-297 572.6967,-297\"/>\n<text text-anchor=\"middle\" x=\"525.6967\" y=\"-275.3\" font-family=\"Times,serif\" font-size=\"14.00\" fill=\"#000000\">Tendency &gt; &#45;0.5?</text>\n</g>\n<!-- 11&#45;&gt;9 -->\n<g id=\"edge9\" class=\"edge\">\n<title>11&#45;&gt;9</title>\n<path fill=\"none\" stroke=\"#000000\" d=\"M504.7694,-260.9735C489.1777,-247.5431 467.7791,-229.1106 451.0254,-214.6792\"/>\n<polygon fill=\"#000000\" stroke=\"#000000\" points=\"453.0807,-211.8302 443.2198,-207.9556 448.5122,-217.1339 453.0807,-211.8302\"/>\n<text text-anchor=\"middle\" x=\"496.6967\" y=\"-231.8\" font-family=\"Times,serif\" font-size=\"14.00\" fill=\"#000000\">False</text>\n</g>\n<!-- 11&#45;&gt;10 -->\n<g id=\"edge10\" class=\"edge\">\n<title>11&#45;&gt;10</title>\n<path fill=\"none\" stroke=\"#000000\" d=\"M526.5255,-260.9735C527.0671,-249.1918 527.7858,-233.5607 528.402,-220.1581\"/>\n<polygon fill=\"#000000\" stroke=\"#000000\" points=\"531.9058,-220.1536 528.8689,-210.0034 524.9132,-219.832 531.9058,-220.1536\"/>\n<text text-anchor=\"middle\" x=\"542.1967\" y=\"-231.8\" font-family=\"Times,serif\" font-size=\"14.00\" fill=\"#000000\">True</text>\n</g>\n<!-- 12 -->\n<g id=\"node13\" class=\"node\">\n<title>12</title>\n<path fill=\"#ffff00\" stroke=\"#000000\" d=\"M564.6967,-384C564.6967,-384 486.6967,-384 486.6967,-384 480.6967,-384 474.6967,-378 474.6967,-372 474.6967,-372 474.6967,-360 474.6967,-360 474.6967,-354 480.6967,-348 486.6967,-348 486.6967,-348 564.6967,-348 564.6967,-348 570.6967,-348 576.6967,-354 576.6967,-360 576.6967,-360 576.6967,-372 576.6967,-372 576.6967,-378 570.6967,-384 564.6967,-384\"/>\n<text text-anchor=\"middle\" x=\"525.6967\" y=\"-362.3\" font-family=\"Times,serif\" font-size=\"14.00\" fill=\"#000000\">ALTV &gt; 68.5?</text>\n</g>\n<!-- 12&#45;&gt;8 -->\n<g id=\"edge11\" class=\"edge\">\n<title>12&#45;&gt;8</title>\n<path fill=\"none\" stroke=\"#000000\" d=\"M483.0133,-347.9735C450.6969,-334.3254 406.1495,-315.5116 371.7424,-300.9805\"/>\n<polygon fill=\"#000000\" stroke=\"#000000\" points=\"372.8992,-297.6697 362.3253,-297.0034 370.1757,-304.1182 372.8992,-297.6697\"/>\n<text text-anchor=\"middle\" x=\"450.6967\" y=\"-318.8\" font-family=\"Times,serif\" font-size=\"14.00\" fill=\"#000000\">False</text>\n</g>\n<!-- 12&#45;&gt;11 -->\n<g id=\"edge12\" class=\"edge\">\n<title>12&#45;&gt;11</title>\n<path fill=\"none\" stroke=\"#000000\" d=\"M525.6967,-347.9735C525.6967,-336.1918 525.6967,-320.5607 525.6967,-307.1581\"/>\n<polygon fill=\"#000000\" stroke=\"#000000\" points=\"529.1968,-307.0033 525.6967,-297.0034 522.1968,-307.0034 529.1968,-307.0033\"/>\n<text text-anchor=\"middle\" x=\"539.1967\" y=\"-318.8\" font-family=\"Times,serif\" font-size=\"14.00\" fill=\"#000000\">True</text>\n</g>\n<!-- 13 -->\n<g id=\"node14\" class=\"node\">\n<title>13</title>\n<ellipse fill=\"#d3d3d3\" stroke=\"#000000\" cx=\"541.6967\" cy=\"-105\" rx=\"37.8943\" ry=\"18\"/>\n<text text-anchor=\"middle\" x=\"541.6967\" y=\"-101.3\" font-family=\"Times,serif\" font-size=\"14.00\" fill=\"#000000\">suspect</text>\n</g>\n<!-- 14 -->\n<g id=\"node15\" class=\"node\">\n<title>14</title>\n<ellipse fill=\"#d3d3d3\" stroke=\"#000000\" cx=\"647.6967\" cy=\"-105\" rx=\"50.0912\" ry=\"18\"/>\n<text text-anchor=\"middle\" x=\"647.6967\" y=\"-101.3\" font-family=\"Times,serif\" font-size=\"14.00\" fill=\"#000000\">pathologic</text>\n</g>\n<!-- 15 -->\n<g id=\"node16\" class=\"node\">\n<title>15</title>\n<path fill=\"#ffff00\" stroke=\"#000000\" d=\"M685.6967,-210C685.6967,-210 609.6967,-210 609.6967,-210 603.6967,-210 597.6967,-204 597.6967,-198 597.6967,-198 597.6967,-186 597.6967,-186 597.6967,-180 603.6967,-174 609.6967,-174 609.6967,-174 685.6967,-174 685.6967,-174 691.6967,-174 697.6967,-180 697.6967,-186 697.6967,-186 697.6967,-198 697.6967,-198 697.6967,-204 691.6967,-210 685.6967,-210\"/>\n<text text-anchor=\"middle\" x=\"647.6967\" y=\"-188.3\" font-family=\"Times,serif\" font-size=\"14.00\" fill=\"#000000\">Width &gt; 72.5?</text>\n</g>\n<!-- 15&#45;&gt;13 -->\n<g id=\"edge13\" class=\"edge\">\n<title>15&#45;&gt;13</title>\n<path fill=\"none\" stroke=\"#000000\" d=\"M625.7334,-173.9735C609.2656,-160.4576 586.6256,-141.8756 568.9934,-127.4039\"/>\n<polygon fill=\"#000000\" stroke=\"#000000\" points=\"570.7393,-124.3089 560.7889,-120.6701 566.2982,-129.7198 570.7393,-124.3089\"/>\n<text text-anchor=\"middle\" x=\"616.6967\" y=\"-144.8\" font-family=\"Times,serif\" font-size=\"14.00\" fill=\"#000000\">False</text>\n</g>\n<!-- 15&#45;&gt;14 -->\n<g id=\"edge14\" class=\"edge\">\n<title>15&#45;&gt;14</title>\n<path fill=\"none\" stroke=\"#000000\" d=\"M647.6967,-173.9735C647.6967,-162.1918 647.6967,-146.5607 647.6967,-133.1581\"/>\n<polygon fill=\"#000000\" stroke=\"#000000\" points=\"651.1968,-133.0033 647.6967,-123.0034 644.1968,-133.0034 651.1968,-133.0033\"/>\n<text text-anchor=\"middle\" x=\"661.1967\" y=\"-144.8\" font-family=\"Times,serif\" font-size=\"14.00\" fill=\"#000000\">True</text>\n</g>\n<!-- 16 -->\n<g id=\"node17\" class=\"node\">\n<title>16</title>\n<ellipse fill=\"#d3d3d3\" stroke=\"#000000\" cx=\"765.6967\" cy=\"-105\" rx=\"50.0912\" ry=\"18\"/>\n<text text-anchor=\"middle\" x=\"765.6967\" y=\"-101.3\" font-family=\"Times,serif\" font-size=\"14.00\" fill=\"#000000\">pathologic</text>\n</g>\n<!-- 17 -->\n<g id=\"node18\" class=\"node\">\n<title>17</title>\n<ellipse fill=\"#d3d3d3\" stroke=\"#000000\" cx=\"870.6967\" cy=\"-105\" rx=\"37.0935\" ry=\"18\"/>\n<text text-anchor=\"middle\" x=\"870.6967\" y=\"-101.3\" font-family=\"Times,serif\" font-size=\"14.00\" fill=\"#000000\">normal</text>\n</g>\n<!-- 18 -->\n<g id=\"node19\" class=\"node\">\n<title>18</title>\n<path fill=\"#ffff00\" stroke=\"#000000\" d=\"M817.1967,-210C817.1967,-210 728.1967,-210 728.1967,-210 722.1967,-210 716.1967,-204 716.1967,-198 716.1967,-198 716.1967,-186 716.1967,-186 716.1967,-180 722.1967,-174 728.1967,-174 728.1967,-174 817.1967,-174 817.1967,-174 823.1967,-174 829.1967,-180 829.1967,-186 829.1967,-186 829.1967,-198 829.1967,-198 829.1967,-204 823.1967,-210 817.1967,-210\"/>\n<text text-anchor=\"middle\" x=\"772.6967\" y=\"-188.3\" font-family=\"Times,serif\" font-size=\"14.00\" fill=\"#000000\">Variance &gt; 23.5?</text>\n</g>\n<!-- 18&#45;&gt;16 -->\n<g id=\"edge15\" class=\"edge\">\n<title>18&#45;&gt;16</title>\n<path fill=\"none\" stroke=\"#000000\" d=\"M771.2463,-173.9735C770.2983,-162.1918 769.0406,-146.5607 767.9622,-133.1581\"/>\n<polygon fill=\"#000000\" stroke=\"#000000\" points=\"771.436,-132.6904 767.1452,-123.0034 764.4586,-133.2519 771.436,-132.6904\"/>\n<text text-anchor=\"middle\" x=\"784.6967\" y=\"-144.8\" font-family=\"Times,serif\" font-size=\"14.00\" fill=\"#000000\">False</text>\n</g>\n<!-- 18&#45;&gt;17 -->\n<g id=\"edge16\" class=\"edge\">\n<title>18&#45;&gt;17</title>\n<path fill=\"none\" stroke=\"#000000\" d=\"M793.0023,-173.9735C808.1309,-160.5431 828.8939,-142.1106 845.15,-127.6792\"/>\n<polygon fill=\"#000000\" stroke=\"#000000\" points=\"847.569,-130.2119 852.7237,-120.9556 842.9218,-124.9771 847.569,-130.2119\"/>\n<text text-anchor=\"middle\" x=\"841.1967\" y=\"-144.8\" font-family=\"Times,serif\" font-size=\"14.00\" fill=\"#000000\">True</text>\n</g>\n<!-- 19 -->\n<g id=\"node20\" class=\"node\">\n<title>19</title>\n<path fill=\"#ffff00\" stroke=\"#000000\" d=\"M748.6967,-297C748.6967,-297 674.6967,-297 674.6967,-297 668.6967,-297 662.6967,-291 662.6967,-285 662.6967,-285 662.6967,-273 662.6967,-273 662.6967,-267 668.6967,-261 674.6967,-261 674.6967,-261 748.6967,-261 748.6967,-261 754.6967,-261 760.6967,-267 760.6967,-273 760.6967,-273 760.6967,-285 760.6967,-285 760.6967,-291 754.6967,-297 748.6967,-297\"/>\n<text text-anchor=\"middle\" x=\"711.6967\" y=\"-275.3\" font-family=\"Times,serif\" font-size=\"14.00\" fill=\"#000000\">Max &gt; 220.5?</text>\n</g>\n<!-- 19&#45;&gt;15 -->\n<g id=\"edge17\" class=\"edge\">\n<title>19&#45;&gt;15</title>\n<path fill=\"none\" stroke=\"#000000\" d=\"M698.4358,-260.9735C689.3397,-248.6085 677.1246,-232.0036 666.959,-218.1847\"/>\n<polygon fill=\"#000000\" stroke=\"#000000\" points=\"669.6856,-215.9846 660.9405,-210.0034 664.0469,-220.1326 669.6856,-215.9846\"/>\n<text text-anchor=\"middle\" x=\"698.6967\" y=\"-231.8\" font-family=\"Times,serif\" font-size=\"14.00\" fill=\"#000000\">False</text>\n</g>\n<!-- 19&#45;&gt;18 -->\n<g id=\"edge18\" class=\"edge\">\n<title>19&#45;&gt;18</title>\n<path fill=\"none\" stroke=\"#000000\" d=\"M724.3359,-260.9735C732.9238,-248.7252 744.4288,-232.3165 754.0625,-218.5766\"/>\n<polygon fill=\"#000000\" stroke=\"#000000\" points=\"757.1984,-220.2006 760.0736,-210.0034 751.4669,-216.1819 757.1984,-220.2006\"/>\n<text text-anchor=\"middle\" x=\"760.1967\" y=\"-231.8\" font-family=\"Times,serif\" font-size=\"14.00\" fill=\"#000000\">True</text>\n</g>\n<!-- 20 -->\n<g id=\"node21\" class=\"node\">\n<title>20</title>\n<ellipse fill=\"#d3d3d3\" stroke=\"#000000\" cx=\"878.6967\" cy=\"-18\" rx=\"50.0912\" ry=\"18\"/>\n<text text-anchor=\"middle\" x=\"878.6967\" y=\"-14.3\" font-family=\"Times,serif\" font-size=\"14.00\" fill=\"#000000\">pathologic</text>\n</g>\n<!-- 21 -->\n<g id=\"node22\" class=\"node\">\n<title>21</title>\n<ellipse fill=\"#d3d3d3\" stroke=\"#000000\" cx=\"984.6967\" cy=\"-18\" rx=\"37.8943\" ry=\"18\"/>\n<text text-anchor=\"middle\" x=\"984.6967\" y=\"-14.3\" font-family=\"Times,serif\" font-size=\"14.00\" fill=\"#000000\">suspect</text>\n</g>\n<!-- 22 -->\n<g id=\"node23\" class=\"node\">\n<title>22</title>\n<path fill=\"#ffff00\" stroke=\"#000000\" d=\"M1017.6967,-123C1017.6967,-123 937.6967,-123 937.6967,-123 931.6967,-123 925.6967,-117 925.6967,-111 925.6967,-111 925.6967,-99 925.6967,-99 925.6967,-93 931.6967,-87 937.6967,-87 937.6967,-87 1017.6967,-87 1017.6967,-87 1023.6967,-87 1029.6967,-93 1029.6967,-99 1029.6967,-99 1029.6967,-111 1029.6967,-111 1029.6967,-117 1023.6967,-123 1017.6967,-123\"/>\n<text text-anchor=\"middle\" x=\"977.6967\" y=\"-101.3\" font-family=\"Times,serif\" font-size=\"14.00\" fill=\"#000000\">MLTV &gt; 3.95?</text>\n</g>\n<!-- 22&#45;&gt;20 -->\n<g id=\"edge19\" class=\"edge\">\n<title>22&#45;&gt;20</title>\n<path fill=\"none\" stroke=\"#000000\" d=\"M957.1838,-86.9735C942.1929,-73.7997 921.7255,-55.8132 905.4503,-41.5108\"/>\n<polygon fill=\"#000000\" stroke=\"#000000\" points=\"907.6619,-38.7949 897.8398,-34.8228 903.0411,-44.0531 907.6619,-38.7949\"/>\n<text text-anchor=\"middle\" x=\"949.6967\" y=\"-57.8\" font-family=\"Times,serif\" font-size=\"14.00\" fill=\"#000000\">False</text>\n</g>\n<!-- 22&#45;&gt;21 -->\n<g id=\"edge20\" class=\"edge\">\n<title>22&#45;&gt;21</title>\n<path fill=\"none\" stroke=\"#000000\" d=\"M979.1471,-86.9735C980.095,-75.1918 981.3527,-59.5607 982.4311,-46.1581\"/>\n<polygon fill=\"#000000\" stroke=\"#000000\" points=\"985.9347,-46.2519 983.2481,-36.0034 978.9573,-45.6904 985.9347,-46.2519\"/>\n<text text-anchor=\"middle\" x=\"995.1967\" y=\"-57.8\" font-family=\"Times,serif\" font-size=\"14.00\" fill=\"#000000\">True</text>\n</g>\n<!-- 23 -->\n<g id=\"node24\" class=\"node\">\n<title>23</title>\n<ellipse fill=\"#d3d3d3\" stroke=\"#000000\" cx=\"1091.6967\" cy=\"-18\" rx=\"37.0935\" ry=\"18\"/>\n<text text-anchor=\"middle\" x=\"1091.6967\" y=\"-14.3\" font-family=\"Times,serif\" font-size=\"14.00\" fill=\"#000000\">normal</text>\n</g>\n<!-- 24 -->\n<g id=\"node25\" class=\"node\">\n<title>24</title>\n<ellipse fill=\"#d3d3d3\" stroke=\"#000000\" cx=\"1196.6967\" cy=\"-18\" rx=\"50.0912\" ry=\"18\"/>\n<text text-anchor=\"middle\" x=\"1196.6967\" y=\"-14.3\" font-family=\"Times,serif\" font-size=\"14.00\" fill=\"#000000\">pathologic</text>\n</g>\n<!-- 25 -->\n<g id=\"node26\" class=\"node\">\n<title>25</title>\n<path fill=\"#ffff00\" stroke=\"#000000\" d=\"M1139.1967,-123C1139.1967,-123 1060.1967,-123 1060.1967,-123 1054.1967,-123 1048.1967,-117 1048.1967,-111 1048.1967,-111 1048.1967,-99 1048.1967,-99 1048.1967,-93 1054.1967,-87 1060.1967,-87 1060.1967,-87 1139.1967,-87 1139.1967,-87 1145.1967,-87 1151.1967,-93 1151.1967,-99 1151.1967,-99 1151.1967,-111 1151.1967,-111 1151.1967,-117 1145.1967,-123 1139.1967,-123\"/>\n<text text-anchor=\"middle\" x=\"1099.6967\" y=\"-101.3\" font-family=\"Times,serif\" font-size=\"14.00\" fill=\"#000000\">ASTV &gt; 79.5?</text>\n</g>\n<!-- 25&#45;&gt;23 -->\n<g id=\"edge21\" class=\"edge\">\n<title>25&#45;&gt;23</title>\n<path fill=\"none\" stroke=\"#000000\" d=\"M1098.039,-86.9735C1096.9557,-75.1918 1095.5183,-59.5607 1094.2859,-46.1581\"/>\n<polygon fill=\"#000000\" stroke=\"#000000\" points=\"1097.7532,-45.6408 1093.3521,-36.0034 1090.7826,-46.2819 1097.7532,-45.6408\"/>\n<text text-anchor=\"middle\" x=\"1111.6967\" y=\"-57.8\" font-family=\"Times,serif\" font-size=\"14.00\" fill=\"#000000\">False</text>\n</g>\n<!-- 25&#45;&gt;24 -->\n<g id=\"edge22\" class=\"edge\">\n<title>25&#45;&gt;24</title>\n<path fill=\"none\" stroke=\"#000000\" d=\"M1119.7951,-86.9735C1134.4832,-73.7997 1154.5371,-55.8132 1170.4835,-41.5108\"/>\n<polygon fill=\"#000000\" stroke=\"#000000\" points=\"1172.8327,-44.1053 1177.9402,-34.8228 1168.1589,-38.8942 1172.8327,-44.1053\"/>\n<text text-anchor=\"middle\" x=\"1168.1967\" y=\"-57.8\" font-family=\"Times,serif\" font-size=\"14.00\" fill=\"#000000\">True</text>\n</g>\n<!-- 26 -->\n<g id=\"node27\" class=\"node\">\n<title>26</title>\n<path fill=\"#ffff00\" stroke=\"#000000\" d=\"M1067.1967,-210C1067.1967,-210 1010.1967,-210 1010.1967,-210 1004.1967,-210 998.1967,-204 998.1967,-198 998.1967,-198 998.1967,-186 998.1967,-186 998.1967,-180 1004.1967,-174 1010.1967,-174 1010.1967,-174 1067.1967,-174 1067.1967,-174 1073.1967,-174 1079.1967,-180 1079.1967,-186 1079.1967,-186 1079.1967,-198 1079.1967,-198 1079.1967,-204 1073.1967,-210 1067.1967,-210\"/>\n<text text-anchor=\"middle\" x=\"1038.6967\" y=\"-188.3\" font-family=\"Times,serif\" font-size=\"14.00\" fill=\"#000000\">Width &gt; 9?</text>\n</g>\n<!-- 26&#45;&gt;22 -->\n<g id=\"edge23\" class=\"edge\">\n<title>26&#45;&gt;22</title>\n<path fill=\"none\" stroke=\"#000000\" d=\"M1026.0574,-173.9735C1017.4695,-161.7252 1005.9646,-145.3165 996.3308,-131.5766\"/>\n<polygon fill=\"#000000\" stroke=\"#000000\" points=\"998.9265,-129.1819 990.3197,-123.0034 993.1949,-133.2006 998.9265,-129.1819\"/>\n<text text-anchor=\"middle\" x=\"1027.6967\" y=\"-144.8\" font-family=\"Times,serif\" font-size=\"14.00\" fill=\"#000000\">False</text>\n</g>\n<!-- 26&#45;&gt;25 -->\n<g id=\"edge24\" class=\"edge\">\n<title>26&#45;&gt;25</title>\n<path fill=\"none\" stroke=\"#000000\" d=\"M1051.3359,-173.9735C1059.9238,-161.7252 1071.4288,-145.3165 1081.0625,-131.5766\"/>\n<polygon fill=\"#000000\" stroke=\"#000000\" points=\"1084.1984,-133.2006 1087.0736,-123.0034 1078.4669,-129.1819 1084.1984,-133.2006\"/>\n<text text-anchor=\"middle\" x=\"1087.1967\" y=\"-144.8\" font-family=\"Times,serif\" font-size=\"14.00\" fill=\"#000000\">True</text>\n</g>\n<!-- 27 -->\n<g id=\"node28\" class=\"node\">\n<title>27</title>\n<ellipse fill=\"#d3d3d3\" stroke=\"#000000\" cx=\"1219.6967\" cy=\"-105\" rx=\"50.0912\" ry=\"18\"/>\n<text text-anchor=\"middle\" x=\"1219.6967\" y=\"-101.3\" font-family=\"Times,serif\" font-size=\"14.00\" fill=\"#000000\">pathologic</text>\n</g>\n<!-- 28 -->\n<g id=\"node29\" class=\"node\">\n<title>28</title>\n<ellipse fill=\"#d3d3d3\" stroke=\"#000000\" cx=\"1329.6967\" cy=\"-18\" rx=\"50.0912\" ry=\"18\"/>\n<text text-anchor=\"middle\" x=\"1329.6967\" y=\"-14.3\" font-family=\"Times,serif\" font-size=\"14.00\" fill=\"#000000\">pathologic</text>\n</g>\n<!-- 29 -->\n<g id=\"node30\" class=\"node\">\n<title>29</title>\n<ellipse fill=\"#d3d3d3\" stroke=\"#000000\" cx=\"1435.6967\" cy=\"-18\" rx=\"37.8943\" ry=\"18\"/>\n<text text-anchor=\"middle\" x=\"1435.6967\" y=\"-14.3\" font-family=\"Times,serif\" font-size=\"14.00\" fill=\"#000000\">suspect</text>\n</g>\n<!-- 30 -->\n<g id=\"node31\" class=\"node\">\n<title>30</title>\n<path fill=\"#ffff00\" stroke=\"#000000\" d=\"M1377.6967,-123C1377.6967,-123 1299.6967,-123 1299.6967,-123 1293.6967,-123 1287.6967,-117 1287.6967,-111 1287.6967,-111 1287.6967,-99 1287.6967,-99 1287.6967,-93 1293.6967,-87 1299.6967,-87 1299.6967,-87 1377.6967,-87 1377.6967,-87 1383.6967,-87 1389.6967,-93 1389.6967,-99 1389.6967,-99 1389.6967,-111 1389.6967,-111 1389.6967,-117 1383.6967,-123 1377.6967,-123\"/>\n<text text-anchor=\"middle\" x=\"1338.6967\" y=\"-101.3\" font-family=\"Times,serif\" font-size=\"14.00\" fill=\"#000000\">Variance &gt; 43?</text>\n</g>\n<!-- 30&#45;&gt;28 -->\n<g id=\"edge25\" class=\"edge\">\n<title>30&#45;&gt;28</title>\n<path fill=\"none\" stroke=\"#000000\" d=\"M1336.8318,-86.9735C1335.613,-75.1918 1333.996,-59.5607 1332.6096,-46.1581\"/>\n<polygon fill=\"#000000\" stroke=\"#000000\" points=\"1336.0696,-45.5901 1331.5591,-36.0034 1329.1067,-46.3105 1336.0696,-45.5901\"/>\n<text text-anchor=\"middle\" x=\"1350.6967\" y=\"-57.8\" font-family=\"Times,serif\" font-size=\"14.00\" fill=\"#000000\">False</text>\n</g>\n<!-- 30&#45;&gt;29 -->\n<g id=\"edge26\" class=\"edge\">\n<title>30&#45;&gt;29</title>\n<path fill=\"none\" stroke=\"#000000\" d=\"M1358.7951,-86.9735C1373.7693,-73.5431 1394.3204,-55.1106 1410.4106,-40.6792\"/>\n<polygon fill=\"#000000\" stroke=\"#000000\" points=\"1412.7997,-43.2381 1417.9071,-33.9556 1408.1258,-38.027 1412.7997,-43.2381\"/>\n<text text-anchor=\"middle\" x=\"1406.1967\" y=\"-57.8\" font-family=\"Times,serif\" font-size=\"14.00\" fill=\"#000000\">True</text>\n</g>\n<!-- 31 -->\n<g id=\"node32\" class=\"node\">\n<title>31</title>\n<path fill=\"#ffff00\" stroke=\"#000000\" d=\"M1265.6967,-210C1265.6967,-210 1173.6967,-210 1173.6967,-210 1167.6967,-210 1161.6967,-204 1161.6967,-198 1161.6967,-198 1161.6967,-186 1161.6967,-186 1161.6967,-180 1167.6967,-174 1173.6967,-174 1173.6967,-174 1265.6967,-174 1265.6967,-174 1271.6967,-174 1277.6967,-180 1277.6967,-186 1277.6967,-186 1277.6967,-198 1277.6967,-198 1277.6967,-204 1271.6967,-210 1265.6967,-210\"/>\n<text text-anchor=\"middle\" x=\"1219.6967\" y=\"-188.3\" font-family=\"Times,serif\" font-size=\"14.00\" fill=\"#000000\">Median &gt; 128.5?</text>\n</g>\n<!-- 31&#45;&gt;27 -->\n<g id=\"edge27\" class=\"edge\">\n<title>31&#45;&gt;27</title>\n<path fill=\"none\" stroke=\"#000000\" d=\"M1219.6967,-173.9735C1219.6967,-162.1918 1219.6967,-146.5607 1219.6967,-133.1581\"/>\n<polygon fill=\"#000000\" stroke=\"#000000\" points=\"1223.1968,-133.0033 1219.6967,-123.0034 1216.1968,-133.0034 1223.1968,-133.0033\"/>\n<text text-anchor=\"middle\" x=\"1234.6967\" y=\"-144.8\" font-family=\"Times,serif\" font-size=\"14.00\" fill=\"#000000\">False</text>\n</g>\n<!-- 31&#45;&gt;30 -->\n<g id=\"edge28\" class=\"edge\">\n<title>31&#45;&gt;30</title>\n<path fill=\"none\" stroke=\"#000000\" d=\"M1244.3535,-173.9735C1262.1442,-160.9669 1286.3517,-143.269 1305.7909,-129.0571\"/>\n<polygon fill=\"#000000\" stroke=\"#000000\" points=\"1308.0643,-131.7307 1314.0714,-123.0034 1303.933,-126.0798 1308.0643,-131.7307\"/>\n<text text-anchor=\"middle\" x=\"1300.1967\" y=\"-144.8\" font-family=\"Times,serif\" font-size=\"14.00\" fill=\"#000000\">True</text>\n</g>\n<!-- 32 -->\n<g id=\"node33\" class=\"node\">\n<title>32</title>\n<path fill=\"#ffff00\" stroke=\"#000000\" d=\"M1064.1967,-297C1064.1967,-297 1013.1967,-297 1013.1967,-297 1007.1967,-297 1001.1967,-291 1001.1967,-285 1001.1967,-285 1001.1967,-273 1001.1967,-273 1001.1967,-267 1007.1967,-261 1013.1967,-261 1013.1967,-261 1064.1967,-261 1064.1967,-261 1070.1967,-261 1076.1967,-267 1076.1967,-273 1076.1967,-273 1076.1967,-285 1076.1967,-285 1076.1967,-291 1070.1967,-297 1064.1967,-297\"/>\n<text text-anchor=\"middle\" x=\"1038.6967\" y=\"-275.3\" font-family=\"Times,serif\" font-size=\"14.00\" fill=\"#000000\">DP &gt; 1.5?</text>\n</g>\n<!-- 32&#45;&gt;26 -->\n<g id=\"edge29\" class=\"edge\">\n<title>32&#45;&gt;26</title>\n<path fill=\"none\" stroke=\"#000000\" d=\"M1038.6967,-260.9735C1038.6967,-249.1918 1038.6967,-233.5607 1038.6967,-220.1581\"/>\n<polygon fill=\"#000000\" stroke=\"#000000\" points=\"1042.1968,-220.0033 1038.6967,-210.0034 1035.1968,-220.0034 1042.1968,-220.0033\"/>\n<text text-anchor=\"middle\" x=\"1053.6967\" y=\"-231.8\" font-family=\"Times,serif\" font-size=\"14.00\" fill=\"#000000\">False</text>\n</g>\n<!-- 32&#45;&gt;31 -->\n<g id=\"edge30\" class=\"edge\">\n<title>32&#45;&gt;31</title>\n<path fill=\"none\" stroke=\"#000000\" d=\"M1076.2,-260.9735C1104.3518,-247.442 1143.0674,-228.8328 1173.1901,-214.354\"/>\n<polygon fill=\"#000000\" stroke=\"#000000\" points=\"1174.7448,-217.4901 1182.2414,-210.0034 1171.7122,-211.1811 1174.7448,-217.4901\"/>\n<text text-anchor=\"middle\" x=\"1154.1967\" y=\"-231.8\" font-family=\"Times,serif\" font-size=\"14.00\" fill=\"#000000\">True</text>\n</g>\n<!-- 33 -->\n<g id=\"node34\" class=\"node\">\n<title>33</title>\n<path fill=\"#ffff00\" stroke=\"#000000\" d=\"M751.6967,-384C751.6967,-384 671.6967,-384 671.6967,-384 665.6967,-384 659.6967,-378 659.6967,-372 659.6967,-372 659.6967,-360 659.6967,-360 659.6967,-354 665.6967,-348 671.6967,-348 671.6967,-348 751.6967,-348 751.6967,-348 757.6967,-348 763.6967,-354 763.6967,-360 763.6967,-360 763.6967,-372 763.6967,-372 763.6967,-378 757.6967,-384 751.6967,-384\"/>\n<text text-anchor=\"middle\" x=\"711.6967\" y=\"-362.3\" font-family=\"Times,serif\" font-size=\"14.00\" fill=\"#000000\">Mean &gt; 107.5?</text>\n</g>\n<!-- 33&#45;&gt;19 -->\n<g id=\"edge31\" class=\"edge\">\n<title>33&#45;&gt;19</title>\n<path fill=\"none\" stroke=\"#000000\" d=\"M711.6967,-347.9735C711.6967,-336.1918 711.6967,-320.5607 711.6967,-307.1581\"/>\n<polygon fill=\"#000000\" stroke=\"#000000\" points=\"715.1968,-307.0033 711.6967,-297.0034 708.1968,-307.0034 715.1968,-307.0033\"/>\n<text text-anchor=\"middle\" x=\"726.6967\" y=\"-318.8\" font-family=\"Times,serif\" font-size=\"14.00\" fill=\"#000000\">False</text>\n</g>\n<!-- 33&#45;&gt;32 -->\n<g id=\"edge32\" class=\"edge\">\n<title>33&#45;&gt;32</title>\n<path fill=\"none\" stroke=\"#000000\" d=\"M763.8724,-352.1184C826.558,-335.4405 930.8211,-307.7008 991.2993,-291.6103\"/>\n<polygon fill=\"#000000\" stroke=\"#000000\" points=\"992.214,-294.9888 1000.978,-289.0353 990.4142,-288.2241 992.214,-294.9888\"/>\n<text text-anchor=\"middle\" x=\"909.1967\" y=\"-318.8\" font-family=\"Times,serif\" font-size=\"14.00\" fill=\"#000000\">True</text>\n</g>\n<!-- 34 -->\n<g id=\"node35\" class=\"node\">\n<title>34</title>\n<path fill=\"#ffff00\" stroke=\"#000000\" d=\"M628.1967,-471C628.1967,-471 547.1967,-471 547.1967,-471 541.1967,-471 535.1967,-465 535.1967,-459 535.1967,-459 535.1967,-447 535.1967,-447 535.1967,-441 541.1967,-435 547.1967,-435 547.1967,-435 628.1967,-435 628.1967,-435 634.1967,-435 640.1967,-441 640.1967,-447 640.1967,-447 640.1967,-459 640.1967,-459 640.1967,-465 634.1967,-471 628.1967,-471\"/>\n<text text-anchor=\"middle\" x=\"587.6967\" y=\"-449.3\" font-family=\"Times,serif\" font-size=\"14.00\" fill=\"#000000\">MSTV &gt; 0.45?</text>\n</g>\n<!-- 34&#45;&gt;12 -->\n<g id=\"edge33\" class=\"edge\">\n<title>34&#45;&gt;12</title>\n<path fill=\"none\" stroke=\"#000000\" d=\"M574.8502,-434.9735C566.0384,-422.6085 554.205,-406.0036 544.357,-392.1847\"/>\n<polygon fill=\"#000000\" stroke=\"#000000\" points=\"547.1805,-390.1158 538.5266,-384.0034 541.4799,-394.1783 547.1805,-390.1158\"/>\n<text text-anchor=\"middle\" x=\"575.6967\" y=\"-405.8\" font-family=\"Times,serif\" font-size=\"14.00\" fill=\"#000000\">False</text>\n</g>\n<!-- 34&#45;&gt;33 -->\n<g id=\"edge34\" class=\"edge\">\n<title>34&#45;&gt;33</title>\n<path fill=\"none\" stroke=\"#000000\" d=\"M613.3895,-434.9735C632.0108,-421.9086 657.3787,-404.1102 677.6805,-389.8662\"/>\n<polygon fill=\"#000000\" stroke=\"#000000\" points=\"679.8608,-392.612 686.0367,-384.0034 675.8403,-386.8817 679.8608,-392.612\"/>\n<text text-anchor=\"middle\" x=\"671.1967\" y=\"-405.8\" font-family=\"Times,serif\" font-size=\"14.00\" fill=\"#000000\">True</text>\n</g>\n</g>\n</svg>\n"
          },
          "metadata": {
            "tags": []
          },
          "execution_count": 22
        }
      ]
    },
    {
      "cell_type": "markdown",
      "metadata": {
        "id": "0SA3bDXcVKsf",
        "colab_type": "text"
      },
      "source": [
        "Finally, we evaluate the accuracy of our model on the test data. The score is a bit lower 0.89 than it was in cross validation, but still quite high."
      ]
    },
    {
      "cell_type": "code",
      "metadata": {
        "id": "kTDjOAztF-p3",
        "colab_type": "code",
        "outputId": "f662a76c-f859-44bb-8652-aba814f3af97",
        "colab": {
          "base_uri": "https://localhost:8080/",
          "height": 36
        }
      },
      "source": [
        "y_pred = cls.predict(Xtest)\n",
        "print(\"Accuracy:\",metrics.accuracy_score(Ytest, y_pred))"
      ],
      "execution_count": 0,
      "outputs": [
        {
          "output_type": "stream",
          "text": [
            "Accuracy: 0.8896713615023474\n"
          ],
          "name": "stdout"
        }
      ]
    },
    {
      "cell_type": "markdown",
      "metadata": {
        "id": "O9n5ORPkG90G",
        "colab_type": "text"
      },
      "source": [
        "## Task 3: A regression example: predicting apartment prices"
      ]
    },
    {
      "cell_type": "markdown",
      "metadata": {
        "id": "_g2w3mXPIxZV",
        "colab_type": "text"
      },
      "source": [
        "*This dataset was created by Sberbank and contains some statistics from the Russian real estate market. Since we will just be able to handle numerical features and not symbolic ones, we'll need with a simplified version of the dataset. So we'll just select 9 of the columns in the dataset. The goal is to predict the price of an apartment, given numerical information such as the number of rooms, the size of the apartment in square meters, the floor, etc. Our approach will be similar to what we did in the classification example: load the data, find a suitable model using cross-validation over the training set, and finally evaluate on the held-out test data.*"
      ]
    },
    {
      "cell_type": "code",
      "metadata": {
        "id": "4sLi2ACPHMrw",
        "colab_type": "code",
        "outputId": "bf2eabda-8eff-4b12-945e-1f936b535238",
        "colab": {
          "resources": {
            "http://localhost:8080/nbextensions/google.colab/files.js": {
              "data": "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",
              "ok": true,
              "headers": [
                [
                  "content-type",
                  "application/javascript"
                ]
              ],
              "status": 200,
              "status_text": "OK"
            }
          },
          "base_uri": "https://localhost:8080/",
          "height": 74
        }
      },
      "source": [
        "# Upload and read the CSV file.\n",
        "uploaded = files.upload()\n",
        "alldata = pd.read_csv(io.BytesIO(uploaded['sberbank.csv']))"
      ],
      "execution_count": 0,
      "outputs": [
        {
          "output_type": "display_data",
          "data": {
            "text/html": [
              "\n",
              "     <input type=\"file\" id=\"files-c0020023-7cea-442d-8e42-9f802cbf4eb9\" name=\"files[]\" multiple disabled />\n",
              "     <output id=\"result-c0020023-7cea-442d-8e42-9f802cbf4eb9\">\n",
              "      Upload widget is only available when the cell has been executed in the\n",
              "      current browser session. Please rerun this cell to enable.\n",
              "      </output>\n",
              "      <script src=\"/nbextensions/google.colab/files.js\"></script> "
            ],
            "text/plain": [
              "<IPython.core.display.HTML object>"
            ]
          },
          "metadata": {
            "tags": []
          }
        },
        {
          "output_type": "stream",
          "text": [
            "Saving sberbank.csv to sberbank.csv\n"
          ],
          "name": "stdout"
        }
      ]
    },
    {
      "cell_type": "code",
      "metadata": {
        "id": "VNoO7C6eLwWa",
        "colab_type": "code",
        "outputId": "223b5329-68cc-4128-c62e-56f3faa39e7e",
        "colab": {
          "base_uri": "https://localhost:8080/",
          "height": 269
        }
      },
      "source": [
        "alldata.head()"
      ],
      "execution_count": 0,
      "outputs": [
        {
          "output_type": "execute_result",
          "data": {
            "text/html": [
              "<div>\n",
              "<style scoped>\n",
              "    .dataframe tbody tr th:only-of-type {\n",
              "        vertical-align: middle;\n",
              "    }\n",
              "\n",
              "    .dataframe tbody tr th {\n",
              "        vertical-align: top;\n",
              "    }\n",
              "\n",
              "    .dataframe thead th {\n",
              "        text-align: right;\n",
              "    }\n",
              "</style>\n",
              "<table border=\"1\" class=\"dataframe\">\n",
              "  <thead>\n",
              "    <tr style=\"text-align: right;\">\n",
              "      <th></th>\n",
              "      <th>id</th>\n",
              "      <th>timestamp</th>\n",
              "      <th>full_sq</th>\n",
              "      <th>life_sq</th>\n",
              "      <th>floor</th>\n",
              "      <th>max_floor</th>\n",
              "      <th>material</th>\n",
              "      <th>build_year</th>\n",
              "      <th>num_room</th>\n",
              "      <th>kitch_sq</th>\n",
              "      <th>state</th>\n",
              "      <th>product_type</th>\n",
              "      <th>sub_area</th>\n",
              "      <th>area_m</th>\n",
              "      <th>raion_popul</th>\n",
              "      <th>green_zone_part</th>\n",
              "      <th>indust_part</th>\n",
              "      <th>children_preschool</th>\n",
              "      <th>preschool_quota</th>\n",
              "      <th>preschool_education_centers_raion</th>\n",
              "      <th>children_school</th>\n",
              "      <th>school_quota</th>\n",
              "      <th>school_education_centers_raion</th>\n",
              "      <th>school_education_centers_top_20_raion</th>\n",
              "      <th>hospital_beds_raion</th>\n",
              "      <th>healthcare_centers_raion</th>\n",
              "      <th>university_top_20_raion</th>\n",
              "      <th>sport_objects_raion</th>\n",
              "      <th>additional_education_raion</th>\n",
              "      <th>culture_objects_top_25</th>\n",
              "      <th>culture_objects_top_25_raion</th>\n",
              "      <th>shopping_centers_raion</th>\n",
              "      <th>office_raion</th>\n",
              "      <th>thermal_power_plant_raion</th>\n",
              "      <th>incineration_raion</th>\n",
              "      <th>oil_chemistry_raion</th>\n",
              "      <th>radiation_raion</th>\n",
              "      <th>railroad_terminal_raion</th>\n",
              "      <th>big_market_raion</th>\n",
              "      <th>nuclear_reactor_raion</th>\n",
              "      <th>...</th>\n",
              "      <th>cafe_sum_3000_min_price_avg</th>\n",
              "      <th>cafe_sum_3000_max_price_avg</th>\n",
              "      <th>cafe_avg_price_3000</th>\n",
              "      <th>cafe_count_3000_na_price</th>\n",
              "      <th>cafe_count_3000_price_500</th>\n",
              "      <th>cafe_count_3000_price_1000</th>\n",
              "      <th>cafe_count_3000_price_1500</th>\n",
              "      <th>cafe_count_3000_price_2500</th>\n",
              "      <th>cafe_count_3000_price_4000</th>\n",
              "      <th>cafe_count_3000_price_high</th>\n",
              "      <th>big_church_count_3000</th>\n",
              "      <th>church_count_3000</th>\n",
              "      <th>mosque_count_3000</th>\n",
              "      <th>leisure_count_3000</th>\n",
              "      <th>sport_count_3000</th>\n",
              "      <th>market_count_3000</th>\n",
              "      <th>green_part_5000</th>\n",
              "      <th>prom_part_5000</th>\n",
              "      <th>office_count_5000</th>\n",
              "      <th>office_sqm_5000</th>\n",
              "      <th>trc_count_5000</th>\n",
              "      <th>trc_sqm_5000</th>\n",
              "      <th>cafe_count_5000</th>\n",
              "      <th>cafe_sum_5000_min_price_avg</th>\n",
              "      <th>cafe_sum_5000_max_price_avg</th>\n",
              "      <th>cafe_avg_price_5000</th>\n",
              "      <th>cafe_count_5000_na_price</th>\n",
              "      <th>cafe_count_5000_price_500</th>\n",
              "      <th>cafe_count_5000_price_1000</th>\n",
              "      <th>cafe_count_5000_price_1500</th>\n",
              "      <th>cafe_count_5000_price_2500</th>\n",
              "      <th>cafe_count_5000_price_4000</th>\n",
              "      <th>cafe_count_5000_price_high</th>\n",
              "      <th>big_church_count_5000</th>\n",
              "      <th>church_count_5000</th>\n",
              "      <th>mosque_count_5000</th>\n",
              "      <th>leisure_count_5000</th>\n",
              "      <th>sport_count_5000</th>\n",
              "      <th>market_count_5000</th>\n",
              "      <th>price_doc</th>\n",
              "    </tr>\n",
              "  </thead>\n",
              "  <tbody>\n",
              "    <tr>\n",
              "      <th>0</th>\n",
              "      <td>1</td>\n",
              "      <td>2011-08-20</td>\n",
              "      <td>43</td>\n",
              "      <td>27.0</td>\n",
              "      <td>4.0</td>\n",
              "      <td>NaN</td>\n",
              "      <td>NaN</td>\n",
              "      <td>NaN</td>\n",
              "      <td>NaN</td>\n",
              "      <td>NaN</td>\n",
              "      <td>NaN</td>\n",
              "      <td>Investment</td>\n",
              "      <td>Bibirevo</td>\n",
              "      <td>6.407578e+06</td>\n",
              "      <td>155572</td>\n",
              "      <td>0.189727</td>\n",
              "      <td>0.000070</td>\n",
              "      <td>9576</td>\n",
              "      <td>5001.0</td>\n",
              "      <td>5</td>\n",
              "      <td>10309</td>\n",
              "      <td>11065.0</td>\n",
              "      <td>5</td>\n",
              "      <td>0</td>\n",
              "      <td>240.0</td>\n",
              "      <td>1</td>\n",
              "      <td>0</td>\n",
              "      <td>7</td>\n",
              "      <td>3</td>\n",
              "      <td>no</td>\n",
              "      <td>0</td>\n",
              "      <td>16</td>\n",
              "      <td>1</td>\n",
              "      <td>no</td>\n",
              "      <td>no</td>\n",
              "      <td>no</td>\n",
              "      <td>no</td>\n",
              "      <td>no</td>\n",
              "      <td>no</td>\n",
              "      <td>no</td>\n",
              "      <td>...</td>\n",
              "      <td>639.68</td>\n",
              "      <td>1079.37</td>\n",
              "      <td>859.52</td>\n",
              "      <td>5</td>\n",
              "      <td>21</td>\n",
              "      <td>22</td>\n",
              "      <td>16</td>\n",
              "      <td>3</td>\n",
              "      <td>1</td>\n",
              "      <td>0</td>\n",
              "      <td>2</td>\n",
              "      <td>4</td>\n",
              "      <td>0</td>\n",
              "      <td>0</td>\n",
              "      <td>21</td>\n",
              "      <td>1</td>\n",
              "      <td>13.09</td>\n",
              "      <td>13.31</td>\n",
              "      <td>29</td>\n",
              "      <td>807385</td>\n",
              "      <td>52</td>\n",
              "      <td>4036616</td>\n",
              "      <td>152</td>\n",
              "      <td>708.57</td>\n",
              "      <td>1185.71</td>\n",
              "      <td>947.14</td>\n",
              "      <td>12</td>\n",
              "      <td>39</td>\n",
              "      <td>48</td>\n",
              "      <td>40</td>\n",
              "      <td>9</td>\n",
              "      <td>4</td>\n",
              "      <td>0</td>\n",
              "      <td>13</td>\n",
              "      <td>22</td>\n",
              "      <td>1</td>\n",
              "      <td>0</td>\n",
              "      <td>52</td>\n",
              "      <td>4</td>\n",
              "      <td>5850000</td>\n",
              "    </tr>\n",
              "    <tr>\n",
              "      <th>1</th>\n",
              "      <td>2</td>\n",
              "      <td>2011-08-23</td>\n",
              "      <td>34</td>\n",
              "      <td>19.0</td>\n",
              "      <td>3.0</td>\n",
              "      <td>NaN</td>\n",
              "      <td>NaN</td>\n",
              "      <td>NaN</td>\n",
              "      <td>NaN</td>\n",
              "      <td>NaN</td>\n",
              "      <td>NaN</td>\n",
              "      <td>Investment</td>\n",
              "      <td>Nagatinskij Zaton</td>\n",
              "      <td>9.589337e+06</td>\n",
              "      <td>115352</td>\n",
              "      <td>0.372602</td>\n",
              "      <td>0.049637</td>\n",
              "      <td>6880</td>\n",
              "      <td>3119.0</td>\n",
              "      <td>5</td>\n",
              "      <td>7759</td>\n",
              "      <td>6237.0</td>\n",
              "      <td>8</td>\n",
              "      <td>0</td>\n",
              "      <td>229.0</td>\n",
              "      <td>1</td>\n",
              "      <td>0</td>\n",
              "      <td>6</td>\n",
              "      <td>1</td>\n",
              "      <td>yes</td>\n",
              "      <td>1</td>\n",
              "      <td>3</td>\n",
              "      <td>0</td>\n",
              "      <td>no</td>\n",
              "      <td>no</td>\n",
              "      <td>no</td>\n",
              "      <td>no</td>\n",
              "      <td>no</td>\n",
              "      <td>no</td>\n",
              "      <td>no</td>\n",
              "      <td>...</td>\n",
              "      <td>631.03</td>\n",
              "      <td>1086.21</td>\n",
              "      <td>858.62</td>\n",
              "      <td>1</td>\n",
              "      <td>11</td>\n",
              "      <td>11</td>\n",
              "      <td>4</td>\n",
              "      <td>2</td>\n",
              "      <td>1</td>\n",
              "      <td>0</td>\n",
              "      <td>1</td>\n",
              "      <td>7</td>\n",
              "      <td>0</td>\n",
              "      <td>6</td>\n",
              "      <td>19</td>\n",
              "      <td>1</td>\n",
              "      <td>10.26</td>\n",
              "      <td>27.47</td>\n",
              "      <td>66</td>\n",
              "      <td>2690465</td>\n",
              "      <td>40</td>\n",
              "      <td>2034942</td>\n",
              "      <td>177</td>\n",
              "      <td>673.81</td>\n",
              "      <td>1148.81</td>\n",
              "      <td>911.31</td>\n",
              "      <td>9</td>\n",
              "      <td>49</td>\n",
              "      <td>65</td>\n",
              "      <td>36</td>\n",
              "      <td>15</td>\n",
              "      <td>3</td>\n",
              "      <td>0</td>\n",
              "      <td>15</td>\n",
              "      <td>29</td>\n",
              "      <td>1</td>\n",
              "      <td>10</td>\n",
              "      <td>66</td>\n",
              "      <td>14</td>\n",
              "      <td>6000000</td>\n",
              "    </tr>\n",
              "    <tr>\n",
              "      <th>2</th>\n",
              "      <td>3</td>\n",
              "      <td>2011-08-27</td>\n",
              "      <td>43</td>\n",
              "      <td>29.0</td>\n",
              "      <td>2.0</td>\n",
              "      <td>NaN</td>\n",
              "      <td>NaN</td>\n",
              "      <td>NaN</td>\n",
              "      <td>NaN</td>\n",
              "      <td>NaN</td>\n",
              "      <td>NaN</td>\n",
              "      <td>Investment</td>\n",
              "      <td>Tekstil'shhiki</td>\n",
              "      <td>4.808270e+06</td>\n",
              "      <td>101708</td>\n",
              "      <td>0.112560</td>\n",
              "      <td>0.118537</td>\n",
              "      <td>5879</td>\n",
              "      <td>1463.0</td>\n",
              "      <td>4</td>\n",
              "      <td>6207</td>\n",
              "      <td>5580.0</td>\n",
              "      <td>7</td>\n",
              "      <td>0</td>\n",
              "      <td>1183.0</td>\n",
              "      <td>1</td>\n",
              "      <td>0</td>\n",
              "      <td>5</td>\n",
              "      <td>1</td>\n",
              "      <td>no</td>\n",
              "      <td>0</td>\n",
              "      <td>0</td>\n",
              "      <td>1</td>\n",
              "      <td>no</td>\n",
              "      <td>no</td>\n",
              "      <td>no</td>\n",
              "      <td>yes</td>\n",
              "      <td>no</td>\n",
              "      <td>no</td>\n",
              "      <td>no</td>\n",
              "      <td>...</td>\n",
              "      <td>697.44</td>\n",
              "      <td>1192.31</td>\n",
              "      <td>944.87</td>\n",
              "      <td>2</td>\n",
              "      <td>9</td>\n",
              "      <td>17</td>\n",
              "      <td>9</td>\n",
              "      <td>3</td>\n",
              "      <td>1</td>\n",
              "      <td>0</td>\n",
              "      <td>0</td>\n",
              "      <td>11</td>\n",
              "      <td>0</td>\n",
              "      <td>0</td>\n",
              "      <td>20</td>\n",
              "      <td>6</td>\n",
              "      <td>13.69</td>\n",
              "      <td>21.58</td>\n",
              "      <td>43</td>\n",
              "      <td>1478160</td>\n",
              "      <td>35</td>\n",
              "      <td>1572990</td>\n",
              "      <td>122</td>\n",
              "      <td>702.68</td>\n",
              "      <td>1196.43</td>\n",
              "      <td>949.55</td>\n",
              "      <td>10</td>\n",
              "      <td>29</td>\n",
              "      <td>45</td>\n",
              "      <td>25</td>\n",
              "      <td>10</td>\n",
              "      <td>3</td>\n",
              "      <td>0</td>\n",
              "      <td>11</td>\n",
              "      <td>27</td>\n",
              "      <td>0</td>\n",
              "      <td>4</td>\n",
              "      <td>67</td>\n",
              "      <td>10</td>\n",
              "      <td>5700000</td>\n",
              "    </tr>\n",
              "    <tr>\n",
              "      <th>3</th>\n",
              "      <td>4</td>\n",
              "      <td>2011-09-01</td>\n",
              "      <td>89</td>\n",
              "      <td>50.0</td>\n",
              "      <td>9.0</td>\n",
              "      <td>NaN</td>\n",
              "      <td>NaN</td>\n",
              "      <td>NaN</td>\n",
              "      <td>NaN</td>\n",
              "      <td>NaN</td>\n",
              "      <td>NaN</td>\n",
              "      <td>Investment</td>\n",
              "      <td>Mitino</td>\n",
              "      <td>1.258354e+07</td>\n",
              "      <td>178473</td>\n",
              "      <td>0.194703</td>\n",
              "      <td>0.069753</td>\n",
              "      <td>13087</td>\n",
              "      <td>6839.0</td>\n",
              "      <td>9</td>\n",
              "      <td>13670</td>\n",
              "      <td>17063.0</td>\n",
              "      <td>10</td>\n",
              "      <td>0</td>\n",
              "      <td>NaN</td>\n",
              "      <td>1</td>\n",
              "      <td>0</td>\n",
              "      <td>17</td>\n",
              "      <td>6</td>\n",
              "      <td>no</td>\n",
              "      <td>0</td>\n",
              "      <td>11</td>\n",
              "      <td>4</td>\n",
              "      <td>no</td>\n",
              "      <td>no</td>\n",
              "      <td>no</td>\n",
              "      <td>no</td>\n",
              "      <td>no</td>\n",
              "      <td>no</td>\n",
              "      <td>no</td>\n",
              "      <td>...</td>\n",
              "      <td>718.75</td>\n",
              "      <td>1218.75</td>\n",
              "      <td>968.75</td>\n",
              "      <td>0</td>\n",
              "      <td>5</td>\n",
              "      <td>14</td>\n",
              "      <td>10</td>\n",
              "      <td>3</td>\n",
              "      <td>0</td>\n",
              "      <td>0</td>\n",
              "      <td>1</td>\n",
              "      <td>2</td>\n",
              "      <td>0</td>\n",
              "      <td>0</td>\n",
              "      <td>18</td>\n",
              "      <td>3</td>\n",
              "      <td>14.18</td>\n",
              "      <td>3.89</td>\n",
              "      <td>8</td>\n",
              "      <td>244166</td>\n",
              "      <td>22</td>\n",
              "      <td>942180</td>\n",
              "      <td>61</td>\n",
              "      <td>931.58</td>\n",
              "      <td>1552.63</td>\n",
              "      <td>1242.11</td>\n",
              "      <td>4</td>\n",
              "      <td>7</td>\n",
              "      <td>21</td>\n",
              "      <td>15</td>\n",
              "      <td>11</td>\n",
              "      <td>2</td>\n",
              "      <td>1</td>\n",
              "      <td>4</td>\n",
              "      <td>4</td>\n",
              "      <td>0</td>\n",
              "      <td>0</td>\n",
              "      <td>26</td>\n",
              "      <td>3</td>\n",
              "      <td>13100000</td>\n",
              "    </tr>\n",
              "    <tr>\n",
              "      <th>4</th>\n",
              "      <td>5</td>\n",
              "      <td>2011-09-05</td>\n",
              "      <td>77</td>\n",
              "      <td>77.0</td>\n",
              "      <td>4.0</td>\n",
              "      <td>NaN</td>\n",
              "      <td>NaN</td>\n",
              "      <td>NaN</td>\n",
              "      <td>NaN</td>\n",
              "      <td>NaN</td>\n",
              "      <td>NaN</td>\n",
              "      <td>Investment</td>\n",
              "      <td>Basmannoe</td>\n",
              "      <td>8.398461e+06</td>\n",
              "      <td>108171</td>\n",
              "      <td>0.015234</td>\n",
              "      <td>0.037316</td>\n",
              "      <td>5706</td>\n",
              "      <td>3240.0</td>\n",
              "      <td>7</td>\n",
              "      <td>6748</td>\n",
              "      <td>7770.0</td>\n",
              "      <td>9</td>\n",
              "      <td>0</td>\n",
              "      <td>562.0</td>\n",
              "      <td>4</td>\n",
              "      <td>2</td>\n",
              "      <td>25</td>\n",
              "      <td>2</td>\n",
              "      <td>no</td>\n",
              "      <td>0</td>\n",
              "      <td>10</td>\n",
              "      <td>93</td>\n",
              "      <td>no</td>\n",
              "      <td>no</td>\n",
              "      <td>no</td>\n",
              "      <td>yes</td>\n",
              "      <td>yes</td>\n",
              "      <td>no</td>\n",
              "      <td>no</td>\n",
              "      <td>...</td>\n",
              "      <td>853.03</td>\n",
              "      <td>1410.45</td>\n",
              "      <td>1131.74</td>\n",
              "      <td>63</td>\n",
              "      <td>266</td>\n",
              "      <td>267</td>\n",
              "      <td>262</td>\n",
              "      <td>149</td>\n",
              "      <td>57</td>\n",
              "      <td>4</td>\n",
              "      <td>70</td>\n",
              "      <td>121</td>\n",
              "      <td>1</td>\n",
              "      <td>40</td>\n",
              "      <td>77</td>\n",
              "      <td>5</td>\n",
              "      <td>8.38</td>\n",
              "      <td>10.92</td>\n",
              "      <td>689</td>\n",
              "      <td>8404624</td>\n",
              "      <td>114</td>\n",
              "      <td>3503058</td>\n",
              "      <td>2283</td>\n",
              "      <td>853.88</td>\n",
              "      <td>1411.45</td>\n",
              "      <td>1132.66</td>\n",
              "      <td>143</td>\n",
              "      <td>566</td>\n",
              "      <td>578</td>\n",
              "      <td>552</td>\n",
              "      <td>319</td>\n",
              "      <td>108</td>\n",
              "      <td>17</td>\n",
              "      <td>135</td>\n",
              "      <td>236</td>\n",
              "      <td>2</td>\n",
              "      <td>91</td>\n",
              "      <td>195</td>\n",
              "      <td>14</td>\n",
              "      <td>16331452</td>\n",
              "    </tr>\n",
              "  </tbody>\n",
              "</table>\n",
              "<p>5 rows × 292 columns</p>\n",
              "</div>"
            ],
            "text/plain": [
              "   id   timestamp  full_sq  ...  sport_count_5000  market_count_5000  price_doc\n",
              "0   1  2011-08-20       43  ...                52                  4    5850000\n",
              "1   2  2011-08-23       34  ...                66                 14    6000000\n",
              "2   3  2011-08-27       43  ...                67                 10    5700000\n",
              "3   4  2011-09-01       89  ...                26                  3   13100000\n",
              "4   5  2011-09-05       77  ...               195                 14   16331452\n",
              "\n",
              "[5 rows x 292 columns]"
            ]
          },
          "metadata": {
            "tags": []
          },
          "execution_count": 4
        }
      ]
    },
    {
      "cell_type": "code",
      "metadata": {
        "id": "TKKAMRX6GTlz",
        "colab_type": "code",
        "colab": {}
      },
      "source": [
        "# Convert the timestamp string to an integer representing the year.\n",
        "def get_year(timestamp):\n",
        "    return int(timestamp[:4])\n",
        "alldata['year'] = alldata.timestamp.apply(get_year)\n",
        "\n",
        "# Select the 9 input columns and the output column.\n",
        "selected_columns = ['price_doc', 'year', 'full_sq', 'life_sq', 'floor', 'num_room', 'kitch_sq', 'full_all']\n",
        "alldata = alldata[selected_columns]\n",
        "alldata = alldata.dropna()\n",
        "\n",
        "# Shuffle.\n",
        "alldata_shuffled = alldata.sample(frac=1.0, random_state=1)\n",
        "\n",
        "# Separate the input and output columns.\n",
        "X = alldata_shuffled.drop('price_doc', axis=1)\n",
        "# For the output, we'll use the log of the sales price.\n",
        "Y = alldata_shuffled['price_doc'].apply(np.log)\n",
        "\n",
        "# Split into training and test sets.\n",
        "xtrain, xtest, ytrain, ytest = train_test_split(X, Y, test_size=0.2, random_state=0)"
      ],
      "execution_count": 0,
      "outputs": []
    },
    {
      "cell_type": "code",
      "metadata": {
        "id": "Rwj5vPifHDMM",
        "colab_type": "code",
        "outputId": "162d74e2-cb5f-40e7-a3fe-d1ee6bd4ab7c",
        "colab": {
          "base_uri": "https://localhost:8080/",
          "height": 36
        }
      },
      "source": [
        "from sklearn.dummy import DummyRegressor\n",
        "from sklearn.model_selection import cross_validate\n",
        "m1 = DummyRegressor()\n",
        "-cross_validate(m1, xtrain, ytrain, scoring='neg_mean_squared_error',cv=5)['test_score'].mean()"
      ],
      "execution_count": 0,
      "outputs": [
        {
          "output_type": "execute_result",
          "data": {
            "text/plain": [
              "0.3925599360494389"
            ]
          },
          "metadata": {
            "tags": []
          },
          "execution_count": 26
        }
      ]
    },
    {
      "cell_type": "markdown",
      "metadata": {
        "id": "-DLT_RoLX1Bf",
        "colab_type": "text"
      },
      "source": [
        "Unlike in classification, we use mean squared error to evaluate the performance of the tested regressor. So for the other regressor below, we consider them useful if they score less than the DummyRegressor."
      ]
    },
    {
      "cell_type": "code",
      "metadata": {
        "id": "d1wwpnAYKYnS",
        "colab_type": "code",
        "outputId": "f2df8ee3-f2fc-4dfb-ac45-b64f29574f3a",
        "colab": {
          "base_uri": "https://localhost:8080/",
          "height": 36
        }
      },
      "source": [
        "#linear regression\n",
        "from sklearn.linear_model import LinearRegression\n",
        "\n",
        "m2 = LinearRegression()\n",
        "-cross_validate(m2, xtrain, ytrain, scoring='neg_mean_squared_error',cv=5)['test_score'].mean()"
      ],
      "execution_count": 0,
      "outputs": [
        {
          "output_type": "execute_result",
          "data": {
            "text/plain": [
              "0.2961607293046175"
            ]
          },
          "metadata": {
            "tags": []
          },
          "execution_count": 27
        }
      ]
    },
    {
      "cell_type": "code",
      "metadata": {
        "id": "TxRGYPJxKdAz",
        "colab_type": "code",
        "outputId": "bf24e895-3809-423d-ba83-b36e245ffa75",
        "colab": {
          "base_uri": "https://localhost:8080/",
          "height": 36
        }
      },
      "source": [
        "#ridge\n",
        "from sklearn.linear_model import Ridge\n",
        "\n",
        "m3 = Ridge()\n",
        "-cross_validate(m3, xtrain, ytrain, scoring='neg_mean_squared_error',cv=5)['test_score'].mean()"
      ],
      "execution_count": 0,
      "outputs": [
        {
          "output_type": "execute_result",
          "data": {
            "text/plain": [
              "0.29616065181689616"
            ]
          },
          "metadata": {
            "tags": []
          },
          "execution_count": 28
        }
      ]
    },
    {
      "cell_type": "code",
      "metadata": {
        "id": "9JykN5JzKftL",
        "colab_type": "code",
        "outputId": "9d2205fe-3409-4819-c43e-19c142e1d305",
        "colab": {
          "base_uri": "https://localhost:8080/",
          "height": 36
        }
      },
      "source": [
        "#Lasso\n",
        "from sklearn import linear_model\n",
        "\n",
        "m4 = linear_model.Lasso()\n",
        "-cross_validate(m4, xtrain, ytrain, scoring='neg_mean_squared_error',cv=5)['test_score'].mean()"
      ],
      "execution_count": 0,
      "outputs": [
        {
          "output_type": "execute_result",
          "data": {
            "text/plain": [
              "0.3025169880005759"
            ]
          },
          "metadata": {
            "tags": []
          },
          "execution_count": 29
        }
      ]
    },
    {
      "cell_type": "code",
      "metadata": {
        "id": "O3wEUP54KiwV",
        "colab_type": "code",
        "outputId": "926324b2-3e52-41bc-ee29-bec1b2c1e423",
        "colab": {
          "base_uri": "https://localhost:8080/",
          "height": 36
        }
      },
      "source": [
        "#Decision tree\n",
        "from sklearn.tree import DecisionTreeRegressor\n",
        "\n",
        "m5 = DecisionTreeRegressor(random_state=0)\n",
        "-cross_validate(m5, xtrain, ytrain, scoring='neg_mean_squared_error',cv=5)['test_score'].mean()"
      ],
      "execution_count": 0,
      "outputs": [
        {
          "output_type": "execute_result",
          "data": {
            "text/plain": [
              "0.5691889753971506"
            ]
          },
          "metadata": {
            "tags": []
          },
          "execution_count": 30
        }
      ]
    },
    {
      "cell_type": "markdown",
      "metadata": {
        "id": "D2dEqrcsYVHn",
        "colab_type": "text"
      },
      "source": [
        "Interestingly, the DecisionTreeRegressor performs worse than our Dummy. Maybe it overfitted the data."
      ]
    },
    {
      "cell_type": "code",
      "metadata": {
        "id": "_CZyIuIzKk_1",
        "colab_type": "code",
        "outputId": "84175e2d-8569-4195-f434-1418c0728ae4",
        "colab": {
          "base_uri": "https://localhost:8080/",
          "height": 36
        }
      },
      "source": [
        "#Random forest regressor\n",
        "from sklearn.ensemble import RandomForestRegressor\n",
        "\n",
        "m6 = RandomForestRegressor(random_state=0, n_estimators=10)\n",
        "-cross_validate(m6, xtrain, ytrain, scoring='neg_mean_squared_error',cv=5)['test_score'].mean()"
      ],
      "execution_count": 0,
      "outputs": [
        {
          "output_type": "execute_result",
          "data": {
            "text/plain": [
              "0.31564738719406915"
            ]
          },
          "metadata": {
            "tags": []
          },
          "execution_count": 31
        }
      ]
    },
    {
      "cell_type": "code",
      "metadata": {
        "id": "7hbnqSBZK_WO",
        "colab_type": "code",
        "outputId": "81c7cf10-a9bb-4acb-b57d-e1390af3f878",
        "colab": {
          "base_uri": "https://localhost:8080/",
          "height": 36
        }
      },
      "source": [
        "#GradientBoostingRegressor\n",
        "from sklearn import ensemble\n",
        "\n",
        "m7 = ensemble.GradientBoostingRegressor(random_state=0)\n",
        "-cross_validate(m7, xtrain, ytrain, scoring='neg_mean_squared_error',cv=5)['test_score'].mean()"
      ],
      "execution_count": 0,
      "outputs": [
        {
          "output_type": "execute_result",
          "data": {
            "text/plain": [
              "0.26576567061993656"
            ]
          },
          "metadata": {
            "tags": []
          },
          "execution_count": 32
        }
      ]
    },
    {
      "cell_type": "markdown",
      "metadata": {
        "id": "vyKVneWzbLvg",
        "colab_type": "text"
      },
      "source": [
        "Similarly to the classifier, we could improve the fit by tuning the hyperparameters such as tree depth for tree regressor. We tried it, the fitting was not improved much so we just include the code below commented out."
      ]
    },
    {
      "cell_type": "code",
      "metadata": {
        "id": "7zM4tUIyKneF",
        "colab_type": "code",
        "colab": {}
      },
      "source": [
        "#sets the maximum depth for tree regressor\n",
        "\n",
        "# List of values to try for max_depth:\n",
        "#max_depth = list(range(1, 10))\n",
        "# List to store the average RMSE for each value of max_depth:\n",
        "#acc = []\n",
        "#for dep in max_depth:\n",
        "    #clsf = DecisionTreeRegressor(max_depth = dep)\n",
        "    #clsf.fit(xtrain, ytrain)\n",
        "    #score= clsf.score(xtrain, ytrain)\n",
        "    #acc.append(score)\n",
        "    \n",
        "#plt.plot(max_depth, acc, marker='o')\n",
        "#plt.xlabel('Depth of tree')\n",
        "#plt.ylabel('R^2')\n",
        "#plt.show();"
      ],
      "execution_count": 0,
      "outputs": []
    },
    {
      "cell_type": "markdown",
      "metadata": {
        "id": "jOz6N1hIIZ99",
        "colab_type": "text"
      },
      "source": [
        "As mentioned above, we are using negative mean square error as our scoring criterion for evaluating the training performance. After running different regression models, we decided to use the Gradient Boost Regressor because it gives the minimum mean square value 0.27 and in this case, lower is better. \n",
        "Evaluating the method on the test set (after training it on the full training set) gave an average of the squares of the errors 0.27, which means that the data values are closely distributed to the fitted value. It is also almost the same score as the cross validation, so the test data is probably similar enough to the training data.\n"
      ]
    },
    {
      "cell_type": "code",
      "metadata": {
        "id": "WIrNJipGLF6g",
        "colab_type": "code",
        "outputId": "bc88f21b-e3c8-4866-e902-b4abde1f0735",
        "colab": {
          "base_uri": "https://localhost:8080/",
          "height": 36
        }
      },
      "source": [
        "#train on the full training set and evaluate on the held-out test set using gradientboostregressor\n",
        "\n",
        "from sklearn.metrics import mean_squared_error\n",
        "  \n",
        "m7.fit(xtrain, ytrain)\n",
        "mean_squared_error(ytest, m7.predict(xtest))"
      ],
      "execution_count": 0,
      "outputs": [
        {
          "output_type": "execute_result",
          "data": {
            "text/plain": [
              "0.2652054227501015"
            ]
          },
          "metadata": {
            "tags": []
          },
          "execution_count": 33
        }
      ]
    },
    {
      "cell_type": "markdown",
      "metadata": {
        "id": "A3Gc2cNaLP_j",
        "colab_type": "text"
      },
      "source": [
        "## Task 4: Decision trees for regression"
      ]
    },
    {
      "cell_type": "markdown",
      "metadata": {
        "id": "Iz1CQzw1BvQz",
        "colab_type": "text"
      },
      "source": [
        "### Step 1. Implementing the regression model"
      ]
    },
    {
      "cell_type": "markdown",
      "metadata": {
        "id": "HMSqY6APKjEU",
        "colab_type": "text"
      },
      "source": [
        "*For the final task, we'll implement a class TreeRegressor for regression with decision trees. It is probably a good idea to structure this in a similar way to the TreeClassifier, just adapted for regression instead. This means that you should probably write a new subclass that inherits from the same abstract superclass DecisionTree that the classifier used.* \n",
        "\n"
      ]
    },
    {
      "cell_type": "code",
      "metadata": {
        "id": "RR8bNFtlLJEj",
        "colab_type": "code",
        "colab": {}
      },
      "source": [
        "from sklearn.base import RegressorMixin\n",
        "import numpy as np\n",
        "\n",
        "class TreeRegressor(DecisionTree, RegressorMixin):\n",
        "\n",
        "    def __init__(self, threshold, max_depth=10):\n",
        "        super().__init__(max_depth)\n",
        "        self.threshold = threshold\n",
        "\n",
        "    def fit(self, X, Y):\n",
        "        # ToDo: whatever is to be done here\n",
        "        super().fit(X, Y)\n",
        "\n",
        "    # Select a default value that is going to be used if we decide to make a leaf.\n",
        "    # We will select the mean value\n",
        "    def get_default_value(self, Y):\n",
        "        self.mean_value = np.mean(Y)\n",
        "        return self.mean_value\n",
        "\n",
        "    # Checks whether a set of output values is homogeneous.\n",
        "    # In the regression case it means that the variance of the\n",
        "    # values is below a certain threshold\n",
        "    def is_homogeneous(self, Y):\n",
        "        # ToDo: calculate variance and compare to pre-set threshold\n",
        "        self.variance = np.var(Y)\n",
        "        return self.variance <= self.threshold\n",
        "\n",
        "    # Finds the best splitting point for a given feature.\n",
        "\n",
        "    def best_split(self, X, Y, feature):\n",
        "\n",
        "        # Create a list of input-output pairs, where we have sorted\n",
        "        # in ascending order by the input feature we're considering.\n",
        "        XY = sorted(zip(X[:, feature], Y))\n",
        "\n",
        "        n = len(XY)\n",
        "\n",
        "        # Variance before splitting\n",
        "        Y_srt = [item[1] for item in XY]\n",
        "        full_variance = (1/n)*(np.sum(np.square(Y_srt)))-np.square((1/n)*(np.sum(Y_srt)))\n",
        "\n",
        "        # Keep track of the best result we've seen so far.\n",
        "        max_score = -np.inf\n",
        "        max_i = None\n",
        "\n",
        "        # Go through all the positions (excluding the first and last position).\n",
        "        for i in range(1, n-1):\n",
        "\n",
        "            # Input and output at the current position.\n",
        "            x_i = XY[i][0]\n",
        "            y_i = XY[i][1]\n",
        "\n",
        "            # If the input is equal to the input at the next position, we will\n",
        "            # not consider a split here.\n",
        "            x_next = XY[i+1][0]\n",
        "            if x_i == x_next:\n",
        "                continue\n",
        "            # Using the variance of values to measure its homogeneity\n",
        "            # Compute the variances of lower and higher parts up until this point\n",
        "            low_var = (1/i)*(np.sum(np.square(Y_srt[:i])))-np.square((1/i)*(np.sum(Y_srt[:i])))\n",
        "            high_var = (1/(n-i))*(np.sum(np.square(Y_srt[i:])))-np.square((1/(n-i))*(np.sum(Y_srt[i:])))\n",
        "\n",
        "            # Compute the variance reduction of a split at this position\n",
        "            score = full_variance - ((n-i)/n)*(high_var) - (i/n)*(low_var)\n",
        "            \n",
        "            #print(\"x: \", x_i)\n",
        "            #print(\"full variance: \",full_variance)\n",
        "            # print(\"low variance: \", low_var)\n",
        "            #print(\"high variance: \", high_var)\n",
        "            #print( \"score: \", score)\n",
        "\n",
        "            # If this is the best split, remember it.\n",
        "            if score > max_score:\n",
        "                max_score = score\n",
        "                max_i = i\n",
        "\n",
        "        # If we didn't find any split (meaning that all inputs are identical), return\n",
        "        # a dummy value.\n",
        "        if max_i is None:\n",
        "            return -np.inf, None, None\n",
        "\n",
        "        # Otherwise, return the best split we found and its score.\n",
        "        split_point = 0.5*(XY[max_i][0] + XY[max_i+1][0])\n",
        "        return max_score, feature, split_point\n"
      ],
      "execution_count": 0,
      "outputs": []
    },
    {
      "cell_type": "markdown",
      "metadata": {
        "id": "--51yND1GOza",
        "colab_type": "text"
      },
      "source": [
        "### Step 2. Sanity check"
      ]
    },
    {
      "cell_type": "markdown",
      "metadata": {
        "id": "dlqyZRoCK7d6",
        "colab_type": "text"
      },
      "source": [
        "*The following function will generate a small number of training examples for a simple regression task with one input variable.*\n",
        "\n"
      ]
    },
    {
      "cell_type": "code",
      "metadata": {
        "id": "6NJOedZ1Z7Jw",
        "colab_type": "code",
        "colab": {}
      },
      "source": [
        "def make_some_data(n):\n",
        "    x = np.random.uniform(-5, 5, size=n)\n",
        "    Y = (x > 1) + 0.1*np.random.normal(size=n)\n",
        "    X = x.reshape(n, 1) # X needs to be a 2-dimensional matrix\n",
        "    return X, Y"
      ],
      "execution_count": 0,
      "outputs": []
    },
    {
      "cell_type": "code",
      "metadata": {
        "id": "uR0hmWr-aB0v",
        "colab_type": "code",
        "outputId": "f1ef9e93-b92c-4d70-cf07-c0285a9a60b6",
        "colab": {
          "base_uri": "https://localhost:8080/",
          "height": 265
        }
      },
      "source": [
        "X,Y = make_some_data(100)\n",
        "\n",
        "plt.scatter(X,Y);"
      ],
      "execution_count": 0,
      "outputs": [
        {
          "output_type": "display_data",
          "data": {
            "image/png": "[encoded data removed]",
            "text/plain": [
              "<Figure size 432x288 with 1 Axes>"
            ]
          },
          "metadata": {
            "tags": []
          }
        }
      ]
    },
    {
      "cell_type": "markdown",
      "metadata": {
        "id": "eUgTysPscA9C",
        "colab_type": "text"
      },
      "source": [
        "We see that the data should be separated into two groups. So we set the max tree depth to 1."
      ]
    },
    {
      "cell_type": "code",
      "metadata": {
        "id": "d5yDNuEdqLDX",
        "colab_type": "code",
        "outputId": "63a7f696-cb89-4cba-cc73-739090903cc6",
        "colab": {
          "base_uri": "https://localhost:8080/",
          "height": 195
        }
      },
      "source": [
        "rls2 = TreeRegressor(0.1,max_depth=1)\n",
        "# common sense dictates using 1 as max depth\n",
        "# out of curiousity, we also tried max tree depth = 5, and we saw that\n",
        "# tree does not change with setting it to 5 either \n",
        "# because 1 split already creates a good separation that\n",
        "# creates groups of data which has variance below the set threshold\n",
        "rls2.fit(X, Y)\n",
        "rls2.draw_tree()"
      ],
      "execution_count": 0,
      "outputs": [
        {
          "output_type": "execute_result",
          "data": {
            "text/plain": [
              "<graphviz.dot.Digraph at 0x7f8911798518>"
            ],
            "image/svg+xml": "<?xml version=\"1.0\" encoding=\"UTF-8\" standalone=\"no\"?>\n<!DOCTYPE svg PUBLIC \"-//W3C//DTD SVG 1.1//EN\"\n \"http://www.w3.org/Graphics/SVG/1.1/DTD/svg11.dtd\">\n<!-- Generated by graphviz version 2.40.1 (20161225.0304)\n -->\n<!-- Title: %3 Pages: 1 -->\n<svg width=\"418pt\" height=\"131pt\"\n viewBox=\"0.00 0.00 418.28 131.00\" xmlns=\"http://www.w3.org/2000/svg\" xmlns:xlink=\"http://www.w3.org/1999/xlink\">\n<g id=\"graph0\" class=\"graph\" transform=\"scale(1 1) rotate(0) translate(4 127)\">\n<title>%3</title>\n<polygon fill=\"#ffffff\" stroke=\"transparent\" points=\"-4,4 -4,-127 414.2826,-127 414.2826,4 -4,4\"/>\n<!-- 0 -->\n<g id=\"node1\" class=\"node\">\n<title>0</title>\n<ellipse fill=\"#d3d3d3\" stroke=\"#000000\" cx=\"100.7411\" cy=\"-18\" rx=\"100.9827\" ry=\"18\"/>\n<text text-anchor=\"middle\" x=\"100.7411\" y=\"-14.3\" font-family=\"Times,serif\" font-size=\"14.00\" fill=\"#000000\">0.00445813139793929</text>\n</g>\n<!-- 1 -->\n<g id=\"node2\" class=\"node\">\n<title>1</title>\n<ellipse fill=\"#d3d3d3\" stroke=\"#000000\" cx=\"314.7411\" cy=\"-18\" rx=\"95.5831\" ry=\"18\"/>\n<text text-anchor=\"middle\" x=\"314.7411\" y=\"-14.3\" font-family=\"Times,serif\" font-size=\"14.00\" fill=\"#000000\">0.9949018307311913</text>\n</g>\n<!-- 2 -->\n<g id=\"node3\" class=\"node\">\n<title>2</title>\n<path fill=\"#ffff00\" stroke=\"#000000\" d=\"M239.7411,-123C239.7411,-123 175.7411,-123 175.7411,-123 169.7411,-123 163.7411,-117 163.7411,-111 163.7411,-111 163.7411,-99 163.7411,-99 163.7411,-93 169.7411,-87 175.7411,-87 175.7411,-87 239.7411,-87 239.7411,-87 245.7411,-87 251.7411,-93 251.7411,-99 251.7411,-99 251.7411,-111 251.7411,-111 251.7411,-117 245.7411,-123 239.7411,-123\"/>\n<text text-anchor=\"middle\" x=\"207.7411\" y=\"-101.3\" font-family=\"Times,serif\" font-size=\"14.00\" fill=\"#000000\">F0 &gt; 1.066?</text>\n</g>\n<!-- 2&#45;&gt;0 -->\n<g id=\"edge1\" class=\"edge\">\n<title>2&#45;&gt;0</title>\n<path fill=\"none\" stroke=\"#000000\" d=\"M185.5706,-86.9735C169.684,-74.0564 148.1066,-56.5122 130.6897,-42.3508\"/>\n<polygon fill=\"#000000\" stroke=\"#000000\" points=\"132.484,-39.2988 122.517,-35.7057 128.0679,-44.73 132.484,-39.2988\"/>\n<text text-anchor=\"middle\" x=\"175.7411\" y=\"-57.8\" font-family=\"Times,serif\" font-size=\"14.00\" fill=\"#000000\">False</text>\n</g>\n<!-- 2&#45;&gt;1 -->\n<g id=\"edge2\" class=\"edge\">\n<title>2&#45;&gt;1</title>\n<path fill=\"none\" stroke=\"#000000\" d=\"M229.9115,-86.9735C245.7982,-74.0564 267.3755,-56.5122 284.7924,-42.3508\"/>\n<polygon fill=\"#000000\" stroke=\"#000000\" points=\"287.4142,-44.73 292.9651,-35.7057 282.9981,-39.2988 287.4142,-44.73\"/>\n<text text-anchor=\"middle\" x=\"280.2411\" y=\"-57.8\" font-family=\"Times,serif\" font-size=\"14.00\" fill=\"#000000\">True</text>\n</g>\n</g>\n</svg>\n"
          },
          "metadata": {
            "tags": []
          },
          "execution_count": 37
        }
      ]
    },
    {
      "cell_type": "markdown",
      "metadata": {
        "id": "jkUAidncuWpw",
        "colab_type": "text"
      },
      "source": [
        "*If you consider the data-generating function, what kind of decision tree would we want to describe this data? Select the tree depth according to your common sense. Does the result make sense? What happens if we allow the tree depth to be a large number?*  \n",
        "This data is not very complicated, with only 2 groups, so we would want a tree with only a depth of 1. When we allow it to be bigger, nothing changes, the depth is still 1. \n",
        "\n",
        "\n",
        "\n",
        "\n"
      ]
    },
    {
      "cell_type": "markdown",
      "metadata": {
        "id": "dINE31nvGa-0",
        "colab_type": "text"
      },
      "source": [
        "### Step 3. Predicting apartment prices using decision tree regression"
      ]
    },
    {
      "cell_type": "markdown",
      "metadata": {
        "id": "hL4bsEBlMNSP",
        "colab_type": "text"
      },
      "source": [
        "*Train and evaluate a decision tree regression model for the Russian apartment price prediction example.*\n",
        "\n",
        "We run cross validation with 5 folds in our data and see that the mean squared error decreases with increasing tree depth until a point. When max depth reaching 6 MSE starts increasing again because we overfit the training data thus the predicting power decreases.\n",
        "\n"
      ]
    },
    {
      "cell_type": "code",
      "metadata": {
        "id": "HmbER5w3KK8u",
        "colab_type": "code",
        "outputId": "09b25de7-e48f-4ae3-ef4d-39e2635abc6a",
        "colab": {
          "base_uri": "https://localhost:8080/",
          "height": 279
        }
      },
      "source": [
        "#sets the maximum depth for tree classifier\n",
        "\n",
        "# List of values to try for max_depth:\n",
        "max_depth = list(range(1, 10))\n",
        "# List to store the average RMSE for each value of max_depth:\n",
        "cvs = []\n",
        "for dep in max_depth:\n",
        "    clsf = TreeRegressor(0.1, max_depth = dep)\n",
        "    score= -cross_validate(clsf, xtrain, ytrain, scoring='neg_mean_squared_error',cv=5)['test_score'].mean()\n",
        "    cvs.append(score)\n",
        "    \n",
        "plt.plot(max_depth, cvs, marker='o')\n",
        "plt.xlabel('Depth of tree')\n",
        "plt.ylabel('MSE')\n",
        "plt.show();"
      ],
      "execution_count": 0,
      "outputs": [
        {
          "output_type": "display_data",
          "data": {
            "image/png": "[encoded data removed]",
            "text/plain": [
              "<Figure size 432x288 with 1 Axes>"
            ]
          },
          "metadata": {
            "tags": []
          }
        }
      ]
    },
    {
      "cell_type": "markdown",
      "metadata": {
        "id": "rlwRRoFdrmi0",
        "colab_type": "text"
      },
      "source": [
        "From the plot, we can see that at depth 5 the mean sqaured error is the loweset so it is the best in this case. We plot the tree of depth 5 trained on the full data below."
      ]
    },
    {
      "cell_type": "code",
      "metadata": {
        "id": "q0kne82QWtI3",
        "colab_type": "code",
        "outputId": "1f44145d-197c-4c3d-e418-a9a2c5cb1718",
        "colab": {
          "base_uri": "https://localhost:8080/",
          "height": 679
        }
      },
      "source": [
        "from sklearn import metrics #Import scikit-learn metrics module for accuracy calculation\n",
        "\n",
        "rls_apt = TreeRegressor(0.1,max_depth=5)\n",
        "\n",
        "rls_apt.fit(xtrain, ytrain)\n",
        "rls_apt.draw_tree()"
      ],
      "execution_count": 0,
      "outputs": [
        {
          "output_type": "execute_result",
          "data": {
            "text/plain": [
              "<graphviz.dot.Digraph at 0x7f89117989b0>"
            ],
            "image/svg+xml": "<?xml version=\"1.0\" encoding=\"UTF-8\" standalone=\"no\"?>\n<!DOCTYPE svg PUBLIC \"-//W3C//DTD SVG 1.1//EN\"\n \"http://www.w3.org/Graphics/SVG/1.1/DTD/svg11.dtd\">\n<!-- Generated by graphviz version 2.40.1 (20161225.0304)\n -->\n<!-- Title: %3 Pages: 1 -->\n<svg width=\"5377pt\" height=\"479pt\"\n viewBox=\"0.00 0.00 5376.53 479.00\" xmlns=\"http://www.w3.org/2000/svg\" xmlns:xlink=\"http://www.w3.org/1999/xlink\">\n<g id=\"graph0\" class=\"graph\" transform=\"scale(1 1) rotate(0) translate(4 475)\">\n<title>%3</title>\n<polygon fill=\"#ffffff\" stroke=\"transparent\" points=\"-4,4 -4,-475 5372.5334,-475 5372.5334,4 -4,4\"/>\n<!-- 0 -->\n<g id=\"node1\" class=\"node\">\n<title>0</title>\n<ellipse fill=\"#d3d3d3\" stroke=\"#000000\" cx=\"95.5415\" cy=\"-18\" rx=\"95.5831\" ry=\"18\"/>\n<text text-anchor=\"middle\" x=\"95.5415\" y=\"-14.3\" font-family=\"Times,serif\" font-size=\"14.00\" fill=\"#000000\">14.783786178211907</text>\n</g>\n<!-- 1 -->\n<g id=\"node2\" class=\"node\">\n<title>1</title>\n<ellipse fill=\"#d3d3d3\" stroke=\"#000000\" cx=\"305.5415\" cy=\"-18\" rx=\"96.3833\" ry=\"18\"/>\n<text text-anchor=\"middle\" x=\"305.5415\" y=\"-14.3\" font-family=\"Times,serif\" font-size=\"14.00\" fill=\"#000000\">15.742434108091317</text>\n</g>\n<!-- 2 -->\n<g id=\"node3\" class=\"node\">\n<title>2</title>\n<path fill=\"#ffff00\" stroke=\"#000000\" d=\"M354.5415,-123C354.5415,-123 256.5415,-123 256.5415,-123 250.5415,-123 244.5415,-117 244.5415,-111 244.5415,-111 244.5415,-99 244.5415,-99 244.5415,-93 250.5415,-87 256.5415,-87 256.5415,-87 354.5415,-87 354.5415,-87 360.5415,-87 366.5415,-93 366.5415,-99 366.5415,-99 366.5415,-111 366.5415,-111 366.5415,-117 360.5415,-123 354.5415,-123\"/>\n<text text-anchor=\"middle\" x=\"305.5415\" y=\"-101.3\" font-family=\"Times,serif\" font-size=\"14.00\" fill=\"#000000\">num_room &gt; 1.5?</text>\n</g>\n<!-- 2&#45;&gt;0 -->\n<g id=\"edge1\" class=\"edge\">\n<title>2&#45;&gt;0</title>\n<path fill=\"none\" stroke=\"#000000\" d=\"M262.0294,-86.9735C227.8775,-72.8249 180.326,-53.125 144.7824,-38.3998\"/>\n<polygon fill=\"#000000\" stroke=\"#000000\" points=\"145.675,-34.9812 135.0968,-34.3872 142.9958,-41.4481 145.675,-34.9812\"/>\n<text text-anchor=\"middle\" x=\"228.5415\" y=\"-57.8\" font-family=\"Times,serif\" font-size=\"14.00\" fill=\"#000000\">False</text>\n</g>\n<!-- 2&#45;&gt;1 -->\n<g id=\"edge2\" class=\"edge\">\n<title>2&#45;&gt;1</title>\n<path fill=\"none\" stroke=\"#000000\" d=\"M305.5415,-86.9735C305.5415,-75.1918 305.5415,-59.5607 305.5415,-46.1581\"/>\n<polygon fill=\"#000000\" stroke=\"#000000\" points=\"309.0416,-46.0033 305.5415,-36.0034 302.0416,-46.0034 309.0416,-46.0033\"/>\n<text text-anchor=\"middle\" x=\"319.0415\" y=\"-57.8\" font-family=\"Times,serif\" font-size=\"14.00\" fill=\"#000000\">True</text>\n</g>\n<!-- 3 -->\n<g id=\"node4\" class=\"node\">\n<title>3</title>\n<ellipse fill=\"#d3d3d3\" stroke=\"#000000\" cx=\"515.5415\" cy=\"-18\" rx=\"96.3833\" ry=\"18\"/>\n<text text-anchor=\"middle\" x=\"515.5415\" y=\"-14.3\" font-family=\"Times,serif\" font-size=\"14.00\" fill=\"#000000\">15.021545041079015</text>\n</g>\n<!-- 4 -->\n<g id=\"node5\" class=\"node\">\n<title>4</title>\n<ellipse fill=\"#d3d3d3\" stroke=\"#000000\" cx=\"720.5415\" cy=\"-18\" rx=\"90.9839\" ry=\"18\"/>\n<text text-anchor=\"middle\" x=\"720.5415\" y=\"-14.3\" font-family=\"Times,serif\" font-size=\"14.00\" fill=\"#000000\">15.24355715212353</text>\n</g>\n<!-- 5 -->\n<g id=\"node6\" class=\"node\">\n<title>5</title>\n<path fill=\"#ffff00\" stroke=\"#000000\" d=\"M670.5415,-123C670.5415,-123 590.5415,-123 590.5415,-123 584.5415,-123 578.5415,-117 578.5415,-111 578.5415,-111 578.5415,-99 578.5415,-99 578.5415,-93 584.5415,-87 590.5415,-87 590.5415,-87 670.5415,-87 670.5415,-87 676.5415,-87 682.5415,-93 682.5415,-99 682.5415,-99 682.5415,-111 682.5415,-111 682.5415,-117 676.5415,-123 670.5415,-123\"/>\n<text text-anchor=\"middle\" x=\"630.5415\" y=\"-101.3\" font-family=\"Times,serif\" font-size=\"14.00\" fill=\"#000000\">full_sq &gt; 40.5?</text>\n</g>\n<!-- 5&#45;&gt;3 -->\n<g id=\"edge3\" class=\"edge\">\n<title>5&#45;&gt;3</title>\n<path fill=\"none\" stroke=\"#000000\" d=\"M606.7134,-86.9735C589.4062,-73.8802 565.8148,-56.0328 546.9661,-41.7734\"/>\n<polygon fill=\"#000000\" stroke=\"#000000\" points=\"549.0322,-38.9477 538.9456,-35.7057 544.8089,-44.5302 549.0322,-38.9477\"/>\n<text text-anchor=\"middle\" x=\"595.5415\" y=\"-57.8\" font-family=\"Times,serif\" font-size=\"14.00\" fill=\"#000000\">False</text>\n</g>\n<!-- 5&#45;&gt;4 -->\n<g id=\"edge4\" class=\"edge\">\n<title>5&#45;&gt;4</title>\n<path fill=\"none\" stroke=\"#000000\" d=\"M649.1896,-86.9735C662.4307,-74.1738 680.3718,-56.8308 694.9506,-42.7379\"/>\n<polygon fill=\"#000000\" stroke=\"#000000\" points=\"697.468,-45.1724 702.2253,-35.7057 692.6028,-40.1395 697.468,-45.1724\"/>\n<text text-anchor=\"middle\" x=\"695.0415\" y=\"-57.8\" font-family=\"Times,serif\" font-size=\"14.00\" fill=\"#000000\">True</text>\n</g>\n<!-- 6 -->\n<g id=\"node7\" class=\"node\">\n<title>6</title>\n<path fill=\"#ffff00\" stroke=\"#000000\" d=\"M670.5415,-210C670.5415,-210 590.5415,-210 590.5415,-210 584.5415,-210 578.5415,-204 578.5415,-198 578.5415,-198 578.5415,-186 578.5415,-186 578.5415,-180 584.5415,-174 590.5415,-174 590.5415,-174 670.5415,-174 670.5415,-174 676.5415,-174 682.5415,-180 682.5415,-186 682.5415,-186 682.5415,-198 682.5415,-198 682.5415,-204 676.5415,-210 670.5415,-210\"/>\n<text text-anchor=\"middle\" x=\"630.5415\" y=\"-188.3\" font-family=\"Times,serif\" font-size=\"14.00\" fill=\"#000000\">full_sq &gt; 38.5?</text>\n</g>\n<!-- 6&#45;&gt;2 -->\n<g id=\"edge5\" class=\"edge\">\n<title>6&#45;&gt;2</title>\n<path fill=\"none\" stroke=\"#000000\" d=\"M578.3246,-178.0219C523.6789,-163.3937 437.5291,-140.3321 376.6875,-124.0452\"/>\n<polygon fill=\"#000000\" stroke=\"#000000\" points=\"377.3364,-120.5958 366.7715,-121.3908 375.5263,-127.3577 377.3364,-120.5958\"/>\n<text text-anchor=\"middle\" x=\"502.5415\" y=\"-144.8\" font-family=\"Times,serif\" font-size=\"14.00\" fill=\"#000000\">False</text>\n</g>\n<!-- 6&#45;&gt;5 -->\n<g id=\"edge6\" class=\"edge\">\n<title>6&#45;&gt;5</title>\n<path fill=\"none\" stroke=\"#000000\" d=\"M630.5415,-173.9735C630.5415,-162.1918 630.5415,-146.5607 630.5415,-133.1581\"/>\n<polygon fill=\"#000000\" stroke=\"#000000\" points=\"634.0416,-133.0033 630.5415,-123.0034 627.0416,-133.0034 634.0416,-133.0033\"/>\n<text text-anchor=\"middle\" x=\"644.0415\" y=\"-144.8\" font-family=\"Times,serif\" font-size=\"14.00\" fill=\"#000000\">True</text>\n</g>\n<!-- 7 -->\n<g id=\"node8\" class=\"node\">\n<title>7</title>\n<ellipse fill=\"#d3d3d3\" stroke=\"#000000\" cx=\"925.5415\" cy=\"-18\" rx=\"96.3833\" ry=\"18\"/>\n<text text-anchor=\"middle\" x=\"925.5415\" y=\"-14.3\" font-family=\"Times,serif\" font-size=\"14.00\" fill=\"#000000\">15.098438533155162</text>\n</g>\n<!-- 8 -->\n<g id=\"node9\" class=\"node\">\n<title>8</title>\n<ellipse fill=\"#d3d3d3\" stroke=\"#000000\" cx=\"1130.5415\" cy=\"-18\" rx=\"90.9839\" ry=\"18\"/>\n<text text-anchor=\"middle\" x=\"1130.5415\" y=\"-14.3\" font-family=\"Times,serif\" font-size=\"14.00\" fill=\"#000000\">15.34528077681032</text>\n</g>\n<!-- 9 -->\n<g id=\"node10\" class=\"node\">\n<title>9</title>\n<path fill=\"#ffff00\" stroke=\"#000000\" d=\"M1171.5415,-123C1171.5415,-123 1089.5415,-123 1089.5415,-123 1083.5415,-123 1077.5415,-117 1077.5415,-111 1077.5415,-111 1077.5415,-99 1077.5415,-99 1077.5415,-93 1083.5415,-87 1089.5415,-87 1089.5415,-87 1171.5415,-87 1171.5415,-87 1177.5415,-87 1183.5415,-93 1183.5415,-99 1183.5415,-99 1183.5415,-111 1183.5415,-111 1183.5415,-117 1177.5415,-123 1171.5415,-123\"/>\n<text text-anchor=\"middle\" x=\"1130.5415\" y=\"-101.3\" font-family=\"Times,serif\" font-size=\"14.00\" fill=\"#000000\">kitch_sq &gt; 3.5?</text>\n</g>\n<!-- 9&#45;&gt;7 -->\n<g id=\"edge7\" class=\"edge\">\n<title>9&#45;&gt;7</title>\n<path fill=\"none\" stroke=\"#000000\" d=\"M1088.0654,-86.9735C1054.8339,-72.8704 1008.6057,-53.2516 973.9451,-38.542\"/>\n<polygon fill=\"#000000\" stroke=\"#000000\" points=\"975.0688,-35.2168 964.4961,-34.532 972.3341,-41.6605 975.0688,-35.2168\"/>\n<text text-anchor=\"middle\" x=\"1055.5415\" y=\"-57.8\" font-family=\"Times,serif\" font-size=\"14.00\" fill=\"#000000\">False</text>\n</g>\n<!-- 9&#45;&gt;8 -->\n<g id=\"edge8\" class=\"edge\">\n<title>9&#45;&gt;8</title>\n<path fill=\"none\" stroke=\"#000000\" d=\"M1130.5415,-86.9735C1130.5415,-75.1918 1130.5415,-59.5607 1130.5415,-46.1581\"/>\n<polygon fill=\"#000000\" stroke=\"#000000\" points=\"1134.0416,-46.0033 1130.5415,-36.0034 1127.0416,-46.0034 1134.0416,-46.0033\"/>\n<text text-anchor=\"middle\" x=\"1144.0415\" y=\"-57.8\" font-family=\"Times,serif\" font-size=\"14.00\" fill=\"#000000\">True</text>\n</g>\n<!-- 10 -->\n<g id=\"node11\" class=\"node\">\n<title>10</title>\n<ellipse fill=\"#d3d3d3\" stroke=\"#000000\" cx=\"1330.5415\" cy=\"-18\" rx=\"90.9839\" ry=\"18\"/>\n<text text-anchor=\"middle\" x=\"1330.5415\" y=\"-14.3\" font-family=\"Times,serif\" font-size=\"14.00\" fill=\"#000000\">15.37247481701934</text>\n</g>\n<!-- 11 -->\n<g id=\"node12\" class=\"node\">\n<title>11</title>\n<ellipse fill=\"#d3d3d3\" stroke=\"#000000\" cx=\"1534.5415\" cy=\"-18\" rx=\"94.7833\" ry=\"18\"/>\n<text text-anchor=\"middle\" x=\"1534.5415\" y=\"-14.3\" font-family=\"Times,serif\" font-size=\"14.00\" fill=\"#000000\">15.531481211194354</text>\n</g>\n<!-- 12 -->\n<g id=\"node13\" class=\"node\">\n<title>12</title>\n<path fill=\"#ffff00\" stroke=\"#000000\" d=\"M1389.5415,-123C1389.5415,-123 1271.5415,-123 1271.5415,-123 1265.5415,-123 1259.5415,-117 1259.5415,-111 1259.5415,-111 1259.5415,-99 1259.5415,-99 1259.5415,-93 1265.5415,-87 1271.5415,-87 1271.5415,-87 1389.5415,-87 1389.5415,-87 1395.5415,-87 1401.5415,-93 1401.5415,-99 1401.5415,-99 1401.5415,-111 1401.5415,-111 1401.5415,-117 1395.5415,-123 1389.5415,-123\"/>\n<text text-anchor=\"middle\" x=\"1330.5415\" y=\"-101.3\" font-family=\"Times,serif\" font-size=\"14.00\" fill=\"#000000\">full_all &gt; 4.552e+04?</text>\n</g>\n<!-- 12&#45;&gt;10 -->\n<g id=\"edge9\" class=\"edge\">\n<title>12&#45;&gt;10</title>\n<path fill=\"none\" stroke=\"#000000\" d=\"M1330.5415,-86.9735C1330.5415,-75.1918 1330.5415,-59.5607 1330.5415,-46.1581\"/>\n<polygon fill=\"#000000\" stroke=\"#000000\" points=\"1334.0416,-46.0033 1330.5415,-36.0034 1327.0416,-46.0034 1334.0416,-46.0033\"/>\n<text text-anchor=\"middle\" x=\"1345.5415\" y=\"-57.8\" font-family=\"Times,serif\" font-size=\"14.00\" fill=\"#000000\">False</text>\n</g>\n<!-- 12&#45;&gt;11 -->\n<g id=\"edge10\" class=\"edge\">\n<title>12&#45;&gt;11</title>\n<path fill=\"none\" stroke=\"#000000\" d=\"M1372.8105,-86.9735C1405.8799,-72.8704 1451.8825,-53.2516 1486.3741,-38.542\"/>\n<polygon fill=\"#000000\" stroke=\"#000000\" points=\"1487.9515,-41.6743 1495.7769,-34.532 1485.2055,-35.2354 1487.9515,-41.6743\"/>\n<text text-anchor=\"middle\" x=\"1459.0415\" y=\"-57.8\" font-family=\"Times,serif\" font-size=\"14.00\" fill=\"#000000\">True</text>\n</g>\n<!-- 13 -->\n<g id=\"node14\" class=\"node\">\n<title>13</title>\n<path fill=\"#ffff00\" stroke=\"#000000\" d=\"M1320.5415,-210C1320.5415,-210 1240.5415,-210 1240.5415,-210 1234.5415,-210 1228.5415,-204 1228.5415,-198 1228.5415,-198 1228.5415,-186 1228.5415,-186 1228.5415,-180 1234.5415,-174 1240.5415,-174 1240.5415,-174 1320.5415,-174 1320.5415,-174 1326.5415,-174 1332.5415,-180 1332.5415,-186 1332.5415,-186 1332.5415,-198 1332.5415,-198 1332.5415,-204 1326.5415,-210 1320.5415,-210\"/>\n<text text-anchor=\"middle\" x=\"1280.5415\" y=\"-188.3\" font-family=\"Times,serif\" font-size=\"14.00\" fill=\"#000000\">full_sq &gt; 34.5?</text>\n</g>\n<!-- 13&#45;&gt;9 -->\n<g id=\"edge11\" class=\"edge\">\n<title>13&#45;&gt;9</title>\n<path fill=\"none\" stroke=\"#000000\" d=\"M1249.4614,-173.9735C1226.5334,-160.6753 1195.1502,-142.473 1170.3804,-128.1065\"/>\n<polygon fill=\"#000000\" stroke=\"#000000\" points=\"1171.9882,-124.993 1161.5818,-123.0034 1168.4761,-131.0482 1171.9882,-124.993\"/>\n<text text-anchor=\"middle\" x=\"1229.5415\" y=\"-144.8\" font-family=\"Times,serif\" font-size=\"14.00\" fill=\"#000000\">False</text>\n</g>\n<!-- 13&#45;&gt;12 -->\n<g id=\"edge12\" class=\"edge\">\n<title>13&#45;&gt;12</title>\n<path fill=\"none\" stroke=\"#000000\" d=\"M1290.9016,-173.9735C1297.8738,-161.8418 1307.1917,-145.6287 1315.0416,-131.9698\"/>\n<polygon fill=\"#000000\" stroke=\"#000000\" points=\"1318.2464,-133.4175 1320.1948,-123.0034 1312.1773,-129.9295 1318.2464,-133.4175\"/>\n<text text-anchor=\"middle\" x=\"1322.0415\" y=\"-144.8\" font-family=\"Times,serif\" font-size=\"14.00\" fill=\"#000000\">True</text>\n</g>\n<!-- 14 -->\n<g id=\"node15\" class=\"node\">\n<title>14</title>\n<path fill=\"#ffff00\" stroke=\"#000000\" d=\"M1323.0415,-297C1323.0415,-297 1238.0415,-297 1238.0415,-297 1232.0415,-297 1226.0415,-291 1226.0415,-285 1226.0415,-285 1226.0415,-273 1226.0415,-273 1226.0415,-267 1232.0415,-261 1238.0415,-261 1238.0415,-261 1323.0415,-261 1323.0415,-261 1329.0415,-261 1335.0415,-267 1335.0415,-273 1335.0415,-273 1335.0415,-285 1335.0415,-285 1335.0415,-291 1329.0415,-297 1323.0415,-297\"/>\n<text text-anchor=\"middle\" x=\"1280.5415\" y=\"-275.3\" font-family=\"Times,serif\" font-size=\"14.00\" fill=\"#000000\">full_all &gt; 8968?</text>\n</g>\n<!-- 14&#45;&gt;6 -->\n<g id=\"edge13\" class=\"edge\">\n<title>14&#45;&gt;6</title>\n<path fill=\"none\" stroke=\"#000000\" d=\"M1225.9623,-271.6948C1105.9064,-255.6258 819.5305,-217.2954 692.7553,-200.3271\"/>\n<polygon fill=\"#000000\" stroke=\"#000000\" points=\"693.1892,-196.854 682.8133,-198.9964 692.2605,-203.7922 693.1892,-196.854\"/>\n<text text-anchor=\"middle\" x=\"1009.5415\" y=\"-231.8\" font-family=\"Times,serif\" font-size=\"14.00\" fill=\"#000000\">False</text>\n</g>\n<!-- 14&#45;&gt;13 -->\n<g id=\"edge14\" class=\"edge\">\n<title>14&#45;&gt;13</title>\n<path fill=\"none\" stroke=\"#000000\" d=\"M1280.5415,-260.9735C1280.5415,-249.1918 1280.5415,-233.5607 1280.5415,-220.1581\"/>\n<polygon fill=\"#000000\" stroke=\"#000000\" points=\"1284.0416,-220.0033 1280.5415,-210.0034 1277.0416,-220.0034 1284.0416,-220.0033\"/>\n<text text-anchor=\"middle\" x=\"1294.0415\" y=\"-231.8\" font-family=\"Times,serif\" font-size=\"14.00\" fill=\"#000000\">True</text>\n</g>\n<!-- 15 -->\n<g id=\"node16\" class=\"node\">\n<title>15</title>\n<ellipse fill=\"#d3d3d3\" stroke=\"#000000\" cx=\"1743.5415\" cy=\"-18\" rx=\"96.3833\" ry=\"18\"/>\n<text text-anchor=\"middle\" x=\"1743.5415\" y=\"-14.3\" font-family=\"Times,serif\" font-size=\"14.00\" fill=\"#000000\">15.227303356539263</text>\n</g>\n<!-- 16 -->\n<g id=\"node17\" class=\"node\">\n<title>16</title>\n<ellipse fill=\"#d3d3d3\" stroke=\"#000000\" cx=\"1948.5415\" cy=\"-18\" rx=\"90.9839\" ry=\"18\"/>\n<text text-anchor=\"middle\" x=\"1948.5415\" y=\"-14.3\" font-family=\"Times,serif\" font-size=\"14.00\" fill=\"#000000\">15.46728867801161</text>\n</g>\n<!-- 17 -->\n<g id=\"node18\" class=\"node\">\n<title>17</title>\n<path fill=\"#ffff00\" stroke=\"#000000\" d=\"M1991.0415,-123C1991.0415,-123 1906.0415,-123 1906.0415,-123 1900.0415,-123 1894.0415,-117 1894.0415,-111 1894.0415,-111 1894.0415,-99 1894.0415,-99 1894.0415,-93 1900.0415,-87 1906.0415,-87 1906.0415,-87 1991.0415,-87 1991.0415,-87 1997.0415,-87 2003.0415,-93 2003.0415,-99 2003.0415,-99 2003.0415,-111 2003.0415,-111 2003.0415,-117 1997.0415,-123 1991.0415,-123\"/>\n<text text-anchor=\"middle\" x=\"1948.5415\" y=\"-101.3\" font-family=\"Times,serif\" font-size=\"14.00\" fill=\"#000000\">full_all &gt; 3232?</text>\n</g>\n<!-- 17&#45;&gt;15 -->\n<g id=\"edge15\" class=\"edge\">\n<title>17&#45;&gt;15</title>\n<path fill=\"none\" stroke=\"#000000\" d=\"M1906.0654,-86.9735C1872.8339,-72.8704 1826.6057,-53.2516 1791.9451,-38.542\"/>\n<polygon fill=\"#000000\" stroke=\"#000000\" points=\"1793.0688,-35.2168 1782.4961,-34.532 1790.3341,-41.6605 1793.0688,-35.2168\"/>\n<text text-anchor=\"middle\" x=\"1873.5415\" y=\"-57.8\" font-family=\"Times,serif\" font-size=\"14.00\" fill=\"#000000\">False</text>\n</g>\n<!-- 17&#45;&gt;16 -->\n<g id=\"edge16\" class=\"edge\">\n<title>17&#45;&gt;16</title>\n<path fill=\"none\" stroke=\"#000000\" d=\"M1948.5415,-86.9735C1948.5415,-75.1918 1948.5415,-59.5607 1948.5415,-46.1581\"/>\n<polygon fill=\"#000000\" stroke=\"#000000\" points=\"1952.0416,-46.0033 1948.5415,-36.0034 1945.0416,-46.0034 1952.0416,-46.0033\"/>\n<text text-anchor=\"middle\" x=\"1962.0415\" y=\"-57.8\" font-family=\"Times,serif\" font-size=\"14.00\" fill=\"#000000\">True</text>\n</g>\n<!-- 18 -->\n<g id=\"node19\" class=\"node\">\n<title>18</title>\n<ellipse fill=\"#d3d3d3\" stroke=\"#000000\" cx=\"2132.5415\" cy=\"-105\" rx=\"96.3833\" ry=\"18\"/>\n<text text-anchor=\"middle\" x=\"2132.5415\" y=\"-101.3\" font-family=\"Times,serif\" font-size=\"14.00\" fill=\"#000000\">14.902947142455503</text>\n</g>\n<!-- 19 -->\n<g id=\"node20\" class=\"node\">\n<title>19</title>\n<path fill=\"#ffff00\" stroke=\"#000000\" d=\"M2175.0415,-210C2175.0415,-210 2090.0415,-210 2090.0415,-210 2084.0415,-210 2078.0415,-204 2078.0415,-198 2078.0415,-198 2078.0415,-186 2078.0415,-186 2078.0415,-180 2084.0415,-174 2090.0415,-174 2090.0415,-174 2175.0415,-174 2175.0415,-174 2181.0415,-174 2187.0415,-180 2187.0415,-186 2187.0415,-186 2187.0415,-198 2187.0415,-198 2187.0415,-204 2181.0415,-210 2175.0415,-210\"/>\n<text text-anchor=\"middle\" x=\"2132.5415\" y=\"-188.3\" font-family=\"Times,serif\" font-size=\"14.00\" fill=\"#000000\">full_all &gt; 7440?</text>\n</g>\n<!-- 19&#45;&gt;17 -->\n<g id=\"edge17\" class=\"edge\">\n<title>19&#45;&gt;17</title>\n<path fill=\"none\" stroke=\"#000000\" d=\"M2094.4166,-173.9735C2065.7982,-160.442 2026.4409,-141.8328 1995.8189,-127.354\"/>\n<polygon fill=\"#000000\" stroke=\"#000000\" points=\"1997.1541,-124.1138 1986.6176,-123.0034 1994.1619,-130.4421 1997.1541,-124.1138\"/>\n<text text-anchor=\"middle\" x=\"2067.5415\" y=\"-144.8\" font-family=\"Times,serif\" font-size=\"14.00\" fill=\"#000000\">False</text>\n</g>\n<!-- 19&#45;&gt;18 -->\n<g id=\"edge18\" class=\"edge\">\n<title>19&#45;&gt;18</title>\n<path fill=\"none\" stroke=\"#000000\" d=\"M2132.5415,-173.9735C2132.5415,-162.1918 2132.5415,-146.5607 2132.5415,-133.1581\"/>\n<polygon fill=\"#000000\" stroke=\"#000000\" points=\"2136.0416,-133.0033 2132.5415,-123.0034 2129.0416,-133.0034 2136.0416,-133.0033\"/>\n<text text-anchor=\"middle\" x=\"2146.0415\" y=\"-144.8\" font-family=\"Times,serif\" font-size=\"14.00\" fill=\"#000000\">True</text>\n</g>\n<!-- 20 -->\n<g id=\"node21\" class=\"node\">\n<title>20</title>\n<ellipse fill=\"#d3d3d3\" stroke=\"#000000\" cx=\"2153.5415\" cy=\"-18\" rx=\"96.3833\" ry=\"18\"/>\n<text text-anchor=\"middle\" x=\"2153.5415\" y=\"-14.3\" font-family=\"Times,serif\" font-size=\"14.00\" fill=\"#000000\">15.700865152190948</text>\n</g>\n<!-- 21 -->\n<g id=\"node22\" class=\"node\">\n<title>21</title>\n<ellipse fill=\"#d3d3d3\" stroke=\"#000000\" cx=\"2363.5415\" cy=\"-18\" rx=\"96.3833\" ry=\"18\"/>\n<text text-anchor=\"middle\" x=\"2363.5415\" y=\"-14.3\" font-family=\"Times,serif\" font-size=\"14.00\" fill=\"#000000\">15.413978604614632</text>\n</g>\n<!-- 22 -->\n<g id=\"node23\" class=\"node\">\n<title>22</title>\n<path fill=\"#ffff00\" stroke=\"#000000\" d=\"M2392.5415,-123C2392.5415,-123 2274.5415,-123 2274.5415,-123 2268.5415,-123 2262.5415,-117 2262.5415,-111 2262.5415,-111 2262.5415,-99 2262.5415,-99 2262.5415,-93 2268.5415,-87 2274.5415,-87 2274.5415,-87 2392.5415,-87 2392.5415,-87 2398.5415,-87 2404.5415,-93 2404.5415,-99 2404.5415,-99 2404.5415,-111 2404.5415,-111 2404.5415,-117 2398.5415,-123 2392.5415,-123\"/>\n<text text-anchor=\"middle\" x=\"2333.5415\" y=\"-101.3\" font-family=\"Times,serif\" font-size=\"14.00\" fill=\"#000000\">full_all &gt; 3.765e+04?</text>\n</g>\n<!-- 22&#45;&gt;20 -->\n<g id=\"edge19\" class=\"edge\">\n<title>22&#45;&gt;20</title>\n<path fill=\"none\" stroke=\"#000000\" d=\"M2296.2454,-86.9735C2267.5026,-73.0812 2227.6865,-53.8367 2197.4133,-39.2047\"/>\n<polygon fill=\"#000000\" stroke=\"#000000\" points=\"2198.8739,-36.0233 2188.3473,-34.8228 2195.8277,-42.3258 2198.8739,-36.0233\"/>\n<text text-anchor=\"middle\" x=\"2269.5415\" y=\"-57.8\" font-family=\"Times,serif\" font-size=\"14.00\" fill=\"#000000\">False</text>\n</g>\n<!-- 22&#45;&gt;21 -->\n<g id=\"edge20\" class=\"edge\">\n<title>22&#45;&gt;21</title>\n<path fill=\"none\" stroke=\"#000000\" d=\"M2339.7575,-86.9735C2343.8604,-75.0751 2349.3171,-59.2508 2353.9689,-45.7606\"/>\n<polygon fill=\"#000000\" stroke=\"#000000\" points=\"2357.3823,-46.5981 2357.3335,-36.0034 2350.7647,-44.3161 2357.3823,-46.5981\"/>\n<text text-anchor=\"middle\" x=\"2364.0415\" y=\"-57.8\" font-family=\"Times,serif\" font-size=\"14.00\" fill=\"#000000\">True</text>\n</g>\n<!-- 23 -->\n<g id=\"node24\" class=\"node\">\n<title>23</title>\n<ellipse fill=\"#d3d3d3\" stroke=\"#000000\" cx=\"2573.5415\" cy=\"-18\" rx=\"96.3833\" ry=\"18\"/>\n<text text-anchor=\"middle\" x=\"2573.5415\" y=\"-14.3\" font-family=\"Times,serif\" font-size=\"14.00\" fill=\"#000000\">15.689192965139632</text>\n</g>\n<!-- 24 -->\n<g id=\"node25\" class=\"node\">\n<title>24</title>\n<ellipse fill=\"#d3d3d3\" stroke=\"#000000\" cx=\"2783.5415\" cy=\"-18\" rx=\"96.3833\" ry=\"18\"/>\n<text text-anchor=\"middle\" x=\"2783.5415\" y=\"-14.3\" font-family=\"Times,serif\" font-size=\"14.00\" fill=\"#000000\">15.837982442770878</text>\n</g>\n<!-- 25 -->\n<g id=\"node26\" class=\"node\">\n<title>25</title>\n<path fill=\"#ffff00\" stroke=\"#000000\" d=\"M2607.5415,-123C2607.5415,-123 2539.5415,-123 2539.5415,-123 2533.5415,-123 2527.5415,-117 2527.5415,-111 2527.5415,-111 2527.5415,-99 2527.5415,-99 2527.5415,-93 2533.5415,-87 2539.5415,-87 2539.5415,-87 2607.5415,-87 2607.5415,-87 2613.5415,-87 2619.5415,-93 2619.5415,-99 2619.5415,-99 2619.5415,-111 2619.5415,-111 2619.5415,-117 2613.5415,-123 2607.5415,-123\"/>\n<text text-anchor=\"middle\" x=\"2573.5415\" y=\"-101.3\" font-family=\"Times,serif\" font-size=\"14.00\" fill=\"#000000\">year &gt; 2014?</text>\n</g>\n<!-- 25&#45;&gt;23 -->\n<g id=\"edge21\" class=\"edge\">\n<title>25&#45;&gt;23</title>\n<path fill=\"none\" stroke=\"#000000\" d=\"M2573.5415,-86.9735C2573.5415,-75.1918 2573.5415,-59.5607 2573.5415,-46.1581\"/>\n<polygon fill=\"#000000\" stroke=\"#000000\" points=\"2577.0416,-46.0033 2573.5415,-36.0034 2570.0416,-46.0034 2577.0416,-46.0033\"/>\n<text text-anchor=\"middle\" x=\"2588.5415\" y=\"-57.8\" font-family=\"Times,serif\" font-size=\"14.00\" fill=\"#000000\">False</text>\n</g>\n<!-- 25&#45;&gt;24 -->\n<g id=\"edge22\" class=\"edge\">\n<title>25&#45;&gt;24</title>\n<path fill=\"none\" stroke=\"#000000\" d=\"M2617.0537,-86.9735C2651.0957,-72.8704 2698.4514,-53.2516 2733.9574,-38.542\"/>\n<polygon fill=\"#000000\" stroke=\"#000000\" points=\"2735.7379,-41.5929 2743.6368,-34.532 2733.0586,-35.1259 2735.7379,-41.5929\"/>\n<text text-anchor=\"middle\" x=\"2705.0415\" y=\"-57.8\" font-family=\"Times,serif\" font-size=\"14.00\" fill=\"#000000\">True</text>\n</g>\n<!-- 26 -->\n<g id=\"node27\" class=\"node\">\n<title>26</title>\n<path fill=\"#ffff00\" stroke=\"#000000\" d=\"M2392.5415,-210C2392.5415,-210 2274.5415,-210 2274.5415,-210 2268.5415,-210 2262.5415,-204 2262.5415,-198 2262.5415,-198 2262.5415,-186 2262.5415,-186 2262.5415,-180 2268.5415,-174 2274.5415,-174 2274.5415,-174 2392.5415,-174 2392.5415,-174 2398.5415,-174 2404.5415,-180 2404.5415,-186 2404.5415,-186 2404.5415,-198 2404.5415,-198 2404.5415,-204 2398.5415,-210 2392.5415,-210\"/>\n<text text-anchor=\"middle\" x=\"2333.5415\" y=\"-188.3\" font-family=\"Times,serif\" font-size=\"14.00\" fill=\"#000000\">full_all &gt; 4.069e+04?</text>\n</g>\n<!-- 26&#45;&gt;22 -->\n<g id=\"edge23\" class=\"edge\">\n<title>26&#45;&gt;22</title>\n<path fill=\"none\" stroke=\"#000000\" d=\"M2333.5415,-173.9735C2333.5415,-162.1918 2333.5415,-146.5607 2333.5415,-133.1581\"/>\n<polygon fill=\"#000000\" stroke=\"#000000\" points=\"2337.0416,-133.0033 2333.5415,-123.0034 2330.0416,-133.0034 2337.0416,-133.0033\"/>\n<text text-anchor=\"middle\" x=\"2348.5415\" y=\"-144.8\" font-family=\"Times,serif\" font-size=\"14.00\" fill=\"#000000\">False</text>\n</g>\n<!-- 26&#45;&gt;25 -->\n<g id=\"edge24\" class=\"edge\">\n<title>26&#45;&gt;25</title>\n<path fill=\"none\" stroke=\"#000000\" d=\"M2383.2697,-173.9735C2422.5465,-159.7357 2477.3311,-139.8763 2518.0332,-125.1218\"/>\n<polygon fill=\"#000000\" stroke=\"#000000\" points=\"2519.327,-128.3757 2527.5356,-121.6772 2516.9414,-121.7947 2519.327,-128.3757\"/>\n<text text-anchor=\"middle\" x=\"2482.0415\" y=\"-144.8\" font-family=\"Times,serif\" font-size=\"14.00\" fill=\"#000000\">True</text>\n</g>\n<!-- 27 -->\n<g id=\"node28\" class=\"node\">\n<title>27</title>\n<path fill=\"#ffff00\" stroke=\"#000000\" d=\"M2226.0415,-297C2226.0415,-297 2141.0415,-297 2141.0415,-297 2135.0415,-297 2129.0415,-291 2129.0415,-285 2129.0415,-285 2129.0415,-273 2129.0415,-273 2129.0415,-267 2135.0415,-261 2141.0415,-261 2141.0415,-261 2226.0415,-261 2226.0415,-261 2232.0415,-261 2238.0415,-267 2238.0415,-273 2238.0415,-273 2238.0415,-285 2238.0415,-285 2238.0415,-291 2232.0415,-297 2226.0415,-297\"/>\n<text text-anchor=\"middle\" x=\"2183.5415\" y=\"-275.3\" font-family=\"Times,serif\" font-size=\"14.00\" fill=\"#000000\">full_all &gt; 8968?</text>\n</g>\n<!-- 27&#45;&gt;19 -->\n<g id=\"edge25\" class=\"edge\">\n<title>27&#45;&gt;19</title>\n<path fill=\"none\" stroke=\"#000000\" d=\"M2172.9743,-260.9735C2165.8626,-248.8418 2156.3583,-232.6287 2148.3514,-218.9698\"/>\n<polygon fill=\"#000000\" stroke=\"#000000\" points=\"2151.1719,-216.8603 2143.0952,-210.0034 2145.133,-220.4004 2151.1719,-216.8603\"/>\n<text text-anchor=\"middle\" x=\"2176.5415\" y=\"-231.8\" font-family=\"Times,serif\" font-size=\"14.00\" fill=\"#000000\">False</text>\n</g>\n<!-- 27&#45;&gt;26 -->\n<g id=\"edge26\" class=\"edge\">\n<title>27&#45;&gt;26</title>\n<path fill=\"none\" stroke=\"#000000\" d=\"M2214.6216,-260.9735C2237.5496,-247.6753 2268.9329,-229.473 2293.7027,-215.1065\"/>\n<polygon fill=\"#000000\" stroke=\"#000000\" points=\"2295.6069,-218.0482 2302.5012,-210.0034 2292.0949,-211.993 2295.6069,-218.0482\"/>\n<text text-anchor=\"middle\" x=\"2281.0415\" y=\"-231.8\" font-family=\"Times,serif\" font-size=\"14.00\" fill=\"#000000\">True</text>\n</g>\n<!-- 28 -->\n<g id=\"node29\" class=\"node\">\n<title>28</title>\n<path fill=\"#ffff00\" stroke=\"#000000\" d=\"M2223.5415,-384C2223.5415,-384 2143.5415,-384 2143.5415,-384 2137.5415,-384 2131.5415,-378 2131.5415,-372 2131.5415,-372 2131.5415,-360 2131.5415,-360 2131.5415,-354 2137.5415,-348 2143.5415,-348 2143.5415,-348 2223.5415,-348 2223.5415,-348 2229.5415,-348 2235.5415,-354 2235.5415,-360 2235.5415,-360 2235.5415,-372 2235.5415,-372 2235.5415,-378 2229.5415,-384 2223.5415,-384\"/>\n<text text-anchor=\"middle\" x=\"2183.5415\" y=\"-362.3\" font-family=\"Times,serif\" font-size=\"14.00\" fill=\"#000000\">full_sq &gt; 49.5?</text>\n</g>\n<!-- 28&#45;&gt;14 -->\n<g id=\"edge27\" class=\"edge\">\n<title>28&#45;&gt;14</title>\n<path fill=\"none\" stroke=\"#000000\" d=\"M2131.4196,-360.9783C1976.0036,-346.0047 1516.0227,-301.6876 1345.2886,-285.2381\"/>\n<polygon fill=\"#000000\" stroke=\"#000000\" points=\"1345.4819,-281.7406 1335.1923,-284.2654 1344.8105,-288.7083 1345.4819,-281.7406\"/>\n<text text-anchor=\"middle\" x=\"1801.5415\" y=\"-318.8\" font-family=\"Times,serif\" font-size=\"14.00\" fill=\"#000000\">False</text>\n</g>\n<!-- 28&#45;&gt;27 -->\n<g id=\"edge28\" class=\"edge\">\n<title>28&#45;&gt;27</title>\n<path fill=\"none\" stroke=\"#000000\" d=\"M2183.5415,-347.9735C2183.5415,-336.1918 2183.5415,-320.5607 2183.5415,-307.1581\"/>\n<polygon fill=\"#000000\" stroke=\"#000000\" points=\"2187.0416,-307.0033 2183.5415,-297.0034 2180.0416,-307.0034 2187.0416,-307.0033\"/>\n<text text-anchor=\"middle\" x=\"2197.0415\" y=\"-318.8\" font-family=\"Times,serif\" font-size=\"14.00\" fill=\"#000000\">True</text>\n</g>\n<!-- 29 -->\n<g id=\"node30\" class=\"node\">\n<title>29</title>\n<ellipse fill=\"#d3d3d3\" stroke=\"#000000\" cx=\"3032.5415\" cy=\"-105\" rx=\"96.3833\" ry=\"18\"/>\n<text text-anchor=\"middle\" x=\"3032.5415\" y=\"-101.3\" font-family=\"Times,serif\" font-size=\"14.00\" fill=\"#000000\">15.840737259801303</text>\n</g>\n<!-- 30 -->\n<g id=\"node31\" class=\"node\">\n<title>30</title>\n<ellipse fill=\"#d3d3d3\" stroke=\"#000000\" cx=\"2993.5415\" cy=\"-18\" rx=\"96.3833\" ry=\"18\"/>\n<text text-anchor=\"middle\" x=\"2993.5415\" y=\"-14.3\" font-family=\"Times,serif\" font-size=\"14.00\" fill=\"#000000\">15.029919892463237</text>\n</g>\n<!-- 31 -->\n<g id=\"node32\" class=\"node\">\n<title>31</title>\n<ellipse fill=\"#d3d3d3\" stroke=\"#000000\" cx=\"3198.5415\" cy=\"-18\" rx=\"90.9839\" ry=\"18\"/>\n<text text-anchor=\"middle\" x=\"3198.5415\" y=\"-14.3\" font-family=\"Times,serif\" font-size=\"14.00\" fill=\"#000000\">15.61052303556222</text>\n</g>\n<!-- 32 -->\n<g id=\"node33\" class=\"node\">\n<title>32</title>\n<path fill=\"#ffff00\" stroke=\"#000000\" d=\"M3238.0415,-123C3238.0415,-123 3159.0415,-123 3159.0415,-123 3153.0415,-123 3147.0415,-117 3147.0415,-111 3147.0415,-111 3147.0415,-99 3147.0415,-99 3147.0415,-93 3153.0415,-87 3159.0415,-87 3159.0415,-87 3238.0415,-87 3238.0415,-87 3244.0415,-87 3250.0415,-93 3250.0415,-99 3250.0415,-99 3250.0415,-111 3250.0415,-111 3250.0415,-117 3244.0415,-123 3238.0415,-123\"/>\n<text text-anchor=\"middle\" x=\"3198.5415\" y=\"-101.3\" font-family=\"Times,serif\" font-size=\"14.00\" fill=\"#000000\">life_sq &gt; 38.5?</text>\n</g>\n<!-- 32&#45;&gt;30 -->\n<g id=\"edge29\" class=\"edge\">\n<title>32&#45;&gt;30</title>\n<path fill=\"none\" stroke=\"#000000\" d=\"M3156.0654,-86.9735C3122.8339,-72.8704 3076.6057,-53.2516 3041.9451,-38.542\"/>\n<polygon fill=\"#000000\" stroke=\"#000000\" points=\"3043.0688,-35.2168 3032.4961,-34.532 3040.3341,-41.6605 3043.0688,-35.2168\"/>\n<text text-anchor=\"middle\" x=\"3123.5415\" y=\"-57.8\" font-family=\"Times,serif\" font-size=\"14.00\" fill=\"#000000\">False</text>\n</g>\n<!-- 32&#45;&gt;31 -->\n<g id=\"edge30\" class=\"edge\">\n<title>32&#45;&gt;31</title>\n<path fill=\"none\" stroke=\"#000000\" d=\"M3198.5415,-86.9735C3198.5415,-75.1918 3198.5415,-59.5607 3198.5415,-46.1581\"/>\n<polygon fill=\"#000000\" stroke=\"#000000\" points=\"3202.0416,-46.0033 3198.5415,-36.0034 3195.0416,-46.0034 3202.0416,-46.0033\"/>\n<text text-anchor=\"middle\" x=\"3212.0415\" y=\"-57.8\" font-family=\"Times,serif\" font-size=\"14.00\" fill=\"#000000\">True</text>\n</g>\n<!-- 33 -->\n<g id=\"node34\" class=\"node\">\n<title>33</title>\n<path fill=\"#ffff00\" stroke=\"#000000\" d=\"M3243.0415,-210C3243.0415,-210 3154.0415,-210 3154.0415,-210 3148.0415,-210 3142.0415,-204 3142.0415,-198 3142.0415,-198 3142.0415,-186 3142.0415,-186 3142.0415,-180 3148.0415,-174 3154.0415,-174 3154.0415,-174 3243.0415,-174 3243.0415,-174 3249.0415,-174 3255.0415,-180 3255.0415,-186 3255.0415,-186 3255.0415,-198 3255.0415,-198 3255.0415,-204 3249.0415,-210 3243.0415,-210\"/>\n<text text-anchor=\"middle\" x=\"3198.5415\" y=\"-188.3\" font-family=\"Times,serif\" font-size=\"14.00\" fill=\"#000000\">kitch_sq &gt; 11.5?</text>\n</g>\n<!-- 33&#45;&gt;29 -->\n<g id=\"edge31\" class=\"edge\">\n<title>33&#45;&gt;29</title>\n<path fill=\"none\" stroke=\"#000000\" d=\"M3164.1462,-173.9735C3137.9528,-160.2456 3101.7877,-141.2917 3073.9963,-126.7263\"/>\n<polygon fill=\"#000000\" stroke=\"#000000\" points=\"3075.4009,-123.5109 3064.9189,-121.9689 3072.1515,-129.711 3075.4009,-123.5109\"/>\n<text text-anchor=\"middle\" x=\"3140.5415\" y=\"-144.8\" font-family=\"Times,serif\" font-size=\"14.00\" fill=\"#000000\">False</text>\n</g>\n<!-- 33&#45;&gt;32 -->\n<g id=\"edge32\" class=\"edge\">\n<title>33&#45;&gt;32</title>\n<path fill=\"none\" stroke=\"#000000\" d=\"M3198.5415,-173.9735C3198.5415,-162.1918 3198.5415,-146.5607 3198.5415,-133.1581\"/>\n<polygon fill=\"#000000\" stroke=\"#000000\" points=\"3202.0416,-133.0033 3198.5415,-123.0034 3195.0416,-133.0034 3202.0416,-133.0033\"/>\n<text text-anchor=\"middle\" x=\"3212.0415\" y=\"-144.8\" font-family=\"Times,serif\" font-size=\"14.00\" fill=\"#000000\">True</text>\n</g>\n<!-- 34 -->\n<g id=\"node35\" class=\"node\">\n<title>34</title>\n<ellipse fill=\"#d3d3d3\" stroke=\"#000000\" cx=\"3403.5415\" cy=\"-18\" rx=\"96.3833\" ry=\"18\"/>\n<text text-anchor=\"middle\" x=\"3403.5415\" y=\"-14.3\" font-family=\"Times,serif\" font-size=\"14.00\" fill=\"#000000\">15.982103814874382</text>\n</g>\n<!-- 35 -->\n<g id=\"node36\" class=\"node\">\n<title>35</title>\n<ellipse fill=\"#d3d3d3\" stroke=\"#000000\" cx=\"3613.5415\" cy=\"-18\" rx=\"96.3833\" ry=\"18\"/>\n<text text-anchor=\"middle\" x=\"3613.5415\" y=\"-14.3\" font-family=\"Times,serif\" font-size=\"14.00\" fill=\"#000000\">16.223093213590488</text>\n</g>\n<!-- 36 -->\n<g id=\"node37\" class=\"node\">\n<title>36</title>\n<path fill=\"#ffff00\" stroke=\"#000000\" d=\"M3646.5415,-123C3646.5415,-123 3528.5415,-123 3528.5415,-123 3522.5415,-123 3516.5415,-117 3516.5415,-111 3516.5415,-111 3516.5415,-99 3516.5415,-99 3516.5415,-93 3522.5415,-87 3528.5415,-87 3528.5415,-87 3646.5415,-87 3646.5415,-87 3652.5415,-87 3658.5415,-93 3658.5415,-99 3658.5415,-99 3658.5415,-111 3658.5415,-111 3658.5415,-117 3652.5415,-123 3646.5415,-123\"/>\n<text text-anchor=\"middle\" x=\"3587.5415\" y=\"-101.3\" font-family=\"Times,serif\" font-size=\"14.00\" fill=\"#000000\">full_all &gt; 4.069e+04?</text>\n</g>\n<!-- 36&#45;&gt;34 -->\n<g id=\"edge33\" class=\"edge\">\n<title>36&#45;&gt;34</title>\n<path fill=\"none\" stroke=\"#000000\" d=\"M3549.4166,-86.9735C3520.035,-73.0812 3479.3342,-53.8367 3448.3882,-39.2047\"/>\n<polygon fill=\"#000000\" stroke=\"#000000\" points=\"3449.6573,-35.9332 3439.1208,-34.8228 3446.6651,-42.2615 3449.6573,-35.9332\"/>\n<text text-anchor=\"middle\" x=\"3522.5415\" y=\"-57.8\" font-family=\"Times,serif\" font-size=\"14.00\" fill=\"#000000\">False</text>\n</g>\n<!-- 36&#45;&gt;35 -->\n<g id=\"edge34\" class=\"edge\">\n<title>36&#45;&gt;35</title>\n<path fill=\"none\" stroke=\"#000000\" d=\"M3592.9287,-86.9735C3596.4846,-75.0751 3601.2137,-59.2508 3605.2452,-45.7606\"/>\n<polygon fill=\"#000000\" stroke=\"#000000\" points=\"3608.6512,-46.5869 3608.1612,-36.0034 3601.9443,-44.5825 3608.6512,-46.5869\"/>\n<text text-anchor=\"middle\" x=\"3616.0415\" y=\"-57.8\" font-family=\"Times,serif\" font-size=\"14.00\" fill=\"#000000\">True</text>\n</g>\n<!-- 37 -->\n<g id=\"node38\" class=\"node\">\n<title>37</title>\n<ellipse fill=\"#d3d3d3\" stroke=\"#000000\" cx=\"3823.5415\" cy=\"-18\" rx=\"96.3833\" ry=\"18\"/>\n<text text-anchor=\"middle\" x=\"3823.5415\" y=\"-14.3\" font-family=\"Times,serif\" font-size=\"14.00\" fill=\"#000000\">15.973546489129706</text>\n</g>\n<!-- 38 -->\n<g id=\"node39\" class=\"node\">\n<title>38</title>\n<ellipse fill=\"#d3d3d3\" stroke=\"#000000\" cx=\"4033.5415\" cy=\"-18\" rx=\"96.3833\" ry=\"18\"/>\n<text text-anchor=\"middle\" x=\"4033.5415\" y=\"-14.3\" font-family=\"Times,serif\" font-size=\"14.00\" fill=\"#000000\">16.258533763618864</text>\n</g>\n<!-- 39 -->\n<g id=\"node40\" class=\"node\">\n<title>39</title>\n<path fill=\"#ffff00\" stroke=\"#000000\" d=\"M3882.5415,-123C3882.5415,-123 3764.5415,-123 3764.5415,-123 3758.5415,-123 3752.5415,-117 3752.5415,-111 3752.5415,-111 3752.5415,-99 3752.5415,-99 3752.5415,-93 3758.5415,-87 3764.5415,-87 3764.5415,-87 3882.5415,-87 3882.5415,-87 3888.5415,-87 3894.5415,-93 3894.5415,-99 3894.5415,-99 3894.5415,-111 3894.5415,-111 3894.5415,-117 3888.5415,-123 3882.5415,-123\"/>\n<text text-anchor=\"middle\" x=\"3823.5415\" y=\"-101.3\" font-family=\"Times,serif\" font-size=\"14.00\" fill=\"#000000\">full_all &gt; 4.947e+05?</text>\n</g>\n<!-- 39&#45;&gt;37 -->\n<g id=\"edge35\" class=\"edge\">\n<title>39&#45;&gt;37</title>\n<path fill=\"none\" stroke=\"#000000\" d=\"M3823.5415,-86.9735C3823.5415,-75.1918 3823.5415,-59.5607 3823.5415,-46.1581\"/>\n<polygon fill=\"#000000\" stroke=\"#000000\" points=\"3827.0416,-46.0033 3823.5415,-36.0034 3820.0416,-46.0034 3827.0416,-46.0033\"/>\n<text text-anchor=\"middle\" x=\"3838.5415\" y=\"-57.8\" font-family=\"Times,serif\" font-size=\"14.00\" fill=\"#000000\">False</text>\n</g>\n<!-- 39&#45;&gt;38 -->\n<g id=\"edge36\" class=\"edge\">\n<title>39&#45;&gt;38</title>\n<path fill=\"none\" stroke=\"#000000\" d=\"M3867.0537,-86.9735C3901.0957,-72.8704 3948.4514,-53.2516 3983.9574,-38.542\"/>\n<polygon fill=\"#000000\" stroke=\"#000000\" points=\"3985.7379,-41.5929 3993.6368,-34.532 3983.0586,-35.1259 3985.7379,-41.5929\"/>\n<text text-anchor=\"middle\" x=\"3955.0415\" y=\"-57.8\" font-family=\"Times,serif\" font-size=\"14.00\" fill=\"#000000\">True</text>\n</g>\n<!-- 40 -->\n<g id=\"node41\" class=\"node\">\n<title>40</title>\n<path fill=\"#ffff00\" stroke=\"#000000\" d=\"M3646.5415,-210C3646.5415,-210 3528.5415,-210 3528.5415,-210 3522.5415,-210 3516.5415,-204 3516.5415,-198 3516.5415,-198 3516.5415,-186 3516.5415,-186 3516.5415,-180 3522.5415,-174 3528.5415,-174 3528.5415,-174 3646.5415,-174 3646.5415,-174 3652.5415,-174 3658.5415,-180 3658.5415,-186 3658.5415,-186 3658.5415,-198 3658.5415,-198 3658.5415,-204 3652.5415,-210 3646.5415,-210\"/>\n<text text-anchor=\"middle\" x=\"3587.5415\" y=\"-188.3\" font-family=\"Times,serif\" font-size=\"14.00\" fill=\"#000000\">full_all &gt; 1.242e+05?</text>\n</g>\n<!-- 40&#45;&gt;36 -->\n<g id=\"edge37\" class=\"edge\">\n<title>40&#45;&gt;36</title>\n<path fill=\"none\" stroke=\"#000000\" d=\"M3587.5415,-173.9735C3587.5415,-162.1918 3587.5415,-146.5607 3587.5415,-133.1581\"/>\n<polygon fill=\"#000000\" stroke=\"#000000\" points=\"3591.0416,-133.0033 3587.5415,-123.0034 3584.0416,-133.0034 3591.0416,-133.0033\"/>\n<text text-anchor=\"middle\" x=\"3602.5415\" y=\"-144.8\" font-family=\"Times,serif\" font-size=\"14.00\" fill=\"#000000\">False</text>\n</g>\n<!-- 40&#45;&gt;39 -->\n<g id=\"edge38\" class=\"edge\">\n<title>40&#45;&gt;39</title>\n<path fill=\"none\" stroke=\"#000000\" d=\"M3636.4409,-173.9735C3673.8591,-160.1795 3725.5906,-141.109 3765.1757,-126.5162\"/>\n<polygon fill=\"#000000\" stroke=\"#000000\" points=\"3766.5327,-129.7463 3774.7048,-123.0034 3764.1114,-123.1784 3766.5327,-129.7463\"/>\n<text text-anchor=\"middle\" x=\"3734.0415\" y=\"-144.8\" font-family=\"Times,serif\" font-size=\"14.00\" fill=\"#000000\">True</text>\n</g>\n<!-- 41 -->\n<g id=\"node42\" class=\"node\">\n<title>41</title>\n<path fill=\"#ffff00\" stroke=\"#000000\" d=\"M3516.5415,-297C3516.5415,-297 3398.5415,-297 3398.5415,-297 3392.5415,-297 3386.5415,-291 3386.5415,-285 3386.5415,-285 3386.5415,-273 3386.5415,-273 3386.5415,-267 3392.5415,-261 3398.5415,-261 3398.5415,-261 3516.5415,-261 3516.5415,-261 3522.5415,-261 3528.5415,-267 3528.5415,-273 3528.5415,-273 3528.5415,-285 3528.5415,-285 3528.5415,-291 3522.5415,-297 3516.5415,-297\"/>\n<text text-anchor=\"middle\" x=\"3457.5415\" y=\"-275.3\" font-family=\"Times,serif\" font-size=\"14.00\" fill=\"#000000\">full_all &gt; 1.886e+04?</text>\n</g>\n<!-- 41&#45;&gt;33 -->\n<g id=\"edge39\" class=\"edge\">\n<title>41&#45;&gt;33</title>\n<path fill=\"none\" stroke=\"#000000\" d=\"M3403.8766,-260.9735C3362.5512,-247.0921 3305.3177,-227.8669 3261.7705,-213.2391\"/>\n<polygon fill=\"#000000\" stroke=\"#000000\" points=\"3262.7317,-209.8698 3252.1377,-210.0034 3260.5027,-216.5055 3262.7317,-209.8698\"/>\n<text text-anchor=\"middle\" x=\"3359.5415\" y=\"-231.8\" font-family=\"Times,serif\" font-size=\"14.00\" fill=\"#000000\">False</text>\n</g>\n<!-- 41&#45;&gt;40 -->\n<g id=\"edge40\" class=\"edge\">\n<title>41&#45;&gt;40</title>\n<path fill=\"none\" stroke=\"#000000\" d=\"M3484.4776,-260.9735C3504.0871,-247.8503 3530.8329,-229.9512 3552.1642,-215.6756\"/>\n<polygon fill=\"#000000\" stroke=\"#000000\" points=\"3554.2759,-218.4739 3560.6399,-210.0034 3550.3826,-212.6564 3554.2759,-218.4739\"/>\n<text text-anchor=\"middle\" x=\"3544.0415\" y=\"-231.8\" font-family=\"Times,serif\" font-size=\"14.00\" fill=\"#000000\">True</text>\n</g>\n<!-- 42 -->\n<g id=\"node43\" class=\"node\">\n<title>42</title>\n<ellipse fill=\"#d3d3d3\" stroke=\"#000000\" cx=\"4238.5415\" cy=\"-18\" rx=\"90.9839\" ry=\"18\"/>\n<text text-anchor=\"middle\" x=\"4238.5415\" y=\"-14.3\" font-family=\"Times,serif\" font-size=\"14.00\" fill=\"#000000\">15.83338983178541</text>\n</g>\n<!-- 43 -->\n<g id=\"node44\" class=\"node\">\n<title>43</title>\n<ellipse fill=\"#d3d3d3\" stroke=\"#000000\" cx=\"4443.5415\" cy=\"-18\" rx=\"95.5831\" ry=\"18\"/>\n<text text-anchor=\"middle\" x=\"4443.5415\" y=\"-14.3\" font-family=\"Times,serif\" font-size=\"14.00\" fill=\"#000000\">16.116933822086455</text>\n</g>\n<!-- 44 -->\n<g id=\"node45\" class=\"node\">\n<title>44</title>\n<path fill=\"#ffff00\" stroke=\"#000000\" d=\"M4331.0415,-123C4331.0415,-123 4246.0415,-123 4246.0415,-123 4240.0415,-123 4234.0415,-117 4234.0415,-111 4234.0415,-111 4234.0415,-99 4234.0415,-99 4234.0415,-93 4240.0415,-87 4246.0415,-87 4246.0415,-87 4331.0415,-87 4331.0415,-87 4337.0415,-87 4343.0415,-93 4343.0415,-99 4343.0415,-99 4343.0415,-111 4343.0415,-111 4343.0415,-117 4337.0415,-123 4331.0415,-123\"/>\n<text text-anchor=\"middle\" x=\"4288.5415\" y=\"-101.3\" font-family=\"Times,serif\" font-size=\"14.00\" fill=\"#000000\">full_all &gt; 7232?</text>\n</g>\n<!-- 44&#45;&gt;42 -->\n<g id=\"edge41\" class=\"edge\">\n<title>44&#45;&gt;42</title>\n<path fill=\"none\" stroke=\"#000000\" d=\"M4278.1815,-86.9735C4271.2092,-74.8418 4261.8913,-58.6287 4254.0414,-44.9698\"/>\n<polygon fill=\"#000000\" stroke=\"#000000\" points=\"4256.9057,-42.9295 4248.8883,-36.0034 4250.8366,-46.4175 4256.9057,-42.9295\"/>\n<text text-anchor=\"middle\" x=\"4281.5415\" y=\"-57.8\" font-family=\"Times,serif\" font-size=\"14.00\" fill=\"#000000\">False</text>\n</g>\n<!-- 44&#45;&gt;43 -->\n<g id=\"edge42\" class=\"edge\">\n<title>44&#45;&gt;43</title>\n<path fill=\"none\" stroke=\"#000000\" d=\"M4320.6576,-86.9735C4344.9297,-73.3499 4378.3718,-54.5791 4404.2414,-40.0588\"/>\n<polygon fill=\"#000000\" stroke=\"#000000\" points=\"4406.0414,-43.0621 4413.0486,-35.1154 4402.6152,-36.9579 4406.0414,-43.0621\"/>\n<text text-anchor=\"middle\" x=\"4389.0415\" y=\"-57.8\" font-family=\"Times,serif\" font-size=\"14.00\" fill=\"#000000\">True</text>\n</g>\n<!-- 45 -->\n<g id=\"node46\" class=\"node\">\n<title>45</title>\n<ellipse fill=\"#d3d3d3\" stroke=\"#000000\" cx=\"4451.5415\" cy=\"-105\" rx=\"90.9839\" ry=\"18\"/>\n<text text-anchor=\"middle\" x=\"4451.5415\" y=\"-101.3\" font-family=\"Times,serif\" font-size=\"14.00\" fill=\"#000000\">16.48430714313626</text>\n</g>\n<!-- 46 -->\n<g id=\"node47\" class=\"node\">\n<title>46</title>\n<path fill=\"#ffff00\" stroke=\"#000000\" d=\"M4430.5415,-210C4430.5415,-210 4332.5415,-210 4332.5415,-210 4326.5415,-210 4320.5415,-204 4320.5415,-198 4320.5415,-198 4320.5415,-186 4320.5415,-186 4320.5415,-180 4326.5415,-174 4332.5415,-174 4332.5415,-174 4430.5415,-174 4430.5415,-174 4436.5415,-174 4442.5415,-180 4442.5415,-186 4442.5415,-186 4442.5415,-198 4442.5415,-198 4442.5415,-204 4436.5415,-210 4430.5415,-210\"/>\n<text text-anchor=\"middle\" x=\"4381.5415\" y=\"-188.3\" font-family=\"Times,serif\" font-size=\"14.00\" fill=\"#000000\">num_room &gt; 4.5?</text>\n</g>\n<!-- 46&#45;&gt;44 -->\n<g id=\"edge43\" class=\"edge\">\n<title>46&#45;&gt;44</title>\n<path fill=\"none\" stroke=\"#000000\" d=\"M4362.2719,-173.9735C4348.68,-161.2586 4330.2956,-144.0603 4315.2852,-130.0183\"/>\n<polygon fill=\"#000000\" stroke=\"#000000\" points=\"4317.4803,-127.279 4307.7865,-123.0034 4312.6982,-132.3909 4317.4803,-127.279\"/>\n<text text-anchor=\"middle\" x=\"4356.5415\" y=\"-144.8\" font-family=\"Times,serif\" font-size=\"14.00\" fill=\"#000000\">False</text>\n</g>\n<!-- 46&#45;&gt;45 -->\n<g id=\"edge44\" class=\"edge\">\n<title>46&#45;&gt;45</title>\n<path fill=\"none\" stroke=\"#000000\" d=\"M4396.0456,-173.9735C4405.9944,-161.6085 4419.3547,-145.0036 4430.4734,-131.1847\"/>\n<polygon fill=\"#000000\" stroke=\"#000000\" points=\"4433.5142,-132.9886 4437.0561,-123.0034 4428.0603,-128.6005 4433.5142,-132.9886\"/>\n<text text-anchor=\"middle\" x=\"4435.0415\" y=\"-144.8\" font-family=\"Times,serif\" font-size=\"14.00\" fill=\"#000000\">True</text>\n</g>\n<!-- 47 -->\n<g id=\"node48\" class=\"node\">\n<title>47</title>\n<ellipse fill=\"#d3d3d3\" stroke=\"#000000\" cx=\"4652.5415\" cy=\"-18\" rx=\"95.5831\" ry=\"18\"/>\n<text text-anchor=\"middle\" x=\"4652.5415\" y=\"-14.3\" font-family=\"Times,serif\" font-size=\"14.00\" fill=\"#000000\">15.420716650731109</text>\n</g>\n<!-- 48 -->\n<g id=\"node49\" class=\"node\">\n<title>48</title>\n<ellipse fill=\"#d3d3d3\" stroke=\"#000000\" cx=\"4862.5415\" cy=\"-18\" rx=\"96.3833\" ry=\"18\"/>\n<text text-anchor=\"middle\" x=\"4862.5415\" y=\"-14.3\" font-family=\"Times,serif\" font-size=\"14.00\" fill=\"#000000\">16.636576274057003</text>\n</g>\n<!-- 49 -->\n<g id=\"node50\" class=\"node\">\n<title>49</title>\n<path fill=\"#ffff00\" stroke=\"#000000\" d=\"M4775.0415,-123C4775.0415,-123 4714.0415,-123 4714.0415,-123 4708.0415,-123 4702.0415,-117 4702.0415,-111 4702.0415,-111 4702.0415,-99 4702.0415,-99 4702.0415,-93 4708.0415,-87 4714.0415,-87 4714.0415,-87 4775.0415,-87 4775.0415,-87 4781.0415,-87 4787.0415,-93 4787.0415,-99 4787.0415,-99 4787.0415,-111 4787.0415,-111 4787.0415,-117 4781.0415,-123 4775.0415,-123\"/>\n<text text-anchor=\"middle\" x=\"4744.5415\" y=\"-101.3\" font-family=\"Times,serif\" font-size=\"14.00\" fill=\"#000000\">floor &gt; 1.5?</text>\n</g>\n<!-- 49&#45;&gt;47 -->\n<g id=\"edge45\" class=\"edge\">\n<title>49&#45;&gt;47</title>\n<path fill=\"none\" stroke=\"#000000\" d=\"M4725.4791,-86.9735C4711.9437,-74.1738 4693.604,-56.8308 4678.7011,-42.7379\"/>\n<polygon fill=\"#000000\" stroke=\"#000000\" points=\"4680.9354,-40.0336 4671.2648,-35.7057 4676.1257,-45.1196 4680.9354,-40.0336\"/>\n<text text-anchor=\"middle\" x=\"4719.5415\" y=\"-57.8\" font-family=\"Times,serif\" font-size=\"14.00\" fill=\"#000000\">False</text>\n</g>\n<!-- 49&#45;&gt;48 -->\n<g id=\"edge46\" class=\"edge\">\n<title>49&#45;&gt;48</title>\n<path fill=\"none\" stroke=\"#000000\" d=\"M4768.9912,-86.9735C4786.7499,-73.8802 4810.9568,-56.0328 4830.2972,-41.7734\"/>\n<polygon fill=\"#000000\" stroke=\"#000000\" points=\"4832.5551,-44.4572 4838.5269,-35.7057 4828.401,-38.8229 4832.5551,-44.4572\"/>\n<text text-anchor=\"middle\" x=\"4825.0415\" y=\"-57.8\" font-family=\"Times,serif\" font-size=\"14.00\" fill=\"#000000\">True</text>\n</g>\n<!-- 50 -->\n<g id=\"node51\" class=\"node\">\n<title>50</title>\n<ellipse fill=\"#d3d3d3\" stroke=\"#000000\" cx=\"5072.5415\" cy=\"-18\" rx=\"96.3833\" ry=\"18\"/>\n<text text-anchor=\"middle\" x=\"5072.5415\" y=\"-14.3\" font-family=\"Times,serif\" font-size=\"14.00\" fill=\"#000000\">17.209545221870314</text>\n</g>\n<!-- 51 -->\n<g id=\"node52\" class=\"node\">\n<title>51</title>\n<ellipse fill=\"#d3d3d3\" stroke=\"#000000\" cx=\"5277.5415\" cy=\"-18\" rx=\"90.9839\" ry=\"18\"/>\n<text text-anchor=\"middle\" x=\"5277.5415\" y=\"-14.3\" font-family=\"Times,serif\" font-size=\"14.00\" fill=\"#000000\">16.87347955377459</text>\n</g>\n<!-- 52 -->\n<g id=\"node53\" class=\"node\">\n<title>52</title>\n<path fill=\"#ffff00\" stroke=\"#000000\" d=\"M5131.5415,-123C5131.5415,-123 5013.5415,-123 5013.5415,-123 5007.5415,-123 5001.5415,-117 5001.5415,-111 5001.5415,-111 5001.5415,-99 5001.5415,-99 5001.5415,-93 5007.5415,-87 5013.5415,-87 5013.5415,-87 5131.5415,-87 5131.5415,-87 5137.5415,-87 5143.5415,-93 5143.5415,-99 5143.5415,-99 5143.5415,-111 5143.5415,-111 5143.5415,-117 5137.5415,-123 5131.5415,-123\"/>\n<text text-anchor=\"middle\" x=\"5072.5415\" y=\"-101.3\" font-family=\"Times,serif\" font-size=\"14.00\" fill=\"#000000\">full_all &gt; 8.859e+04?</text>\n</g>\n<!-- 52&#45;&gt;50 -->\n<g id=\"edge47\" class=\"edge\">\n<title>52&#45;&gt;50</title>\n<path fill=\"none\" stroke=\"#000000\" d=\"M5072.5415,-86.9735C5072.5415,-75.1918 5072.5415,-59.5607 5072.5415,-46.1581\"/>\n<polygon fill=\"#000000\" stroke=\"#000000\" points=\"5076.0416,-46.0033 5072.5415,-36.0034 5069.0416,-46.0034 5076.0416,-46.0033\"/>\n<text text-anchor=\"middle\" x=\"5087.5415\" y=\"-57.8\" font-family=\"Times,serif\" font-size=\"14.00\" fill=\"#000000\">False</text>\n</g>\n<!-- 52&#45;&gt;51 -->\n<g id=\"edge48\" class=\"edge\">\n<title>52&#45;&gt;51</title>\n<path fill=\"none\" stroke=\"#000000\" d=\"M5115.0177,-86.9735C5148.3564,-72.8249 5194.7757,-53.125 5229.4731,-38.3998\"/>\n<polygon fill=\"#000000\" stroke=\"#000000\" points=\"5231.09,-41.5158 5238.928,-34.3872 5228.3553,-35.072 5231.09,-41.5158\"/>\n<text text-anchor=\"middle\" x=\"5201.0415\" y=\"-57.8\" font-family=\"Times,serif\" font-size=\"14.00\" fill=\"#000000\">True</text>\n</g>\n<!-- 53 -->\n<g id=\"node54\" class=\"node\">\n<title>53</title>\n<path fill=\"#ffff00\" stroke=\"#000000\" d=\"M4788.0415,-210C4788.0415,-210 4701.0415,-210 4701.0415,-210 4695.0415,-210 4689.0415,-204 4689.0415,-198 4689.0415,-198 4689.0415,-186 4689.0415,-186 4689.0415,-180 4695.0415,-174 4701.0415,-174 4701.0415,-174 4788.0415,-174 4788.0415,-174 4794.0415,-174 4800.0415,-180 4800.0415,-186 4800.0415,-186 4800.0415,-198 4800.0415,-198 4800.0415,-204 4794.0415,-210 4788.0415,-210\"/>\n<text text-anchor=\"middle\" x=\"4744.5415\" y=\"-188.3\" font-family=\"Times,serif\" font-size=\"14.00\" fill=\"#000000\">full_sq &gt; 118.5?</text>\n</g>\n<!-- 53&#45;&gt;49 -->\n<g id=\"edge49\" class=\"edge\">\n<title>53&#45;&gt;49</title>\n<path fill=\"none\" stroke=\"#000000\" d=\"M4744.5415,-173.9735C4744.5415,-162.1918 4744.5415,-146.5607 4744.5415,-133.1581\"/>\n<polygon fill=\"#000000\" stroke=\"#000000\" points=\"4748.0416,-133.0033 4744.5415,-123.0034 4741.0416,-133.0034 4748.0416,-133.0033\"/>\n<text text-anchor=\"middle\" x=\"4759.5415\" y=\"-144.8\" font-family=\"Times,serif\" font-size=\"14.00\" fill=\"#000000\">False</text>\n</g>\n<!-- 53&#45;&gt;52 -->\n<g id=\"edge50\" class=\"edge\">\n<title>53&#45;&gt;52</title>\n<path fill=\"none\" stroke=\"#000000\" d=\"M4800.1823,-177.2416C4853.5943,-163.0744 4934.762,-141.5452 4994.6013,-125.6732\"/>\n<polygon fill=\"#000000\" stroke=\"#000000\" points=\"4995.6199,-129.0241 5004.3883,-123.0772 4993.8252,-122.2581 4995.6199,-129.0241\"/>\n<text text-anchor=\"middle\" x=\"4942.0415\" y=\"-144.8\" font-family=\"Times,serif\" font-size=\"14.00\" fill=\"#000000\">True</text>\n</g>\n<!-- 54 -->\n<g id=\"node55\" class=\"node\">\n<title>54</title>\n<path fill=\"#ffff00\" stroke=\"#000000\" d=\"M4440.5415,-297C4440.5415,-297 4322.5415,-297 4322.5415,-297 4316.5415,-297 4310.5415,-291 4310.5415,-285 4310.5415,-285 4310.5415,-273 4310.5415,-273 4310.5415,-267 4316.5415,-261 4322.5415,-261 4322.5415,-261 4440.5415,-261 4440.5415,-261 4446.5415,-261 4452.5415,-267 4452.5415,-273 4452.5415,-273 4452.5415,-285 4452.5415,-285 4452.5415,-291 4446.5415,-297 4440.5415,-297\"/>\n<text text-anchor=\"middle\" x=\"4381.5415\" y=\"-275.3\" font-family=\"Times,serif\" font-size=\"14.00\" fill=\"#000000\">full_all &gt; 2.405e+04?</text>\n</g>\n<!-- 54&#45;&gt;46 -->\n<g id=\"edge51\" class=\"edge\">\n<title>54&#45;&gt;46</title>\n<path fill=\"none\" stroke=\"#000000\" d=\"M4381.5415,-260.9735C4381.5415,-249.1918 4381.5415,-233.5607 4381.5415,-220.1581\"/>\n<polygon fill=\"#000000\" stroke=\"#000000\" points=\"4385.0416,-220.0033 4381.5415,-210.0034 4378.0416,-220.0034 4385.0416,-220.0033\"/>\n<text text-anchor=\"middle\" x=\"4396.5415\" y=\"-231.8\" font-family=\"Times,serif\" font-size=\"14.00\" fill=\"#000000\">False</text>\n</g>\n<!-- 54&#45;&gt;53 -->\n<g id=\"edge52\" class=\"edge\">\n<title>54&#45;&gt;53</title>\n<path fill=\"none\" stroke=\"#000000\" d=\"M4452.8255,-261.9154C4518.4822,-246.1795 4615.1073,-223.0214 4678.908,-207.7304\"/>\n<polygon fill=\"#000000\" stroke=\"#000000\" points=\"4679.9471,-211.0805 4688.856,-205.3461 4678.3156,-204.2733 4679.9471,-211.0805\"/>\n<text text-anchor=\"middle\" x=\"4599.0415\" y=\"-231.8\" font-family=\"Times,serif\" font-size=\"14.00\" fill=\"#000000\">True</text>\n</g>\n<!-- 55 -->\n<g id=\"node56\" class=\"node\">\n<title>55</title>\n<path fill=\"#ffff00\" stroke=\"#000000\" d=\"M3497.5415,-384C3497.5415,-384 3417.5415,-384 3417.5415,-384 3411.5415,-384 3405.5415,-378 3405.5415,-372 3405.5415,-372 3405.5415,-360 3405.5415,-360 3405.5415,-354 3411.5415,-348 3417.5415,-348 3417.5415,-348 3497.5415,-348 3497.5415,-348 3503.5415,-348 3509.5415,-354 3509.5415,-360 3509.5415,-360 3509.5415,-372 3509.5415,-372 3509.5415,-378 3503.5415,-384 3497.5415,-384\"/>\n<text text-anchor=\"middle\" x=\"3457.5415\" y=\"-362.3\" font-family=\"Times,serif\" font-size=\"14.00\" fill=\"#000000\">full_sq &gt; 96.5?</text>\n</g>\n<!-- 55&#45;&gt;41 -->\n<g id=\"edge53\" class=\"edge\">\n<title>55&#45;&gt;41</title>\n<path fill=\"none\" stroke=\"#000000\" d=\"M3457.5415,-347.9735C3457.5415,-336.1918 3457.5415,-320.5607 3457.5415,-307.1581\"/>\n<polygon fill=\"#000000\" stroke=\"#000000\" points=\"3461.0416,-307.0033 3457.5415,-297.0034 3454.0416,-307.0034 3461.0416,-307.0033\"/>\n<text text-anchor=\"middle\" x=\"3472.5415\" y=\"-318.8\" font-family=\"Times,serif\" font-size=\"14.00\" fill=\"#000000\">False</text>\n</g>\n<!-- 55&#45;&gt;54 -->\n<g id=\"edge54\" class=\"edge\">\n<title>55&#45;&gt;54</title>\n<path fill=\"none\" stroke=\"#000000\" d=\"M3509.8672,-361.0732C3663.6589,-346.5928 4115.0507,-304.0917 4300.5392,-286.6268\"/>\n<polygon fill=\"#000000\" stroke=\"#000000\" points=\"4300.8761,-290.1107 4310.5039,-285.6886 4300.2198,-283.1415 4300.8761,-290.1107\"/>\n<text text-anchor=\"middle\" x=\"3989.0415\" y=\"-318.8\" font-family=\"Times,serif\" font-size=\"14.00\" fill=\"#000000\">True</text>\n</g>\n<!-- 56 -->\n<g id=\"node57\" class=\"node\">\n<title>56</title>\n<path fill=\"#ffff00\" stroke=\"#000000\" d=\"M2640.5415,-471C2640.5415,-471 2560.5415,-471 2560.5415,-471 2554.5415,-471 2548.5415,-465 2548.5415,-459 2548.5415,-459 2548.5415,-447 2548.5415,-447 2548.5415,-441 2554.5415,-435 2560.5415,-435 2560.5415,-435 2640.5415,-435 2640.5415,-435 2646.5415,-435 2652.5415,-441 2652.5415,-447 2652.5415,-447 2652.5415,-459 2652.5415,-459 2652.5415,-465 2646.5415,-471 2640.5415,-471\"/>\n<text text-anchor=\"middle\" x=\"2600.5415\" y=\"-449.3\" font-family=\"Times,serif\" font-size=\"14.00\" fill=\"#000000\">full_sq &gt; 67.5?</text>\n</g>\n<!-- 56&#45;&gt;28 -->\n<g id=\"edge55\" class=\"edge\">\n<title>56&#45;&gt;28</title>\n<path fill=\"none\" stroke=\"#000000\" d=\"M2548.1504,-442.0695C2471.1902,-426.013 2327.8339,-396.1042 2245.6705,-378.9622\"/>\n<polygon fill=\"#000000\" stroke=\"#000000\" points=\"2246.2224,-375.502 2235.7183,-376.8858 2244.7927,-382.3545 2246.2224,-375.502\"/>\n<text text-anchor=\"middle\" x=\"2432.5415\" y=\"-405.8\" font-family=\"Times,serif\" font-size=\"14.00\" fill=\"#000000\">False</text>\n</g>\n<!-- 56&#45;&gt;55 -->\n<g id=\"edge56\" class=\"edge\">\n<title>56&#45;&gt;55</title>\n<path fill=\"none\" stroke=\"#000000\" d=\"M2652.8606,-447.6887C2802.7482,-432.4726 3233.3234,-388.7619 3395.1024,-372.3386\"/>\n<polygon fill=\"#000000\" stroke=\"#000000\" points=\"3395.7686,-375.7891 3405.3639,-371.2969 3395.0615,-368.8249 3395.7686,-375.7891\"/>\n<text text-anchor=\"middle\" x=\"3094.0415\" y=\"-405.8\" font-family=\"Times,serif\" font-size=\"14.00\" fill=\"#000000\">True</text>\n</g>\n</g>\n</svg>\n"
          },
          "metadata": {
            "tags": []
          },
          "execution_count": 39
        }
      ]
    },
    {
      "cell_type": "markdown",
      "metadata": {
        "id": "4Nn6FjBSeLRB",
        "colab_type": "text"
      },
      "source": [
        "We tested the model selected above on the test data. The final evaluation score is good, better than the dummy."
      ]
    },
    {
      "cell_type": "code",
      "metadata": {
        "id": "G1SXNiyQRFQd",
        "colab_type": "code",
        "outputId": "30cf94c7-7ecf-4068-9160-cb58cb1a9601",
        "colab": {
          "base_uri": "https://localhost:8080/",
          "height": 36
        }
      },
      "source": [
        "#evaluation score on the test set.\n",
        "y_pred=rls_apt.predict(xtest)\n",
        "print(mean_squared_error(ytest, y_pred))"
      ],
      "execution_count": 0,
      "outputs": [
        {
          "output_type": "stream",
          "text": [
            "0.2850287670520751\n"
          ],
          "name": "stdout"
        }
      ]
    },
    {
      "cell_type": "markdown",
      "metadata": {
        "id": "RBdovtdqG4F5",
        "colab_type": "text"
      },
      "source": [
        "### Step 4. Underfitting and overfitting"
      ]
    },
    {
      "cell_type": "markdown",
      "metadata": {
        "id": "VCeLs0ALuisE",
        "colab_type": "text"
      },
      "source": [
        "*For the apartment price prediction task, draw a plot that shows the evaluation score on the training set and on the test set for different values of max_depth, ranging from 0 to 12. (It's probably easiest if you implement a function to draw this plot, but it's also OK if you draw the plot by hand.)*\n",
        "\n",
        "*For the report. Please include this plot in the report, and comment on the differences between the two curves.* "
      ]
    },
    {
      "cell_type": "markdown",
      "metadata": {
        "id": "BQZgeV-aeOGs",
        "colab_type": "text"
      },
      "source": [
        "Out of curiosity, first we start experimenting with variance threshold combined with max tree depth. We saw above that tree depth of 5 seems best when using 0.1 as threshold. Here, we also try 0.2 and 0.3."
      ]
    },
    {
      "cell_type": "code",
      "metadata": {
        "id": "UhmdhZfpulWW",
        "colab_type": "code",
        "outputId": "6bc0507c-c03a-4cd3-f523-4eac46f44132",
        "colab": {
          "base_uri": "https://localhost:8080/",
          "height": 279
        }
      },
      "source": [
        "#sets the maximum depth for tree classifier\n",
        "\n",
        "# List of values to try for max_depth:\n",
        "max_depth = list(range(0, 13))\n",
        "max_thr = [0.1, 0.3]\n",
        "# List to store the average MSE for each value of max_depth:\n",
        "acc = []\n",
        "for dep in max_depth:\n",
        "    rlsf = TreeRegressor(threshold= max_thr[0], max_depth = dep)\n",
        "    rlsf.fit(xtrain, ytrain)\n",
        "    score= rlsf.score(xtrain, ytrain)\n",
        "    acc.append(score)\n",
        "\n",
        "acc2 = []\n",
        "for dep in max_depth:\n",
        "    rlsf = TreeRegressor(threshold= max_thr[1], max_depth = dep)\n",
        "    rlsf.fit(xtrain, ytrain)\n",
        "    score= rlsf.score(xtrain, ytrain)\n",
        "    acc2.append(score)\n",
        "    \n",
        "plt.plot(max_depth, acc, 'bo-', max_depth, acc2, 'go-')\n",
        "plt.xlabel('Depth of tree')\n",
        "plt.ylabel('R^2')\n",
        "plt.show();"
      ],
      "execution_count": 0,
      "outputs": [
        {
          "output_type": "display_data",
          "data": {
            "image/png": "[encoded data removed]",
            "text/plain": [
              "<Figure size 432x288 with 1 Axes>"
            ]
          },
          "metadata": {
            "tags": []
          }
        }
      ]
    },
    {
      "cell_type": "markdown",
      "metadata": {
        "id": "O3TlSXZ4JZvf",
        "colab_type": "text"
      },
      "source": [
        "This first graph is just for fun. The R^2 value (given as a score of fit by the RegressorMixin class) is not too high, which means we are only able to predict a little of the variation in the data.  We can also see that having a threshold of 0.1 (blue) appears to be better for this data than 0.3 when the tree depth is above 3. "
      ]
    },
    {
      "cell_type": "code",
      "metadata": {
        "id": "XntbPQ1QJgtu",
        "colab_type": "code",
        "outputId": "1d1195fd-dcf2-40e1-9c4e-f00d68ce8bef",
        "colab": {
          "base_uri": "https://localhost:8080/",
          "height": 279
        }
      },
      "source": [
        "from sklearn.metrics import r2_score\n",
        "\n",
        "# List of values to try for max_depth:\n",
        "max_depth = list(range(0, 13))\n",
        "max_score = [ytest, ytrain]\n",
        "# List to store the average RMSE for each value of max_depth:\n",
        "acc = []\n",
        "for dep in max_depth:\n",
        "    rlsf = TreeRegressor(0.1, max_depth = dep)\n",
        "    rlsf.fit(xtrain, ytrain)\n",
        "    score= rlsf.score(xtrain, ytrain)\n",
        "    acc.append(score)\n",
        "\n",
        "acc2 = []\n",
        "for dep in max_depth:\n",
        "    rlsf = TreeRegressor(0.1, max_depth = dep)\n",
        "    rlsf.fit(xtrain, ytrain)\n",
        "    ypred = rlsf.predict(xtest)\n",
        "    score= r2_score(ytest, ypred)\n",
        "    acc2.append(score)\n",
        "    \n",
        "plt.plot(max_depth, acc, 'bo-', max_depth, acc2, 'ro-')\n",
        "plt.xlabel('Depth of tree')\n",
        "plt.ylabel('R^2')\n",
        "plt.show();"
      ],
      "execution_count": 0,
      "outputs": [
        {
          "output_type": "display_data",
          "data": {
            "image/png": "[encoded data removed]",
            "text/plain": [
              "<Figure size 432x288 with 1 Axes>"
            ]
          },
          "metadata": {
            "tags": []
          }
        }
      ]
    },
    {
      "cell_type": "markdown",
      "metadata": {
        "id": "WeYzEBE2NtMC",
        "colab_type": "text"
      },
      "source": [
        "As we see in the second plot, the training data score continues to increase as tree depth increases. This occurs because the tree starts to learn the noise, that is overfitting the data. We can see that the test data score becomes flat and then goes down as the depth of the tree increases. It looks like a depth of 6 is ideal, because that is the best prediction we could achieve in test data while avoiding overfitting and still keeping the tree fairly small."
      ]
    }
  ]
}