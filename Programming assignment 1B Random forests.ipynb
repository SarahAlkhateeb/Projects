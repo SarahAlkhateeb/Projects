{
 "cells": [
  {
   "cell_type": "markdown",
   "metadata": {},
   "source": [
    "Assignment 1B \n",
    "Camille Porter, Katalin Ferenc, Sarah Alkhateeb\n",
    "\n",
    "### Task 1: Working with a dataset with categorical features\n",
    "\n",
    "#### Step 1. Reading the data"
   ]
  },
  {
   "cell_type": "code",
   "execution_count": 1,
   "metadata": {},
   "outputs": [],
   "source": [
    "#read the files\n",
    "import pandas as pd\n",
    "import numpy as np\n",
    "import matplotlib.pyplot as plt\n",
    "\n",
    "df_tra = pd.read_csv('adult_train.csv')\n",
    "df_tes = pd.read_csv('adult_test.csv')"
   ]
  },
  {
   "cell_type": "code",
   "execution_count": 2,
   "metadata": {},
   "outputs": [],
   "source": [
    "df_tr = df_tra.sample(frac=1.0, random_state=0)\n",
    "df_ts = df_tes.sample(frac=1.0, random_state=0)"
   ]
  },
  {
   "cell_type": "code",
   "execution_count": 48,
   "metadata": {},
   "outputs": [
    {
     "data": {
      "text/plain": [
       "(32561, 15)"
      ]
     },
     "execution_count": 48,
     "metadata": {},
     "output_type": "execute_result"
    }
   ],
   "source": [
    "df_tr.shape"
   ]
  },
  {
   "cell_type": "code",
   "execution_count": 49,
   "metadata": {},
   "outputs": [
    {
     "data": {
      "text/plain": [
       "(16281, 15)"
      ]
     },
     "execution_count": 49,
     "metadata": {},
     "output_type": "execute_result"
    }
   ],
   "source": [
    "df_ts.shape"
   ]
  },
  {
   "cell_type": "code",
   "execution_count": 3,
   "metadata": {},
   "outputs": [
    {
     "data": {
      "text/html": [
       "<div>\n",
       "<style scoped>\n",
       "    .dataframe tbody tr th:only-of-type {\n",
       "        vertical-align: middle;\n",
       "    }\n",
       "\n",
       "    .dataframe tbody tr th {\n",
       "        vertical-align: top;\n",
       "    }\n",
       "\n",
       "    .dataframe thead th {\n",
       "        text-align: right;\n",
       "    }\n",
       "</style>\n",
       "<table border=\"1\" class=\"dataframe\">\n",
       "  <thead>\n",
       "    <tr style=\"text-align: right;\">\n",
       "      <th></th>\n",
       "      <th>age</th>\n",
       "      <th>workclass</th>\n",
       "      <th>fnlwgt</th>\n",
       "      <th>education</th>\n",
       "      <th>education-num</th>\n",
       "      <th>marital-status</th>\n",
       "      <th>occupation</th>\n",
       "      <th>relationship</th>\n",
       "      <th>race</th>\n",
       "      <th>sex</th>\n",
       "      <th>capital-gain</th>\n",
       "      <th>capital-loss</th>\n",
       "      <th>hours-per-week</th>\n",
       "      <th>native-country</th>\n",
       "      <th>target</th>\n",
       "    </tr>\n",
       "  </thead>\n",
       "  <tbody>\n",
       "    <tr>\n",
       "      <td>22278</td>\n",
       "      <td>49</td>\n",
       "      <td>Local-gov</td>\n",
       "      <td>110172</td>\n",
       "      <td>HS-grad</td>\n",
       "      <td>9</td>\n",
       "      <td>Married-civ-spouse</td>\n",
       "      <td>Transport-moving</td>\n",
       "      <td>Husband</td>\n",
       "      <td>White</td>\n",
       "      <td>Male</td>\n",
       "      <td>0</td>\n",
       "      <td>0</td>\n",
       "      <td>40</td>\n",
       "      <td>United-States</td>\n",
       "      <td>&lt;=50K</td>\n",
       "    </tr>\n",
       "    <tr>\n",
       "      <td>8950</td>\n",
       "      <td>49</td>\n",
       "      <td>Private</td>\n",
       "      <td>105431</td>\n",
       "      <td>HS-grad</td>\n",
       "      <td>9</td>\n",
       "      <td>Divorced</td>\n",
       "      <td>Other-service</td>\n",
       "      <td>Not-in-family</td>\n",
       "      <td>Black</td>\n",
       "      <td>Female</td>\n",
       "      <td>0</td>\n",
       "      <td>0</td>\n",
       "      <td>40</td>\n",
       "      <td>United-States</td>\n",
       "      <td>&lt;=50K</td>\n",
       "    </tr>\n",
       "    <tr>\n",
       "      <td>7838</td>\n",
       "      <td>31</td>\n",
       "      <td>Private</td>\n",
       "      <td>34374</td>\n",
       "      <td>Prof-school</td>\n",
       "      <td>15</td>\n",
       "      <td>Never-married</td>\n",
       "      <td>Prof-specialty</td>\n",
       "      <td>Not-in-family</td>\n",
       "      <td>White</td>\n",
       "      <td>Male</td>\n",
       "      <td>0</td>\n",
       "      <td>0</td>\n",
       "      <td>50</td>\n",
       "      <td>United-States</td>\n",
       "      <td>&lt;=50K</td>\n",
       "    </tr>\n",
       "    <tr>\n",
       "      <td>16505</td>\n",
       "      <td>53</td>\n",
       "      <td>Private</td>\n",
       "      <td>191025</td>\n",
       "      <td>Some-college</td>\n",
       "      <td>10</td>\n",
       "      <td>Divorced</td>\n",
       "      <td>Adm-clerical</td>\n",
       "      <td>Not-in-family</td>\n",
       "      <td>White</td>\n",
       "      <td>Female</td>\n",
       "      <td>0</td>\n",
       "      <td>0</td>\n",
       "      <td>43</td>\n",
       "      <td>United-States</td>\n",
       "      <td>&lt;=50K</td>\n",
       "    </tr>\n",
       "    <tr>\n",
       "      <td>19140</td>\n",
       "      <td>30</td>\n",
       "      <td>Private</td>\n",
       "      <td>108247</td>\n",
       "      <td>Bachelors</td>\n",
       "      <td>13</td>\n",
       "      <td>Married-civ-spouse</td>\n",
       "      <td>Prof-specialty</td>\n",
       "      <td>Husband</td>\n",
       "      <td>White</td>\n",
       "      <td>Male</td>\n",
       "      <td>0</td>\n",
       "      <td>0</td>\n",
       "      <td>40</td>\n",
       "      <td>United-States</td>\n",
       "      <td>&gt;50K</td>\n",
       "    </tr>\n",
       "  </tbody>\n",
       "</table>\n",
       "</div>"
      ],
      "text/plain": [
       "       age  workclass  fnlwgt     education  education-num  \\\n",
       "22278   49  Local-gov  110172       HS-grad              9   \n",
       "8950    49    Private  105431       HS-grad              9   \n",
       "7838    31    Private   34374   Prof-school             15   \n",
       "16505   53    Private  191025  Some-college             10   \n",
       "19140   30    Private  108247     Bachelors             13   \n",
       "\n",
       "           marital-status        occupation   relationship   race     sex  \\\n",
       "22278  Married-civ-spouse  Transport-moving        Husband  White    Male   \n",
       "8950             Divorced     Other-service  Not-in-family  Black  Female   \n",
       "7838        Never-married    Prof-specialty  Not-in-family  White    Male   \n",
       "16505            Divorced      Adm-clerical  Not-in-family  White  Female   \n",
       "19140  Married-civ-spouse    Prof-specialty        Husband  White    Male   \n",
       "\n",
       "       capital-gain  capital-loss  hours-per-week native-country target  \n",
       "22278             0             0              40  United-States  <=50K  \n",
       "8950              0             0              40  United-States  <=50K  \n",
       "7838              0             0              50  United-States  <=50K  \n",
       "16505             0             0              43  United-States  <=50K  \n",
       "19140             0             0              40  United-States   >50K  "
      ]
     },
     "execution_count": 3,
     "metadata": {},
     "output_type": "execute_result"
    }
   ],
   "source": [
    "df_tr.head()"
   ]
  },
  {
   "cell_type": "code",
   "execution_count": 4,
   "metadata": {},
   "outputs": [
    {
     "name": "stdout",
     "output_type": "stream",
     "text": [
      "<class 'pandas.core.frame.DataFrame'>\n",
      "Int64Index: 32561 entries, 22278 to 2732\n",
      "Data columns (total 15 columns):\n",
      "age               32561 non-null int64\n",
      "workclass         32561 non-null object\n",
      "fnlwgt            32561 non-null int64\n",
      "education         32561 non-null object\n",
      "education-num     32561 non-null int64\n",
      "marital-status    32561 non-null object\n",
      "occupation        32561 non-null object\n",
      "relationship      32561 non-null object\n",
      "race              32561 non-null object\n",
      "sex               32561 non-null object\n",
      "capital-gain      32561 non-null int64\n",
      "capital-loss      32561 non-null int64\n",
      "hours-per-week    32561 non-null int64\n",
      "native-country    32561 non-null object\n",
      "target            32561 non-null object\n",
      "dtypes: int64(6), object(9)\n",
      "memory usage: 4.0+ MB\n"
     ]
    }
   ],
   "source": [
    "df_tr.info()"
   ]
  },
  {
   "cell_type": "code",
   "execution_count": 61,
   "metadata": {},
   "outputs": [],
   "source": [
    "X = df_tr.drop(['target', 'fnlwgt'], axis=1)\n",
    "\n",
    "\n",
    "Y = df_tr['target']"
   ]
  },
  {
   "cell_type": "code",
   "execution_count": 62,
   "metadata": {},
   "outputs": [],
   "source": [
    "Xt = df_ts.drop(['target', 'fnlwgt'], axis=1)\n",
    "\n",
    "\n",
    "Yt = df_ts['target']"
   ]
  },
  {
   "cell_type": "code",
   "execution_count": 90,
   "metadata": {},
   "outputs": [],
   "source": [
    "# replace 99999 in capital_gain column to 0\n",
    "\n",
    "X[\"capital-gain\"].replace({99999 : 0}, inplace=True)\n",
    "Xt[\"capital-gain\"].replace({99999 : 0}, inplace=True)"
   ]
  },
  {
   "cell_type": "code",
   "execution_count": 91,
   "metadata": {},
   "outputs": [
    {
     "data": {
      "text/html": [
       "<div>\n",
       "<style scoped>\n",
       "    .dataframe tbody tr th:only-of-type {\n",
       "        vertical-align: middle;\n",
       "    }\n",
       "\n",
       "    .dataframe tbody tr th {\n",
       "        vertical-align: top;\n",
       "    }\n",
       "\n",
       "    .dataframe thead th {\n",
       "        text-align: right;\n",
       "    }\n",
       "</style>\n",
       "<table border=\"1\" class=\"dataframe\">\n",
       "  <thead>\n",
       "    <tr style=\"text-align: right;\">\n",
       "      <th></th>\n",
       "      <th>age</th>\n",
       "      <th>workclass</th>\n",
       "      <th>education</th>\n",
       "      <th>education-num</th>\n",
       "      <th>marital-status</th>\n",
       "      <th>occupation</th>\n",
       "      <th>relationship</th>\n",
       "      <th>race</th>\n",
       "      <th>sex</th>\n",
       "      <th>capital-gain</th>\n",
       "      <th>capital-loss</th>\n",
       "      <th>hours-per-week</th>\n",
       "      <th>native-country</th>\n",
       "    </tr>\n",
       "  </thead>\n",
       "  <tbody>\n",
       "    <tr>\n",
       "      <td>22278</td>\n",
       "      <td>49</td>\n",
       "      <td>Local-gov</td>\n",
       "      <td>HS-grad</td>\n",
       "      <td>9</td>\n",
       "      <td>Married-civ-spouse</td>\n",
       "      <td>Transport-moving</td>\n",
       "      <td>Husband</td>\n",
       "      <td>White</td>\n",
       "      <td>Male</td>\n",
       "      <td>0</td>\n",
       "      <td>0</td>\n",
       "      <td>40</td>\n",
       "      <td>United-States</td>\n",
       "    </tr>\n",
       "    <tr>\n",
       "      <td>8950</td>\n",
       "      <td>49</td>\n",
       "      <td>Private</td>\n",
       "      <td>HS-grad</td>\n",
       "      <td>9</td>\n",
       "      <td>Divorced</td>\n",
       "      <td>Other-service</td>\n",
       "      <td>Not-in-family</td>\n",
       "      <td>Black</td>\n",
       "      <td>Female</td>\n",
       "      <td>0</td>\n",
       "      <td>0</td>\n",
       "      <td>40</td>\n",
       "      <td>United-States</td>\n",
       "    </tr>\n",
       "    <tr>\n",
       "      <td>7838</td>\n",
       "      <td>31</td>\n",
       "      <td>Private</td>\n",
       "      <td>Prof-school</td>\n",
       "      <td>15</td>\n",
       "      <td>Never-married</td>\n",
       "      <td>Prof-specialty</td>\n",
       "      <td>Not-in-family</td>\n",
       "      <td>White</td>\n",
       "      <td>Male</td>\n",
       "      <td>0</td>\n",
       "      <td>0</td>\n",
       "      <td>50</td>\n",
       "      <td>United-States</td>\n",
       "    </tr>\n",
       "    <tr>\n",
       "      <td>16505</td>\n",
       "      <td>53</td>\n",
       "      <td>Private</td>\n",
       "      <td>Some-college</td>\n",
       "      <td>10</td>\n",
       "      <td>Divorced</td>\n",
       "      <td>Adm-clerical</td>\n",
       "      <td>Not-in-family</td>\n",
       "      <td>White</td>\n",
       "      <td>Female</td>\n",
       "      <td>0</td>\n",
       "      <td>0</td>\n",
       "      <td>43</td>\n",
       "      <td>United-States</td>\n",
       "    </tr>\n",
       "    <tr>\n",
       "      <td>19140</td>\n",
       "      <td>30</td>\n",
       "      <td>Private</td>\n",
       "      <td>Bachelors</td>\n",
       "      <td>13</td>\n",
       "      <td>Married-civ-spouse</td>\n",
       "      <td>Prof-specialty</td>\n",
       "      <td>Husband</td>\n",
       "      <td>White</td>\n",
       "      <td>Male</td>\n",
       "      <td>0</td>\n",
       "      <td>0</td>\n",
       "      <td>40</td>\n",
       "      <td>United-States</td>\n",
       "    </tr>\n",
       "  </tbody>\n",
       "</table>\n",
       "</div>"
      ],
      "text/plain": [
       "       age  workclass     education  education-num      marital-status  \\\n",
       "22278   49  Local-gov       HS-grad              9  Married-civ-spouse   \n",
       "8950    49    Private       HS-grad              9            Divorced   \n",
       "7838    31    Private   Prof-school             15       Never-married   \n",
       "16505   53    Private  Some-college             10            Divorced   \n",
       "19140   30    Private     Bachelors             13  Married-civ-spouse   \n",
       "\n",
       "             occupation   relationship   race     sex  capital-gain  \\\n",
       "22278  Transport-moving        Husband  White    Male             0   \n",
       "8950      Other-service  Not-in-family  Black  Female             0   \n",
       "7838     Prof-specialty  Not-in-family  White    Male             0   \n",
       "16505      Adm-clerical  Not-in-family  White  Female             0   \n",
       "19140    Prof-specialty        Husband  White    Male             0   \n",
       "\n",
       "       capital-loss  hours-per-week native-country  \n",
       "22278             0              40  United-States  \n",
       "8950              0              40  United-States  \n",
       "7838              0              50  United-States  \n",
       "16505             0              43  United-States  \n",
       "19140             0              40  United-States  "
      ]
     },
     "execution_count": 91,
     "metadata": {},
     "output_type": "execute_result"
    }
   ],
   "source": [
    "X.head()"
   ]
  },
  {
   "cell_type": "code",
   "execution_count": 92,
   "metadata": {},
   "outputs": [
    {
     "data": {
      "text/plain": [
       "array([    0,  3674, 15024,  7688,  7298,  2329, 10520,   594,  3103,\n",
       "        1151, 13550,  2346,  2961,   991,  1086,  4386,  3411,  2202,\n",
       "        2829,  2407,  3137,  4865,  3464,  1055,  1409,  3887,  4650,\n",
       "        2635,  4416,  3325,  2290, 14344,  6849,  3942,  2463,  2597,\n",
       "       20051,  6418, 14084,  7430,  6497,  2176,  3908,  4787,  3418,\n",
       "       25236,  9562, 18481,  5178,  2580,  5013,  2964,  4064, 25124,\n",
       "        1506,  8614,  2907,  4508,  6767, 15020,  6723, 27828,  2354,\n",
       "        2009,  2036,  4101,  5721,  2977,  2050,  1797, 34095,  1471,\n",
       "        4687,  3432,  3471,  2174,  1831, 10605,   914,  3781,  2414,\n",
       "        6514,  2885,  9386,  5455,  7443,   114,  3456,  4934,  2105,\n",
       "        3818,  1848,  1173,  2387,   401, 15831,  5556,  2653,  2936,\n",
       "        2228,  1455, 11678, 10566,  2993,  7978,  1424,  3273,  1639,\n",
       "        6360,  2062,  5060,  6097,  4931,  7896,  2538,  1111, 41310,\n",
       "       22040])"
      ]
     },
     "execution_count": 92,
     "metadata": {},
     "output_type": "execute_result"
    }
   ],
   "source": [
    "X['capital-gain'].unique()"
   ]
  },
  {
   "cell_type": "code",
   "execution_count": 93,
   "metadata": {},
   "outputs": [
    {
     "data": {
      "text/plain": [
       "22278    <=50K\n",
       "8950     <=50K\n",
       "7838     <=50K\n",
       "16505    <=50K\n",
       "19140     >50K\n",
       "Name: target, dtype: object"
      ]
     },
     "execution_count": 93,
     "metadata": {},
     "output_type": "execute_result"
    }
   ],
   "source": [
    "Y.head()"
   ]
  },
  {
   "cell_type": "markdown",
   "metadata": {},
   "source": [
    "#### Step 2: Encoding the features as numbers"
   ]
  },
  {
   "cell_type": "code",
   "execution_count": 94,
   "metadata": {},
   "outputs": [],
   "source": [
    "# convert a DataFrame into a list of dictionaries\n",
    "\n",
    "dict_X = X.to_dict('records') # convert the training set\n",
    "dict_Xt = Xt.to_dict('records') # convert the test set\n",
    "#dict_X"
   ]
  },
  {
   "cell_type": "code",
   "execution_count": 95,
   "metadata": {},
   "outputs": [],
   "source": [
    "# make a DictVectorizer on the training set\n",
    "from sklearn.feature_extraction import DictVectorizer\n",
    "\n",
    "dv = DictVectorizer()\n",
    "X_train_encoded = dv.fit_transform(dict_X)"
   ]
  },
  {
   "cell_type": "code",
   "execution_count": 96,
   "metadata": {},
   "outputs": [
    {
     "data": {
      "text/plain": [
       "0.8632106699471969"
      ]
     },
     "execution_count": 96,
     "metadata": {},
     "output_type": "execute_result"
    }
   ],
   "source": [
    "# a cross-validation accuracy for the training set using Gradient Boosting Classifier\n",
    "from sklearn.ensemble import GradientBoostingClassifier\n",
    "from sklearn.model_selection import cross_val_score\n",
    "\n",
    "clf = GradientBoostingClassifier()\n",
    "cross_val_score(clf, X_train_encoded, Y, cv=5).mean()"
   ]
  },
  {
   "cell_type": "code",
   "execution_count": 97,
   "metadata": {},
   "outputs": [
    {
     "data": {
      "text/plain": [
       "0.844814255442998"
      ]
     },
     "execution_count": 97,
     "metadata": {},
     "output_type": "execute_result"
    }
   ],
   "source": [
    "from sklearn.ensemble import RandomForestClassifier\n",
    "\n",
    "clf1 = RandomForestClassifier(n_estimators=100)\n",
    "cross_val_score(clf1, X_train_encoded, Y, cv=5).mean()"
   ]
  },
  {
   "cell_type": "code",
   "execution_count": 98,
   "metadata": {},
   "outputs": [
    {
     "data": {
      "text/plain": [
       "0.8463806605273672"
      ]
     },
     "execution_count": 98,
     "metadata": {},
     "output_type": "execute_result"
    }
   ],
   "source": [
    "from sklearn.tree import DecisionTreeClassifier\n",
    "\n",
    "clf2 = DecisionTreeClassifier(max_depth=5)\n",
    "cross_val_score(clf2, X_train_encoded, Y, cv=5).mean()"
   ]
  },
  {
   "cell_type": "code",
   "execution_count": 99,
   "metadata": {},
   "outputs": [],
   "source": [
    "# make a DictVectorizer on the test set\n",
    "\n",
    "X_test_encoded = dv.transform(dict_Xt)"
   ]
  },
  {
   "cell_type": "markdown",
   "metadata": {},
   "source": [
    "#### Step 3. Combining the steps"
   ]
  },
  {
   "cell_type": "code",
   "execution_count": 100,
   "metadata": {},
   "outputs": [],
   "source": [
    "# build a pipeline consisting of a vectorization step and then a Gradient Boosting Classifier, \n",
    "from sklearn.pipeline import make_pipeline\n",
    "  \n",
    "pipeline = make_pipeline(\n",
    "  DictVectorizer(),\n",
    "  GradientBoostingClassifier()\n",
    ")\n",
    "\n",
    "pipeline.fit(dict_X, Y);"
   ]
  },
  {
   "cell_type": "code",
   "execution_count": 101,
   "metadata": {},
   "outputs": [
    {
     "data": {
      "text/plain": [
       "array(['<=50K', '<=50K', '<=50K', ..., '<=50K', '>50K', '<=50K'],\n",
       "      dtype=object)"
      ]
     },
     "execution_count": 101,
     "metadata": {},
     "output_type": "execute_result"
    }
   ],
   "source": [
    "# make a prediction on test data\n",
    "\n",
    "prediction = pipeline.predict(dict_Xt)\n",
    "prediction"
   ]
  },
  {
   "cell_type": "code",
   "execution_count": 102,
   "metadata": {},
   "outputs": [
    {
     "data": {
      "text/plain": [
       "0.8688041275105952"
      ]
     },
     "execution_count": 102,
     "metadata": {},
     "output_type": "execute_result"
    }
   ],
   "source": [
    "from sklearn.metrics import accuracy_score\n",
    "acc = accuracy_score(Yt , prediction)\n",
    "acc"
   ]
  },
  {
   "cell_type": "markdown",
   "metadata": {},
   "source": [
    "### Task 2: Decision trees and random forests\n",
    "\n",
    "#### Underfitting and overfitting in decision tree classifiers"
   ]
  },
  {
   "cell_type": "code",
   "execution_count": 103,
   "metadata": {},
   "outputs": [
    {
     "data": {
      "image/png": "[encoded data removed]",
      "text/plain": [
       "<Figure size 1080x720 with 2 Axes>"
      ]
     },
     "metadata": {
      "needs_background": "light"
     },
     "output_type": "display_data"
    }
   ],
   "source": [
    "#sets the maximum depth for tree classifier (Decision Tree Classifier)\n",
    "\n",
    "# List of values to try for max_depth:\n",
    "plt.figure(figsize=(15,10))\n",
    "plt.subplot(211)\n",
    "max_depth_range = list(range(1, 12))\n",
    "# \n",
    "accuracy = []\n",
    "accuracy2 = []\n",
    "for d in max_depth_range:\n",
    "    cl = DecisionTreeClassifier(max_depth = d)\n",
    "    cl.fit(X_train_encoded, Y)\n",
    "    score = cl.score(X_train_encoded, Y)\n",
    "    accuracy.append(score)\n",
    "    score2 = cross_val_score(cl, X_train_encoded, Y, cv=5).mean()\n",
    "    accuracy2.append(score2)\n",
    "    \n",
    "plt.plot(max_depth_range, accuracy,'bo-', label = 'Training accuracy')\n",
    "plt.plot(max_depth, accuracy2, 'ro-', label = 'Cross Validation training accuracy')\n",
    "plt.xlabel('Depth of tree')\n",
    "plt.ylabel('Accuracy')\n",
    "plt.legend()\n",
    "\n",
    "plt.subplot(212)\n",
    "max_depth = list(range(1, 12))\n",
    "# \n",
    "acc = []\n",
    "accuracy2 = []\n",
    "accuracy3 = []\n",
    "for d in max_depth:\n",
    "    cls = RandomForestClassifier(max_depth = d, n_estimators = 1, n_jobs=-1) #n_job = -1 all CPU corecores will be used\n",
    "    cls.fit(X_train_encoded, Y)\n",
    "    score = cls.score(X_train_encoded, Y)\n",
    "    acc.append(score)\n",
    "    score2 = cross_val_score(cls, X_train_encoded, Y, cv=5).mean()\n",
    "    accuracy2.append(score2)\n",
    "    pred = cls.predict(X_test_encoded)\n",
    "    score3 = accuracy_score(Yt, pred)\n",
    "    accuracy3.append(score3)\n",
    "    \n",
    "plt.plot(max_depth, acc,'bo-', label = 'Training accuracy')\n",
    "plt.plot(max_depth, accuracy2, 'ro-', label = 'Cross Validation training accuracy')\n",
    "plt.plot(max_depth, accuracy3, 'go-', label = 'Test accuracy')\n",
    "plt.xlabel('Depth of tree')\n",
    "plt.ylabel('Accuracy')\n",
    "plt.legend();"
   ]
  },
  {
   "cell_type": "markdown",
   "metadata": {},
   "source": [
    "We see that as the max allowed tree depth increases the accuracy increases. It means the classifier learns more (from) the dataset as we allow it to create more pure leaves. There is a risk of overfitting because the deeper the tree is the more the classifier learns the noise. We want to keep our classifier applicable for new data, so we aim to choose a tree depth that is just enough to capture the main trends but not too much to capture noise too."
   ]
  },
  {
   "cell_type": "markdown",
   "metadata": {},
   "source": [
    "#### Underfitting and overfitting in random forest classifiers"
   ]
  },
  {
   "cell_type": "code",
   "execution_count": 104,
   "metadata": {},
   "outputs": [
    {
     "data": {
      "image/png": "[encoded data removed]",
      "text/plain": [
       "<Figure size 432x288 with 1 Axes>"
      ]
     },
     "metadata": {
      "needs_background": "light"
     },
     "output_type": "display_data"
    }
   ],
   "source": [
    "#sets the maximum depth for tree classifier (Random Forest Classifier)\n",
    "\n",
    "# List of values to try for max_depth:\n",
    "max_depth = list(range(1, 12))\n",
    "# \n",
    "acc = []\n",
    "accuracy2 = []\n",
    "accuracy3 = []\n",
    "for d in max_depth:\n",
    "    cls = RandomForestClassifier(max_depth = d, n_estimators = 100, n_jobs=-1) #n_job = -1 all CPU corecores will be used\n",
    "    cls.fit(X_train_encoded, Y)\n",
    "    score = cls.score(X_train_encoded, Y)\n",
    "    acc.append(score)\n",
    "    score2 = cross_val_score(cls, X_train_encoded, Y, cv=5).mean()\n",
    "    accuracy2.append(score2)\n",
    "    pred = cls.predict(X_test_encoded)\n",
    "    score3 = accuracy_score(Yt, pred)\n",
    "    accuracy3.append(score3)\n",
    "    \n",
    "plt.plot(max_depth, acc,'bo-', label = 'Training accuracy')\n",
    "plt.plot(max_depth, accuracy2, 'ro-', label = 'Cross Validation training accuracy')\n",
    "plt.plot(max_depth, accuracy3, 'go-', label = 'Test accuracy')\n",
    "plt.xlabel('Depth of tree')\n",
    "plt.ylabel('Accuracy')\n",
    "plt.legend()\n",
    "plt.show();"
   ]
  },
  {
   "cell_type": "code",
   "execution_count": 106,
   "metadata": {},
   "outputs": [
    {
     "data": {
      "image/png": "[encoded data removed]",
      "text/plain": [
       "<Figure size 432x288 with 1 Axes>"
      ]
     },
     "metadata": {
      "needs_background": "light"
     },
     "output_type": "display_data"
    }
   ],
   "source": [
    "num_tree = [1, 10, 20, 50, 100, 150, 200, 500]\n",
    "# \n",
    "acc2 = []\n",
    "acc3 = []\n",
    "acc4 = []\n",
    "for tr in num_tree:\n",
    "    cls = RandomForestClassifier(max_depth = 6, n_estimators = tr, n_jobs=-1) #n_job = -1 all CPU corecores will be used\n",
    "    cls.fit(X_train_encoded, Y)\n",
    "    score = cls.score(X_train_encoded, Y)\n",
    "    acc2.append(score)\n",
    "    score2 = cross_val_score(cls, X_train_encoded, Y, cv=5).mean()\n",
    "    acc3.append(score2)\n",
    "    pred = cls.predict(X_test_encoded)\n",
    "    score3 = accuracy_score(pred, Yt)\n",
    "    acc4.append(score3)\n",
    "    \n",
    "plt.plot(num_tree, acc2,'bo-', label = 'Training accuracy')\n",
    "plt.plot(num_tree, acc3, 'ro-', label = 'Cross Validation training accuracy')\n",
    "plt.plot(num_tree, acc4, 'go-', label = 'Test accuracy')\n",
    "plt.xlabel('Num of trees')\n",
    "plt.ylabel('Accuracy')\n",
    "plt.legend()\n",
    "plt.show();"
   ]
  },
  {
   "cell_type": "markdown",
   "metadata": {},
   "source": [
    "- What's the difference between the curve for a decision tree and for a random forest with an ensemble size of 1, and why do we see this difference?\n",
    "\n",
    "We calculated the training accuracy score and the cross validation accuracy of decision tree and random forest with different max tree depth as well as random forest with increasing number of trees.\n",
    "We saw that the decision tree classifier performs better than the random forest with only one tree. Random forest has two random processes that enhance its performance when there are many trees in the forest, but hinders it when we choose a small tree number. These two processes are random choice of features and random selection from the data. As the tree number increases the randomness helps us discovering the main trend, but in small tree number it is just very noisy. When ensemble size is 1, the tree is randomly selected, and having a deeper tree is not necessarily better. \n",
    "\n",
    "- What happens with the curve for random forests as the ensemble size grows?\n",
    "\n",
    "The curve is smoother. Ensemble size of 1 is a random curve, but as ensemble size grows, there is a steady increase in accuracy. \n",
    "\n",
    "- What happens with the best observed test set accuracy as the ensemble size grows?\n",
    "\n",
    "The accuracy of both training and cross validation increase up until about 100 tree in the forest, then the cross validation accuracy stays about constant, while the training accuracy keeps increasing a bit, but not much. We can assume that the ensemble of 100 trees can learn from the data as much as possible and adding more trees does not increase performance. We also note that the learning time increases with increasing number of trees. So it is a good idea to chose the smallest number of trees that provides high enough test accuracy.\n",
    "\n",
    "- What happens with the training time as the ensemble size grows?\n",
    "\n",
    "It gets longer. "
   ]
  },
  {
   "cell_type": "code",
   "execution_count": 107,
   "metadata": {},
   "outputs": [],
   "source": [
    "#try different values for n_estimator (number of trees)\n",
    "\n",
    "num_to_test = {'n_estimators': [1, 50, 100, 200]}\n",
    "# Use out-of-bag samples to estimate the generalization accuracy\n",
    "rf = RandomForestClassifier(oob_score=True, random_state=0)"
   ]
  },
  {
   "cell_type": "code",
   "execution_count": 79,
   "metadata": {},
   "outputs": [
    {
     "data": {
      "text/plain": [
       "{'mean_fit_time': array([ 0.26262412, 10.67555954, 21.41707582, 44.38784099]),\n",
       " 'std_fit_time': array([0.00485467, 0.04900337, 0.15941072, 0.83795887]),\n",
       " 'mean_score_time': array([0.00579021, 0.05057333, 0.0974678 , 0.19779303]),\n",
       " 'std_score_time': array([7.52448016e-05, 4.05907326e-04, 2.51764062e-03, 7.88713377e-03]),\n",
       " 'param_n_estimators': masked_array(data=[1, 50, 100, 200],\n",
       "              mask=[False, False, False, False],\n",
       "        fill_value='?',\n",
       "             dtype=object),\n",
       " 'params': [{'n_estimators': 1},\n",
       "  {'n_estimators': 50},\n",
       "  {'n_estimators': 100},\n",
       "  {'n_estimators': 200}],\n",
       " 'split0_test_score': array([0.81209702, 0.8544673 , 0.85477433, 0.85723058]),\n",
       " 'split1_test_score': array([0.80436118, 0.84152334, 0.84520885, 0.84490172]),\n",
       " 'split2_test_score': array([0.80651106, 0.84766585, 0.84643735, 0.84459459]),\n",
       " 'split3_test_score': array([0.80743243, 0.83968059, 0.83875921, 0.83845209]),\n",
       " 'split4_test_score': array([0.80866093, 0.8495086 , 0.85042998, 0.85227273]),\n",
       " 'split5_test_score': array([0.7997543 , 0.84060197, 0.84275184, 0.84152334]),\n",
       " 'split6_test_score': array([0.81173219, 0.85135135, 0.85288698, 0.85288698]),\n",
       " 'split7_test_score': array([0.80651106, 0.84367322, 0.84459459, 0.84520885]),\n",
       " 'split8_test_score': array([0.8022113 , 0.85872236, 0.85872236, 0.85933661]),\n",
       " 'split9_test_score': array([0.81449631, 0.84490172, 0.84275184, 0.84459459]),\n",
       " 'mean_test_score': array([0.80737692, 0.84720985, 0.84773195, 0.84810049]),\n",
       " 'std_test_score': array([0.00434705, 0.00598651, 0.00593498, 0.00655337]),\n",
       " 'rank_test_score': array([4, 3, 2, 1], dtype=int32),\n",
       " 'split0_train_score': array([0.91656429, 0.97761398, 0.97785285, 0.9779211 ]),\n",
       " 'split1_train_score': array([0.91503156, 0.97710288, 0.97771711, 0.97775124]),\n",
       " 'split2_train_score': array([0.9146562 , 0.97686402, 0.97754649, 0.97758062]),\n",
       " 'split3_train_score': array([0.91677188, 0.97696639, 0.97754649, 0.97761474]),\n",
       " 'split4_train_score': array([0.91701075, 0.97744412, 0.97788773, 0.97792186]),\n",
       " 'split5_train_score': array([0.91523631, 0.97723938, 0.97768299, 0.97775124]),\n",
       " 'split6_train_score': array([0.91817096, 0.97706876, 0.97747825, 0.97751237]),\n",
       " 'split7_train_score': array([0.91878519, 0.9766934 , 0.97720526, 0.9772735 ]),\n",
       " 'split8_train_score': array([0.91684013, 0.97689814, 0.97747825, 0.97747825]),\n",
       " 'split9_train_score': array([0.9185122 , 0.97689814, 0.97747825, 0.97751237]),\n",
       " 'mean_train_score': array([0.91675795, 0.97707892, 0.97758737, 0.97763173]),\n",
       " 'std_train_score': array([0.00137859, 0.00026813, 0.00019281, 0.00019487])}"
      ]
     },
     "execution_count": 79,
     "metadata": {},
     "output_type": "execute_result"
    }
   ],
   "source": [
    "# n-fold cross validation\n",
    "from sklearn.model_selection import GridSearchCV\n",
    "\n",
    "# 10-fold cross validation, return training score\n",
    "grid10 = GridSearchCV(rf, param_grid = num_to_test, cv = 10, scoring ='accuracy', n_jobs=2, return_train_score = True)\n",
    "\n",
    "# Do the training\n",
    "grid10.fit(X_train_encoded,Y)\n",
    "grid10.cv_results_"
   ]
  },
  {
   "cell_type": "code",
   "execution_count": 36,
   "metadata": {},
   "outputs": [
    {
     "name": "stdout",
     "output_type": "stream",
     "text": [
      "The best model: RandomForestClassifier(bootstrap=True, class_weight=None, criterion='gini',\n",
      "                       max_depth=None, max_features='auto', max_leaf_nodes=None,\n",
      "                       min_impurity_decrease=0.0, min_impurity_split=None,\n",
      "                       min_samples_leaf=1, min_samples_split=2,\n",
      "                       min_weight_fraction_leaf=0.0, n_estimators=100,\n",
      "                       n_jobs=None, oob_score=True, random_state=0, verbose=0,\n",
      "                       warm_start=False)\n",
      "The best score:  0.8549491723227174\n"
     ]
    }
   ],
   "source": [
    "# Find the best model and the score from the cross validation experiment\n",
    "\n",
    "print('The best model:', grid10.best_estimator_)\n",
    "print('The best score: ', grid10.best_score_)"
   ]
  },
  {
   "cell_type": "markdown",
   "metadata": {},
   "source": [
    "### Task 3: Feature importances in random forest classifiers"
   ]
  },
  {
   "cell_type": "code",
   "execution_count": 108,
   "metadata": {},
   "outputs": [
    {
     "name": "stdout",
     "output_type": "stream",
     "text": [
      "Feature ranking:\n",
      "1. feature age (0.229557)\n",
      "2. feature hours-per-week (0.116024)\n",
      "3. feature capital-gain (0.097942)\n",
      "4. feature marital-status=Married-civ-spouse (0.076270)\n",
      "5. feature education-num (0.066855)\n",
      "6. feature relationship=Husband (0.043689)\n",
      "7. feature capital-loss (0.034306)\n",
      "8. feature marital-status=Never-married (0.023318)\n",
      "9. feature occupation=Exec-managerial (0.020291)\n",
      "10. feature occupation=Prof-specialty (0.016394)\n",
      "11. feature education=Bachelors (0.014132)\n",
      "12. feature workclass=Private (0.011468)\n",
      "13. feature relationship=Not-in-family (0.011392)\n",
      "14. feature relationship=Wife (0.009715)\n",
      "15. feature workclass=Self-emp-not-inc (0.009510)\n",
      "16. feature relationship=Own-child (0.009396)\n",
      "17. feature sex=Female (0.009339)\n",
      "18. feature education=Masters (0.007963)\n",
      "19. feature education=HS-grad (0.007628)\n",
      "20. feature occupation=Other-service (0.007620)\n",
      "21. feature sex=Male (0.007573)\n",
      "22. feature race=White (0.007271)\n",
      "23. feature occupation=Sales (0.007213)\n",
      "24. feature workclass=Self-emp-inc (0.007123)\n",
      "25. feature native-country=United-States (0.006964)\n",
      "26. feature occupation=Craft-repair (0.006902)\n",
      "27. feature marital-status=Divorced (0.006403)\n",
      "28. feature relationship=Unmarried (0.006382)\n",
      "29. feature workclass=Local-gov (0.006199)\n",
      "30. feature occupation=Adm-clerical (0.006004)\n",
      "31. feature education=Some-college (0.005738)\n",
      "32. feature workclass=Federal-gov (0.005727)\n",
      "33. feature education=Prof-school (0.005688)\n",
      "34. feature race=Black (0.005453)\n",
      "35. feature workclass=State-gov (0.005305)\n",
      "36. feature occupation=Tech-support (0.005070)\n",
      "37. feature occupation=Transport-moving (0.004774)\n",
      "38. feature occupation=Farming-fishing (0.004592)\n",
      "39. feature occupation=Machine-op-inspct (0.004077)\n",
      "40. feature education=Doctorate (0.003708)\n",
      "41. feature occupation=Handlers-cleaners (0.003429)\n",
      "42. feature occupation=Protective-serv (0.003394)\n",
      "43. feature race=Asian-Pac-Islander (0.003292)\n",
      "44. feature education=Assoc-voc (0.003111)\n",
      "45. feature native-country=? (0.003099)\n",
      "46. feature education=Assoc-acdm (0.002433)\n",
      "47. feature education=7th-8th (0.002092)\n",
      "48. feature occupation=? (0.002081)\n",
      "49. feature native-country=Mexico (0.002031)\n",
      "50. feature education=11th (0.002023)\n",
      "51. feature marital-status=Separated (0.001955)\n",
      "52. feature workclass=? (0.001889)\n",
      "53. feature marital-status=Widowed (0.001667)\n",
      "54. feature relationship=Other-relative (0.001616)\n",
      "55. feature race=Amer-Indian-Eskimo (0.001554)\n",
      "56. feature education=10th (0.001416)\n",
      "57. feature education=9th (0.001380)\n",
      "58. feature native-country=Canada (0.001272)\n",
      "59. feature native-country=Germany (0.001237)\n",
      "60. feature marital-status=Married-spouse-absent (0.001071)\n",
      "61. feature native-country=Philippines (0.001059)\n",
      "62. feature native-country=England (0.001043)\n",
      "63. feature race=Other (0.001034)\n",
      "64. feature education=12th (0.000848)\n",
      "65. feature native-country=India (0.000817)\n",
      "66. feature native-country=Cuba (0.000810)\n",
      "67. feature education=5th-6th (0.000779)\n",
      "68. feature native-country=South (0.000778)\n",
      "69. feature native-country=Italy (0.000740)\n",
      "70. feature native-country=Japan (0.000655)\n",
      "71. feature native-country=Poland (0.000613)\n",
      "72. feature native-country=Puerto-Rico (0.000564)\n",
      "73. feature native-country=China (0.000539)\n",
      "74. feature native-country=Iran (0.000495)\n",
      "75. feature native-country=Jamaica (0.000493)\n",
      "76. feature marital-status=Married-AF-spouse (0.000429)\n",
      "77. feature native-country=Vietnam (0.000397)\n",
      "78. feature native-country=Greece (0.000372)\n",
      "79. feature native-country=France (0.000362)\n",
      "80. feature native-country=Taiwan (0.000354)\n",
      "81. feature native-country=Yugoslavia (0.000340)\n",
      "82. feature native-country=Cambodia (0.000319)\n",
      "83. feature native-country=El-Salvador (0.000253)\n",
      "84. feature native-country=Dominican-Republic (0.000240)\n",
      "85. feature education=1st-4th (0.000238)\n",
      "86. feature native-country=Columbia (0.000230)\n",
      "87. feature native-country=Portugal (0.000224)\n",
      "88. feature native-country=Haiti (0.000185)\n",
      "89. feature native-country=Ecuador (0.000184)\n",
      "90. feature native-country=Ireland (0.000176)\n",
      "91. feature native-country=Hong (0.000173)\n",
      "92. feature occupation=Priv-house-serv (0.000155)\n",
      "93. feature native-country=Hungary (0.000141)\n",
      "94. feature native-country=Guatemala (0.000137)\n",
      "95. feature native-country=Nicaragua (0.000136)\n",
      "96. feature native-country=Peru (0.000130)\n",
      "97. feature native-country=Trinadad&Tobago (0.000102)\n",
      "98. feature native-country=Laos (0.000089)\n",
      "99. feature native-country=Scotland (0.000088)\n",
      "100. feature workclass=Without-pay (0.000078)\n",
      "101. feature native-country=Thailand (0.000076)\n",
      "102. feature education=Preschool (0.000059)\n",
      "103. feature native-country=Outlying-US(Guam-USVI-etc) (0.000021)\n",
      "104. feature occupation=Armed-Forces (0.000017)\n",
      "105. feature native-country=Honduras (0.000009)\n",
      "106. feature workclass=Never-worked (0.000001)\n",
      "107. feature native-country=Holand-Netherlands (0.000000)\n"
     ]
    }
   ],
   "source": [
    "#feature importance \n",
    "clf1.fit(X_train_encoded, Y)\n",
    "importances = clf1.feature_importances_\n",
    "names = dv.get_feature_names()\n",
    "\n",
    "std = np.std([tree.feature_importances_ for tree in clf1.estimators_],\n",
    "             axis=0)\n",
    "indices = np.argsort(importances)[::-1]\n",
    "\n",
    "# Print the feature ranking\n",
    "print(\"Feature ranking:\")\n",
    "\n",
    "for f in range(X_train_encoded.shape[1]):\n",
    "    print(\"%d. feature %s (%f)\" % (f + 1, names[indices[f]], importances[indices[f]]))"
   ]
  },
  {
   "cell_type": "markdown",
   "metadata": {},
   "source": [
    "The most important feature was final weight, which doesn't mean anything for our dataset, so we deleted it and ran it again. The 10 next most important are: \n",
    "age: more experience pays more, and older people have more experience  \n",
    "hours per week: How many hours you work per week - full time jobs pay more  \n",
    "capital gain: money made from passive investment, like real estate or stock market investments. We think this is the money made in 1 year. In order to have extra money to invest, a person needs to have a high income, so it makes sense that it is predictor of income.   \n",
    "married-civ-spouse: We think it's people who were married civally, not religiously.  \n",
    "education number: more education pays more  \n",
    "husband: married men earn more  \n",
    "capital-loss: people with money to invest are rich, even if they lost money last year  \n",
    "never-married: don't know why this is so important  \n",
    "manager: bosses earn more\n",
    "professor: professors earn a lot\n",
    "\n",
    "at the end, we see that being from different countries does not matter very much for your salary\n",
    "\n",
    "Right now we can see how important a feature is, but we can't see if it's a positive or negative change. "
   ]
  },
  {
   "cell_type": "markdown",
   "metadata": {},
   "source": [
    "#### For your report, please also mention an alternative way to compute some sort of importance score of individual features. "
   ]
  },
  {
   "cell_type": "markdown",
   "metadata": {},
   "source": [
    "Mean decrease in impurity doesn't count for different levels in different variables which means that the importance score for variables with more levels will be inflated compared to others and that is why this method is not very reliable when we have data with different variables with different levels.\n",
    "A better way to calculate the importance score for features is using premutaion importance.\n",
    "\n",
    "Premutation importance: After training our training data we choose one of the columns and rearrange the values in this column (randomly assigning the data to the wrong row), \n",
    "before testing the model on the test data using the permuted data, we then calculate the base accuracy (classification) or Rsquared (regression) to compare with after prediction. Without retraining the data again we predict the outcomes using permuted test data and calculate the accuracy/Rsquared and compare with the base one. If the variance/error increased after premutation then the feature (column we permuted) is important and if the variance/error does not change much, it means that the feature does not affect the outcome and might not very usefull for prediction. We repeat this for each column to see the importance for each feature.\n",
    "\n",
    "But we should also be aware of the correlation between variables becuase in case of two correlated variables (features) we might have a false importance score and end up not using a feature that really important and has a strong effect on the output."
   ]
  }
 ],
 "metadata": {
  "kernelspec": {
   "display_name": "Python 3",
   "language": "python",
   "name": "python3"
  },
  "language_info": {
   "codemirror_mode": {
    "name": "ipython",
    "version": 3
   },
   "file_extension": ".py",
   "mimetype": "text/x-python",
   "name": "python",
   "nbconvert_exporter": "python",
   "pygments_lexer": "ipython3",
   "version": "3.7.4"
  }
 },
 "nbformat": 4,
 "nbformat_minor": 2
}
